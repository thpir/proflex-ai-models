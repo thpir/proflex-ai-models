{
 "cells": [
  {
   "cell_type": "markdown",
   "metadata": {},
   "source": [
    "# Voorspellen van de PV productie - % van geïnstalleerd vermogen"
   ]
  },
  {
   "cell_type": "code",
   "execution_count": 1,
   "metadata": {},
   "outputs": [],
   "source": [
    "import pickle\n",
    "import math\n",
    "import pandas as pd\n",
    "import numpy as np\n",
    "import matplotlib.pyplot as plt\n",
    "import seaborn as sns; sns.set_theme(color_codes=True)\n",
    "import tensorflow as tf\n",
    "\n",
    "from sklearn.model_selection import train_test_split\n",
    "from sklearn.preprocessing import MinMaxScaler, PolynomialFeatures\n",
    "from sklearn.ensemble import RandomForestRegressor\n",
    "from sklearn.metrics import mean_absolute_error, mean_squared_error, r2_score\n",
    "from scripts import weather_data_preprocess as wdp\n",
    "from tensorflow.keras.models import Sequential, load_model, save_model\n",
    "from keras.callbacks import ModelCheckpoint\n",
    "from keras.layers import Dense, LSTM, Dropout"
   ]
  },
  {
   "cell_type": "markdown",
   "metadata": {},
   "source": [
    "## Data-analyse en samenstellen van dataset\n",
    "\n",
    "! SKIP DIT HOOFDSTUK ALS JE NIET BESCHIKT OVER DE RUWE DATA !"
   ]
  },
  {
   "cell_type": "code",
   "execution_count": 2,
   "metadata": {},
   "outputs": [],
   "source": [
    "# Ruwe weersdata info\n",
    "weather_train_data_ingelmunster = [\n",
    "    'Ingelmunster 2024-01-01 to 2024-01-31.csv',\n",
    "    'Ingelmunster 2024-02-01 to 2024-02-29.csv',\n",
    "    'Ingelmunster 2024-03-01 to 2024-03-31.csv',\n",
    "    'Ingelmunster 2024-04-01 to 2024-04-30.csv',\n",
    "    'Ingelmunster 2024-05-01 to 2024-05-31.csv',\n",
    "    'Ingelmunster 2024-06-01 to 2024-06-30.csv',\n",
    "    'Ingelmunster 2024-07-01 to 2024-07-31.csv',\n",
    "    'Ingelmunster 2024-08-01 to 2024-08-31.csv',\n",
    "    'Ingelmunster 2024-09-01 to 2024-09-30.csv',\n",
    "    'Ingelmunster 2024-10-01 to 2024-10-31.csv',\n",
    "    'Ingelmunster 2024-11-01 to 2024-11-30.csv',\n",
    "    'Ingelmunster 2024-12-01 to 2024-12-31.csv',\n",
    "    'Ingelmunster 2025-01-01 to 2025-01-31.csv',\n",
    "    'Ingelmunster 2025-02-01 to 2025-02-29.csv',\n",
    "    'Ingelmunster 2025-03-01 to 2025-03-31.csv',\n",
    "]\n",
    "weather_train_data_gullegem = [\n",
    "    'Gullegem 2024-01-01 to 2024-01-31.csv',\n",
    "    'Gullegem 2024-02-01 to 2024-02-29.csv',\n",
    "    'Gullegem 2024-03-01 to 2024-03-31.csv',\n",
    "    'Gullegem 2024-04-01 to 2024-04-30.csv',\n",
    "    'Gullegem 2024-05-01 to 2024-05-31.csv',\n",
    "    'Gullegem 2024-06-01 to 2024-06-30.csv',\n",
    "    'Gullegem 2024-07-01 to 2024-07-31.csv',\n",
    "    'Gullegem 2024-08-01 to 2024-08-31.csv',\n",
    "    'Gullegem 2024-09-01 to 2024-09-30.csv',\n",
    "    'Gullegem 2024-10-01 to 2024-10-31.csv',\n",
    "    'Gullegem 2024-11-01 to 2024-11-30.csv',\n",
    "    'Gullegem 2024-12-01 to 2024-12-31.csv',\n",
    "    'Gullegem 2025-01-01 to 2025-01-31.csv',\n",
    "]\n",
    "weather_test_data_ingelmunster = [\n",
    "    'Ingelmunster 2025-04-01 to 2025-04-30.csv',\n",
    "]\n",
    "ingelmunster_location = [50.920699369528734, 3.2532075343447575]\n",
    "gullegem_location = [50.8447689, 3.1989718]"
   ]
  },
  {
   "cell_type": "code",
   "execution_count": 3,
   "metadata": {},
   "outputs": [
    {
     "name": "stdout",
     "output_type": "stream",
     "text": [
      "Processing Ingelmunster 2024-01-01 to 2024-01-31.csv\n",
      "Processing Ingelmunster 2024-02-01 to 2024-02-29.csv\n",
      "Processing Ingelmunster 2024-03-01 to 2024-03-31.csv\n",
      "Processing Ingelmunster 2024-04-01 to 2024-04-30.csv\n",
      "Processing Ingelmunster 2024-05-01 to 2024-05-31.csv\n"
     ]
    },
    {
     "name": "stderr",
     "output_type": "stream",
     "text": [
      "/var/folders/yg/5hgw5_z931sd5sx564slbskh0000gq/T/ipykernel_80687/2868847632.py:9: FutureWarning: The behavior of DataFrame concatenation with empty or all-NA entries is deprecated. In a future version, this will no longer exclude empty or all-NA columns when determining the result dtypes. To retain the old behavior, exclude the relevant entries before the concat operation.\n",
      "  df_weather_ingelmunster = pd.concat([df_weather_ingelmunster, processor.preprocessWeatherData(lat=ingelmunster_location[0], lng=ingelmunster_location[1], file_name=weather_train_data_ingelmunster[file])])\n"
     ]
    },
    {
     "name": "stdout",
     "output_type": "stream",
     "text": [
      "Processing Ingelmunster 2024-06-01 to 2024-06-30.csv\n",
      "Processing Ingelmunster 2024-07-01 to 2024-07-31.csv\n",
      "Processing Ingelmunster 2024-08-01 to 2024-08-31.csv\n",
      "Processing Ingelmunster 2024-09-01 to 2024-09-30.csv\n",
      "Processing Ingelmunster 2024-10-01 to 2024-10-31.csv\n",
      "Processing Ingelmunster 2024-11-01 to 2024-11-30.csv\n",
      "Processing Ingelmunster 2024-12-01 to 2024-12-31.csv\n",
      "Processing Ingelmunster 2025-01-01 to 2025-01-31.csv\n",
      "Processing Ingelmunster 2025-02-01 to 2025-02-29.csv\n",
      "File not found at data/raw/Ingelmunster 2025-02-01 to 2025-02-29.csv. Please check the path and try again.\n",
      "Processing Ingelmunster 2025-03-01 to 2025-03-31.csv\n",
      "Processing Ingelmunster 2025-04-01 to 2025-04-30.csv\n",
      "Processing Gullegem 2024-01-01 to 2024-01-31.csv\n",
      "Processing Gullegem 2024-02-01 to 2024-02-29.csv\n",
      "Processing Gullegem 2024-03-01 to 2024-03-31.csv\n",
      "Processing Gullegem 2024-04-01 to 2024-04-30.csv\n"
     ]
    },
    {
     "name": "stderr",
     "output_type": "stream",
     "text": [
      "/var/folders/yg/5hgw5_z931sd5sx564slbskh0000gq/T/ipykernel_80687/2868847632.py:12: FutureWarning: The behavior of DataFrame concatenation with empty or all-NA entries is deprecated. In a future version, this will no longer exclude empty or all-NA columns when determining the result dtypes. To retain the old behavior, exclude the relevant entries before the concat operation.\n",
      "  df_weather_test_ingelmunster = pd.concat([df_weather_test_ingelmunster, processor.preprocessWeatherData(lat=ingelmunster_location[0], lng=ingelmunster_location[1], file_name=weather_test_data_ingelmunster[file])])\n",
      "/var/folders/yg/5hgw5_z931sd5sx564slbskh0000gq/T/ipykernel_80687/2868847632.py:15: FutureWarning: The behavior of DataFrame concatenation with empty or all-NA entries is deprecated. In a future version, this will no longer exclude empty or all-NA columns when determining the result dtypes. To retain the old behavior, exclude the relevant entries before the concat operation.\n",
      "  df_weather_gullegem = pd.concat([df_weather_gullegem, processor.preprocessWeatherData(lat=gullegem_location[0], lng=gullegem_location[1], file_name=weather_train_data_gullegem[file])])\n"
     ]
    },
    {
     "name": "stdout",
     "output_type": "stream",
     "text": [
      "Processing Gullegem 2024-05-01 to 2024-05-31.csv\n",
      "Processing Gullegem 2024-06-01 to 2024-06-30.csv\n",
      "Processing Gullegem 2024-07-01 to 2024-07-31.csv\n",
      "Processing Gullegem 2024-08-01 to 2024-08-31.csv\n",
      "Processing Gullegem 2024-09-01 to 2024-09-30.csv\n",
      "Processing Gullegem 2024-10-01 to 2024-10-31.csv\n",
      "Processing Gullegem 2024-11-01 to 2024-11-30.csv\n",
      "Processing Gullegem 2024-12-01 to 2024-12-31.csv\n",
      "Processing Gullegem 2025-01-01 to 2025-01-31.csv\n"
     ]
    },
    {
     "data": {
      "application/vnd.microsoft.datawrangler.viewer.v0+json": {
       "columns": [
        {
         "name": "index",
         "rawType": "int64",
         "type": "integer"
        },
        {
         "name": "datetime",
         "rawType": "datetime64[ns]",
         "type": "datetime"
        },
        {
         "name": "temp",
         "rawType": "float64",
         "type": "float"
        },
        {
         "name": "humidity",
         "rawType": "float64",
         "type": "float"
        },
        {
         "name": "cloudcover",
         "rawType": "float64",
         "type": "float"
        },
        {
         "name": "solarenergy",
         "rawType": "float64",
         "type": "float"
        },
        {
         "name": "uvindex",
         "rawType": "float64",
         "type": "float"
        },
        {
         "name": "latitude",
         "rawType": "float64",
         "type": "float"
        },
        {
         "name": "longitude",
         "rawType": "float64",
         "type": "float"
        },
        {
         "name": "solar_azimuth",
         "rawType": "float64",
         "type": "float"
        },
        {
         "name": "solar_elevation",
         "rawType": "float64",
         "type": "float"
        }
       ],
       "ref": "45834f2f-45ca-42eb-986a-b9997d99af02",
       "rows": [
        [
         "0",
         "2024-01-01 00:00:00",
         "7.2",
         "89.08",
         "96.3",
         "0.0",
         "0.0",
         "50.920699369528734",
         "3.2532075343447575",
         "-3.058781270308056",
         "-1.0839540874244509"
        ],
        [
         "1",
         "2024-01-01 00:15:00",
         "7.125",
         "89.6",
         "96.6",
         "0.0",
         "0.0",
         "50.920699369528734",
         "3.2532075343447575",
         "-2.931440455864378",
         "-1.0779159761218964"
        ],
        [
         "2",
         "2024-01-01 00:30:00",
         "7.050000000000001",
         "90.12",
         "96.9",
         "0.0",
         "0.0",
         "50.920699369528734",
         "3.2532075343447575",
         "-2.8076350453115952",
         "-1.0668119445115487"
        ],
        [
         "3",
         "2024-01-01 00:45:00",
         "6.9750000000000005",
         "90.64",
         "97.2",
         "0.0",
         "0.0",
         "50.920699369528734",
         "3.2532075343447575",
         "-2.6890235397785753",
         "-1.0509841467225889"
        ],
        [
         "4",
         "2024-01-01 01:00:00",
         "6.9",
         "91.16",
         "97.5",
         "0.0",
         "0.0",
         "50.920699369528734",
         "3.2532075343447575",
         "-2.576723825102668",
         "-1.0308728968980991"
        ],
        [
         "5",
         "2024-01-01 01:15:00",
         "7.0",
         "91.195",
         "95.725",
         "0.0",
         "0.0",
         "50.920699369528734",
         "3.2532075343447575",
         "-2.471311244679454",
         "-1.0069682516944656"
        ],
        [
         "6",
         "2024-01-01 01:30:00",
         "7.1",
         "91.22999999999999",
         "93.95",
         "0.0",
         "0.0",
         "50.920699369528734",
         "3.2532075343447575",
         "-2.3729015168275964",
         "-0.9797684597337202"
        ],
        [
         "7",
         "2024-01-01 01:45:00",
         "7.2",
         "91.265",
         "92.17500000000001",
         "0.0",
         "0.0",
         "50.920699369528734",
         "3.2532075343447575",
         "-2.281271313594809",
         "-0.949750202193873"
        ],
        [
         "8",
         "2024-01-01 02:00:00",
         "7.3",
         "91.3",
         "90.4",
         "0.0",
         "0.0",
         "50.920699369528734",
         "3.2532075343447575",
         "-2.195978766477057",
         "-0.9173509645281679"
        ],
        [
         "9",
         "2024-01-01 02:15:00",
         "7.325",
         "90.53999999999999",
         "90.80000000000001",
         "0.0",
         "0.0",
         "50.920699369528734",
         "3.2532075343447575",
         "-2.116463124335507",
         "-0.8829612242990981"
        ]
       ],
       "shape": {
        "columns": 10,
        "rows": 10
       }
      },
      "text/html": [
       "<div>\n",
       "<style scoped>\n",
       "    .dataframe tbody tr th:only-of-type {\n",
       "        vertical-align: middle;\n",
       "    }\n",
       "\n",
       "    .dataframe tbody tr th {\n",
       "        vertical-align: top;\n",
       "    }\n",
       "\n",
       "    .dataframe thead th {\n",
       "        text-align: right;\n",
       "    }\n",
       "</style>\n",
       "<table border=\"1\" class=\"dataframe\">\n",
       "  <thead>\n",
       "    <tr style=\"text-align: right;\">\n",
       "      <th></th>\n",
       "      <th>datetime</th>\n",
       "      <th>temp</th>\n",
       "      <th>humidity</th>\n",
       "      <th>cloudcover</th>\n",
       "      <th>solarenergy</th>\n",
       "      <th>uvindex</th>\n",
       "      <th>latitude</th>\n",
       "      <th>longitude</th>\n",
       "      <th>solar_azimuth</th>\n",
       "      <th>solar_elevation</th>\n",
       "    </tr>\n",
       "  </thead>\n",
       "  <tbody>\n",
       "    <tr>\n",
       "      <th>0</th>\n",
       "      <td>2024-01-01 00:00:00</td>\n",
       "      <td>7.200</td>\n",
       "      <td>89.080</td>\n",
       "      <td>96.300</td>\n",
       "      <td>0.0</td>\n",
       "      <td>0.0</td>\n",
       "      <td>50.920699</td>\n",
       "      <td>3.253208</td>\n",
       "      <td>-3.058781</td>\n",
       "      <td>-1.083954</td>\n",
       "    </tr>\n",
       "    <tr>\n",
       "      <th>1</th>\n",
       "      <td>2024-01-01 00:15:00</td>\n",
       "      <td>7.125</td>\n",
       "      <td>89.600</td>\n",
       "      <td>96.600</td>\n",
       "      <td>0.0</td>\n",
       "      <td>0.0</td>\n",
       "      <td>50.920699</td>\n",
       "      <td>3.253208</td>\n",
       "      <td>-2.931440</td>\n",
       "      <td>-1.077916</td>\n",
       "    </tr>\n",
       "    <tr>\n",
       "      <th>2</th>\n",
       "      <td>2024-01-01 00:30:00</td>\n",
       "      <td>7.050</td>\n",
       "      <td>90.120</td>\n",
       "      <td>96.900</td>\n",
       "      <td>0.0</td>\n",
       "      <td>0.0</td>\n",
       "      <td>50.920699</td>\n",
       "      <td>3.253208</td>\n",
       "      <td>-2.807635</td>\n",
       "      <td>-1.066812</td>\n",
       "    </tr>\n",
       "    <tr>\n",
       "      <th>3</th>\n",
       "      <td>2024-01-01 00:45:00</td>\n",
       "      <td>6.975</td>\n",
       "      <td>90.640</td>\n",
       "      <td>97.200</td>\n",
       "      <td>0.0</td>\n",
       "      <td>0.0</td>\n",
       "      <td>50.920699</td>\n",
       "      <td>3.253208</td>\n",
       "      <td>-2.689024</td>\n",
       "      <td>-1.050984</td>\n",
       "    </tr>\n",
       "    <tr>\n",
       "      <th>4</th>\n",
       "      <td>2024-01-01 01:00:00</td>\n",
       "      <td>6.900</td>\n",
       "      <td>91.160</td>\n",
       "      <td>97.500</td>\n",
       "      <td>0.0</td>\n",
       "      <td>0.0</td>\n",
       "      <td>50.920699</td>\n",
       "      <td>3.253208</td>\n",
       "      <td>-2.576724</td>\n",
       "      <td>-1.030873</td>\n",
       "    </tr>\n",
       "    <tr>\n",
       "      <th>5</th>\n",
       "      <td>2024-01-01 01:15:00</td>\n",
       "      <td>7.000</td>\n",
       "      <td>91.195</td>\n",
       "      <td>95.725</td>\n",
       "      <td>0.0</td>\n",
       "      <td>0.0</td>\n",
       "      <td>50.920699</td>\n",
       "      <td>3.253208</td>\n",
       "      <td>-2.471311</td>\n",
       "      <td>-1.006968</td>\n",
       "    </tr>\n",
       "    <tr>\n",
       "      <th>6</th>\n",
       "      <td>2024-01-01 01:30:00</td>\n",
       "      <td>7.100</td>\n",
       "      <td>91.230</td>\n",
       "      <td>93.950</td>\n",
       "      <td>0.0</td>\n",
       "      <td>0.0</td>\n",
       "      <td>50.920699</td>\n",
       "      <td>3.253208</td>\n",
       "      <td>-2.372902</td>\n",
       "      <td>-0.979768</td>\n",
       "    </tr>\n",
       "    <tr>\n",
       "      <th>7</th>\n",
       "      <td>2024-01-01 01:45:00</td>\n",
       "      <td>7.200</td>\n",
       "      <td>91.265</td>\n",
       "      <td>92.175</td>\n",
       "      <td>0.0</td>\n",
       "      <td>0.0</td>\n",
       "      <td>50.920699</td>\n",
       "      <td>3.253208</td>\n",
       "      <td>-2.281271</td>\n",
       "      <td>-0.949750</td>\n",
       "    </tr>\n",
       "    <tr>\n",
       "      <th>8</th>\n",
       "      <td>2024-01-01 02:00:00</td>\n",
       "      <td>7.300</td>\n",
       "      <td>91.300</td>\n",
       "      <td>90.400</td>\n",
       "      <td>0.0</td>\n",
       "      <td>0.0</td>\n",
       "      <td>50.920699</td>\n",
       "      <td>3.253208</td>\n",
       "      <td>-2.195979</td>\n",
       "      <td>-0.917351</td>\n",
       "    </tr>\n",
       "    <tr>\n",
       "      <th>9</th>\n",
       "      <td>2024-01-01 02:15:00</td>\n",
       "      <td>7.325</td>\n",
       "      <td>90.540</td>\n",
       "      <td>90.800</td>\n",
       "      <td>0.0</td>\n",
       "      <td>0.0</td>\n",
       "      <td>50.920699</td>\n",
       "      <td>3.253208</td>\n",
       "      <td>-2.116463</td>\n",
       "      <td>-0.882961</td>\n",
       "    </tr>\n",
       "  </tbody>\n",
       "</table>\n",
       "</div>"
      ],
      "text/plain": [
       "             datetime   temp  humidity  cloudcover  solarenergy  uvindex  \\\n",
       "0 2024-01-01 00:00:00  7.200    89.080      96.300          0.0      0.0   \n",
       "1 2024-01-01 00:15:00  7.125    89.600      96.600          0.0      0.0   \n",
       "2 2024-01-01 00:30:00  7.050    90.120      96.900          0.0      0.0   \n",
       "3 2024-01-01 00:45:00  6.975    90.640      97.200          0.0      0.0   \n",
       "4 2024-01-01 01:00:00  6.900    91.160      97.500          0.0      0.0   \n",
       "5 2024-01-01 01:15:00  7.000    91.195      95.725          0.0      0.0   \n",
       "6 2024-01-01 01:30:00  7.100    91.230      93.950          0.0      0.0   \n",
       "7 2024-01-01 01:45:00  7.200    91.265      92.175          0.0      0.0   \n",
       "8 2024-01-01 02:00:00  7.300    91.300      90.400          0.0      0.0   \n",
       "9 2024-01-01 02:15:00  7.325    90.540      90.800          0.0      0.0   \n",
       "\n",
       "    latitude  longitude  solar_azimuth  solar_elevation  \n",
       "0  50.920699   3.253208      -3.058781        -1.083954  \n",
       "1  50.920699   3.253208      -2.931440        -1.077916  \n",
       "2  50.920699   3.253208      -2.807635        -1.066812  \n",
       "3  50.920699   3.253208      -2.689024        -1.050984  \n",
       "4  50.920699   3.253208      -2.576724        -1.030873  \n",
       "5  50.920699   3.253208      -2.471311        -1.006968  \n",
       "6  50.920699   3.253208      -2.372902        -0.979768  \n",
       "7  50.920699   3.253208      -2.281271        -0.949750  \n",
       "8  50.920699   3.253208      -2.195979        -0.917351  \n",
       "9  50.920699   3.253208      -2.116463        -0.882961  "
      ]
     },
     "execution_count": 3,
     "metadata": {},
     "output_type": "execute_result"
    }
   ],
   "source": [
    "# importeren van de ruwe weersdata en deze preprocessen\n",
    "processor = wdp.WeatherDataPreprocess()\n",
    "df_weather_ingelmunster = pd.DataFrame(columns=['datetime', 'temp', 'humidity', 'cloudcover', 'solarenergy', 'uvindex', 'latitude', 'longitude', 'solar_azimuth', 'solar_elevation'])\n",
    "df_weather_gullegem = pd.DataFrame(columns=['datetime', 'temp', 'humidity', 'cloudcover', 'solarenergy', 'uvindex', 'latitude', 'longitude', 'solar_azimuth', 'solar_elevation'])\n",
    "df_weather_test_ingelmunster = pd.DataFrame(columns=['datetime', 'temp', 'humidity', 'cloudcover', 'solarenergy', 'uvindex', 'latitude', 'longitude', 'solar_azimuth', 'solar_elevation'])\n",
    "df_weather_test_gullegem = pd.DataFrame(columns=['datetime', 'temp', 'humidity', 'cloudcover', 'solarenergy', 'uvindex', 'latitude', 'longitude', 'solar_azimuth', 'solar_elevation'])\n",
    "for file in range(len(weather_train_data_ingelmunster)):\n",
    "    print(f'Processing {weather_train_data_ingelmunster[file]}')\n",
    "    df_weather_ingelmunster = pd.concat([df_weather_ingelmunster, processor.preprocessWeatherData(lat=ingelmunster_location[0], lng=ingelmunster_location[1], file_name=weather_train_data_ingelmunster[file])])\n",
    "for file in range(len(weather_test_data_ingelmunster)):\n",
    "    print(f'Processing {weather_test_data_ingelmunster[file]}')\n",
    "    df_weather_test_ingelmunster = pd.concat([df_weather_test_ingelmunster, processor.preprocessWeatherData(lat=ingelmunster_location[0], lng=ingelmunster_location[1], file_name=weather_test_data_ingelmunster[file])])\n",
    "for file in range(len(weather_train_data_gullegem)):\n",
    "    print(f'Processing {weather_train_data_gullegem[file]}')\n",
    "    df_weather_gullegem = pd.concat([df_weather_gullegem, processor.preprocessWeatherData(lat=gullegem_location[0], lng=gullegem_location[1], file_name=weather_train_data_gullegem[file])])\n",
    "df_weather_ingelmunster.head(10)"
   ]
  },
  {
   "cell_type": "code",
   "execution_count": 4,
   "metadata": {},
   "outputs": [],
   "source": [
    "# Een checkpoint toevoegen voor de ruwe weersdata\n",
    "df_weather_ingelmunster.to_csv('data/processed/ingelmunster_weather_data.csv', index=False)\n",
    "df_weather_gullegem.to_csv('data/processed/gullegem_weather_data.csv', index=False)"
   ]
  },
  {
   "cell_type": "code",
   "execution_count": 5,
   "metadata": {},
   "outputs": [],
   "source": [
    "# Verwijderen van de kolommen die niet nodig zijn\n",
    "df_weather_ingelmunster.drop(columns=['humidity', 'latitude', 'longitude'], inplace=True)\n",
    "df_weather_test_ingelmunster.drop(columns=['humidity', 'latitude', 'longitude'], inplace=True)\n",
    "df_weather_gullegem.drop(columns=['humidity', 'latitude', 'longitude'], inplace=True)"
   ]
  },
  {
   "cell_type": "code",
   "execution_count": 6,
   "metadata": {},
   "outputs": [
    {
     "data": {
      "application/vnd.microsoft.datawrangler.viewer.v0+json": {
       "columns": [
        {
         "name": "index",
         "rawType": "int64",
         "type": "integer"
        },
        {
         "name": "datetime",
         "rawType": "datetime64[ns]",
         "type": "datetime"
        },
        {
         "name": "total_production_kwh",
         "rawType": "float64",
         "type": "float"
        },
        {
         "name": "production_15_min_kwh",
         "rawType": "float64",
         "type": "float"
        },
        {
         "name": "production_15_min_%",
         "rawType": "float64",
         "type": "float"
        }
       ],
       "ref": "53d02670-9757-4446-a2b7-1beebec11793",
       "rows": [
        [
         "26943",
         "2024-12-31 21:30:00",
         "20591.94",
         "0.0",
         "0.0"
        ],
        [
         "26944",
         "2024-12-31 21:45:00",
         "20591.94",
         "0.0",
         "0.0"
        ],
        [
         "26945",
         "2024-12-31 22:00:00",
         "20591.94",
         "0.0",
         "0.0"
        ],
        [
         "26946",
         "2024-12-31 22:15:00",
         "20591.94",
         "0.0",
         "0.0"
        ],
        [
         "26947",
         "2024-12-31 22:30:00",
         "20591.94",
         "0.0",
         "0.0"
        ],
        [
         "26948",
         "2024-12-31 22:45:00",
         "20591.94",
         "0.0",
         "0.0"
        ],
        [
         "26949",
         "2024-12-31 23:00:00",
         "20591.94",
         "0.0",
         "0.0"
        ],
        [
         "26950",
         "2024-12-31 23:15:00",
         "20591.94",
         "0.0",
         "0.0"
        ],
        [
         "26951",
         "2024-12-31 23:30:00",
         "20591.94",
         "0.0",
         "0.0"
        ],
        [
         "26952",
         "2024-12-31 23:45:00",
         "20591.94",
         "0.0",
         "0.0"
        ]
       ],
       "shape": {
        "columns": 4,
        "rows": 10
       }
      },
      "text/html": [
       "<div>\n",
       "<style scoped>\n",
       "    .dataframe tbody tr th:only-of-type {\n",
       "        vertical-align: middle;\n",
       "    }\n",
       "\n",
       "    .dataframe tbody tr th {\n",
       "        vertical-align: top;\n",
       "    }\n",
       "\n",
       "    .dataframe thead th {\n",
       "        text-align: right;\n",
       "    }\n",
       "</style>\n",
       "<table border=\"1\" class=\"dataframe\">\n",
       "  <thead>\n",
       "    <tr style=\"text-align: right;\">\n",
       "      <th></th>\n",
       "      <th>datetime</th>\n",
       "      <th>total_production_kwh</th>\n",
       "      <th>production_15_min_kwh</th>\n",
       "      <th>production_15_min_%</th>\n",
       "    </tr>\n",
       "  </thead>\n",
       "  <tbody>\n",
       "    <tr>\n",
       "      <th>26943</th>\n",
       "      <td>2024-12-31 21:30:00</td>\n",
       "      <td>20591.94</td>\n",
       "      <td>0.0</td>\n",
       "      <td>0.0</td>\n",
       "    </tr>\n",
       "    <tr>\n",
       "      <th>26944</th>\n",
       "      <td>2024-12-31 21:45:00</td>\n",
       "      <td>20591.94</td>\n",
       "      <td>0.0</td>\n",
       "      <td>0.0</td>\n",
       "    </tr>\n",
       "    <tr>\n",
       "      <th>26945</th>\n",
       "      <td>2024-12-31 22:00:00</td>\n",
       "      <td>20591.94</td>\n",
       "      <td>0.0</td>\n",
       "      <td>0.0</td>\n",
       "    </tr>\n",
       "    <tr>\n",
       "      <th>26946</th>\n",
       "      <td>2024-12-31 22:15:00</td>\n",
       "      <td>20591.94</td>\n",
       "      <td>0.0</td>\n",
       "      <td>0.0</td>\n",
       "    </tr>\n",
       "    <tr>\n",
       "      <th>26947</th>\n",
       "      <td>2024-12-31 22:30:00</td>\n",
       "      <td>20591.94</td>\n",
       "      <td>0.0</td>\n",
       "      <td>0.0</td>\n",
       "    </tr>\n",
       "    <tr>\n",
       "      <th>26948</th>\n",
       "      <td>2024-12-31 22:45:00</td>\n",
       "      <td>20591.94</td>\n",
       "      <td>0.0</td>\n",
       "      <td>0.0</td>\n",
       "    </tr>\n",
       "    <tr>\n",
       "      <th>26949</th>\n",
       "      <td>2024-12-31 23:00:00</td>\n",
       "      <td>20591.94</td>\n",
       "      <td>0.0</td>\n",
       "      <td>0.0</td>\n",
       "    </tr>\n",
       "    <tr>\n",
       "      <th>26950</th>\n",
       "      <td>2024-12-31 23:15:00</td>\n",
       "      <td>20591.94</td>\n",
       "      <td>0.0</td>\n",
       "      <td>0.0</td>\n",
       "    </tr>\n",
       "    <tr>\n",
       "      <th>26951</th>\n",
       "      <td>2024-12-31 23:30:00</td>\n",
       "      <td>20591.94</td>\n",
       "      <td>0.0</td>\n",
       "      <td>0.0</td>\n",
       "    </tr>\n",
       "    <tr>\n",
       "      <th>26952</th>\n",
       "      <td>2024-12-31 23:45:00</td>\n",
       "      <td>20591.94</td>\n",
       "      <td>0.0</td>\n",
       "      <td>0.0</td>\n",
       "    </tr>\n",
       "  </tbody>\n",
       "</table>\n",
       "</div>"
      ],
      "text/plain": [
       "                 datetime  total_production_kwh  production_15_min_kwh  \\\n",
       "26943 2024-12-31 21:30:00              20591.94                    0.0   \n",
       "26944 2024-12-31 21:45:00              20591.94                    0.0   \n",
       "26945 2024-12-31 22:00:00              20591.94                    0.0   \n",
       "26946 2024-12-31 22:15:00              20591.94                    0.0   \n",
       "26947 2024-12-31 22:30:00              20591.94                    0.0   \n",
       "26948 2024-12-31 22:45:00              20591.94                    0.0   \n",
       "26949 2024-12-31 23:00:00              20591.94                    0.0   \n",
       "26950 2024-12-31 23:15:00              20591.94                    0.0   \n",
       "26951 2024-12-31 23:30:00              20591.94                    0.0   \n",
       "26952 2024-12-31 23:45:00              20591.94                    0.0   \n",
       "\n",
       "       production_15_min_%  \n",
       "26943                  0.0  \n",
       "26944                  0.0  \n",
       "26945                  0.0  \n",
       "26946                  0.0  \n",
       "26947                  0.0  \n",
       "26948                  0.0  \n",
       "26949                  0.0  \n",
       "26950                  0.0  \n",
       "26951                  0.0  \n",
       "26952                  0.0  "
      ]
     },
     "execution_count": 6,
     "metadata": {},
     "output_type": "execute_result"
    }
   ],
   "source": [
    "# Importeren van de ruwe productiedata en deze preprocessen\n",
    "df_all_jvr = pd.read_csv('data/processed/pv_jvr_total.csv')\n",
    "df_all_jvr['datetime'] = pd.to_datetime(df_all_jvr['datetime'])\n",
    "df_all_ddp = pd.read_csv('data/processed/pv_ddp_total.csv')\n",
    "df_all_ddp['datetime'] = pd.to_datetime(df_all_ddp['datetime'])\n",
    "# Filter data voor een train en test set\n",
    "df_production_jvr = df_all_jvr[df_all_jvr['datetime'].dt.year == 2024]\n",
    "df_production_test_jvr = df_all_jvr[df_all_jvr['datetime'].dt.year == 2025]\n",
    "df_production_ddp = df_all_ddp\n",
    "df_production_jvr.tail(10)"
   ]
  },
  {
   "cell_type": "code",
   "execution_count": 7,
   "metadata": {},
   "outputs": [
    {
     "data": {
      "application/vnd.microsoft.datawrangler.viewer.v0+json": {
       "columns": [
        {
         "name": "index",
         "rawType": "int64",
         "type": "integer"
        },
        {
         "name": "datetime",
         "rawType": "datetime64[ns]",
         "type": "datetime"
        },
        {
         "name": "production_15_min_%",
         "rawType": "float64",
         "type": "float"
        },
        {
         "name": "temp",
         "rawType": "float64",
         "type": "float"
        },
        {
         "name": "cloudcover",
         "rawType": "float64",
         "type": "float"
        },
        {
         "name": "solarenergy",
         "rawType": "float64",
         "type": "float"
        },
        {
         "name": "uvindex",
         "rawType": "float64",
         "type": "float"
        },
        {
         "name": "solar_azimuth",
         "rawType": "float64",
         "type": "float"
        },
        {
         "name": "solar_elevation",
         "rawType": "float64",
         "type": "float"
        }
       ],
       "ref": "ba01f038-d327-4f6d-ab86-73ceb8a65df1",
       "rows": [
        [
         "0",
         "2024-03-14 08:15:00",
         "0.092",
         "8.325",
         "54.475",
         "0.325",
         "0.5",
         "-1.0541199706309496",
         "0.33041165068185335"
        ],
        [
         "1",
         "2024-03-14 08:45:00",
         "0.387",
         "9.175",
         "46.225",
         "0.575",
         "1.5",
         "-0.9353235697533843",
         "0.39973189090008776"
        ],
        [
         "2",
         "2024-03-14 09:00:00",
         "0.231",
         "9.6",
         "42.1",
         "0.7",
         "2.0",
         "-0.8732673452587921",
         "0.43222860723291284"
        ],
        [
         "3",
         "2024-03-14 09:15:00",
         "0.203",
         "10.0",
         "48.875",
         "0.8999999999999999",
         "2.5",
         "-0.8092735177845215",
         "0.46305555926301506"
        ],
        [
         "4",
         "2024-03-14 09:30:00",
         "0.172",
         "10.399999999999999",
         "55.650000000000006",
         "1.1",
         "3.0",
         "-0.7432465262133454",
         "0.492032215431663"
        ],
        [
         "5",
         "2024-03-14 09:45:00",
         "0.085",
         "10.799999999999999",
         "62.425000000000004",
         "1.3",
         "3.5",
         "-0.675122160192194",
         "0.5189717930311978"
        ],
        [
         "6",
         "2024-03-14 12:00:00",
         "4.431",
         "14.8",
         "52.4",
         "2.0",
         "6.0",
         "0.018609623224236024",
         "0.6403201526968968"
        ],
        [
         "7",
         "2024-03-14 12:15:00",
         "0.826",
         "14.925",
         "50.3",
         "1.85",
         "5.5",
         "0.10005495721122823",
         "0.6379444622498894"
        ],
        [
         "8",
         "2024-03-14 12:30:00",
         "0.747",
         "15.05",
         "48.2",
         "1.7",
         "5.0",
         "0.18100073390448942",
         "0.6322349875630373"
        ],
        [
         "9",
         "2024-03-14 12:45:00",
         "0.404",
         "15.175",
         "46.1",
         "1.5499999999999998",
         "4.5",
         "0.2610569248796823",
         "0.6232576905375985"
        ]
       ],
       "shape": {
        "columns": 8,
        "rows": 10
       }
      },
      "text/html": [
       "<div>\n",
       "<style scoped>\n",
       "    .dataframe tbody tr th:only-of-type {\n",
       "        vertical-align: middle;\n",
       "    }\n",
       "\n",
       "    .dataframe tbody tr th {\n",
       "        vertical-align: top;\n",
       "    }\n",
       "\n",
       "    .dataframe thead th {\n",
       "        text-align: right;\n",
       "    }\n",
       "</style>\n",
       "<table border=\"1\" class=\"dataframe\">\n",
       "  <thead>\n",
       "    <tr style=\"text-align: right;\">\n",
       "      <th></th>\n",
       "      <th>datetime</th>\n",
       "      <th>production_15_min_%</th>\n",
       "      <th>temp</th>\n",
       "      <th>cloudcover</th>\n",
       "      <th>solarenergy</th>\n",
       "      <th>uvindex</th>\n",
       "      <th>solar_azimuth</th>\n",
       "      <th>solar_elevation</th>\n",
       "    </tr>\n",
       "  </thead>\n",
       "  <tbody>\n",
       "    <tr>\n",
       "      <th>0</th>\n",
       "      <td>2024-03-14 08:15:00</td>\n",
       "      <td>0.092</td>\n",
       "      <td>8.325</td>\n",
       "      <td>54.475</td>\n",
       "      <td>0.325</td>\n",
       "      <td>0.5</td>\n",
       "      <td>-1.054120</td>\n",
       "      <td>0.330412</td>\n",
       "    </tr>\n",
       "    <tr>\n",
       "      <th>1</th>\n",
       "      <td>2024-03-14 08:45:00</td>\n",
       "      <td>0.387</td>\n",
       "      <td>9.175</td>\n",
       "      <td>46.225</td>\n",
       "      <td>0.575</td>\n",
       "      <td>1.5</td>\n",
       "      <td>-0.935324</td>\n",
       "      <td>0.399732</td>\n",
       "    </tr>\n",
       "    <tr>\n",
       "      <th>2</th>\n",
       "      <td>2024-03-14 09:00:00</td>\n",
       "      <td>0.231</td>\n",
       "      <td>9.600</td>\n",
       "      <td>42.100</td>\n",
       "      <td>0.700</td>\n",
       "      <td>2.0</td>\n",
       "      <td>-0.873267</td>\n",
       "      <td>0.432229</td>\n",
       "    </tr>\n",
       "    <tr>\n",
       "      <th>3</th>\n",
       "      <td>2024-03-14 09:15:00</td>\n",
       "      <td>0.203</td>\n",
       "      <td>10.000</td>\n",
       "      <td>48.875</td>\n",
       "      <td>0.900</td>\n",
       "      <td>2.5</td>\n",
       "      <td>-0.809274</td>\n",
       "      <td>0.463056</td>\n",
       "    </tr>\n",
       "    <tr>\n",
       "      <th>4</th>\n",
       "      <td>2024-03-14 09:30:00</td>\n",
       "      <td>0.172</td>\n",
       "      <td>10.400</td>\n",
       "      <td>55.650</td>\n",
       "      <td>1.100</td>\n",
       "      <td>3.0</td>\n",
       "      <td>-0.743247</td>\n",
       "      <td>0.492032</td>\n",
       "    </tr>\n",
       "    <tr>\n",
       "      <th>5</th>\n",
       "      <td>2024-03-14 09:45:00</td>\n",
       "      <td>0.085</td>\n",
       "      <td>10.800</td>\n",
       "      <td>62.425</td>\n",
       "      <td>1.300</td>\n",
       "      <td>3.5</td>\n",
       "      <td>-0.675122</td>\n",
       "      <td>0.518972</td>\n",
       "    </tr>\n",
       "    <tr>\n",
       "      <th>6</th>\n",
       "      <td>2024-03-14 12:00:00</td>\n",
       "      <td>4.431</td>\n",
       "      <td>14.800</td>\n",
       "      <td>52.400</td>\n",
       "      <td>2.000</td>\n",
       "      <td>6.0</td>\n",
       "      <td>0.018610</td>\n",
       "      <td>0.640320</td>\n",
       "    </tr>\n",
       "    <tr>\n",
       "      <th>7</th>\n",
       "      <td>2024-03-14 12:15:00</td>\n",
       "      <td>0.826</td>\n",
       "      <td>14.925</td>\n",
       "      <td>50.300</td>\n",
       "      <td>1.850</td>\n",
       "      <td>5.5</td>\n",
       "      <td>0.100055</td>\n",
       "      <td>0.637944</td>\n",
       "    </tr>\n",
       "    <tr>\n",
       "      <th>8</th>\n",
       "      <td>2024-03-14 12:30:00</td>\n",
       "      <td>0.747</td>\n",
       "      <td>15.050</td>\n",
       "      <td>48.200</td>\n",
       "      <td>1.700</td>\n",
       "      <td>5.0</td>\n",
       "      <td>0.181001</td>\n",
       "      <td>0.632235</td>\n",
       "    </tr>\n",
       "    <tr>\n",
       "      <th>9</th>\n",
       "      <td>2024-03-14 12:45:00</td>\n",
       "      <td>0.404</td>\n",
       "      <td>15.175</td>\n",
       "      <td>46.100</td>\n",
       "      <td>1.550</td>\n",
       "      <td>4.5</td>\n",
       "      <td>0.261057</td>\n",
       "      <td>0.623258</td>\n",
       "    </tr>\n",
       "  </tbody>\n",
       "</table>\n",
       "</div>"
      ],
      "text/plain": [
       "             datetime  production_15_min_%    temp  cloudcover  solarenergy  \\\n",
       "0 2024-03-14 08:15:00                0.092   8.325      54.475        0.325   \n",
       "1 2024-03-14 08:45:00                0.387   9.175      46.225        0.575   \n",
       "2 2024-03-14 09:00:00                0.231   9.600      42.100        0.700   \n",
       "3 2024-03-14 09:15:00                0.203  10.000      48.875        0.900   \n",
       "4 2024-03-14 09:30:00                0.172  10.400      55.650        1.100   \n",
       "5 2024-03-14 09:45:00                0.085  10.800      62.425        1.300   \n",
       "6 2024-03-14 12:00:00                4.431  14.800      52.400        2.000   \n",
       "7 2024-03-14 12:15:00                0.826  14.925      50.300        1.850   \n",
       "8 2024-03-14 12:30:00                0.747  15.050      48.200        1.700   \n",
       "9 2024-03-14 12:45:00                0.404  15.175      46.100        1.550   \n",
       "\n",
       "   uvindex  solar_azimuth  solar_elevation  \n",
       "0      0.5      -1.054120         0.330412  \n",
       "1      1.5      -0.935324         0.399732  \n",
       "2      2.0      -0.873267         0.432229  \n",
       "3      2.5      -0.809274         0.463056  \n",
       "4      3.0      -0.743247         0.492032  \n",
       "5      3.5      -0.675122         0.518972  \n",
       "6      6.0       0.018610         0.640320  \n",
       "7      5.5       0.100055         0.637944  \n",
       "8      5.0       0.181001         0.632235  \n",
       "9      4.5       0.261057         0.623258  "
      ]
     },
     "execution_count": 7,
     "metadata": {},
     "output_type": "execute_result"
    }
   ],
   "source": [
    "# Voeg de twee dataframes samen\n",
    "df_jvr = pd.merge(df_production_jvr, df_weather_ingelmunster, on='datetime')\n",
    "df_jvr.drop(columns=['total_production_kwh', 'production_15_min_kwh'], inplace=True)\n",
    "df_ddp = pd.merge(df_production_ddp, df_weather_gullegem, on='datetime')\n",
    "df_ddp.drop(columns=['total_production_kwh', 'production_15_min_kwh'], inplace=True)\n",
    "df_test_jvr = pd.merge(df_production_test_jvr, df_weather_test_ingelmunster, on='datetime')\n",
    "df_test_jvr.drop(columns=['total_production_kwh', 'production_15_min_kwh'], inplace=True)\n",
    "df_jvr.head(10)"
   ]
  },
  {
   "cell_type": "code",
   "execution_count": 8,
   "metadata": {},
   "outputs": [
    {
     "name": "stdout",
     "output_type": "stream",
     "text": [
      "Eerste datetime: 2025-04-01 00:00:00\n",
      "Laatste datetime: 2025-04-18 10:45:00\n"
     ]
    }
   ],
   "source": [
    "# Testdataframe controleren\n",
    "# Print de eerste en laatste datetime\n",
    "print(\"Eerste datetime:\", df_test_jvr['datetime'].min())\n",
    "print(\"Laatste datetime:\", df_test_jvr['datetime'].max())"
   ]
  },
  {
   "cell_type": "code",
   "execution_count": 9,
   "metadata": {},
   "outputs": [
    {
     "data": {
      "application/vnd.microsoft.datawrangler.viewer.v0+json": {
       "columns": [
        {
         "name": "index",
         "rawType": "int64",
         "type": "integer"
        },
        {
         "name": "datetime",
         "rawType": "datetime64[ns]",
         "type": "datetime"
        },
        {
         "name": "Predicted_%",
         "rawType": "float64",
         "type": "float"
        }
       ],
       "ref": "33461b53-5bb7-4728-bcf5-578d4bfd4907",
       "rows": [
        [
         "1628",
         "2025-04-02 00:45:00",
         "0.0"
        ],
        [
         "1629",
         "2025-04-02 00:30:00",
         "0.0"
        ],
        [
         "1630",
         "2025-04-02 00:15:00",
         "0.0"
        ],
        [
         "1631",
         "2025-04-02 00:00:00",
         "0.0"
        ],
        [
         "1632",
         "2025-04-01 23:45:00",
         "0.0"
        ],
        [
         "1633",
         "2025-04-01 23:30:00",
         "0.0"
        ],
        [
         "1634",
         "2025-04-01 23:15:00",
         "0.0"
        ],
        [
         "1635",
         "2025-04-01 23:00:00",
         "0.0"
        ],
        [
         "1636",
         "2025-04-01 22:45:00",
         "0.0"
        ],
        [
         "1637",
         "2025-04-01 22:30:00",
         "0.0"
        ],
        [
         "1638",
         "2025-04-01 22:15:00",
         "0.0"
        ],
        [
         "1639",
         "2025-04-01 22:00:00",
         "0.0"
        ],
        [
         "1640",
         "2025-04-01 21:45:00",
         "0.0"
        ],
        [
         "1641",
         "2025-04-01 21:30:00",
         "0.0"
        ],
        [
         "1642",
         "2025-04-01 21:15:00",
         "0.0"
        ],
        [
         "1643",
         "2025-04-01 21:00:00",
         "0.0"
        ],
        [
         "1644",
         "2025-04-01 20:45:00",
         "0.0"
        ],
        [
         "1645",
         "2025-04-01 20:30:00",
         "0.0"
        ],
        [
         "1646",
         "2025-04-01 20:15:00",
         "0.00010877936247193"
        ],
        [
         "1647",
         "2025-04-01 20:00:00",
         "0.0045479031331349465"
        ],
        [
         "1648",
         "2025-04-01 19:45:00",
         "0.01196804432643298"
        ],
        [
         "1649",
         "2025-04-01 19:30:00",
         "0.02454073989639344"
        ],
        [
         "1650",
         "2025-04-01 19:15:00",
         "0.045095989108177026"
        ],
        [
         "1651",
         "2025-04-01 19:00:00",
         "0.07293771976468941"
        ],
        [
         "1652",
         "2025-04-01 18:45:00",
         "0.09940408582228807"
        ],
        [
         "1653",
         "2025-04-01 18:30:00",
         "0.13569762577469133"
        ],
        [
         "1654",
         "2025-04-01 18:15:00",
         "0.1756896640511402"
        ],
        [
         "1655",
         "2025-04-01 18:00:00",
         "0.21818073459629259"
        ],
        [
         "1656",
         "2025-04-01 17:45:00",
         "0.24305649178455438"
        ],
        [
         "1657",
         "2025-04-01 17:30:00",
         "0.28464029615760045"
        ],
        [
         "1658",
         "2025-04-01 17:15:00",
         "0.3308796257989931"
        ],
        [
         "1659",
         "2025-04-01 17:00:00",
         "0.37874023083212166"
        ],
        [
         "1660",
         "2025-04-01 16:45:00",
         "0.40348406411270465"
        ],
        [
         "1661",
         "2025-04-01 16:30:00",
         "0.43834958562584875"
        ],
        [
         "1662",
         "2025-04-01 16:15:00",
         "0.47313178677624834"
        ],
        [
         "1663",
         "2025-04-01 16:00:00",
         "0.5097568723387389"
        ],
        [
         "1664",
         "2025-04-01 15:45:00",
         "0.5272796075148024"
        ],
        [
         "1665",
         "2025-04-01 15:30:00",
         "0.5573131266023982"
        ],
        [
         "1666",
         "2025-04-01 15:15:00",
         "0.5844489486301033"
        ],
        [
         "1667",
         "2025-04-01 15:00:00",
         "0.6073678345211306"
        ],
        [
         "1668",
         "2025-04-01 14:45:00",
         "0.6063541034410731"
        ],
        [
         "1669",
         "2025-04-01 14:30:00",
         "0.622444191268836"
        ],
        [
         "1670",
         "2025-04-01 14:15:00",
         "0.6325259551609154"
        ],
        [
         "1671",
         "2025-04-01 14:00:00",
         "0.6426140838029265"
        ],
        [
         "1672",
         "2025-04-01 13:45:00",
         "0.6313884007640015"
        ],
        [
         "1673",
         "2025-04-01 13:30:00",
         "0.6332816245619172"
        ],
        [
         "1674",
         "2025-04-01 13:15:00",
         "0.6324009746167987"
        ],
        [
         "1675",
         "2025-04-01 13:00:00",
         "0.6300934634596813"
        ],
        [
         "1676",
         "2025-04-01 12:45:00",
         "0.6280816238675807"
        ],
        [
         "1677",
         "2025-04-01 12:30:00",
         "0.6155511670926227"
        ]
       ],
       "shape": {
        "columns": 2,
        "rows": 100
       }
      },
      "text/html": [
       "<div>\n",
       "<style scoped>\n",
       "    .dataframe tbody tr th:only-of-type {\n",
       "        vertical-align: middle;\n",
       "    }\n",
       "\n",
       "    .dataframe tbody tr th {\n",
       "        vertical-align: top;\n",
       "    }\n",
       "\n",
       "    .dataframe thead th {\n",
       "        text-align: right;\n",
       "    }\n",
       "</style>\n",
       "<table border=\"1\" class=\"dataframe\">\n",
       "  <thead>\n",
       "    <tr style=\"text-align: right;\">\n",
       "      <th></th>\n",
       "      <th>datetime</th>\n",
       "      <th>Predicted_%</th>\n",
       "    </tr>\n",
       "  </thead>\n",
       "  <tbody>\n",
       "    <tr>\n",
       "      <th>1628</th>\n",
       "      <td>2025-04-02 00:45:00</td>\n",
       "      <td>0.0</td>\n",
       "    </tr>\n",
       "    <tr>\n",
       "      <th>1629</th>\n",
       "      <td>2025-04-02 00:30:00</td>\n",
       "      <td>0.0</td>\n",
       "    </tr>\n",
       "    <tr>\n",
       "      <th>1630</th>\n",
       "      <td>2025-04-02 00:15:00</td>\n",
       "      <td>0.0</td>\n",
       "    </tr>\n",
       "    <tr>\n",
       "      <th>1631</th>\n",
       "      <td>2025-04-02 00:00:00</td>\n",
       "      <td>0.0</td>\n",
       "    </tr>\n",
       "    <tr>\n",
       "      <th>1632</th>\n",
       "      <td>2025-04-01 23:45:00</td>\n",
       "      <td>0.0</td>\n",
       "    </tr>\n",
       "    <tr>\n",
       "      <th>...</th>\n",
       "      <td>...</td>\n",
       "      <td>...</td>\n",
       "    </tr>\n",
       "    <tr>\n",
       "      <th>1723</th>\n",
       "      <td>2025-04-01 01:00:00</td>\n",
       "      <td>0.0</td>\n",
       "    </tr>\n",
       "    <tr>\n",
       "      <th>1724</th>\n",
       "      <td>2025-04-01 00:45:00</td>\n",
       "      <td>0.0</td>\n",
       "    </tr>\n",
       "    <tr>\n",
       "      <th>1725</th>\n",
       "      <td>2025-04-01 00:30:00</td>\n",
       "      <td>0.0</td>\n",
       "    </tr>\n",
       "    <tr>\n",
       "      <th>1726</th>\n",
       "      <td>2025-04-01 00:15:00</td>\n",
       "      <td>0.0</td>\n",
       "    </tr>\n",
       "    <tr>\n",
       "      <th>1727</th>\n",
       "      <td>2025-04-01 00:00:00</td>\n",
       "      <td>0.0</td>\n",
       "    </tr>\n",
       "  </tbody>\n",
       "</table>\n",
       "<p>100 rows × 2 columns</p>\n",
       "</div>"
      ],
      "text/plain": [
       "                datetime  Predicted_%\n",
       "1628 2025-04-02 00:45:00          0.0\n",
       "1629 2025-04-02 00:30:00          0.0\n",
       "1630 2025-04-02 00:15:00          0.0\n",
       "1631 2025-04-02 00:00:00          0.0\n",
       "1632 2025-04-01 23:45:00          0.0\n",
       "...                  ...          ...\n",
       "1723 2025-04-01 01:00:00          0.0\n",
       "1724 2025-04-01 00:45:00          0.0\n",
       "1725 2025-04-01 00:30:00          0.0\n",
       "1726 2025-04-01 00:15:00          0.0\n",
       "1727 2025-04-01 00:00:00          0.0\n",
       "\n",
       "[100 rows x 2 columns]"
      ]
     },
     "execution_count": 9,
     "metadata": {},
     "output_type": "execute_result"
    }
   ],
   "source": [
    "# Elia data importeren en preprocessen\n",
    "# Bron: https://opendata.elia.be/\n",
    "df_elia = pd.read_csv('data/raw/elia_pv_pred 2025-04-01 to 2025-04-18.csv', sep=';')\n",
    "df_elia['datetime'] = pd.to_datetime(df_elia['Datetime']).dt.tz_localize(None)\n",
    "df_elia['Predicted_%'] = (df_elia['Most recent forecast'] / df_elia['Monitored capacity'])\n",
    "df_elia_processed = df_elia[['datetime', 'Predicted_%']].copy()\n",
    "df_elia_processed.tail(100)"
   ]
  },
  {
   "cell_type": "code",
   "execution_count": 10,
   "metadata": {},
   "outputs": [
    {
     "name": "stdout",
     "output_type": "stream",
     "text": [
      "Max productiepercentage in Elia data: 0.6676576389439376\n"
     ]
    }
   ],
   "source": [
    "# Max productiepercentage in de Elia data vinden\n",
    "max_production_percentage = df_elia_processed['Predicted_%'].max()\n",
    "print(\"Max productiepercentage in Elia data:\", max_production_percentage)"
   ]
  },
  {
   "cell_type": "code",
   "execution_count": 11,
   "metadata": {},
   "outputs": [
    {
     "name": "stdout",
     "output_type": "stream",
     "text": [
      "<class 'pandas.core.frame.DataFrame'>\n",
      "RangeIndex: 1676 entries, 0 to 1675\n",
      "Data columns (total 9 columns):\n",
      " #   Column               Non-Null Count  Dtype         \n",
      "---  ------               --------------  -----         \n",
      " 0   datetime             1676 non-null   datetime64[ns]\n",
      " 1   production_15_min_%  1676 non-null   float64       \n",
      " 2   temp                 1676 non-null   float64       \n",
      " 3   cloudcover           1676 non-null   float64       \n",
      " 4   solarenergy          1676 non-null   float64       \n",
      " 5   uvindex              1676 non-null   float64       \n",
      " 6   solar_azimuth        1676 non-null   float64       \n",
      " 7   solar_elevation      1676 non-null   float64       \n",
      " 8   Predicted_%          1676 non-null   float64       \n",
      "dtypes: datetime64[ns](1), float64(8)\n",
      "memory usage: 118.0 KB\n"
     ]
    },
    {
     "data": {
      "application/vnd.microsoft.datawrangler.viewer.v0+json": {
       "columns": [
        {
         "name": "index",
         "rawType": "int64",
         "type": "integer"
        },
        {
         "name": "datetime",
         "rawType": "datetime64[ns]",
         "type": "datetime"
        },
        {
         "name": "production_15_min_%",
         "rawType": "float64",
         "type": "float"
        },
        {
         "name": "temp",
         "rawType": "float64",
         "type": "float"
        },
        {
         "name": "cloudcover",
         "rawType": "float64",
         "type": "float"
        },
        {
         "name": "solarenergy",
         "rawType": "float64",
         "type": "float"
        },
        {
         "name": "uvindex",
         "rawType": "float64",
         "type": "float"
        },
        {
         "name": "solar_azimuth",
         "rawType": "float64",
         "type": "float"
        },
        {
         "name": "solar_elevation",
         "rawType": "float64",
         "type": "float"
        },
        {
         "name": "Predicted_%",
         "rawType": "float64",
         "type": "float"
        }
       ],
       "ref": "1a5db791-071a-4ea2-9698-5031566d19d1",
       "rows": [
        [
         "0",
         "2025-04-01 00:00:00",
         "0.0",
         "5.7",
         "10.0",
         "0.0",
         "0.0",
         "-3.0962424990635427",
         "-0.6049233128598845",
         "0.0"
        ],
        [
         "1",
         "2025-04-01 00:15:00",
         "0.0",
         "5.575",
         "10.0",
         "0.0",
         "0.0",
         "-3.0170994507325113",
         "-0.6013523456780363",
         "0.0"
        ],
        [
         "2",
         "2025-04-01 00:30:00",
         "0.0",
         "5.45",
         "10.0",
         "0.0",
         "0.0",
         "-2.938548694510741",
         "-0.594553387388166",
         "0.0"
        ],
        [
         "3",
         "2025-04-01 00:45:00",
         "0.0",
         "5.325",
         "10.0",
         "0.0",
         "0.0",
         "-2.860932636851863",
         "-0.5845990871535972",
         "0.0"
        ],
        [
         "4",
         "2025-04-01 01:00:00",
         "0.0",
         "5.2",
         "10.0",
         "0.0",
         "0.0",
         "-2.784554813260235",
         "-0.5715925111839927",
         "0.0"
        ],
        [
         "5",
         "2025-04-01 01:15:00",
         "0.0",
         "5.075",
         "10.0",
         "0.0",
         "0.0",
         "-2.709670126157788",
         "-0.5556625925623189",
         "0.0"
        ],
        [
         "6",
         "2025-04-01 01:30:00",
         "0.0",
         "4.95",
         "10.0",
         "0.0",
         "0.0",
         "-2.636479072671562",
         "-0.5369588989022781",
         "0.0"
        ],
        [
         "7",
         "2025-04-01 01:45:00",
         "0.0",
         "4.825",
         "10.0",
         "0.0",
         "0.0",
         "-2.565125850945595",
         "-0.5156461753263094",
         "0.0"
        ],
        [
         "8",
         "2025-04-01 02:00:00",
         "0.0",
         "4.7",
         "10.0",
         "0.0",
         "0.0",
         "-2.4956998748086803",
         "-0.491899086470144",
         "0.0"
        ],
        [
         "9",
         "2025-04-01 02:15:00",
         "0.0",
         "4.575",
         "10.0",
         "0.0",
         "0.0",
         "-2.428239862587536",
         "-0.4658974664426726",
         "0.0"
        ]
       ],
       "shape": {
        "columns": 9,
        "rows": 10
       }
      },
      "text/html": [
       "<div>\n",
       "<style scoped>\n",
       "    .dataframe tbody tr th:only-of-type {\n",
       "        vertical-align: middle;\n",
       "    }\n",
       "\n",
       "    .dataframe tbody tr th {\n",
       "        vertical-align: top;\n",
       "    }\n",
       "\n",
       "    .dataframe thead th {\n",
       "        text-align: right;\n",
       "    }\n",
       "</style>\n",
       "<table border=\"1\" class=\"dataframe\">\n",
       "  <thead>\n",
       "    <tr style=\"text-align: right;\">\n",
       "      <th></th>\n",
       "      <th>datetime</th>\n",
       "      <th>production_15_min_%</th>\n",
       "      <th>temp</th>\n",
       "      <th>cloudcover</th>\n",
       "      <th>solarenergy</th>\n",
       "      <th>uvindex</th>\n",
       "      <th>solar_azimuth</th>\n",
       "      <th>solar_elevation</th>\n",
       "      <th>Predicted_%</th>\n",
       "    </tr>\n",
       "  </thead>\n",
       "  <tbody>\n",
       "    <tr>\n",
       "      <th>0</th>\n",
       "      <td>2025-04-01 00:00:00</td>\n",
       "      <td>0.0</td>\n",
       "      <td>5.700</td>\n",
       "      <td>10.0</td>\n",
       "      <td>0.0</td>\n",
       "      <td>0.0</td>\n",
       "      <td>-3.096242</td>\n",
       "      <td>-0.604923</td>\n",
       "      <td>0.0</td>\n",
       "    </tr>\n",
       "    <tr>\n",
       "      <th>1</th>\n",
       "      <td>2025-04-01 00:15:00</td>\n",
       "      <td>0.0</td>\n",
       "      <td>5.575</td>\n",
       "      <td>10.0</td>\n",
       "      <td>0.0</td>\n",
       "      <td>0.0</td>\n",
       "      <td>-3.017099</td>\n",
       "      <td>-0.601352</td>\n",
       "      <td>0.0</td>\n",
       "    </tr>\n",
       "    <tr>\n",
       "      <th>2</th>\n",
       "      <td>2025-04-01 00:30:00</td>\n",
       "      <td>0.0</td>\n",
       "      <td>5.450</td>\n",
       "      <td>10.0</td>\n",
       "      <td>0.0</td>\n",
       "      <td>0.0</td>\n",
       "      <td>-2.938549</td>\n",
       "      <td>-0.594553</td>\n",
       "      <td>0.0</td>\n",
       "    </tr>\n",
       "    <tr>\n",
       "      <th>3</th>\n",
       "      <td>2025-04-01 00:45:00</td>\n",
       "      <td>0.0</td>\n",
       "      <td>5.325</td>\n",
       "      <td>10.0</td>\n",
       "      <td>0.0</td>\n",
       "      <td>0.0</td>\n",
       "      <td>-2.860933</td>\n",
       "      <td>-0.584599</td>\n",
       "      <td>0.0</td>\n",
       "    </tr>\n",
       "    <tr>\n",
       "      <th>4</th>\n",
       "      <td>2025-04-01 01:00:00</td>\n",
       "      <td>0.0</td>\n",
       "      <td>5.200</td>\n",
       "      <td>10.0</td>\n",
       "      <td>0.0</td>\n",
       "      <td>0.0</td>\n",
       "      <td>-2.784555</td>\n",
       "      <td>-0.571593</td>\n",
       "      <td>0.0</td>\n",
       "    </tr>\n",
       "    <tr>\n",
       "      <th>5</th>\n",
       "      <td>2025-04-01 01:15:00</td>\n",
       "      <td>0.0</td>\n",
       "      <td>5.075</td>\n",
       "      <td>10.0</td>\n",
       "      <td>0.0</td>\n",
       "      <td>0.0</td>\n",
       "      <td>-2.709670</td>\n",
       "      <td>-0.555663</td>\n",
       "      <td>0.0</td>\n",
       "    </tr>\n",
       "    <tr>\n",
       "      <th>6</th>\n",
       "      <td>2025-04-01 01:30:00</td>\n",
       "      <td>0.0</td>\n",
       "      <td>4.950</td>\n",
       "      <td>10.0</td>\n",
       "      <td>0.0</td>\n",
       "      <td>0.0</td>\n",
       "      <td>-2.636479</td>\n",
       "      <td>-0.536959</td>\n",
       "      <td>0.0</td>\n",
       "    </tr>\n",
       "    <tr>\n",
       "      <th>7</th>\n",
       "      <td>2025-04-01 01:45:00</td>\n",
       "      <td>0.0</td>\n",
       "      <td>4.825</td>\n",
       "      <td>10.0</td>\n",
       "      <td>0.0</td>\n",
       "      <td>0.0</td>\n",
       "      <td>-2.565126</td>\n",
       "      <td>-0.515646</td>\n",
       "      <td>0.0</td>\n",
       "    </tr>\n",
       "    <tr>\n",
       "      <th>8</th>\n",
       "      <td>2025-04-01 02:00:00</td>\n",
       "      <td>0.0</td>\n",
       "      <td>4.700</td>\n",
       "      <td>10.0</td>\n",
       "      <td>0.0</td>\n",
       "      <td>0.0</td>\n",
       "      <td>-2.495700</td>\n",
       "      <td>-0.491899</td>\n",
       "      <td>0.0</td>\n",
       "    </tr>\n",
       "    <tr>\n",
       "      <th>9</th>\n",
       "      <td>2025-04-01 02:15:00</td>\n",
       "      <td>0.0</td>\n",
       "      <td>4.575</td>\n",
       "      <td>10.0</td>\n",
       "      <td>0.0</td>\n",
       "      <td>0.0</td>\n",
       "      <td>-2.428240</td>\n",
       "      <td>-0.465897</td>\n",
       "      <td>0.0</td>\n",
       "    </tr>\n",
       "  </tbody>\n",
       "</table>\n",
       "</div>"
      ],
      "text/plain": [
       "             datetime  production_15_min_%   temp  cloudcover  solarenergy  \\\n",
       "0 2025-04-01 00:00:00                  0.0  5.700        10.0          0.0   \n",
       "1 2025-04-01 00:15:00                  0.0  5.575        10.0          0.0   \n",
       "2 2025-04-01 00:30:00                  0.0  5.450        10.0          0.0   \n",
       "3 2025-04-01 00:45:00                  0.0  5.325        10.0          0.0   \n",
       "4 2025-04-01 01:00:00                  0.0  5.200        10.0          0.0   \n",
       "5 2025-04-01 01:15:00                  0.0  5.075        10.0          0.0   \n",
       "6 2025-04-01 01:30:00                  0.0  4.950        10.0          0.0   \n",
       "7 2025-04-01 01:45:00                  0.0  4.825        10.0          0.0   \n",
       "8 2025-04-01 02:00:00                  0.0  4.700        10.0          0.0   \n",
       "9 2025-04-01 02:15:00                  0.0  4.575        10.0          0.0   \n",
       "\n",
       "   uvindex  solar_azimuth  solar_elevation  Predicted_%  \n",
       "0      0.0      -3.096242        -0.604923          0.0  \n",
       "1      0.0      -3.017099        -0.601352          0.0  \n",
       "2      0.0      -2.938549        -0.594553          0.0  \n",
       "3      0.0      -2.860933        -0.584599          0.0  \n",
       "4      0.0      -2.784555        -0.571593          0.0  \n",
       "5      0.0      -2.709670        -0.555663          0.0  \n",
       "6      0.0      -2.636479        -0.536959          0.0  \n",
       "7      0.0      -2.565126        -0.515646          0.0  \n",
       "8      0.0      -2.495700        -0.491899          0.0  \n",
       "9      0.0      -2.428240        -0.465897          0.0  "
      ]
     },
     "execution_count": 11,
     "metadata": {},
     "output_type": "execute_result"
    }
   ],
   "source": [
    "# Elia data van West-Vlaanderen toevoegen aan het test dataframe JVR\n",
    "df_test_jvr = pd.merge(df_test_jvr, df_elia_processed, on='datetime', how='left')\n",
    "df_test_jvr.info()\n",
    "df_test_jvr.head(10)"
   ]
  },
  {
   "cell_type": "code",
   "execution_count": 12,
   "metadata": {},
   "outputs": [
    {
     "data": {
      "image/png": "[encoded data removed]",
      "text/plain": [
       "<Figure size 1000x600 with 1 Axes>"
      ]
     },
     "metadata": {},
     "output_type": "display_data"
    }
   ],
   "source": [
    "plt.figure(figsize=(10, 6))\n",
    "plt.plot(df_test_jvr['production_15_min_%'], label='Actual production', color='blue')\n",
    "plt.plot(df_test_jvr['Predicted_%'], label='Elia prediction', color='orange')\n",
    "plt.plot(df_test_jvr['solar_azimuth'], label='Sun azimuth', color='red')\n",
    "plt.plot(df_test_jvr['solar_elevation'], label='Sun elevation', color='green')\n",
    "plt.xlabel('Datetime')\n",
    "plt.ylabel('Predictions')\n",
    "plt.title('Predictions Over Time with Elia model')\n",
    "plt.grid(True) \n",
    "x_ticks = plt.gca().get_xticks() \n",
    "x_ticks_selected = x_ticks[::24] \n",
    "plt.xticks(x_ticks_selected, rotation=90)\n",
    "plt.legend()\n",
    "plt.show()"
   ]
  },
  {
   "cell_type": "code",
   "execution_count": 13,
   "metadata": {},
   "outputs": [],
   "source": [
    "# De trainingsdata van beide huizen samenvoegen\n",
    "df_all = pd.concat([df_jvr, df_ddp], axis=0)"
   ]
  },
  {
   "cell_type": "code",
   "execution_count": 14,
   "metadata": {},
   "outputs": [],
   "source": [
    "# Geef de dag van het jaar weer als een sinus- en cosinusgolf\n",
    "# Dag van het jaar extraheren\n",
    "df_all['day_of_year'] = df_all['datetime'].dt.dayofyear\n",
    "df_test_jvr['day_of_year'] = df_test_jvr['datetime'].dt.dayofyear\n",
    "# Bereken sinus- en cosinuswaarden voor day_of_year\n",
    "df_all['day_of_year_sine'] = np.sin(2 * np.pi * df_all['day_of_year'] / 365)\n",
    "df_all['day_of_year_cosine'] = np.cos(2 * np.pi * df_all['day_of_year'] / 365)\n",
    "df_test_jvr['day_of_year_sine'] = np.sin(2 * np.pi * df_test_jvr['day_of_year'] / 365)\n",
    "df_test_jvr['day_of_year_cosine'] = np.cos(2 * np.pi * df_test_jvr['day_of_year'] / 365)"
   ]
  },
  {
   "cell_type": "code",
   "execution_count": 15,
   "metadata": {},
   "outputs": [
    {
     "data": {
      "application/vnd.microsoft.datawrangler.viewer.v0+json": {
       "columns": [
        {
         "name": "index",
         "rawType": "int64",
         "type": "integer"
        },
        {
         "name": "production_15_min_%",
         "rawType": "float64",
         "type": "float"
        },
        {
         "name": "temp",
         "rawType": "float64",
         "type": "float"
        },
        {
         "name": "cloudcover",
         "rawType": "float64",
         "type": "float"
        },
        {
         "name": "solarenergy",
         "rawType": "float64",
         "type": "float"
        },
        {
         "name": "uvindex",
         "rawType": "float64",
         "type": "float"
        },
        {
         "name": "solar_azimuth",
         "rawType": "float64",
         "type": "float"
        },
        {
         "name": "solar_elevation",
         "rawType": "float64",
         "type": "float"
        },
        {
         "name": "day_of_year_sine",
         "rawType": "float64",
         "type": "float"
        },
        {
         "name": "day_of_year_cosine",
         "rawType": "float64",
         "type": "float"
        }
       ],
       "ref": "4f882891-77bd-4441-9dc1-437456fca723",
       "rows": [
        [
         "0",
         "0.092",
         "8.325",
         "54.475",
         "0.325",
         "0.5",
         "-1.0541199706309496",
         "0.33041165068185335",
         "0.9562348265919056",
         "0.29260033563334836"
        ],
        [
         "1",
         "0.387",
         "9.175",
         "46.225",
         "0.575",
         "1.5",
         "-0.9353235697533843",
         "0.39973189090008776",
         "0.9562348265919056",
         "0.29260033563334836"
        ],
        [
         "2",
         "0.231",
         "9.6",
         "42.1",
         "0.7",
         "2.0",
         "-0.8732673452587921",
         "0.43222860723291284",
         "0.9562348265919056",
         "0.29260033563334836"
        ],
        [
         "3",
         "0.203",
         "10.0",
         "48.875",
         "0.8999999999999999",
         "2.5",
         "-0.8092735177845215",
         "0.46305555926301506",
         "0.9562348265919056",
         "0.29260033563334836"
        ],
        [
         "4",
         "0.172",
         "10.399999999999999",
         "55.650000000000006",
         "1.1",
         "3.0",
         "-0.7432465262133454",
         "0.492032215431663",
         "0.9562348265919056",
         "0.29260033563334836"
        ]
       ],
       "shape": {
        "columns": 9,
        "rows": 5
       }
      },
      "text/html": [
       "<div>\n",
       "<style scoped>\n",
       "    .dataframe tbody tr th:only-of-type {\n",
       "        vertical-align: middle;\n",
       "    }\n",
       "\n",
       "    .dataframe tbody tr th {\n",
       "        vertical-align: top;\n",
       "    }\n",
       "\n",
       "    .dataframe thead th {\n",
       "        text-align: right;\n",
       "    }\n",
       "</style>\n",
       "<table border=\"1\" class=\"dataframe\">\n",
       "  <thead>\n",
       "    <tr style=\"text-align: right;\">\n",
       "      <th></th>\n",
       "      <th>production_15_min_%</th>\n",
       "      <th>temp</th>\n",
       "      <th>cloudcover</th>\n",
       "      <th>solarenergy</th>\n",
       "      <th>uvindex</th>\n",
       "      <th>solar_azimuth</th>\n",
       "      <th>solar_elevation</th>\n",
       "      <th>day_of_year_sine</th>\n",
       "      <th>day_of_year_cosine</th>\n",
       "    </tr>\n",
       "  </thead>\n",
       "  <tbody>\n",
       "    <tr>\n",
       "      <th>0</th>\n",
       "      <td>0.092</td>\n",
       "      <td>8.325</td>\n",
       "      <td>54.475</td>\n",
       "      <td>0.325</td>\n",
       "      <td>0.5</td>\n",
       "      <td>-1.054120</td>\n",
       "      <td>0.330412</td>\n",
       "      <td>0.956235</td>\n",
       "      <td>0.2926</td>\n",
       "    </tr>\n",
       "    <tr>\n",
       "      <th>1</th>\n",
       "      <td>0.387</td>\n",
       "      <td>9.175</td>\n",
       "      <td>46.225</td>\n",
       "      <td>0.575</td>\n",
       "      <td>1.5</td>\n",
       "      <td>-0.935324</td>\n",
       "      <td>0.399732</td>\n",
       "      <td>0.956235</td>\n",
       "      <td>0.2926</td>\n",
       "    </tr>\n",
       "    <tr>\n",
       "      <th>2</th>\n",
       "      <td>0.231</td>\n",
       "      <td>9.600</td>\n",
       "      <td>42.100</td>\n",
       "      <td>0.700</td>\n",
       "      <td>2.0</td>\n",
       "      <td>-0.873267</td>\n",
       "      <td>0.432229</td>\n",
       "      <td>0.956235</td>\n",
       "      <td>0.2926</td>\n",
       "    </tr>\n",
       "    <tr>\n",
       "      <th>3</th>\n",
       "      <td>0.203</td>\n",
       "      <td>10.000</td>\n",
       "      <td>48.875</td>\n",
       "      <td>0.900</td>\n",
       "      <td>2.5</td>\n",
       "      <td>-0.809274</td>\n",
       "      <td>0.463056</td>\n",
       "      <td>0.956235</td>\n",
       "      <td>0.2926</td>\n",
       "    </tr>\n",
       "    <tr>\n",
       "      <th>4</th>\n",
       "      <td>0.172</td>\n",
       "      <td>10.400</td>\n",
       "      <td>55.650</td>\n",
       "      <td>1.100</td>\n",
       "      <td>3.0</td>\n",
       "      <td>-0.743247</td>\n",
       "      <td>0.492032</td>\n",
       "      <td>0.956235</td>\n",
       "      <td>0.2926</td>\n",
       "    </tr>\n",
       "  </tbody>\n",
       "</table>\n",
       "</div>"
      ],
      "text/plain": [
       "   production_15_min_%    temp  cloudcover  solarenergy  uvindex  \\\n",
       "0                0.092   8.325      54.475        0.325      0.5   \n",
       "1                0.387   9.175      46.225        0.575      1.5   \n",
       "2                0.231   9.600      42.100        0.700      2.0   \n",
       "3                0.203  10.000      48.875        0.900      2.5   \n",
       "4                0.172  10.400      55.650        1.100      3.0   \n",
       "\n",
       "   solar_azimuth  solar_elevation  day_of_year_sine  day_of_year_cosine  \n",
       "0      -1.054120         0.330412          0.956235              0.2926  \n",
       "1      -0.935324         0.399732          0.956235              0.2926  \n",
       "2      -0.873267         0.432229          0.956235              0.2926  \n",
       "3      -0.809274         0.463056          0.956235              0.2926  \n",
       "4      -0.743247         0.492032          0.956235              0.2926  "
      ]
     },
     "execution_count": 15,
     "metadata": {},
     "output_type": "execute_result"
    }
   ],
   "source": [
    "# Verwijder onnodige kolommen\n",
    "df_all.drop(columns=['datetime', 'day_of_year'], inplace=True)\n",
    "df_test_jvr.drop(columns=['datetime', 'day_of_year'], inplace=True)\n",
    "df_all.head()"
   ]
  },
  {
   "cell_type": "code",
   "execution_count": 16,
   "metadata": {},
   "outputs": [
    {
     "data": {
      "application/vnd.microsoft.datawrangler.viewer.v0+json": {
       "columns": [
        {
         "name": "index",
         "rawType": "object",
         "type": "string"
        },
        {
         "name": "production_15_min_%",
         "rawType": "float64",
         "type": "float"
        },
        {
         "name": "temp",
         "rawType": "float64",
         "type": "float"
        },
        {
         "name": "cloudcover",
         "rawType": "float64",
         "type": "float"
        },
        {
         "name": "solarenergy",
         "rawType": "float64",
         "type": "float"
        },
        {
         "name": "uvindex",
         "rawType": "float64",
         "type": "float"
        },
        {
         "name": "solar_azimuth",
         "rawType": "float64",
         "type": "float"
        },
        {
         "name": "solar_elevation",
         "rawType": "float64",
         "type": "float"
        },
        {
         "name": "day_of_year_sine",
         "rawType": "float64",
         "type": "float"
        },
        {
         "name": "day_of_year_cosine",
         "rawType": "float64",
         "type": "float"
        }
       ],
       "ref": "7061fe1e-2de7-4e55-b1da-aa5e62867a5d",
       "rows": [
        [
         "count",
         "56804.0",
         "56804.0",
         "56804.0",
         "56804.0",
         "56804.0",
         "56804.0",
         "56804.0",
         "56804.0",
         "56804.0"
        ],
        [
         "mean",
         "0.4479361560833745",
         "12.790726885430603",
         "75.8971318040983",
         "0.413574748257165",
         "1.134915674952468",
         "-0.00025873864299698075",
         "0.045514648655146366",
         "-0.11610004241982479",
         "-0.13272025775187227"
        ],
        [
         "std",
         "74.65845727430163",
         "5.987359478972052",
         "26.343544305280545",
         "0.6741039698762339",
         "1.8893169081027765",
         "1.801071388546259",
         "0.5349715562862031",
         "0.6862143093783449",
         "0.7057145968747125"
        ],
        [
         "min",
         "0.0",
         "-2.7",
         "0.0",
         "0.0",
         "0.0",
         "-3.141515039622655",
         "-1.0924736729081355",
         "-0.9999907397361901",
         "-0.9999629591162655"
        ],
        [
         "25%",
         "0.0",
         "8.475",
         "61.5",
         "0.0",
         "0.0",
         "-1.6058580377918905",
         "-0.33409625408116594",
         "-0.7638886127905429",
         "-0.7987793728863649"
        ],
        [
         "50%",
         "0.0",
         "12.9",
         "87.65",
         "0.025",
         "0.0",
         "-0.0049357165795547615",
         "0.03840813900579157",
         "-0.23030567023061196",
         "-0.2843591872810036"
        ],
        [
         "75%",
         "0.171",
         "16.925",
         "96.7",
         "0.6",
         "1.75",
         "1.6047580075066876",
         "0.44705226561663364",
         "0.5012418134457758",
         "0.5560174366570446"
        ],
        [
         "max",
         "17793.07",
         "33.9",
         "100.0",
         "3.9",
         "10.0",
         "3.1415871925380543",
         "1.0922561338803052",
         "0.9999907397361901",
         "1.0"
        ]
       ],
       "shape": {
        "columns": 9,
        "rows": 8
       }
      },
      "text/html": [
       "<div>\n",
       "<style scoped>\n",
       "    .dataframe tbody tr th:only-of-type {\n",
       "        vertical-align: middle;\n",
       "    }\n",
       "\n",
       "    .dataframe tbody tr th {\n",
       "        vertical-align: top;\n",
       "    }\n",
       "\n",
       "    .dataframe thead th {\n",
       "        text-align: right;\n",
       "    }\n",
       "</style>\n",
       "<table border=\"1\" class=\"dataframe\">\n",
       "  <thead>\n",
       "    <tr style=\"text-align: right;\">\n",
       "      <th></th>\n",
       "      <th>production_15_min_%</th>\n",
       "      <th>temp</th>\n",
       "      <th>cloudcover</th>\n",
       "      <th>solarenergy</th>\n",
       "      <th>uvindex</th>\n",
       "      <th>solar_azimuth</th>\n",
       "      <th>solar_elevation</th>\n",
       "      <th>day_of_year_sine</th>\n",
       "      <th>day_of_year_cosine</th>\n",
       "    </tr>\n",
       "  </thead>\n",
       "  <tbody>\n",
       "    <tr>\n",
       "      <th>count</th>\n",
       "      <td>56804.000000</td>\n",
       "      <td>56804.000000</td>\n",
       "      <td>56804.000000</td>\n",
       "      <td>56804.000000</td>\n",
       "      <td>56804.000000</td>\n",
       "      <td>56804.000000</td>\n",
       "      <td>56804.000000</td>\n",
       "      <td>56804.000000</td>\n",
       "      <td>56804.000000</td>\n",
       "    </tr>\n",
       "    <tr>\n",
       "      <th>mean</th>\n",
       "      <td>0.447936</td>\n",
       "      <td>12.790727</td>\n",
       "      <td>75.897132</td>\n",
       "      <td>0.413575</td>\n",
       "      <td>1.134916</td>\n",
       "      <td>-0.000259</td>\n",
       "      <td>0.045515</td>\n",
       "      <td>-0.116100</td>\n",
       "      <td>-0.132720</td>\n",
       "    </tr>\n",
       "    <tr>\n",
       "      <th>std</th>\n",
       "      <td>74.658457</td>\n",
       "      <td>5.987359</td>\n",
       "      <td>26.343544</td>\n",
       "      <td>0.674104</td>\n",
       "      <td>1.889317</td>\n",
       "      <td>1.801071</td>\n",
       "      <td>0.534972</td>\n",
       "      <td>0.686214</td>\n",
       "      <td>0.705715</td>\n",
       "    </tr>\n",
       "    <tr>\n",
       "      <th>min</th>\n",
       "      <td>0.000000</td>\n",
       "      <td>-2.700000</td>\n",
       "      <td>0.000000</td>\n",
       "      <td>0.000000</td>\n",
       "      <td>0.000000</td>\n",
       "      <td>-3.141515</td>\n",
       "      <td>-1.092474</td>\n",
       "      <td>-0.999991</td>\n",
       "      <td>-0.999963</td>\n",
       "    </tr>\n",
       "    <tr>\n",
       "      <th>25%</th>\n",
       "      <td>0.000000</td>\n",
       "      <td>8.475000</td>\n",
       "      <td>61.500000</td>\n",
       "      <td>0.000000</td>\n",
       "      <td>0.000000</td>\n",
       "      <td>-1.605858</td>\n",
       "      <td>-0.334096</td>\n",
       "      <td>-0.763889</td>\n",
       "      <td>-0.798779</td>\n",
       "    </tr>\n",
       "    <tr>\n",
       "      <th>50%</th>\n",
       "      <td>0.000000</td>\n",
       "      <td>12.900000</td>\n",
       "      <td>87.650000</td>\n",
       "      <td>0.025000</td>\n",
       "      <td>0.000000</td>\n",
       "      <td>-0.004936</td>\n",
       "      <td>0.038408</td>\n",
       "      <td>-0.230306</td>\n",
       "      <td>-0.284359</td>\n",
       "    </tr>\n",
       "    <tr>\n",
       "      <th>75%</th>\n",
       "      <td>0.171000</td>\n",
       "      <td>16.925000</td>\n",
       "      <td>96.700000</td>\n",
       "      <td>0.600000</td>\n",
       "      <td>1.750000</td>\n",
       "      <td>1.604758</td>\n",
       "      <td>0.447052</td>\n",
       "      <td>0.501242</td>\n",
       "      <td>0.556017</td>\n",
       "    </tr>\n",
       "    <tr>\n",
       "      <th>max</th>\n",
       "      <td>17793.070000</td>\n",
       "      <td>33.900000</td>\n",
       "      <td>100.000000</td>\n",
       "      <td>3.900000</td>\n",
       "      <td>10.000000</td>\n",
       "      <td>3.141587</td>\n",
       "      <td>1.092256</td>\n",
       "      <td>0.999991</td>\n",
       "      <td>1.000000</td>\n",
       "    </tr>\n",
       "  </tbody>\n",
       "</table>\n",
       "</div>"
      ],
      "text/plain": [
       "       production_15_min_%          temp    cloudcover   solarenergy  \\\n",
       "count         56804.000000  56804.000000  56804.000000  56804.000000   \n",
       "mean              0.447936     12.790727     75.897132      0.413575   \n",
       "std              74.658457      5.987359     26.343544      0.674104   \n",
       "min               0.000000     -2.700000      0.000000      0.000000   \n",
       "25%               0.000000      8.475000     61.500000      0.000000   \n",
       "50%               0.000000     12.900000     87.650000      0.025000   \n",
       "75%               0.171000     16.925000     96.700000      0.600000   \n",
       "max           17793.070000     33.900000    100.000000      3.900000   \n",
       "\n",
       "            uvindex  solar_azimuth  solar_elevation  day_of_year_sine  \\\n",
       "count  56804.000000   56804.000000     56804.000000      56804.000000   \n",
       "mean       1.134916      -0.000259         0.045515         -0.116100   \n",
       "std        1.889317       1.801071         0.534972          0.686214   \n",
       "min        0.000000      -3.141515        -1.092474         -0.999991   \n",
       "25%        0.000000      -1.605858        -0.334096         -0.763889   \n",
       "50%        0.000000      -0.004936         0.038408         -0.230306   \n",
       "75%        1.750000       1.604758         0.447052          0.501242   \n",
       "max       10.000000       3.141587         1.092256          0.999991   \n",
       "\n",
       "       day_of_year_cosine  \n",
       "count        56804.000000  \n",
       "mean            -0.132720  \n",
       "std              0.705715  \n",
       "min             -0.999963  \n",
       "25%             -0.798779  \n",
       "50%             -0.284359  \n",
       "75%              0.556017  \n",
       "max              1.000000  "
      ]
     },
     "execution_count": 16,
     "metadata": {},
     "output_type": "execute_result"
    }
   ],
   "source": [
    "# Vervang alle negatieve energiewaarden (%) met 0\n",
    "df_all['production_15_min_%'] = df_all['production_15_min_%'].apply(lambda x: x if x >= 0 else 0)\n",
    "df_test_jvr['production_15_min_%'] = df_test_jvr['production_15_min_%'].apply(lambda x: x if x >= 0 else 0)\n",
    "df_all.describe()"
   ]
  },
  {
   "cell_type": "code",
   "execution_count": 17,
   "metadata": {},
   "outputs": [],
   "source": [
    "# maak het percentage energie een een waarde tussen 0 en 100%\n",
    "df_all['production_15_min_%'] = df_all['production_15_min_%'] * 100\n",
    "df_test_jvr['production_15_min_%'] = df_test_jvr['production_15_min_%'] * 100"
   ]
  },
  {
   "cell_type": "code",
   "execution_count": 18,
   "metadata": {},
   "outputs": [
    {
     "data": {
      "application/vnd.microsoft.datawrangler.viewer.v0+json": {
       "columns": [
        {
         "name": "index",
         "rawType": "int64",
         "type": "integer"
        },
        {
         "name": "temp",
         "rawType": "float64",
         "type": "float"
        },
        {
         "name": "cloudcover",
         "rawType": "float64",
         "type": "float"
        },
        {
         "name": "solarenergy",
         "rawType": "float64",
         "type": "float"
        },
        {
         "name": "uvindex",
         "rawType": "float64",
         "type": "float"
        },
        {
         "name": "solar_azimuth",
         "rawType": "float64",
         "type": "float"
        },
        {
         "name": "solar_elevation",
         "rawType": "float64",
         "type": "float"
        },
        {
         "name": "day_of_year_sine",
         "rawType": "float64",
         "type": "float"
        },
        {
         "name": "day_of_year_cosine",
         "rawType": "float64",
         "type": "float"
        },
        {
         "name": "production_15_min_%",
         "rawType": "float64",
         "type": "float"
        }
       ],
       "ref": "dcf2e828-64d7-44bc-a459-fd7b6fec484b",
       "rows": [
        [
         "0",
         "8.325",
         "54.475",
         "0.325",
         "0.5",
         "-1.0541199706309496",
         "0.33041165068185335",
         "0.9562348265919056",
         "0.29260033563334836",
         "9.2"
        ],
        [
         "1",
         "9.175",
         "46.225",
         "0.575",
         "1.5",
         "-0.9353235697533843",
         "0.39973189090008776",
         "0.9562348265919056",
         "0.29260033563334836",
         "38.7"
        ],
        [
         "2",
         "9.6",
         "42.1",
         "0.7",
         "2.0",
         "-0.8732673452587921",
         "0.43222860723291284",
         "0.9562348265919056",
         "0.29260033563334836",
         "23.1"
        ],
        [
         "3",
         "10.0",
         "48.875",
         "0.8999999999999999",
         "2.5",
         "-0.8092735177845215",
         "0.46305555926301506",
         "0.9562348265919056",
         "0.29260033563334836",
         "20.3"
        ],
        [
         "4",
         "10.399999999999999",
         "55.650000000000006",
         "1.1",
         "3.0",
         "-0.7432465262133454",
         "0.492032215431663",
         "0.9562348265919056",
         "0.29260033563334836",
         "17.2"
        ]
       ],
       "shape": {
        "columns": 9,
        "rows": 5
       }
      },
      "text/html": [
       "<div>\n",
       "<style scoped>\n",
       "    .dataframe tbody tr th:only-of-type {\n",
       "        vertical-align: middle;\n",
       "    }\n",
       "\n",
       "    .dataframe tbody tr th {\n",
       "        vertical-align: top;\n",
       "    }\n",
       "\n",
       "    .dataframe thead th {\n",
       "        text-align: right;\n",
       "    }\n",
       "</style>\n",
       "<table border=\"1\" class=\"dataframe\">\n",
       "  <thead>\n",
       "    <tr style=\"text-align: right;\">\n",
       "      <th></th>\n",
       "      <th>temp</th>\n",
       "      <th>cloudcover</th>\n",
       "      <th>solarenergy</th>\n",
       "      <th>uvindex</th>\n",
       "      <th>solar_azimuth</th>\n",
       "      <th>solar_elevation</th>\n",
       "      <th>day_of_year_sine</th>\n",
       "      <th>day_of_year_cosine</th>\n",
       "      <th>production_15_min_%</th>\n",
       "    </tr>\n",
       "  </thead>\n",
       "  <tbody>\n",
       "    <tr>\n",
       "      <th>0</th>\n",
       "      <td>8.325</td>\n",
       "      <td>54.475</td>\n",
       "      <td>0.325</td>\n",
       "      <td>0.5</td>\n",
       "      <td>-1.054120</td>\n",
       "      <td>0.330412</td>\n",
       "      <td>0.956235</td>\n",
       "      <td>0.2926</td>\n",
       "      <td>9.2</td>\n",
       "    </tr>\n",
       "    <tr>\n",
       "      <th>1</th>\n",
       "      <td>9.175</td>\n",
       "      <td>46.225</td>\n",
       "      <td>0.575</td>\n",
       "      <td>1.5</td>\n",
       "      <td>-0.935324</td>\n",
       "      <td>0.399732</td>\n",
       "      <td>0.956235</td>\n",
       "      <td>0.2926</td>\n",
       "      <td>38.7</td>\n",
       "    </tr>\n",
       "    <tr>\n",
       "      <th>2</th>\n",
       "      <td>9.600</td>\n",
       "      <td>42.100</td>\n",
       "      <td>0.700</td>\n",
       "      <td>2.0</td>\n",
       "      <td>-0.873267</td>\n",
       "      <td>0.432229</td>\n",
       "      <td>0.956235</td>\n",
       "      <td>0.2926</td>\n",
       "      <td>23.1</td>\n",
       "    </tr>\n",
       "    <tr>\n",
       "      <th>3</th>\n",
       "      <td>10.000</td>\n",
       "      <td>48.875</td>\n",
       "      <td>0.900</td>\n",
       "      <td>2.5</td>\n",
       "      <td>-0.809274</td>\n",
       "      <td>0.463056</td>\n",
       "      <td>0.956235</td>\n",
       "      <td>0.2926</td>\n",
       "      <td>20.3</td>\n",
       "    </tr>\n",
       "    <tr>\n",
       "      <th>4</th>\n",
       "      <td>10.400</td>\n",
       "      <td>55.650</td>\n",
       "      <td>1.100</td>\n",
       "      <td>3.0</td>\n",
       "      <td>-0.743247</td>\n",
       "      <td>0.492032</td>\n",
       "      <td>0.956235</td>\n",
       "      <td>0.2926</td>\n",
       "      <td>17.2</td>\n",
       "    </tr>\n",
       "  </tbody>\n",
       "</table>\n",
       "</div>"
      ],
      "text/plain": [
       "     temp  cloudcover  solarenergy  uvindex  solar_azimuth  solar_elevation  \\\n",
       "0   8.325      54.475        0.325      0.5      -1.054120         0.330412   \n",
       "1   9.175      46.225        0.575      1.5      -0.935324         0.399732   \n",
       "2   9.600      42.100        0.700      2.0      -0.873267         0.432229   \n",
       "3  10.000      48.875        0.900      2.5      -0.809274         0.463056   \n",
       "4  10.400      55.650        1.100      3.0      -0.743247         0.492032   \n",
       "\n",
       "   day_of_year_sine  day_of_year_cosine  production_15_min_%  \n",
       "0          0.956235              0.2926                  9.2  \n",
       "1          0.956235              0.2926                 38.7  \n",
       "2          0.956235              0.2926                 23.1  \n",
       "3          0.956235              0.2926                 20.3  \n",
       "4          0.956235              0.2926                 17.2  "
      ]
     },
     "execution_count": 18,
     "metadata": {},
     "output_type": "execute_result"
    }
   ],
   "source": [
    "# Estetic action move target column to the end\n",
    "df_all = pd.concat([df_all.drop('production_15_min_%', axis=1), df_all['production_15_min_%']], axis=1)\n",
    "df_all.head()"
   ]
  },
  {
   "cell_type": "code",
   "execution_count": 19,
   "metadata": {},
   "outputs": [
    {
     "data": {
      "application/vnd.microsoft.datawrangler.viewer.v0+json": {
       "columns": [
        {
         "name": "index",
         "rawType": "object",
         "type": "string"
        },
        {
         "name": "temp",
         "rawType": "float64",
         "type": "float"
        },
        {
         "name": "cloudcover",
         "rawType": "float64",
         "type": "float"
        },
        {
         "name": "solarenergy",
         "rawType": "float64",
         "type": "float"
        },
        {
         "name": "uvindex",
         "rawType": "float64",
         "type": "float"
        },
        {
         "name": "solar_azimuth",
         "rawType": "float64",
         "type": "float"
        },
        {
         "name": "solar_elevation",
         "rawType": "float64",
         "type": "float"
        },
        {
         "name": "day_of_year_sine",
         "rawType": "float64",
         "type": "float"
        },
        {
         "name": "day_of_year_cosine",
         "rawType": "float64",
         "type": "float"
        },
        {
         "name": "production_15_min_%",
         "rawType": "float64",
         "type": "float"
        }
       ],
       "ref": "9a544bec-c690-4d85-9ec6-525eef3f82aa",
       "rows": [
        [
         "count",
         "56804.0",
         "56804.0",
         "56804.0",
         "56804.0",
         "56804.0",
         "56804.0",
         "56804.0",
         "56804.0",
         "56804.0"
        ],
        [
         "mean",
         "12.790726885430603",
         "75.8971318040983",
         "0.413574748257165",
         "1.134915674952468",
         "-0.00025873864299698075",
         "0.045514648655146366",
         "-0.11610004241982479",
         "-0.13272025775187227",
         "44.79361560833744"
        ],
        [
         "std",
         "5.987359478972052",
         "26.343544305280545",
         "0.6741039698762339",
         "1.8893169081027765",
         "1.801071388546259",
         "0.5349715562862031",
         "0.6862143093783449",
         "0.7057145968747125",
         "7465.845727418604"
        ],
        [
         "min",
         "-2.7",
         "0.0",
         "0.0",
         "0.0",
         "-3.141515039622655",
         "-1.0924736729081355",
         "-0.9999907397361901",
         "-0.9999629591162655",
         "0.0"
        ],
        [
         "25%",
         "8.475",
         "61.5",
         "0.0",
         "0.0",
         "-1.6058580377918905",
         "-0.33409625408116594",
         "-0.7638886127905429",
         "-0.7987793728863649",
         "0.0"
        ],
        [
         "50%",
         "12.9",
         "87.65",
         "0.025",
         "0.0",
         "-0.0049357165795547615",
         "0.03840813900579157",
         "-0.23030567023061196",
         "-0.2843591872810036",
         "0.0"
        ],
        [
         "75%",
         "16.925",
         "96.7",
         "0.6",
         "1.75",
         "1.6047580075066876",
         "0.44705226561663364",
         "0.5012418134457758",
         "0.5560174366570446",
         "17.1"
        ],
        [
         "max",
         "33.9",
         "100.0",
         "3.9",
         "10.0",
         "3.1415871925380543",
         "1.0922561338803052",
         "0.9999907397361901",
         "1.0",
         "1779307.0"
        ]
       ],
       "shape": {
        "columns": 9,
        "rows": 8
       }
      },
      "text/html": [
       "<div>\n",
       "<style scoped>\n",
       "    .dataframe tbody tr th:only-of-type {\n",
       "        vertical-align: middle;\n",
       "    }\n",
       "\n",
       "    .dataframe tbody tr th {\n",
       "        vertical-align: top;\n",
       "    }\n",
       "\n",
       "    .dataframe thead th {\n",
       "        text-align: right;\n",
       "    }\n",
       "</style>\n",
       "<table border=\"1\" class=\"dataframe\">\n",
       "  <thead>\n",
       "    <tr style=\"text-align: right;\">\n",
       "      <th></th>\n",
       "      <th>temp</th>\n",
       "      <th>cloudcover</th>\n",
       "      <th>solarenergy</th>\n",
       "      <th>uvindex</th>\n",
       "      <th>solar_azimuth</th>\n",
       "      <th>solar_elevation</th>\n",
       "      <th>day_of_year_sine</th>\n",
       "      <th>day_of_year_cosine</th>\n",
       "      <th>production_15_min_%</th>\n",
       "    </tr>\n",
       "  </thead>\n",
       "  <tbody>\n",
       "    <tr>\n",
       "      <th>count</th>\n",
       "      <td>56804.000000</td>\n",
       "      <td>56804.000000</td>\n",
       "      <td>56804.000000</td>\n",
       "      <td>56804.000000</td>\n",
       "      <td>56804.000000</td>\n",
       "      <td>56804.000000</td>\n",
       "      <td>56804.000000</td>\n",
       "      <td>56804.000000</td>\n",
       "      <td>5.680400e+04</td>\n",
       "    </tr>\n",
       "    <tr>\n",
       "      <th>mean</th>\n",
       "      <td>12.790727</td>\n",
       "      <td>75.897132</td>\n",
       "      <td>0.413575</td>\n",
       "      <td>1.134916</td>\n",
       "      <td>-0.000259</td>\n",
       "      <td>0.045515</td>\n",
       "      <td>-0.116100</td>\n",
       "      <td>-0.132720</td>\n",
       "      <td>4.479362e+01</td>\n",
       "    </tr>\n",
       "    <tr>\n",
       "      <th>std</th>\n",
       "      <td>5.987359</td>\n",
       "      <td>26.343544</td>\n",
       "      <td>0.674104</td>\n",
       "      <td>1.889317</td>\n",
       "      <td>1.801071</td>\n",
       "      <td>0.534972</td>\n",
       "      <td>0.686214</td>\n",
       "      <td>0.705715</td>\n",
       "      <td>7.465846e+03</td>\n",
       "    </tr>\n",
       "    <tr>\n",
       "      <th>min</th>\n",
       "      <td>-2.700000</td>\n",
       "      <td>0.000000</td>\n",
       "      <td>0.000000</td>\n",
       "      <td>0.000000</td>\n",
       "      <td>-3.141515</td>\n",
       "      <td>-1.092474</td>\n",
       "      <td>-0.999991</td>\n",
       "      <td>-0.999963</td>\n",
       "      <td>0.000000e+00</td>\n",
       "    </tr>\n",
       "    <tr>\n",
       "      <th>25%</th>\n",
       "      <td>8.475000</td>\n",
       "      <td>61.500000</td>\n",
       "      <td>0.000000</td>\n",
       "      <td>0.000000</td>\n",
       "      <td>-1.605858</td>\n",
       "      <td>-0.334096</td>\n",
       "      <td>-0.763889</td>\n",
       "      <td>-0.798779</td>\n",
       "      <td>0.000000e+00</td>\n",
       "    </tr>\n",
       "    <tr>\n",
       "      <th>50%</th>\n",
       "      <td>12.900000</td>\n",
       "      <td>87.650000</td>\n",
       "      <td>0.025000</td>\n",
       "      <td>0.000000</td>\n",
       "      <td>-0.004936</td>\n",
       "      <td>0.038408</td>\n",
       "      <td>-0.230306</td>\n",
       "      <td>-0.284359</td>\n",
       "      <td>0.000000e+00</td>\n",
       "    </tr>\n",
       "    <tr>\n",
       "      <th>75%</th>\n",
       "      <td>16.925000</td>\n",
       "      <td>96.700000</td>\n",
       "      <td>0.600000</td>\n",
       "      <td>1.750000</td>\n",
       "      <td>1.604758</td>\n",
       "      <td>0.447052</td>\n",
       "      <td>0.501242</td>\n",
       "      <td>0.556017</td>\n",
       "      <td>1.710000e+01</td>\n",
       "    </tr>\n",
       "    <tr>\n",
       "      <th>max</th>\n",
       "      <td>33.900000</td>\n",
       "      <td>100.000000</td>\n",
       "      <td>3.900000</td>\n",
       "      <td>10.000000</td>\n",
       "      <td>3.141587</td>\n",
       "      <td>1.092256</td>\n",
       "      <td>0.999991</td>\n",
       "      <td>1.000000</td>\n",
       "      <td>1.779307e+06</td>\n",
       "    </tr>\n",
       "  </tbody>\n",
       "</table>\n",
       "</div>"
      ],
      "text/plain": [
       "               temp    cloudcover   solarenergy       uvindex  solar_azimuth  \\\n",
       "count  56804.000000  56804.000000  56804.000000  56804.000000   56804.000000   \n",
       "mean      12.790727     75.897132      0.413575      1.134916      -0.000259   \n",
       "std        5.987359     26.343544      0.674104      1.889317       1.801071   \n",
       "min       -2.700000      0.000000      0.000000      0.000000      -3.141515   \n",
       "25%        8.475000     61.500000      0.000000      0.000000      -1.605858   \n",
       "50%       12.900000     87.650000      0.025000      0.000000      -0.004936   \n",
       "75%       16.925000     96.700000      0.600000      1.750000       1.604758   \n",
       "max       33.900000    100.000000      3.900000     10.000000       3.141587   \n",
       "\n",
       "       solar_elevation  day_of_year_sine  day_of_year_cosine  \\\n",
       "count     56804.000000      56804.000000        56804.000000   \n",
       "mean          0.045515         -0.116100           -0.132720   \n",
       "std           0.534972          0.686214            0.705715   \n",
       "min          -1.092474         -0.999991           -0.999963   \n",
       "25%          -0.334096         -0.763889           -0.798779   \n",
       "50%           0.038408         -0.230306           -0.284359   \n",
       "75%           0.447052          0.501242            0.556017   \n",
       "max           1.092256          0.999991            1.000000   \n",
       "\n",
       "       production_15_min_%  \n",
       "count         5.680400e+04  \n",
       "mean          4.479362e+01  \n",
       "std           7.465846e+03  \n",
       "min           0.000000e+00  \n",
       "25%           0.000000e+00  \n",
       "50%           0.000000e+00  \n",
       "75%           1.710000e+01  \n",
       "max           1.779307e+06  "
      ]
     },
     "execution_count": 19,
     "metadata": {},
     "output_type": "execute_result"
    }
   ],
   "source": [
    "df_all.describe()"
   ]
  },
  {
   "cell_type": "code",
   "execution_count": 20,
   "metadata": {},
   "outputs": [
    {
     "data": {
      "application/vnd.microsoft.datawrangler.viewer.v0+json": {
       "columns": [
        {
         "name": "index",
         "rawType": "object",
         "type": "string"
        },
        {
         "name": "temp",
         "rawType": "float64",
         "type": "float"
        },
        {
         "name": "cloudcover",
         "rawType": "float64",
         "type": "float"
        },
        {
         "name": "solarenergy",
         "rawType": "float64",
         "type": "float"
        },
        {
         "name": "uvindex",
         "rawType": "float64",
         "type": "float"
        },
        {
         "name": "solar_azimuth",
         "rawType": "float64",
         "type": "float"
        },
        {
         "name": "solar_elevation",
         "rawType": "float64",
         "type": "float"
        },
        {
         "name": "day_of_year_sine",
         "rawType": "float64",
         "type": "float"
        },
        {
         "name": "day_of_year_cosine",
         "rawType": "float64",
         "type": "float"
        },
        {
         "name": "production_15_min_%",
         "rawType": "float64",
         "type": "float"
        }
       ],
       "ref": "a4c1c9f8-a693-4589-8781-d19028b05199",
       "rows": [
        [
         "count",
         "56793.0",
         "56793.0",
         "56793.0",
         "56793.0",
         "56793.0",
         "56793.0",
         "56793.0",
         "56793.0",
         "56793.0"
        ],
        [
         "mean",
         "12.790705280580351",
         "75.89643882168578",
         "0.41360643036994005",
         "1.1349946296198474",
         "-4.866370611185495e-05",
         "0.045533736048018775",
         "-0.11622995964203463",
         "-0.13272135199201768",
         "12.801357832391314"
        ],
        [
         "std",
         "5.987829467767039",
         "26.34444828845695",
         "0.6741184562610365",
         "1.8893413940726336",
         "1.8010389582817472",
         "0.534998503050634",
         "0.6861359067799169",
         "0.7057692375747175",
         "21.67111832351605"
        ],
        [
         "min",
         "-2.7",
         "0.0",
         "0.0",
         "0.0",
         "-3.141515039622655",
         "-1.0924736729081355",
         "-0.9999907397361901",
         "-0.9999629591162655",
         "0.0"
        ],
        [
         "25%",
         "8.475",
         "61.5",
         "0.0",
         "0.0",
         "-1.605373184409905",
         "-0.3340848625808602",
         "-0.7638886127905429",
         "-0.7987793728863649",
         "0.0"
        ],
        [
         "50%",
         "12.9",
         "87.65",
         "0.025",
         "0.0",
         "-0.004874739422466116",
         "0.03846103980043037",
         "-0.23030567023061196",
         "-0.2843591872810036",
         "0.0"
        ],
        [
         "75%",
         "16.925",
         "96.7",
         "0.6",
         "1.75",
         "1.6048327262584978",
         "0.4470722900377835",
         "0.5012418134457758",
         "0.5560174366570446",
         "17.025641"
        ],
        [
         "max",
         "33.9",
         "100.0",
         "3.9",
         "10.0",
         "3.1415871925380543",
         "1.0922561338803052",
         "0.9999907397361901",
         "1.0",
         "94.89999999999999"
        ]
       ],
       "shape": {
        "columns": 9,
        "rows": 8
       }
      },
      "text/html": [
       "<div>\n",
       "<style scoped>\n",
       "    .dataframe tbody tr th:only-of-type {\n",
       "        vertical-align: middle;\n",
       "    }\n",
       "\n",
       "    .dataframe tbody tr th {\n",
       "        vertical-align: top;\n",
       "    }\n",
       "\n",
       "    .dataframe thead th {\n",
       "        text-align: right;\n",
       "    }\n",
       "</style>\n",
       "<table border=\"1\" class=\"dataframe\">\n",
       "  <thead>\n",
       "    <tr style=\"text-align: right;\">\n",
       "      <th></th>\n",
       "      <th>temp</th>\n",
       "      <th>cloudcover</th>\n",
       "      <th>solarenergy</th>\n",
       "      <th>uvindex</th>\n",
       "      <th>solar_azimuth</th>\n",
       "      <th>solar_elevation</th>\n",
       "      <th>day_of_year_sine</th>\n",
       "      <th>day_of_year_cosine</th>\n",
       "      <th>production_15_min_%</th>\n",
       "    </tr>\n",
       "  </thead>\n",
       "  <tbody>\n",
       "    <tr>\n",
       "      <th>count</th>\n",
       "      <td>56793.000000</td>\n",
       "      <td>56793.000000</td>\n",
       "      <td>56793.000000</td>\n",
       "      <td>56793.000000</td>\n",
       "      <td>56793.000000</td>\n",
       "      <td>56793.000000</td>\n",
       "      <td>56793.000000</td>\n",
       "      <td>56793.000000</td>\n",
       "      <td>56793.000000</td>\n",
       "    </tr>\n",
       "    <tr>\n",
       "      <th>mean</th>\n",
       "      <td>12.790705</td>\n",
       "      <td>75.896439</td>\n",
       "      <td>0.413606</td>\n",
       "      <td>1.134995</td>\n",
       "      <td>-0.000049</td>\n",
       "      <td>0.045534</td>\n",
       "      <td>-0.116230</td>\n",
       "      <td>-0.132721</td>\n",
       "      <td>12.801358</td>\n",
       "    </tr>\n",
       "    <tr>\n",
       "      <th>std</th>\n",
       "      <td>5.987829</td>\n",
       "      <td>26.344448</td>\n",
       "      <td>0.674118</td>\n",
       "      <td>1.889341</td>\n",
       "      <td>1.801039</td>\n",
       "      <td>0.534999</td>\n",
       "      <td>0.686136</td>\n",
       "      <td>0.705769</td>\n",
       "      <td>21.671118</td>\n",
       "    </tr>\n",
       "    <tr>\n",
       "      <th>min</th>\n",
       "      <td>-2.700000</td>\n",
       "      <td>0.000000</td>\n",
       "      <td>0.000000</td>\n",
       "      <td>0.000000</td>\n",
       "      <td>-3.141515</td>\n",
       "      <td>-1.092474</td>\n",
       "      <td>-0.999991</td>\n",
       "      <td>-0.999963</td>\n",
       "      <td>0.000000</td>\n",
       "    </tr>\n",
       "    <tr>\n",
       "      <th>25%</th>\n",
       "      <td>8.475000</td>\n",
       "      <td>61.500000</td>\n",
       "      <td>0.000000</td>\n",
       "      <td>0.000000</td>\n",
       "      <td>-1.605373</td>\n",
       "      <td>-0.334085</td>\n",
       "      <td>-0.763889</td>\n",
       "      <td>-0.798779</td>\n",
       "      <td>0.000000</td>\n",
       "    </tr>\n",
       "    <tr>\n",
       "      <th>50%</th>\n",
       "      <td>12.900000</td>\n",
       "      <td>87.650000</td>\n",
       "      <td>0.025000</td>\n",
       "      <td>0.000000</td>\n",
       "      <td>-0.004875</td>\n",
       "      <td>0.038461</td>\n",
       "      <td>-0.230306</td>\n",
       "      <td>-0.284359</td>\n",
       "      <td>0.000000</td>\n",
       "    </tr>\n",
       "    <tr>\n",
       "      <th>75%</th>\n",
       "      <td>16.925000</td>\n",
       "      <td>96.700000</td>\n",
       "      <td>0.600000</td>\n",
       "      <td>1.750000</td>\n",
       "      <td>1.604833</td>\n",
       "      <td>0.447072</td>\n",
       "      <td>0.501242</td>\n",
       "      <td>0.556017</td>\n",
       "      <td>17.025641</td>\n",
       "    </tr>\n",
       "    <tr>\n",
       "      <th>max</th>\n",
       "      <td>33.900000</td>\n",
       "      <td>100.000000</td>\n",
       "      <td>3.900000</td>\n",
       "      <td>10.000000</td>\n",
       "      <td>3.141587</td>\n",
       "      <td>1.092256</td>\n",
       "      <td>0.999991</td>\n",
       "      <td>1.000000</td>\n",
       "      <td>94.900000</td>\n",
       "    </tr>\n",
       "  </tbody>\n",
       "</table>\n",
       "</div>"
      ],
      "text/plain": [
       "               temp    cloudcover   solarenergy       uvindex  solar_azimuth  \\\n",
       "count  56793.000000  56793.000000  56793.000000  56793.000000   56793.000000   \n",
       "mean      12.790705     75.896439      0.413606      1.134995      -0.000049   \n",
       "std        5.987829     26.344448      0.674118      1.889341       1.801039   \n",
       "min       -2.700000      0.000000      0.000000      0.000000      -3.141515   \n",
       "25%        8.475000     61.500000      0.000000      0.000000      -1.605373   \n",
       "50%       12.900000     87.650000      0.025000      0.000000      -0.004875   \n",
       "75%       16.925000     96.700000      0.600000      1.750000       1.604833   \n",
       "max       33.900000    100.000000      3.900000     10.000000       3.141587   \n",
       "\n",
       "       solar_elevation  day_of_year_sine  day_of_year_cosine  \\\n",
       "count     56793.000000      56793.000000        56793.000000   \n",
       "mean          0.045534         -0.116230           -0.132721   \n",
       "std           0.534999          0.686136            0.705769   \n",
       "min          -1.092474         -0.999991           -0.999963   \n",
       "25%          -0.334085         -0.763889           -0.798779   \n",
       "50%           0.038461         -0.230306           -0.284359   \n",
       "75%           0.447072          0.501242            0.556017   \n",
       "max           1.092256          0.999991            1.000000   \n",
       "\n",
       "       production_15_min_%  \n",
       "count         56793.000000  \n",
       "mean             12.801358  \n",
       "std              21.671118  \n",
       "min               0.000000  \n",
       "25%               0.000000  \n",
       "50%               0.000000  \n",
       "75%              17.025641  \n",
       "max              94.900000  "
      ]
     },
     "execution_count": 20,
     "metadata": {},
     "output_type": "execute_result"
    }
   ],
   "source": [
    "# Alle waarden boven de 100(%) zijn uitschieters (dit zijn waarschijnlijk fouten als gevolg van ontbrekende gegevens). Deze worden verwijderd.\n",
    "df_all = df_all[df_all['production_15_min_%'] <= 100]\n",
    "df_all.describe()"
   ]
  },
  {
   "cell_type": "code",
   "execution_count": 21,
   "metadata": {},
   "outputs": [
    {
     "data": {
      "image/png": "[encoded data removed]",
      "text/plain": [
       "<Figure size 1200x1200 with 2 Axes>"
      ]
     },
     "metadata": {},
     "output_type": "display_data"
    }
   ],
   "source": [
    "# Lineaire correlatie tussen de features - heatmap\n",
    "# Visualiseer de onderlinge correlatiecoëfficiënten\n",
    "f, ax = plt.subplots(figsize=(12, 12))\n",
    "corr = df_all.corr()\n",
    "sns.heatmap(\n",
    "    corr,\n",
    "    cmap=sns.diverging_palette(220, 10, as_cmap=True),\n",
    "    square=True,\n",
    "    ax=ax,\n",
    "    annot=True,\n",
    "    annot_kws={\"size\": 10}\n",
    ")\n",
    "plt.title(\"Correlatiematrix\")\n",
    "plt.show()"
   ]
  },
  {
   "cell_type": "code",
   "execution_count": 22,
   "metadata": {},
   "outputs": [],
   "source": [
    "# Bewaren van train en test dataframes als parquet files\n",
    "df_all.to_parquet('datasets/pv_train_data.parquet', index=False)\n",
    "df_test_jvr.to_parquet('datasets/pv_test_data.parquet', index=False)"
   ]
  },
  {
   "cell_type": "markdown",
   "metadata": {},
   "source": [
    "## Inladen van Parquet data\n",
    "\n",
    "Als je niet beschikt over data of de CSV bestanden met weers- en productie data kan je deze voorbewerkte Parquet bestanden inladen en gebruiken."
   ]
  },
  {
   "cell_type": "code",
   "execution_count": 23,
   "metadata": {},
   "outputs": [],
   "source": [
    "df = pd.read_parquet('datasets/pv_train_data.parquet')\n",
    "df_test = pd.read_parquet('datasets/pv_test_data.parquet')"
   ]
  },
  {
   "cell_type": "markdown",
   "metadata": {},
   "source": [
    "## Pre-processing van de data"
   ]
  },
  {
   "cell_type": "code",
   "execution_count": 24,
   "metadata": {},
   "outputs": [],
   "source": [
    "# Splits de dataset in een trainings- en testset\n",
    "y = df['production_15_min_%']\n",
    "X = df.drop(['production_15_min_%'], axis=1)\n",
    "\n",
    "X_train, X_test, y_train, y_test = train_test_split(X, y, test_size=0.2, random_state=42)"
   ]
  },
  {
   "cell_type": "code",
   "execution_count": 25,
   "metadata": {},
   "outputs": [],
   "source": [
    "# De gegevens schalen. Aangezien er geen outliers zijn, kunnen we de MinMaxScaler gebruiken\n",
    "scaler = MinMaxScaler()\n",
    "scaler.fit(X_train)\n",
    "X_train = scaler.transform(X_train)\n",
    "X_test = scaler.transform(X_test)\n",
    "\n",
    "# Logistic regression\n",
    "polynomial = PolynomialFeatures(2)\n",
    "polynomial.fit(X_train)\n",
    "X_train = polynomial.transform(X_train)\n",
    "X_test = polynomial.transform(X_test)"
   ]
  },
  {
   "cell_type": "markdown",
   "metadata": {},
   "source": [
    "## Training"
   ]
  },
  {
   "cell_type": "code",
   "execution_count": 26,
   "metadata": {},
   "outputs": [],
   "source": [
    "# Verschillende hyperparameters uitproberen voor de Random Forest Regressor\n",
    "estimators = [10, 50, 100]#, 150, 200]\n",
    "rf_depths = [10, 15, 20, 25]#, 30, 45, 50]"
   ]
  },
  {
   "cell_type": "code",
   "execution_count": 27,
   "metadata": {},
   "outputs": [
    {
     "name": "stdout",
     "output_type": "stream",
     "text": [
      "Training model with estimators: 10, depth: 10\n",
      "Model score: 0.843231802857845\n",
      "New best model found with estimators: 10, depth: 10, and score: 0.843231802857845\n",
      "Training model with estimators: 10, depth: 15\n",
      "Model score: 0.8477047332096097\n",
      "New best model found with estimators: 10, depth: 15, and score: 0.8477047332096097\n",
      "Training model with estimators: 10, depth: 20\n",
      "Model score: 0.8464009342571028\n",
      "Training model with estimators: 10, depth: 25\n",
      "Model score: 0.844710962850403\n",
      "Training model with estimators: 50, depth: 10\n",
      "Model score: 0.8471060777224365\n",
      "Training model with estimators: 50, depth: 15\n",
      "Model score: 0.8559493713942403\n",
      "New best model found with estimators: 50, depth: 15, and score: 0.8559493713942403\n",
      "Training model with estimators: 50, depth: 20\n",
      "Model score: 0.8553369354847232\n",
      "Training model with estimators: 50, depth: 25\n",
      "Model score: 0.8575557030842013\n",
      "New best model found with estimators: 50, depth: 25, and score: 0.8575557030842013\n",
      "Training model with estimators: 100, depth: 10\n",
      "Model score: 0.8483496177159014\n",
      "Training model with estimators: 100, depth: 15\n",
      "Model score: 0.8565655980180888\n",
      "Training model with estimators: 100, depth: 20\n",
      "Model score: 0.8586450127325984\n",
      "New best model found with estimators: 100, depth: 20, and score: 0.8586450127325984\n",
      "Training model with estimators: 100, depth: 25\n",
      "Model score: 0.8578954213350821\n"
     ]
    }
   ],
   "source": [
    "# Trainen van elke combinatie van hyperparameters en opslaan van het beste model\n",
    "best_score = 0\n",
    "best_model = None\n",
    "for estimator in estimators:\n",
    "    for depth in rf_depths:\n",
    "        print(f\"Training model with estimators: {estimator}, depth: {depth}\")\n",
    "        rf_model = RandomForestRegressor(n_estimators=estimator, max_depth=depth)\n",
    "        rf_model.fit(X_train, y_train)\n",
    "        score = rf_model.score(X_test, y_test)\n",
    "        print(f\"Model score: {score}\")\n",
    "        if score > best_score:\n",
    "            best_score = score\n",
    "            best_model = rf_model\n",
    "            # Save the model\n",
    "            print(f\"New best model found with estimators: {estimator}, depth: {depth}, and score: {score}\")\n",
    "            with open(f'models/pv_ML.pkl', 'wb') as file:\n",
    "                pickle.dump(rf_model, file)"
   ]
  },
  {
   "cell_type": "markdown",
   "metadata": {},
   "source": [
    "## Testen op ongeziene data"
   ]
  },
  {
   "cell_type": "code",
   "execution_count": 28,
   "metadata": {},
   "outputs": [
    {
     "data": {
      "application/vnd.microsoft.datawrangler.viewer.v0+json": {
       "columns": [
        {
         "name": "index",
         "rawType": "int64",
         "type": "integer"
        },
        {
         "name": "production_15_min_%",
         "rawType": "float64",
         "type": "float"
        },
        {
         "name": "temp",
         "rawType": "float64",
         "type": "float"
        },
        {
         "name": "cloudcover",
         "rawType": "float64",
         "type": "float"
        },
        {
         "name": "solarenergy",
         "rawType": "float64",
         "type": "float"
        },
        {
         "name": "uvindex",
         "rawType": "float64",
         "type": "float"
        },
        {
         "name": "solar_azimuth",
         "rawType": "float64",
         "type": "float"
        },
        {
         "name": "solar_elevation",
         "rawType": "float64",
         "type": "float"
        },
        {
         "name": "Predicted_%",
         "rawType": "float64",
         "type": "float"
        },
        {
         "name": "day_of_year_sine",
         "rawType": "float64",
         "type": "float"
        },
        {
         "name": "day_of_year_cosine",
         "rawType": "float64",
         "type": "float"
        }
       ],
       "ref": "1a216f23-071d-4610-8ac6-a633f76908be",
       "rows": [
        [
         "0",
         "0.0",
         "5.7",
         "10.0",
         "0.0",
         "0.0",
         "-3.0962424990635427",
         "-0.6049233128598845",
         "0.0",
         "0.9999907397361901",
         "0.004303538296244289"
        ],
        [
         "1",
         "0.0",
         "5.575",
         "10.0",
         "0.0",
         "0.0",
         "-3.0170994507325113",
         "-0.6013523456780363",
         "0.0",
         "0.9999907397361901",
         "0.004303538296244289"
        ],
        [
         "2",
         "0.0",
         "5.45",
         "10.0",
         "0.0",
         "0.0",
         "-2.938548694510741",
         "-0.594553387388166",
         "0.0",
         "0.9999907397361901",
         "0.004303538296244289"
        ],
        [
         "3",
         "0.0",
         "5.325",
         "10.0",
         "0.0",
         "0.0",
         "-2.860932636851863",
         "-0.5845990871535972",
         "0.0",
         "0.9999907397361901",
         "0.004303538296244289"
        ],
        [
         "4",
         "0.0",
         "5.2",
         "10.0",
         "0.0",
         "0.0",
         "-2.784554813260235",
         "-0.5715925111839927",
         "0.0",
         "0.9999907397361901",
         "0.004303538296244289"
        ]
       ],
       "shape": {
        "columns": 10,
        "rows": 5
       }
      },
      "text/html": [
       "<div>\n",
       "<style scoped>\n",
       "    .dataframe tbody tr th:only-of-type {\n",
       "        vertical-align: middle;\n",
       "    }\n",
       "\n",
       "    .dataframe tbody tr th {\n",
       "        vertical-align: top;\n",
       "    }\n",
       "\n",
       "    .dataframe thead th {\n",
       "        text-align: right;\n",
       "    }\n",
       "</style>\n",
       "<table border=\"1\" class=\"dataframe\">\n",
       "  <thead>\n",
       "    <tr style=\"text-align: right;\">\n",
       "      <th></th>\n",
       "      <th>production_15_min_%</th>\n",
       "      <th>temp</th>\n",
       "      <th>cloudcover</th>\n",
       "      <th>solarenergy</th>\n",
       "      <th>uvindex</th>\n",
       "      <th>solar_azimuth</th>\n",
       "      <th>solar_elevation</th>\n",
       "      <th>Predicted_%</th>\n",
       "      <th>day_of_year_sine</th>\n",
       "      <th>day_of_year_cosine</th>\n",
       "    </tr>\n",
       "  </thead>\n",
       "  <tbody>\n",
       "    <tr>\n",
       "      <th>0</th>\n",
       "      <td>0.0</td>\n",
       "      <td>5.700</td>\n",
       "      <td>10.0</td>\n",
       "      <td>0.0</td>\n",
       "      <td>0.0</td>\n",
       "      <td>-3.096242</td>\n",
       "      <td>-0.604923</td>\n",
       "      <td>0.0</td>\n",
       "      <td>0.999991</td>\n",
       "      <td>0.004304</td>\n",
       "    </tr>\n",
       "    <tr>\n",
       "      <th>1</th>\n",
       "      <td>0.0</td>\n",
       "      <td>5.575</td>\n",
       "      <td>10.0</td>\n",
       "      <td>0.0</td>\n",
       "      <td>0.0</td>\n",
       "      <td>-3.017099</td>\n",
       "      <td>-0.601352</td>\n",
       "      <td>0.0</td>\n",
       "      <td>0.999991</td>\n",
       "      <td>0.004304</td>\n",
       "    </tr>\n",
       "    <tr>\n",
       "      <th>2</th>\n",
       "      <td>0.0</td>\n",
       "      <td>5.450</td>\n",
       "      <td>10.0</td>\n",
       "      <td>0.0</td>\n",
       "      <td>0.0</td>\n",
       "      <td>-2.938549</td>\n",
       "      <td>-0.594553</td>\n",
       "      <td>0.0</td>\n",
       "      <td>0.999991</td>\n",
       "      <td>0.004304</td>\n",
       "    </tr>\n",
       "    <tr>\n",
       "      <th>3</th>\n",
       "      <td>0.0</td>\n",
       "      <td>5.325</td>\n",
       "      <td>10.0</td>\n",
       "      <td>0.0</td>\n",
       "      <td>0.0</td>\n",
       "      <td>-2.860933</td>\n",
       "      <td>-0.584599</td>\n",
       "      <td>0.0</td>\n",
       "      <td>0.999991</td>\n",
       "      <td>0.004304</td>\n",
       "    </tr>\n",
       "    <tr>\n",
       "      <th>4</th>\n",
       "      <td>0.0</td>\n",
       "      <td>5.200</td>\n",
       "      <td>10.0</td>\n",
       "      <td>0.0</td>\n",
       "      <td>0.0</td>\n",
       "      <td>-2.784555</td>\n",
       "      <td>-0.571593</td>\n",
       "      <td>0.0</td>\n",
       "      <td>0.999991</td>\n",
       "      <td>0.004304</td>\n",
       "    </tr>\n",
       "  </tbody>\n",
       "</table>\n",
       "</div>"
      ],
      "text/plain": [
       "   production_15_min_%   temp  cloudcover  solarenergy  uvindex  \\\n",
       "0                  0.0  5.700        10.0          0.0      0.0   \n",
       "1                  0.0  5.575        10.0          0.0      0.0   \n",
       "2                  0.0  5.450        10.0          0.0      0.0   \n",
       "3                  0.0  5.325        10.0          0.0      0.0   \n",
       "4                  0.0  5.200        10.0          0.0      0.0   \n",
       "\n",
       "   solar_azimuth  solar_elevation  Predicted_%  day_of_year_sine  \\\n",
       "0      -3.096242        -0.604923          0.0          0.999991   \n",
       "1      -3.017099        -0.601352          0.0          0.999991   \n",
       "2      -2.938549        -0.594553          0.0          0.999991   \n",
       "3      -2.860933        -0.584599          0.0          0.999991   \n",
       "4      -2.784555        -0.571593          0.0          0.999991   \n",
       "\n",
       "   day_of_year_cosine  \n",
       "0            0.004304  \n",
       "1            0.004304  \n",
       "2            0.004304  \n",
       "3            0.004304  \n",
       "4            0.004304  "
      ]
     },
     "execution_count": 28,
     "metadata": {},
     "output_type": "execute_result"
    }
   ],
   "source": [
    "df_test.head()"
   ]
  },
  {
   "cell_type": "code",
   "execution_count": 29,
   "metadata": {},
   "outputs": [
    {
     "data": {
      "application/vnd.microsoft.datawrangler.viewer.v0+json": {
       "columns": [
        {
         "name": "index",
         "rawType": "int64",
         "type": "integer"
        },
        {
         "name": "temp",
         "rawType": "float64",
         "type": "float"
        },
        {
         "name": "cloudcover",
         "rawType": "float64",
         "type": "float"
        },
        {
         "name": "solarenergy",
         "rawType": "float64",
         "type": "float"
        },
        {
         "name": "uvindex",
         "rawType": "float64",
         "type": "float"
        },
        {
         "name": "solar_azimuth",
         "rawType": "float64",
         "type": "float"
        },
        {
         "name": "solar_elevation",
         "rawType": "float64",
         "type": "float"
        },
        {
         "name": "day_of_year_sine",
         "rawType": "float64",
         "type": "float"
        },
        {
         "name": "day_of_year_cosine",
         "rawType": "float64",
         "type": "float"
        }
       ],
       "ref": "0c9f7106-834e-4e26-a2ec-4bc99358ff7c",
       "rows": [
        [
         "0",
         "5.7",
         "10.0",
         "0.0",
         "0.0",
         "-3.0962424990635427",
         "-0.6049233128598845",
         "0.9999907397361901",
         "0.004303538296244289"
        ],
        [
         "1",
         "5.575",
         "10.0",
         "0.0",
         "0.0",
         "-3.0170994507325113",
         "-0.6013523456780363",
         "0.9999907397361901",
         "0.004303538296244289"
        ],
        [
         "2",
         "5.45",
         "10.0",
         "0.0",
         "0.0",
         "-2.938548694510741",
         "-0.594553387388166",
         "0.9999907397361901",
         "0.004303538296244289"
        ],
        [
         "3",
         "5.325",
         "10.0",
         "0.0",
         "0.0",
         "-2.860932636851863",
         "-0.5845990871535972",
         "0.9999907397361901",
         "0.004303538296244289"
        ],
        [
         "4",
         "5.2",
         "10.0",
         "0.0",
         "0.0",
         "-2.784554813260235",
         "-0.5715925111839927",
         "0.9999907397361901",
         "0.004303538296244289"
        ]
       ],
       "shape": {
        "columns": 8,
        "rows": 5
       }
      },
      "text/html": [
       "<div>\n",
       "<style scoped>\n",
       "    .dataframe tbody tr th:only-of-type {\n",
       "        vertical-align: middle;\n",
       "    }\n",
       "\n",
       "    .dataframe tbody tr th {\n",
       "        vertical-align: top;\n",
       "    }\n",
       "\n",
       "    .dataframe thead th {\n",
       "        text-align: right;\n",
       "    }\n",
       "</style>\n",
       "<table border=\"1\" class=\"dataframe\">\n",
       "  <thead>\n",
       "    <tr style=\"text-align: right;\">\n",
       "      <th></th>\n",
       "      <th>temp</th>\n",
       "      <th>cloudcover</th>\n",
       "      <th>solarenergy</th>\n",
       "      <th>uvindex</th>\n",
       "      <th>solar_azimuth</th>\n",
       "      <th>solar_elevation</th>\n",
       "      <th>day_of_year_sine</th>\n",
       "      <th>day_of_year_cosine</th>\n",
       "    </tr>\n",
       "  </thead>\n",
       "  <tbody>\n",
       "    <tr>\n",
       "      <th>0</th>\n",
       "      <td>5.700</td>\n",
       "      <td>10.0</td>\n",
       "      <td>0.0</td>\n",
       "      <td>0.0</td>\n",
       "      <td>-3.096242</td>\n",
       "      <td>-0.604923</td>\n",
       "      <td>0.999991</td>\n",
       "      <td>0.004304</td>\n",
       "    </tr>\n",
       "    <tr>\n",
       "      <th>1</th>\n",
       "      <td>5.575</td>\n",
       "      <td>10.0</td>\n",
       "      <td>0.0</td>\n",
       "      <td>0.0</td>\n",
       "      <td>-3.017099</td>\n",
       "      <td>-0.601352</td>\n",
       "      <td>0.999991</td>\n",
       "      <td>0.004304</td>\n",
       "    </tr>\n",
       "    <tr>\n",
       "      <th>2</th>\n",
       "      <td>5.450</td>\n",
       "      <td>10.0</td>\n",
       "      <td>0.0</td>\n",
       "      <td>0.0</td>\n",
       "      <td>-2.938549</td>\n",
       "      <td>-0.594553</td>\n",
       "      <td>0.999991</td>\n",
       "      <td>0.004304</td>\n",
       "    </tr>\n",
       "    <tr>\n",
       "      <th>3</th>\n",
       "      <td>5.325</td>\n",
       "      <td>10.0</td>\n",
       "      <td>0.0</td>\n",
       "      <td>0.0</td>\n",
       "      <td>-2.860933</td>\n",
       "      <td>-0.584599</td>\n",
       "      <td>0.999991</td>\n",
       "      <td>0.004304</td>\n",
       "    </tr>\n",
       "    <tr>\n",
       "      <th>4</th>\n",
       "      <td>5.200</td>\n",
       "      <td>10.0</td>\n",
       "      <td>0.0</td>\n",
       "      <td>0.0</td>\n",
       "      <td>-2.784555</td>\n",
       "      <td>-0.571593</td>\n",
       "      <td>0.999991</td>\n",
       "      <td>0.004304</td>\n",
       "    </tr>\n",
       "  </tbody>\n",
       "</table>\n",
       "</div>"
      ],
      "text/plain": [
       "    temp  cloudcover  solarenergy  uvindex  solar_azimuth  solar_elevation  \\\n",
       "0  5.700        10.0          0.0      0.0      -3.096242        -0.604923   \n",
       "1  5.575        10.0          0.0      0.0      -3.017099        -0.601352   \n",
       "2  5.450        10.0          0.0      0.0      -2.938549        -0.594553   \n",
       "3  5.325        10.0          0.0      0.0      -2.860933        -0.584599   \n",
       "4  5.200        10.0          0.0      0.0      -2.784555        -0.571593   \n",
       "\n",
       "   day_of_year_sine  day_of_year_cosine  \n",
       "0          0.999991            0.004304  \n",
       "1          0.999991            0.004304  \n",
       "2          0.999991            0.004304  \n",
       "3          0.999991            0.004304  \n",
       "4          0.999991            0.004304  "
      ]
     },
     "execution_count": 29,
     "metadata": {},
     "output_type": "execute_result"
    }
   ],
   "source": [
    "# Splits de dataset in een trainings- en testset\n",
    "actual = df_test[['production_15_min_%']]\n",
    "elia = df_test[['Predicted_%']]\n",
    "input = df_test.drop(['production_15_min_%', 'Predicted_%'], axis=1)\n",
    "input.head()"
   ]
  },
  {
   "cell_type": "code",
   "execution_count": 30,
   "metadata": {},
   "outputs": [],
   "source": [
    "# Inladen van het beste ML model\n",
    "with open('models/pv_ML.pkl', 'rb') as file:\n",
    "    best_ml_model = pickle.load(file)"
   ]
  },
  {
   "cell_type": "code",
   "execution_count": 31,
   "metadata": {},
   "outputs": [
    {
     "name": "stdout",
     "output_type": "stream",
     "text": [
      "      production_15_min_%\n",
      "0                     0.0\n",
      "1                     0.0\n",
      "2                     0.0\n",
      "3                     0.0\n",
      "4                     0.0\n",
      "...                   ...\n",
      "1671                 26.0\n",
      "1672                 29.5\n",
      "1673                 33.4\n",
      "1674                 37.2\n",
      "1675                 41.8\n",
      "\n",
      "[1676 rows x 1 columns]\n"
     ]
    }
   ],
   "source": [
    "# Voeg de daadwerkelijke waarden toe aan de df_result dataframe\n",
    "df_result = actual[['production_15_min_%']]\n",
    "print(df_result)"
   ]
  },
  {
   "cell_type": "code",
   "execution_count": 32,
   "metadata": {},
   "outputs": [
    {
     "data": {
      "application/vnd.microsoft.datawrangler.viewer.v0+json": {
       "columns": [
        {
         "name": "index",
         "rawType": "int64",
         "type": "integer"
        },
        {
         "name": "production_15_min_%",
         "rawType": "float64",
         "type": "float"
        },
        {
         "name": "predicted_with_ML(%)",
         "rawType": "float64",
         "type": "float"
        }
       ],
       "ref": "ddf8c620-1682-41cd-9ccf-ad2cb9650c7c",
       "rows": [
        [
         "0",
         "0.0",
         "6.828435253378808e-06"
        ],
        [
         "1",
         "0.0",
         "6.828435253378808e-06"
        ],
        [
         "2",
         "0.0",
         "6.828435253378808e-06"
        ],
        [
         "3",
         "0.0",
         "6.828435253378808e-06"
        ],
        [
         "4",
         "0.0",
         "6.828435253378808e-06"
        ]
       ],
       "shape": {
        "columns": 2,
        "rows": 5
       }
      },
      "text/html": [
       "<div>\n",
       "<style scoped>\n",
       "    .dataframe tbody tr th:only-of-type {\n",
       "        vertical-align: middle;\n",
       "    }\n",
       "\n",
       "    .dataframe tbody tr th {\n",
       "        vertical-align: top;\n",
       "    }\n",
       "\n",
       "    .dataframe thead th {\n",
       "        text-align: right;\n",
       "    }\n",
       "</style>\n",
       "<table border=\"1\" class=\"dataframe\">\n",
       "  <thead>\n",
       "    <tr style=\"text-align: right;\">\n",
       "      <th></th>\n",
       "      <th>production_15_min_%</th>\n",
       "      <th>predicted_with_ML(%)</th>\n",
       "    </tr>\n",
       "  </thead>\n",
       "  <tbody>\n",
       "    <tr>\n",
       "      <th>0</th>\n",
       "      <td>0.0</td>\n",
       "      <td>0.000007</td>\n",
       "    </tr>\n",
       "    <tr>\n",
       "      <th>1</th>\n",
       "      <td>0.0</td>\n",
       "      <td>0.000007</td>\n",
       "    </tr>\n",
       "    <tr>\n",
       "      <th>2</th>\n",
       "      <td>0.0</td>\n",
       "      <td>0.000007</td>\n",
       "    </tr>\n",
       "    <tr>\n",
       "      <th>3</th>\n",
       "      <td>0.0</td>\n",
       "      <td>0.000007</td>\n",
       "    </tr>\n",
       "    <tr>\n",
       "      <th>4</th>\n",
       "      <td>0.0</td>\n",
       "      <td>0.000007</td>\n",
       "    </tr>\n",
       "  </tbody>\n",
       "</table>\n",
       "</div>"
      ],
      "text/plain": [
       "   production_15_min_%  predicted_with_ML(%)\n",
       "0                  0.0              0.000007\n",
       "1                  0.0              0.000007\n",
       "2                  0.0              0.000007\n",
       "3                  0.0              0.000007\n",
       "4                  0.0              0.000007"
      ]
     },
     "execution_count": 32,
     "metadata": {},
     "output_type": "execute_result"
    }
   ],
   "source": [
    "# Maak een voorspelling voor elke regel in de testdataset en voeg deze toe aan de df_result dataframe\n",
    "input = scaler.transform(input)\n",
    "input = polynomial.transform(input)\n",
    "df_result['predicted_with_ML(%)'] = best_ml_model.predict(input)\n",
    "df_result.head()"
   ]
  },
  {
   "cell_type": "code",
   "execution_count": 33,
   "metadata": {},
   "outputs": [
    {
     "data": {
      "application/vnd.microsoft.datawrangler.viewer.v0+json": {
       "columns": [
        {
         "name": "index",
         "rawType": "int64",
         "type": "integer"
        },
        {
         "name": "production_15_min_%",
         "rawType": "float64",
         "type": "float"
        },
        {
         "name": "predicted_with_ML(%)",
         "rawType": "float64",
         "type": "float"
        },
        {
         "name": "predicted_with_Elia(%)",
         "rawType": "float64",
         "type": "float"
        }
       ],
       "ref": "bbe26f16-4362-49d3-8287-35ba2c150133",
       "rows": [
        [
         "0",
         "0.0",
         "6.828435253378808e-06",
         "0.0"
        ],
        [
         "1",
         "0.0",
         "6.828435253378808e-06",
         "0.0"
        ],
        [
         "2",
         "0.0",
         "6.828435253378808e-06",
         "0.0"
        ],
        [
         "3",
         "0.0",
         "6.828435253378808e-06",
         "0.0"
        ],
        [
         "4",
         "0.0",
         "6.828435253378808e-06",
         "0.0"
        ],
        [
         "5",
         "0.0",
         "6.828435253378808e-06",
         "0.0"
        ],
        [
         "6",
         "0.0",
         "6.828435253378808e-06",
         "0.0"
        ],
        [
         "7",
         "0.0",
         "6.828435253378808e-06",
         "0.0"
        ],
        [
         "8",
         "0.0",
         "6.828435253378808e-06",
         "0.0"
        ],
        [
         "9",
         "0.0",
         "6.828435253378808e-06",
         "0.0"
        ],
        [
         "10",
         "0.0",
         "6.828435253378808e-06",
         "0.0"
        ],
        [
         "11",
         "0.0",
         "6.828435253378808e-06",
         "0.0"
        ],
        [
         "12",
         "0.0",
         "6.828435253378808e-06",
         "0.0"
        ],
        [
         "13",
         "0.0",
         "6.828435253378808e-06",
         "0.0"
        ],
        [
         "14",
         "0.0",
         "6.828435253378808e-06",
         "0.0"
        ],
        [
         "15",
         "0.0",
         "6.828435253378808e-06",
         "0.0"
        ],
        [
         "16",
         "0.0",
         "6.828435253378808e-06",
         "0.0"
        ],
        [
         "17",
         "0.0",
         "6.828435253378808e-06",
         "0.0"
        ],
        [
         "18",
         "0.0",
         "6.828435253378808e-06",
         "0.0"
        ],
        [
         "19",
         "0.0",
         "6.828435253378808e-06",
         "0.0"
        ],
        [
         "20",
         "0.0",
         "6.828435253378808e-06",
         "0.0"
        ],
        [
         "21",
         "0.0",
         "6.828435253378808e-06",
         "0.0"
        ],
        [
         "22",
         "0.0",
         "6.828435253378808e-06",
         "0.0"
        ],
        [
         "23",
         "0.0",
         "6.828435253378808e-06",
         "0.0"
        ],
        [
         "24",
         "0.0",
         "6.828435253378808e-06",
         "0.0"
        ],
        [
         "25",
         "0.0",
         "6.828435253378808e-06",
         "0.0"
        ],
        [
         "26",
         "0.0",
         "2.557439517580932e-05",
         "0.0"
        ],
        [
         "27",
         "0.0",
         "5.326612725768619e-05",
         "0.0"
        ],
        [
         "28",
         "0.0",
         "0.00036024796830292147",
         "0.0"
        ],
        [
         "29",
         "0.0",
         "0.0013602479683029218",
         "0.0004490041770117962"
        ],
        [
         "30",
         "0.0",
         "0.05696477372422689",
         "0.005230088603105188"
        ],
        [
         "31",
         "0.5",
         "0.3486324709154217",
         "0.014407479391229027"
        ],
        [
         "32",
         "2.1999999999999997",
         "1.1556495710000012",
         "0.02966841388695857"
        ],
        [
         "33",
         "4.2",
         "4.05866292544043",
         "0.05704609641207474"
        ],
        [
         "34",
         "6.3",
         "6.035470989134407",
         "0.09403339410705161"
        ],
        [
         "35",
         "9.0",
         "12.17787135282758",
         "0.1365938982878244"
        ],
        [
         "36",
         "11.3",
         "11.552576482827583",
         "0.21408993623099182"
        ],
        [
         "37",
         "14.099999999999998",
         "12.851276709333328",
         "0.26306147943404645"
        ],
        [
         "38",
         "16.6",
         "15.066365132822755",
         "0.31253757372260915"
        ],
        [
         "39",
         "19.3",
         "16.832023937265916",
         "0.35773713467058654"
        ],
        [
         "40",
         "21.6",
         "21.317688230253967",
         "0.36667671525671064"
        ],
        [
         "41",
         "24.6",
         "22.31968509964286",
         "0.40407887892451927"
        ],
        [
         "42",
         "28.9",
         "28.09666260345834",
         "0.4394258069779647"
        ],
        [
         "43",
         "35.199999999999996",
         "38.338053844533334",
         "0.4729448945737035"
        ],
        [
         "44",
         "39.2",
         "46.61785897433334",
         "0.4864873465878286"
        ],
        [
         "45",
         "44.0",
         "48.873092924984945",
         "0.5158271079328508"
        ],
        [
         "46",
         "49.2",
         "50.38499805558496",
         "0.5431573441402929"
        ],
        [
         "47",
         "55.1",
         "51.76410509974683",
         "0.5650995302235937"
        ],
        [
         "48",
         "61.4",
         "53.51757340335631",
         "0.5801729939031482"
        ],
        [
         "49",
         "67.10000000000001",
         "55.63726374440317",
         "0.5994338844242418"
        ]
       ],
       "shape": {
        "columns": 3,
        "rows": 1000
       }
      },
      "text/html": [
       "<div>\n",
       "<style scoped>\n",
       "    .dataframe tbody tr th:only-of-type {\n",
       "        vertical-align: middle;\n",
       "    }\n",
       "\n",
       "    .dataframe tbody tr th {\n",
       "        vertical-align: top;\n",
       "    }\n",
       "\n",
       "    .dataframe thead th {\n",
       "        text-align: right;\n",
       "    }\n",
       "</style>\n",
       "<table border=\"1\" class=\"dataframe\">\n",
       "  <thead>\n",
       "    <tr style=\"text-align: right;\">\n",
       "      <th></th>\n",
       "      <th>production_15_min_%</th>\n",
       "      <th>predicted_with_ML(%)</th>\n",
       "      <th>predicted_with_Elia(%)</th>\n",
       "    </tr>\n",
       "  </thead>\n",
       "  <tbody>\n",
       "    <tr>\n",
       "      <th>0</th>\n",
       "      <td>0.0</td>\n",
       "      <td>0.000007</td>\n",
       "      <td>0.000000</td>\n",
       "    </tr>\n",
       "    <tr>\n",
       "      <th>1</th>\n",
       "      <td>0.0</td>\n",
       "      <td>0.000007</td>\n",
       "      <td>0.000000</td>\n",
       "    </tr>\n",
       "    <tr>\n",
       "      <th>2</th>\n",
       "      <td>0.0</td>\n",
       "      <td>0.000007</td>\n",
       "      <td>0.000000</td>\n",
       "    </tr>\n",
       "    <tr>\n",
       "      <th>3</th>\n",
       "      <td>0.0</td>\n",
       "      <td>0.000007</td>\n",
       "      <td>0.000000</td>\n",
       "    </tr>\n",
       "    <tr>\n",
       "      <th>4</th>\n",
       "      <td>0.0</td>\n",
       "      <td>0.000007</td>\n",
       "      <td>0.000000</td>\n",
       "    </tr>\n",
       "    <tr>\n",
       "      <th>...</th>\n",
       "      <td>...</td>\n",
       "      <td>...</td>\n",
       "      <td>...</td>\n",
       "    </tr>\n",
       "    <tr>\n",
       "      <th>995</th>\n",
       "      <td>11.6</td>\n",
       "      <td>8.678181</td>\n",
       "      <td>0.159011</td>\n",
       "    </tr>\n",
       "    <tr>\n",
       "      <th>996</th>\n",
       "      <td>16.1</td>\n",
       "      <td>10.310205</td>\n",
       "      <td>0.213381</td>\n",
       "    </tr>\n",
       "    <tr>\n",
       "      <th>997</th>\n",
       "      <td>18.1</td>\n",
       "      <td>12.653155</td>\n",
       "      <td>0.259714</td>\n",
       "    </tr>\n",
       "    <tr>\n",
       "      <th>998</th>\n",
       "      <td>20.8</td>\n",
       "      <td>14.678646</td>\n",
       "      <td>0.305767</td>\n",
       "    </tr>\n",
       "    <tr>\n",
       "      <th>999</th>\n",
       "      <td>22.2</td>\n",
       "      <td>20.951992</td>\n",
       "      <td>0.347335</td>\n",
       "    </tr>\n",
       "  </tbody>\n",
       "</table>\n",
       "<p>1000 rows × 3 columns</p>\n",
       "</div>"
      ],
      "text/plain": [
       "     production_15_min_%  predicted_with_ML(%)  predicted_with_Elia(%)\n",
       "0                    0.0              0.000007                0.000000\n",
       "1                    0.0              0.000007                0.000000\n",
       "2                    0.0              0.000007                0.000000\n",
       "3                    0.0              0.000007                0.000000\n",
       "4                    0.0              0.000007                0.000000\n",
       "..                   ...                   ...                     ...\n",
       "995                 11.6              8.678181                0.159011\n",
       "996                 16.1             10.310205                0.213381\n",
       "997                 18.1             12.653155                0.259714\n",
       "998                 20.8             14.678646                0.305767\n",
       "999                 22.2             20.951992                0.347335\n",
       "\n",
       "[1000 rows x 3 columns]"
      ]
     },
     "execution_count": 33,
     "metadata": {},
     "output_type": "execute_result"
    }
   ],
   "source": [
    "# Elia data toevoegen aan de df_result dataframe\n",
    "df_result['predicted_with_Elia(%)'] = elia['Predicted_%'].values\n",
    "df_result.head(1000)"
   ]
  },
  {
   "cell_type": "code",
   "execution_count": 34,
   "metadata": {},
   "outputs": [
    {
     "data": {
      "image/png": "[encoded data removed]",
      "text/plain": [
       "<Figure size 1000x600 with 1 Axes>"
      ]
     },
     "metadata": {},
     "output_type": "display_data"
    }
   ],
   "source": [
    "# Zet de voorspellingen uit in een grafiek\n",
    "plt.figure(figsize=(10, 6))\n",
    "plt.plot(df_result['production_15_min_%'], label='Actual', color='blue')\n",
    "plt.plot(df_result['predicted_with_ML(%)'], label='Predicted', color='red')\n",
    "plt.plot(df_result['predicted_with_Elia(%)'], label='Predicted with Elia', color='green')\n",
    "plt.xlabel('Datetime')\n",
    "plt.ylabel('Predictions')\n",
    "plt.title('Predictions Over Time with Machine learning')\n",
    "plt.grid(True) \n",
    "x_ticks = plt.gca().get_xticks() \n",
    "x_ticks_selected = x_ticks[::24] \n",
    "plt.xticks(x_ticks_selected, rotation=90)\n",
    "plt.legend()\n",
    "plt.show()"
   ]
  },
  {
   "cell_type": "code",
   "execution_count": 35,
   "metadata": {},
   "outputs": [
    {
     "ename": "AttributeError",
     "evalue": "'RangeIndex' object has no attribute 'date'",
     "output_type": "error",
     "traceback": [
      "\u001b[0;31m---------------------------------------------------------------------------\u001b[0m",
      "\u001b[0;31mAttributeError\u001b[0m                            Traceback (most recent call last)",
      "Cell \u001b[0;32mIn[35], line 2\u001b[0m\n\u001b[1;32m      1\u001b[0m \u001b[38;5;66;03m# Zet de voorspellingen uit van 1 dag\u001b[39;00m\n\u001b[0;32m----> 2\u001b[0m df_result_day \u001b[38;5;241m=\u001b[39m df_result[df_result\u001b[38;5;241m.\u001b[39mindex\u001b[38;5;241m.\u001b[39mdate \u001b[38;5;241m==\u001b[39m pd\u001b[38;5;241m.\u001b[39mto_datetime(\u001b[38;5;124m'\u001b[39m\u001b[38;5;124m2025-04-01\u001b[39m\u001b[38;5;124m'\u001b[39m)\u001b[38;5;241m.\u001b[39mdate()]\n\u001b[1;32m      3\u001b[0m plt\u001b[38;5;241m.\u001b[39mfigure(figsize\u001b[38;5;241m=\u001b[39m(\u001b[38;5;241m10\u001b[39m, \u001b[38;5;241m6\u001b[39m))\n\u001b[1;32m      4\u001b[0m plt\u001b[38;5;241m.\u001b[39mplot(df_result_day[\u001b[38;5;124m'\u001b[39m\u001b[38;5;124mproduction_15_min_\u001b[39m\u001b[38;5;124m%\u001b[39m\u001b[38;5;124m'\u001b[39m], label\u001b[38;5;241m=\u001b[39m\u001b[38;5;124m'\u001b[39m\u001b[38;5;124mActual\u001b[39m\u001b[38;5;124m'\u001b[39m, color\u001b[38;5;241m=\u001b[39m\u001b[38;5;124m'\u001b[39m\u001b[38;5;124mblue\u001b[39m\u001b[38;5;124m'\u001b[39m)\n",
      "\u001b[0;31mAttributeError\u001b[0m: 'RangeIndex' object has no attribute 'date'"
     ]
    }
   ],
   "source": [
    "# Zet de voorspellingen uit van 1 dag\n",
    "df_result_day = df_result[df_result.index.date == pd.to_datetime('2025-04-01').date()]\n",
    "plt.figure(figsize=(10, 6))\n",
    "plt.plot(df_result_day['production_15_min_%'], label='Actual', color='blue')\n",
    "plt.plot(df_result_day['predicted_with_ML(%)'], label='Predicted', color='red')\n",
    "plt.plot(df_result_day['predicted_with_Elia(%)'], label='Predicted with Elia', color='green')\n",
    "plt.xlabel('Datetime')\n",
    "plt.ylabel('Predictions')\n",
    "plt.title('Predictions Over Time with Machine learning')\n",
    "plt.grid(True) \n",
    "x_ticks = plt.gca().get_xticks() \n",
    "x_ticks_selected = x_ticks[::24] \n",
    "plt.xticks(x_ticks_selected, rotation=90)\n",
    "plt.legend()\n",
    "plt.show()"
   ]
  },
  {
   "cell_type": "code",
   "execution_count": null,
   "metadata": {},
   "outputs": [
    {
     "name": "stdout",
     "output_type": "stream",
     "text": [
      "### ML-model ###\n",
      "mae: 1.9382514576810257\n",
      "mse: 26.196197993354694\n",
      "r2: 0.7703365852409297\n"
     ]
    }
   ],
   "source": [
    "# Calculating the accuracy of the ML model based on the test data\n",
    "print(\"### ML-model ###\")\n",
    "print(f\"mae: {mean_absolute_error(df_result['production_15_min_%'], df_result['predicted_with_ML(%)'])}\")\n",
    "print(f\"mse: {mean_squared_error(df_result['production_15_min_%'], df_result['predicted_with_ML(%)'])}\")\n",
    "print(f\"r2: {r2_score(df_result['production_15_min_%'], df_result['predicted_with_ML(%)'])}\")"
   ]
  },
  {
   "cell_type": "code",
   "execution_count": null,
   "metadata": {},
   "outputs": [
    {
     "name": "stdout",
     "output_type": "stream",
     "text": [
      "### Elia-model ###\n",
      "mae: 2.209280798615666\n",
      "mse: 40.118034544932314\n",
      "r2: 0.6482831283627966\n"
     ]
    }
   ],
   "source": [
    "# Calculating the accuracy of the Elia model based on the test data\n",
    "print(\"### Elia-model ###\")\n",
    "print(f\"mae: {mean_absolute_error(df_result['production_15_min_%'], df_result['predicted_with_Elia(%)'])}\")\n",
    "print(f\"mse: {mean_squared_error(df_result['production_15_min_%'], df_result['predicted_with_Elia(%)'])}\")\n",
    "print(f\"r2: {r2_score(df_result['production_15_min_%'], df_result['predicted_with_Elia(%)'])}\")"
   ]
  }
 ],
 "metadata": {
  "kernelspec": {
   "display_name": "base",
   "language": "python",
   "name": "python3"
  },
  "language_info": {
   "codemirror_mode": {
    "name": "ipython",
    "version": 3
   },
   "file_extension": ".py",
   "mimetype": "text/x-python",
   "name": "python",
   "nbconvert_exporter": "python",
   "pygments_lexer": "ipython3",
   "version": "3.11.5"
  }
 },
 "nbformat": 4,
 "nbformat_minor": 2
}
