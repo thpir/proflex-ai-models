{
 "cells": [
  {
   "cell_type": "markdown",
   "metadata": {},
   "source": [
    "# FASE 1.2: Voorspellen van de PV productie - vervolg\n",
    "\n",
    "* Zonnestand in rekening brengen. "
   ]
  },
  {
   "cell_type": "code",
   "execution_count": 52,
   "metadata": {},
   "outputs": [],
   "source": [
    "import pickle\n",
    "import math\n",
    "import pandas as pd\n",
    "import numpy as np\n",
    "import matplotlib.pyplot as plt\n",
    "import seaborn as sns; sns.set_theme(color_codes=True)\n",
    "import tensorflow as tf\n",
    "\n",
    "from sklearn.preprocessing import MinMaxScaler\n",
    "from sklearn.metrics import mean_absolute_error, mean_squared_error, r2_score\n",
    "from scripts import weather_data_preprocess as wdp\n",
    "from tensorflow.keras.models import Sequential\n",
    "from keras.callbacks import ModelCheckpoint\n",
    "from keras.layers import Dense, LSTM, Dropout"
   ]
  },
  {
   "cell_type": "markdown",
   "metadata": {},
   "source": [
    "## Data-analyse"
   ]
  },
  {
   "cell_type": "code",
   "execution_count": 53,
   "metadata": {},
   "outputs": [],
   "source": [
    "# Ruwe weersdata info\n",
    "weather_train_data_ingelmunster = [\n",
    "    'Ingelmunster 2024-01-01 to 2024-01-31.csv',\n",
    "    'Ingelmunster 2024-02-01 to 2024-02-29.csv',\n",
    "    'Ingelmunster 2024-03-01 to 2024-03-31.csv',\n",
    "    'Ingelmunster 2024-04-01 to 2024-04-30.csv',\n",
    "    'Ingelmunster 2024-05-01 to 2024-05-31.csv',\n",
    "    'Ingelmunster 2024-06-01 to 2024-06-30.csv',\n",
    "    'Ingelmunster 2024-07-01 to 2024-07-31.csv',\n",
    "    'Ingelmunster 2024-08-01 to 2024-08-31.csv',\n",
    "    'Ingelmunster 2024-09-01 to 2024-09-30.csv',\n",
    "    'Ingelmunster 2024-10-01 to 2024-10-31.csv',\n",
    "    'Ingelmunster 2024-11-01 to 2024-11-30.csv',\n",
    "    'Ingelmunster 2024-12-01 to 2024-12-31.csv'\n",
    "]\n",
    "weather_train_data_gullegem = [\n",
    "    'Gullegem 2024-01-01 to 2024-01-31.csv',\n",
    "    'Gullegem 2024-02-01 to 2024-02-29.csv',\n",
    "    'Gullegem 2024-03-01 to 2024-03-31.csv',\n",
    "    'Gullegem 2024-04-01 to 2024-04-30.csv',\n",
    "    'Gullegem 2024-05-01 to 2024-05-31.csv',\n",
    "    'Gullegem 2024-06-01 to 2024-06-30.csv',\n",
    "    'Gullegem 2024-07-01 to 2024-07-31.csv',\n",
    "    'Gullegem 2024-08-01 to 2024-08-31.csv',\n",
    "    'Gullegem 2024-09-01 to 2024-09-30.csv',\n",
    "    'Gullegem 2024-10-01 to 2024-10-31.csv',\n",
    "    'Gullegem 2024-11-01 to 2024-11-30.csv',\n",
    "    'Gullegem 2024-12-01 to 2024-12-31.csv'\n",
    "]\n",
    "weather_test_data_ingelmunster = [\n",
    "    'Ingelmunster 2025-01-01 to 2025-01-31.csv',\n",
    "]\n",
    "weather_test_data_gullegem = [\n",
    "    'Ingelmunster 2025-01-01 to 2025-01-31.csv',\n",
    "]\n",
    "ingelmunster_location = [50.920699369528734, 3.2532075343447575]\n",
    "gullegem_location = [50.8447689, 3.1989718]"
   ]
  },
  {
   "cell_type": "code",
   "execution_count": 54,
   "metadata": {},
   "outputs": [
    {
     "name": "stdout",
     "output_type": "stream",
     "text": [
      "Processing Ingelmunster 2024-01-01 to 2024-01-31.csv\n",
      "Processing Ingelmunster 2024-02-01 to 2024-02-29.csv\n",
      "Processing Ingelmunster 2024-03-01 to 2024-03-31.csv\n",
      "Processing Ingelmunster 2024-04-01 to 2024-04-30.csv\n",
      "Processing Ingelmunster 2024-05-01 to 2024-05-31.csv\n",
      "Processing Ingelmunster 2024-06-01 to 2024-06-30.csv\n",
      "Processing Ingelmunster 2024-07-01 to 2024-07-31.csv\n",
      "Processing Ingelmunster 2024-08-01 to 2024-08-31.csv\n",
      "Processing Ingelmunster 2024-09-01 to 2024-09-30.csv\n",
      "Processing Ingelmunster 2024-10-01 to 2024-10-31.csv\n",
      "Processing Ingelmunster 2024-11-01 to 2024-11-30.csv\n",
      "Processing Ingelmunster 2024-12-01 to 2024-12-31.csv\n",
      "Processing Ingelmunster 2025-01-01 to 2025-01-31.csv\n",
      "Processing Gullegem 2024-01-01 to 2024-01-31.csv\n",
      "Processing Gullegem 2024-02-01 to 2024-02-29.csv\n",
      "Processing Gullegem 2024-03-01 to 2024-03-31.csv\n",
      "Processing Gullegem 2024-04-01 to 2024-04-30.csv\n",
      "Processing Gullegem 2024-05-01 to 2024-05-31.csv\n",
      "Processing Gullegem 2024-06-01 to 2024-06-30.csv\n",
      "Processing Gullegem 2024-07-01 to 2024-07-31.csv\n",
      "Processing Gullegem 2024-08-01 to 2024-08-31.csv\n",
      "Processing Gullegem 2024-09-01 to 2024-09-30.csv\n",
      "Processing Gullegem 2024-10-01 to 2024-10-31.csv\n",
      "Processing Gullegem 2024-11-01 to 2024-11-30.csv\n",
      "Processing Gullegem 2024-12-01 to 2024-12-31.csv\n",
      "Processing Ingelmunster 2025-01-01 to 2025-01-31.csv\n"
     ]
    },
    {
     "data": {
      "application/vnd.microsoft.datawrangler.viewer.v0+json": {
       "columns": [
        {
         "name": "index",
         "rawType": "int64",
         "type": "integer"
        },
        {
         "name": "datetime",
         "rawType": "datetime64[ns]",
         "type": "datetime"
        },
        {
         "name": "temp",
         "rawType": "float64",
         "type": "float"
        },
        {
         "name": "humidity",
         "rawType": "float64",
         "type": "float"
        },
        {
         "name": "cloudcover",
         "rawType": "float64",
         "type": "float"
        },
        {
         "name": "solarenergy",
         "rawType": "float64",
         "type": "float"
        },
        {
         "name": "uvindex",
         "rawType": "float64",
         "type": "float"
        },
        {
         "name": "latitude",
         "rawType": "float64",
         "type": "float"
        },
        {
         "name": "longitude",
         "rawType": "float64",
         "type": "float"
        },
        {
         "name": "solar_azimuth",
         "rawType": "float64",
         "type": "float"
        },
        {
         "name": "solar_elevation",
         "rawType": "float64",
         "type": "float"
        }
       ],
       "conversionMethod": "pd.DataFrame",
       "ref": "e825d907-5c60-490d-aca2-eaeb6f953910",
       "rows": [
        [
         "0",
         "2024-01-01 00:00:00",
         "7.2",
         "89.08",
         "96.3",
         "0.0",
         "0.0",
         "50.920699369528734",
         "3.2532075343447575",
         "-3.058781270308056",
         "-1.0839540874244509"
        ],
        [
         "1",
         "2024-01-01 00:15:00",
         "7.125",
         "89.6",
         "96.6",
         "0.0",
         "0.0",
         "50.920699369528734",
         "3.2532075343447575",
         "-2.931440455864378",
         "-1.0779159761218964"
        ],
        [
         "2",
         "2024-01-01 00:30:00",
         "7.050000000000001",
         "90.12",
         "96.9",
         "0.0",
         "0.0",
         "50.920699369528734",
         "3.2532075343447575",
         "-2.8076350453115952",
         "-1.0668119445115487"
        ],
        [
         "3",
         "2024-01-01 00:45:00",
         "6.9750000000000005",
         "90.64",
         "97.2",
         "0.0",
         "0.0",
         "50.920699369528734",
         "3.2532075343447575",
         "-2.6890235397785753",
         "-1.0509841467225889"
        ],
        [
         "4",
         "2024-01-01 01:00:00",
         "6.9",
         "91.16",
         "97.5",
         "0.0",
         "0.0",
         "50.920699369528734",
         "3.2532075343447575",
         "-2.576723825102668",
         "-1.0308728968980991"
        ],
        [
         "5",
         "2024-01-01 01:15:00",
         "7.0",
         "91.195",
         "95.725",
         "0.0",
         "0.0",
         "50.920699369528734",
         "3.2532075343447575",
         "-2.471311244679454",
         "-1.0069682516944656"
        ],
        [
         "6",
         "2024-01-01 01:30:00",
         "7.1",
         "91.22999999999999",
         "93.95",
         "0.0",
         "0.0",
         "50.920699369528734",
         "3.2532075343447575",
         "-2.3729015168275964",
         "-0.9797684597337202"
        ],
        [
         "7",
         "2024-01-01 01:45:00",
         "7.2",
         "91.265",
         "92.17500000000001",
         "0.0",
         "0.0",
         "50.920699369528734",
         "3.2532075343447575",
         "-2.281271313594809",
         "-0.949750202193873"
        ],
        [
         "8",
         "2024-01-01 02:00:00",
         "7.3",
         "91.3",
         "90.4",
         "0.0",
         "0.0",
         "50.920699369528734",
         "3.2532075343447575",
         "-2.195978766477057",
         "-0.9173509645281679"
        ],
        [
         "9",
         "2024-01-01 02:15:00",
         "7.325",
         "90.53999999999999",
         "90.80000000000001",
         "0.0",
         "0.0",
         "50.920699369528734",
         "3.2532075343447575",
         "-2.116463124335507",
         "-0.8829612242990981"
        ]
       ],
       "shape": {
        "columns": 10,
        "rows": 10
       }
      },
      "text/html": [
       "<div>\n",
       "<style scoped>\n",
       "    .dataframe tbody tr th:only-of-type {\n",
       "        vertical-align: middle;\n",
       "    }\n",
       "\n",
       "    .dataframe tbody tr th {\n",
       "        vertical-align: top;\n",
       "    }\n",
       "\n",
       "    .dataframe thead th {\n",
       "        text-align: right;\n",
       "    }\n",
       "</style>\n",
       "<table border=\"1\" class=\"dataframe\">\n",
       "  <thead>\n",
       "    <tr style=\"text-align: right;\">\n",
       "      <th></th>\n",
       "      <th>datetime</th>\n",
       "      <th>temp</th>\n",
       "      <th>humidity</th>\n",
       "      <th>cloudcover</th>\n",
       "      <th>solarenergy</th>\n",
       "      <th>uvindex</th>\n",
       "      <th>latitude</th>\n",
       "      <th>longitude</th>\n",
       "      <th>solar_azimuth</th>\n",
       "      <th>solar_elevation</th>\n",
       "    </tr>\n",
       "  </thead>\n",
       "  <tbody>\n",
       "    <tr>\n",
       "      <th>0</th>\n",
       "      <td>2024-01-01 00:00:00</td>\n",
       "      <td>7.200</td>\n",
       "      <td>89.080</td>\n",
       "      <td>96.300</td>\n",
       "      <td>0.0</td>\n",
       "      <td>0.0</td>\n",
       "      <td>50.920699</td>\n",
       "      <td>3.253208</td>\n",
       "      <td>-3.058781</td>\n",
       "      <td>-1.083954</td>\n",
       "    </tr>\n",
       "    <tr>\n",
       "      <th>1</th>\n",
       "      <td>2024-01-01 00:15:00</td>\n",
       "      <td>7.125</td>\n",
       "      <td>89.600</td>\n",
       "      <td>96.600</td>\n",
       "      <td>0.0</td>\n",
       "      <td>0.0</td>\n",
       "      <td>50.920699</td>\n",
       "      <td>3.253208</td>\n",
       "      <td>-2.931440</td>\n",
       "      <td>-1.077916</td>\n",
       "    </tr>\n",
       "    <tr>\n",
       "      <th>2</th>\n",
       "      <td>2024-01-01 00:30:00</td>\n",
       "      <td>7.050</td>\n",
       "      <td>90.120</td>\n",
       "      <td>96.900</td>\n",
       "      <td>0.0</td>\n",
       "      <td>0.0</td>\n",
       "      <td>50.920699</td>\n",
       "      <td>3.253208</td>\n",
       "      <td>-2.807635</td>\n",
       "      <td>-1.066812</td>\n",
       "    </tr>\n",
       "    <tr>\n",
       "      <th>3</th>\n",
       "      <td>2024-01-01 00:45:00</td>\n",
       "      <td>6.975</td>\n",
       "      <td>90.640</td>\n",
       "      <td>97.200</td>\n",
       "      <td>0.0</td>\n",
       "      <td>0.0</td>\n",
       "      <td>50.920699</td>\n",
       "      <td>3.253208</td>\n",
       "      <td>-2.689024</td>\n",
       "      <td>-1.050984</td>\n",
       "    </tr>\n",
       "    <tr>\n",
       "      <th>4</th>\n",
       "      <td>2024-01-01 01:00:00</td>\n",
       "      <td>6.900</td>\n",
       "      <td>91.160</td>\n",
       "      <td>97.500</td>\n",
       "      <td>0.0</td>\n",
       "      <td>0.0</td>\n",
       "      <td>50.920699</td>\n",
       "      <td>3.253208</td>\n",
       "      <td>-2.576724</td>\n",
       "      <td>-1.030873</td>\n",
       "    </tr>\n",
       "    <tr>\n",
       "      <th>5</th>\n",
       "      <td>2024-01-01 01:15:00</td>\n",
       "      <td>7.000</td>\n",
       "      <td>91.195</td>\n",
       "      <td>95.725</td>\n",
       "      <td>0.0</td>\n",
       "      <td>0.0</td>\n",
       "      <td>50.920699</td>\n",
       "      <td>3.253208</td>\n",
       "      <td>-2.471311</td>\n",
       "      <td>-1.006968</td>\n",
       "    </tr>\n",
       "    <tr>\n",
       "      <th>6</th>\n",
       "      <td>2024-01-01 01:30:00</td>\n",
       "      <td>7.100</td>\n",
       "      <td>91.230</td>\n",
       "      <td>93.950</td>\n",
       "      <td>0.0</td>\n",
       "      <td>0.0</td>\n",
       "      <td>50.920699</td>\n",
       "      <td>3.253208</td>\n",
       "      <td>-2.372902</td>\n",
       "      <td>-0.979768</td>\n",
       "    </tr>\n",
       "    <tr>\n",
       "      <th>7</th>\n",
       "      <td>2024-01-01 01:45:00</td>\n",
       "      <td>7.200</td>\n",
       "      <td>91.265</td>\n",
       "      <td>92.175</td>\n",
       "      <td>0.0</td>\n",
       "      <td>0.0</td>\n",
       "      <td>50.920699</td>\n",
       "      <td>3.253208</td>\n",
       "      <td>-2.281271</td>\n",
       "      <td>-0.949750</td>\n",
       "    </tr>\n",
       "    <tr>\n",
       "      <th>8</th>\n",
       "      <td>2024-01-01 02:00:00</td>\n",
       "      <td>7.300</td>\n",
       "      <td>91.300</td>\n",
       "      <td>90.400</td>\n",
       "      <td>0.0</td>\n",
       "      <td>0.0</td>\n",
       "      <td>50.920699</td>\n",
       "      <td>3.253208</td>\n",
       "      <td>-2.195979</td>\n",
       "      <td>-0.917351</td>\n",
       "    </tr>\n",
       "    <tr>\n",
       "      <th>9</th>\n",
       "      <td>2024-01-01 02:15:00</td>\n",
       "      <td>7.325</td>\n",
       "      <td>90.540</td>\n",
       "      <td>90.800</td>\n",
       "      <td>0.0</td>\n",
       "      <td>0.0</td>\n",
       "      <td>50.920699</td>\n",
       "      <td>3.253208</td>\n",
       "      <td>-2.116463</td>\n",
       "      <td>-0.882961</td>\n",
       "    </tr>\n",
       "  </tbody>\n",
       "</table>\n",
       "</div>"
      ],
      "text/plain": [
       "             datetime   temp  humidity  cloudcover  solarenergy  uvindex  \\\n",
       "0 2024-01-01 00:00:00  7.200    89.080      96.300          0.0      0.0   \n",
       "1 2024-01-01 00:15:00  7.125    89.600      96.600          0.0      0.0   \n",
       "2 2024-01-01 00:30:00  7.050    90.120      96.900          0.0      0.0   \n",
       "3 2024-01-01 00:45:00  6.975    90.640      97.200          0.0      0.0   \n",
       "4 2024-01-01 01:00:00  6.900    91.160      97.500          0.0      0.0   \n",
       "5 2024-01-01 01:15:00  7.000    91.195      95.725          0.0      0.0   \n",
       "6 2024-01-01 01:30:00  7.100    91.230      93.950          0.0      0.0   \n",
       "7 2024-01-01 01:45:00  7.200    91.265      92.175          0.0      0.0   \n",
       "8 2024-01-01 02:00:00  7.300    91.300      90.400          0.0      0.0   \n",
       "9 2024-01-01 02:15:00  7.325    90.540      90.800          0.0      0.0   \n",
       "\n",
       "    latitude  longitude  solar_azimuth  solar_elevation  \n",
       "0  50.920699   3.253208      -3.058781        -1.083954  \n",
       "1  50.920699   3.253208      -2.931440        -1.077916  \n",
       "2  50.920699   3.253208      -2.807635        -1.066812  \n",
       "3  50.920699   3.253208      -2.689024        -1.050984  \n",
       "4  50.920699   3.253208      -2.576724        -1.030873  \n",
       "5  50.920699   3.253208      -2.471311        -1.006968  \n",
       "6  50.920699   3.253208      -2.372902        -0.979768  \n",
       "7  50.920699   3.253208      -2.281271        -0.949750  \n",
       "8  50.920699   3.253208      -2.195979        -0.917351  \n",
       "9  50.920699   3.253208      -2.116463        -0.882961  "
      ]
     },
     "execution_count": 54,
     "metadata": {},
     "output_type": "execute_result"
    }
   ],
   "source": [
    "# importeren van de ruwe weersdata en deze preprocessen\n",
    "processor = wdp.WeatherDataPreprocess()\n",
    "df_weather_ingelmunster = pd.DataFrame(columns=['datetime', 'temp', 'humidity', 'cloudcover', 'solarenergy', 'uvindex', 'latitude', 'longitude', 'solar_azimuth', 'solar_elevation'])\n",
    "df_weather_gullegem = pd.DataFrame(columns=['datetime', 'temp', 'humidity', 'cloudcover', 'solarenergy', 'uvindex', 'latitude', 'longitude', 'solar_azimuth', 'solar_elevation'])\n",
    "df_weather_test_ingelmunster = pd.DataFrame(columns=['datetime', 'temp', 'humidity', 'cloudcover', 'solarenergy', 'uvindex', 'latitude', 'longitude', 'solar_azimuth', 'solar_elevation'])\n",
    "df_weather_test_gullegem = pd.DataFrame(columns=['datetime', 'temp', 'humidity', 'cloudcover', 'solarenergy', 'uvindex', 'latitude', 'longitude', 'solar_azimuth', 'solar_elevation'])\n",
    "for file in range(len(weather_train_data_ingelmunster)):\n",
    "    print(f'Processing {weather_train_data_ingelmunster[file]}')\n",
    "    df_weather_ingelmunster = pd.concat([df_weather_ingelmunster, processor.preprocessWeatherData(lat=ingelmunster_location[0], lng=ingelmunster_location[1], file_name=weather_train_data_ingelmunster[file])])\n",
    "for file in range(len(weather_test_data_ingelmunster)):\n",
    "    print(f'Processing {weather_test_data_ingelmunster[file]}')\n",
    "    df_weather_test_ingelmunster = pd.concat([df_weather_test_ingelmunster, processor.preprocessWeatherData(lat=ingelmunster_location[0], lng=ingelmunster_location[1], file_name=weather_test_data_ingelmunster[file])])\n",
    "for file in range(len(weather_train_data_gullegem)):\n",
    "    print(f'Processing {weather_train_data_gullegem[file]}')\n",
    "    df_weather_gullegem = pd.concat([df_weather_gullegem, processor.preprocessWeatherData(lat=gullegem_location[0], lng=gullegem_location[1], file_name=weather_train_data_gullegem[file])])\n",
    "for file in range(len(weather_test_data_gullegem)):\n",
    "    print(f'Processing {weather_test_data_gullegem[file]}')\n",
    "    df_weather_test_gullegem = pd.concat([df_weather_test_gullegem, processor.preprocessWeatherData(lat=gullegem_location[0], lng=gullegem_location[1], file_name=weather_test_data_gullegem[file])])\n",
    "df_weather_ingelmunster.head(10)"
   ]
  },
  {
   "cell_type": "code",
   "execution_count": 55,
   "metadata": {},
   "outputs": [],
   "source": [
    "# Een checkpoint toevoegen voor de ruwe weersdata\n",
    "df_weather_ingelmunster.to_csv('data/processed/ingelmunster_weather_data.csv', index=False)\n",
    "df_weather_gullegem.to_csv('data/processed/gullegem_weather_data.csv', index=False)"
   ]
  },
  {
   "cell_type": "code",
   "execution_count": 56,
   "metadata": {},
   "outputs": [],
   "source": [
    "# Verwijderen van de kolommen die niet nodig zijn\n",
    "df_weather_ingelmunster.drop(columns=['humidity', 'latitude', 'longitude'], inplace=True)\n",
    "df_weather_test_ingelmunster.drop(columns=['humidity', 'latitude', 'longitude'], inplace=True)\n",
    "df_weather_gullegem.drop(columns=['humidity', 'latitude', 'longitude'], inplace=True)\n",
    "df_weather_test_gullegem.drop(columns=['humidity', 'latitude', 'longitude'], inplace=True)"
   ]
  },
  {
   "cell_type": "code",
   "execution_count": 57,
   "metadata": {},
   "outputs": [
    {
     "data": {
      "application/vnd.microsoft.datawrangler.viewer.v0+json": {
       "columns": [
        {
         "name": "index",
         "rawType": "int64",
         "type": "integer"
        },
        {
         "name": "datetime",
         "rawType": "datetime64[ns]",
         "type": "datetime"
        },
        {
         "name": "total_production_kwh",
         "rawType": "float64",
         "type": "float"
        },
        {
         "name": "production_15_min_kwh",
         "rawType": "float64",
         "type": "float"
        },
        {
         "name": "production_15_min_%",
         "rawType": "float64",
         "type": "float"
        }
       ],
       "conversionMethod": "pd.DataFrame",
       "ref": "a5832c7c-91d1-42f6-81f6-bd0745aa12b0",
       "rows": [
        [
         "26943",
         "2024-12-31 21:30:00",
         "20591.94",
         "0.0",
         "0.0"
        ],
        [
         "26944",
         "2024-12-31 21:45:00",
         "20591.94",
         "0.0",
         "0.0"
        ],
        [
         "26945",
         "2024-12-31 22:00:00",
         "20591.94",
         "0.0",
         "0.0"
        ],
        [
         "26946",
         "2024-12-31 22:15:00",
         "20591.94",
         "0.0",
         "0.0"
        ],
        [
         "26947",
         "2024-12-31 22:30:00",
         "20591.94",
         "0.0",
         "0.0"
        ],
        [
         "26948",
         "2024-12-31 22:45:00",
         "20591.94",
         "0.0",
         "0.0"
        ],
        [
         "26949",
         "2024-12-31 23:00:00",
         "20591.94",
         "0.0",
         "0.0"
        ],
        [
         "26950",
         "2024-12-31 23:15:00",
         "20591.94",
         "0.0",
         "0.0"
        ],
        [
         "26951",
         "2024-12-31 23:30:00",
         "20591.94",
         "0.0",
         "0.0"
        ],
        [
         "26952",
         "2024-12-31 23:45:00",
         "20591.94",
         "0.0",
         "0.0"
        ]
       ],
       "shape": {
        "columns": 4,
        "rows": 10
       }
      },
      "text/html": [
       "<div>\n",
       "<style scoped>\n",
       "    .dataframe tbody tr th:only-of-type {\n",
       "        vertical-align: middle;\n",
       "    }\n",
       "\n",
       "    .dataframe tbody tr th {\n",
       "        vertical-align: top;\n",
       "    }\n",
       "\n",
       "    .dataframe thead th {\n",
       "        text-align: right;\n",
       "    }\n",
       "</style>\n",
       "<table border=\"1\" class=\"dataframe\">\n",
       "  <thead>\n",
       "    <tr style=\"text-align: right;\">\n",
       "      <th></th>\n",
       "      <th>datetime</th>\n",
       "      <th>total_production_kwh</th>\n",
       "      <th>production_15_min_kwh</th>\n",
       "      <th>production_15_min_%</th>\n",
       "    </tr>\n",
       "  </thead>\n",
       "  <tbody>\n",
       "    <tr>\n",
       "      <th>26943</th>\n",
       "      <td>2024-12-31 21:30:00</td>\n",
       "      <td>20591.94</td>\n",
       "      <td>0.0</td>\n",
       "      <td>0.0</td>\n",
       "    </tr>\n",
       "    <tr>\n",
       "      <th>26944</th>\n",
       "      <td>2024-12-31 21:45:00</td>\n",
       "      <td>20591.94</td>\n",
       "      <td>0.0</td>\n",
       "      <td>0.0</td>\n",
       "    </tr>\n",
       "    <tr>\n",
       "      <th>26945</th>\n",
       "      <td>2024-12-31 22:00:00</td>\n",
       "      <td>20591.94</td>\n",
       "      <td>0.0</td>\n",
       "      <td>0.0</td>\n",
       "    </tr>\n",
       "    <tr>\n",
       "      <th>26946</th>\n",
       "      <td>2024-12-31 22:15:00</td>\n",
       "      <td>20591.94</td>\n",
       "      <td>0.0</td>\n",
       "      <td>0.0</td>\n",
       "    </tr>\n",
       "    <tr>\n",
       "      <th>26947</th>\n",
       "      <td>2024-12-31 22:30:00</td>\n",
       "      <td>20591.94</td>\n",
       "      <td>0.0</td>\n",
       "      <td>0.0</td>\n",
       "    </tr>\n",
       "    <tr>\n",
       "      <th>26948</th>\n",
       "      <td>2024-12-31 22:45:00</td>\n",
       "      <td>20591.94</td>\n",
       "      <td>0.0</td>\n",
       "      <td>0.0</td>\n",
       "    </tr>\n",
       "    <tr>\n",
       "      <th>26949</th>\n",
       "      <td>2024-12-31 23:00:00</td>\n",
       "      <td>20591.94</td>\n",
       "      <td>0.0</td>\n",
       "      <td>0.0</td>\n",
       "    </tr>\n",
       "    <tr>\n",
       "      <th>26950</th>\n",
       "      <td>2024-12-31 23:15:00</td>\n",
       "      <td>20591.94</td>\n",
       "      <td>0.0</td>\n",
       "      <td>0.0</td>\n",
       "    </tr>\n",
       "    <tr>\n",
       "      <th>26951</th>\n",
       "      <td>2024-12-31 23:30:00</td>\n",
       "      <td>20591.94</td>\n",
       "      <td>0.0</td>\n",
       "      <td>0.0</td>\n",
       "    </tr>\n",
       "    <tr>\n",
       "      <th>26952</th>\n",
       "      <td>2024-12-31 23:45:00</td>\n",
       "      <td>20591.94</td>\n",
       "      <td>0.0</td>\n",
       "      <td>0.0</td>\n",
       "    </tr>\n",
       "  </tbody>\n",
       "</table>\n",
       "</div>"
      ],
      "text/plain": [
       "                 datetime  total_production_kwh  production_15_min_kwh  \\\n",
       "26943 2024-12-31 21:30:00              20591.94                    0.0   \n",
       "26944 2024-12-31 21:45:00              20591.94                    0.0   \n",
       "26945 2024-12-31 22:00:00              20591.94                    0.0   \n",
       "26946 2024-12-31 22:15:00              20591.94                    0.0   \n",
       "26947 2024-12-31 22:30:00              20591.94                    0.0   \n",
       "26948 2024-12-31 22:45:00              20591.94                    0.0   \n",
       "26949 2024-12-31 23:00:00              20591.94                    0.0   \n",
       "26950 2024-12-31 23:15:00              20591.94                    0.0   \n",
       "26951 2024-12-31 23:30:00              20591.94                    0.0   \n",
       "26952 2024-12-31 23:45:00              20591.94                    0.0   \n",
       "\n",
       "       production_15_min_%  \n",
       "26943                  0.0  \n",
       "26944                  0.0  \n",
       "26945                  0.0  \n",
       "26946                  0.0  \n",
       "26947                  0.0  \n",
       "26948                  0.0  \n",
       "26949                  0.0  \n",
       "26950                  0.0  \n",
       "26951                  0.0  \n",
       "26952                  0.0  "
      ]
     },
     "execution_count": 57,
     "metadata": {},
     "output_type": "execute_result"
    }
   ],
   "source": [
    "# Importeren van de ruwe productiedata en deze preprocessen\n",
    "df_all_jvr = pd.read_csv('data/processed/pv_jvr_total.csv')\n",
    "df_all_jvr['datetime'] = pd.to_datetime(df_all_jvr['datetime'])\n",
    "df_all_ddp = pd.read_csv('data/processed/pv_ddp_total.csv')\n",
    "df_all_ddp['datetime'] = pd.to_datetime(df_all_ddp['datetime'])\n",
    "# Filter data voor een train en test set\n",
    "df_production_jvr = df_all_jvr[df_all_jvr['datetime'].dt.year == 2024]\n",
    "df_production_test_jvr = df_all_jvr[df_all_jvr['datetime'].dt.year == 2025]\n",
    "df_production_ddp = df_all_ddp[df_all_ddp['datetime'].dt.year == 2024]\n",
    "df_production_test_ddp = df_all_ddp[df_all_ddp['datetime'].dt.year == 2025]\n",
    "df_production_jvr.tail(10)"
   ]
  },
  {
   "cell_type": "code",
   "execution_count": 58,
   "metadata": {},
   "outputs": [
    {
     "data": {
      "application/vnd.microsoft.datawrangler.viewer.v0+json": {
       "columns": [
        {
         "name": "index",
         "rawType": "int64",
         "type": "integer"
        },
        {
         "name": "datetime",
         "rawType": "datetime64[ns]",
         "type": "datetime"
        },
        {
         "name": "production_15_min_%",
         "rawType": "float64",
         "type": "float"
        },
        {
         "name": "temp",
         "rawType": "float64",
         "type": "float"
        },
        {
         "name": "cloudcover",
         "rawType": "float64",
         "type": "float"
        },
        {
         "name": "solarenergy",
         "rawType": "float64",
         "type": "float"
        },
        {
         "name": "uvindex",
         "rawType": "float64",
         "type": "float"
        },
        {
         "name": "solar_azimuth",
         "rawType": "float64",
         "type": "float"
        },
        {
         "name": "solar_elevation",
         "rawType": "float64",
         "type": "float"
        }
       ],
       "conversionMethod": "pd.DataFrame",
       "ref": "5f9784bd-42c5-4f5a-aa01-9d6bda4b7911",
       "rows": [
        [
         "0",
         "2024-03-14 08:15:00",
         "0.092",
         "8.325",
         "54.475",
         "0.325",
         "0.5",
         "-1.0541199706309496",
         "0.33041165068185335"
        ],
        [
         "1",
         "2024-03-14 08:45:00",
         "0.387",
         "9.175",
         "46.225",
         "0.575",
         "1.5",
         "-0.9353235697533843",
         "0.39973189090008776"
        ],
        [
         "2",
         "2024-03-14 09:00:00",
         "0.231",
         "9.6",
         "42.1",
         "0.7",
         "2.0",
         "-0.8732673452587921",
         "0.43222860723291284"
        ],
        [
         "3",
         "2024-03-14 09:15:00",
         "0.203",
         "10.0",
         "48.875",
         "0.8999999999999999",
         "2.5",
         "-0.8092735177845215",
         "0.46305555926301506"
        ],
        [
         "4",
         "2024-03-14 09:30:00",
         "0.172",
         "10.399999999999999",
         "55.650000000000006",
         "1.1",
         "3.0",
         "-0.7432465262133454",
         "0.492032215431663"
        ],
        [
         "5",
         "2024-03-14 09:45:00",
         "0.085",
         "10.799999999999999",
         "62.425000000000004",
         "1.3",
         "3.5",
         "-0.675122160192194",
         "0.5189717930311978"
        ],
        [
         "6",
         "2024-03-14 12:00:00",
         "4.431",
         "14.8",
         "52.4",
         "2.0",
         "6.0",
         "0.018609623224236024",
         "0.6403201526968968"
        ],
        [
         "7",
         "2024-03-14 12:15:00",
         "0.826",
         "14.925",
         "50.3",
         "1.85",
         "5.5",
         "0.10005495721122823",
         "0.6379444622498894"
        ],
        [
         "8",
         "2024-03-14 12:30:00",
         "0.747",
         "15.05",
         "48.2",
         "1.7",
         "5.0",
         "0.18100073390448942",
         "0.6322349875630373"
        ],
        [
         "9",
         "2024-03-14 12:45:00",
         "0.404",
         "15.175",
         "46.1",
         "1.5499999999999998",
         "4.5",
         "0.2610569248796823",
         "0.6232576905375985"
        ]
       ],
       "shape": {
        "columns": 8,
        "rows": 10
       }
      },
      "text/html": [
       "<div>\n",
       "<style scoped>\n",
       "    .dataframe tbody tr th:only-of-type {\n",
       "        vertical-align: middle;\n",
       "    }\n",
       "\n",
       "    .dataframe tbody tr th {\n",
       "        vertical-align: top;\n",
       "    }\n",
       "\n",
       "    .dataframe thead th {\n",
       "        text-align: right;\n",
       "    }\n",
       "</style>\n",
       "<table border=\"1\" class=\"dataframe\">\n",
       "  <thead>\n",
       "    <tr style=\"text-align: right;\">\n",
       "      <th></th>\n",
       "      <th>datetime</th>\n",
       "      <th>production_15_min_%</th>\n",
       "      <th>temp</th>\n",
       "      <th>cloudcover</th>\n",
       "      <th>solarenergy</th>\n",
       "      <th>uvindex</th>\n",
       "      <th>solar_azimuth</th>\n",
       "      <th>solar_elevation</th>\n",
       "    </tr>\n",
       "  </thead>\n",
       "  <tbody>\n",
       "    <tr>\n",
       "      <th>0</th>\n",
       "      <td>2024-03-14 08:15:00</td>\n",
       "      <td>0.092</td>\n",
       "      <td>8.325</td>\n",
       "      <td>54.475</td>\n",
       "      <td>0.325</td>\n",
       "      <td>0.5</td>\n",
       "      <td>-1.054120</td>\n",
       "      <td>0.330412</td>\n",
       "    </tr>\n",
       "    <tr>\n",
       "      <th>1</th>\n",
       "      <td>2024-03-14 08:45:00</td>\n",
       "      <td>0.387</td>\n",
       "      <td>9.175</td>\n",
       "      <td>46.225</td>\n",
       "      <td>0.575</td>\n",
       "      <td>1.5</td>\n",
       "      <td>-0.935324</td>\n",
       "      <td>0.399732</td>\n",
       "    </tr>\n",
       "    <tr>\n",
       "      <th>2</th>\n",
       "      <td>2024-03-14 09:00:00</td>\n",
       "      <td>0.231</td>\n",
       "      <td>9.600</td>\n",
       "      <td>42.100</td>\n",
       "      <td>0.700</td>\n",
       "      <td>2.0</td>\n",
       "      <td>-0.873267</td>\n",
       "      <td>0.432229</td>\n",
       "    </tr>\n",
       "    <tr>\n",
       "      <th>3</th>\n",
       "      <td>2024-03-14 09:15:00</td>\n",
       "      <td>0.203</td>\n",
       "      <td>10.000</td>\n",
       "      <td>48.875</td>\n",
       "      <td>0.900</td>\n",
       "      <td>2.5</td>\n",
       "      <td>-0.809274</td>\n",
       "      <td>0.463056</td>\n",
       "    </tr>\n",
       "    <tr>\n",
       "      <th>4</th>\n",
       "      <td>2024-03-14 09:30:00</td>\n",
       "      <td>0.172</td>\n",
       "      <td>10.400</td>\n",
       "      <td>55.650</td>\n",
       "      <td>1.100</td>\n",
       "      <td>3.0</td>\n",
       "      <td>-0.743247</td>\n",
       "      <td>0.492032</td>\n",
       "    </tr>\n",
       "    <tr>\n",
       "      <th>5</th>\n",
       "      <td>2024-03-14 09:45:00</td>\n",
       "      <td>0.085</td>\n",
       "      <td>10.800</td>\n",
       "      <td>62.425</td>\n",
       "      <td>1.300</td>\n",
       "      <td>3.5</td>\n",
       "      <td>-0.675122</td>\n",
       "      <td>0.518972</td>\n",
       "    </tr>\n",
       "    <tr>\n",
       "      <th>6</th>\n",
       "      <td>2024-03-14 12:00:00</td>\n",
       "      <td>4.431</td>\n",
       "      <td>14.800</td>\n",
       "      <td>52.400</td>\n",
       "      <td>2.000</td>\n",
       "      <td>6.0</td>\n",
       "      <td>0.018610</td>\n",
       "      <td>0.640320</td>\n",
       "    </tr>\n",
       "    <tr>\n",
       "      <th>7</th>\n",
       "      <td>2024-03-14 12:15:00</td>\n",
       "      <td>0.826</td>\n",
       "      <td>14.925</td>\n",
       "      <td>50.300</td>\n",
       "      <td>1.850</td>\n",
       "      <td>5.5</td>\n",
       "      <td>0.100055</td>\n",
       "      <td>0.637944</td>\n",
       "    </tr>\n",
       "    <tr>\n",
       "      <th>8</th>\n",
       "      <td>2024-03-14 12:30:00</td>\n",
       "      <td>0.747</td>\n",
       "      <td>15.050</td>\n",
       "      <td>48.200</td>\n",
       "      <td>1.700</td>\n",
       "      <td>5.0</td>\n",
       "      <td>0.181001</td>\n",
       "      <td>0.632235</td>\n",
       "    </tr>\n",
       "    <tr>\n",
       "      <th>9</th>\n",
       "      <td>2024-03-14 12:45:00</td>\n",
       "      <td>0.404</td>\n",
       "      <td>15.175</td>\n",
       "      <td>46.100</td>\n",
       "      <td>1.550</td>\n",
       "      <td>4.5</td>\n",
       "      <td>0.261057</td>\n",
       "      <td>0.623258</td>\n",
       "    </tr>\n",
       "  </tbody>\n",
       "</table>\n",
       "</div>"
      ],
      "text/plain": [
       "             datetime  production_15_min_%    temp  cloudcover  solarenergy  \\\n",
       "0 2024-03-14 08:15:00                0.092   8.325      54.475        0.325   \n",
       "1 2024-03-14 08:45:00                0.387   9.175      46.225        0.575   \n",
       "2 2024-03-14 09:00:00                0.231   9.600      42.100        0.700   \n",
       "3 2024-03-14 09:15:00                0.203  10.000      48.875        0.900   \n",
       "4 2024-03-14 09:30:00                0.172  10.400      55.650        1.100   \n",
       "5 2024-03-14 09:45:00                0.085  10.800      62.425        1.300   \n",
       "6 2024-03-14 12:00:00                4.431  14.800      52.400        2.000   \n",
       "7 2024-03-14 12:15:00                0.826  14.925      50.300        1.850   \n",
       "8 2024-03-14 12:30:00                0.747  15.050      48.200        1.700   \n",
       "9 2024-03-14 12:45:00                0.404  15.175      46.100        1.550   \n",
       "\n",
       "   uvindex  solar_azimuth  solar_elevation  \n",
       "0      0.5      -1.054120         0.330412  \n",
       "1      1.5      -0.935324         0.399732  \n",
       "2      2.0      -0.873267         0.432229  \n",
       "3      2.5      -0.809274         0.463056  \n",
       "4      3.0      -0.743247         0.492032  \n",
       "5      3.5      -0.675122         0.518972  \n",
       "6      6.0       0.018610         0.640320  \n",
       "7      5.5       0.100055         0.637944  \n",
       "8      5.0       0.181001         0.632235  \n",
       "9      4.5       0.261057         0.623258  "
      ]
     },
     "execution_count": 58,
     "metadata": {},
     "output_type": "execute_result"
    }
   ],
   "source": [
    "# Voeg de twee dataframes samen\n",
    "df_jvr = pd.merge(df_production_jvr, df_weather_ingelmunster, on='datetime')\n",
    "df_jvr.drop(columns=['total_production_kwh', 'production_15_min_kwh'], inplace=True)\n",
    "df_ddp = pd.merge(df_production_ddp, df_weather_gullegem, on='datetime')\n",
    "df_ddp.drop(columns=['total_production_kwh', 'production_15_min_kwh'], inplace=True)\n",
    "df_test_jvr = pd.merge(df_production_test_jvr, df_weather_test_ingelmunster, on='datetime')\n",
    "df_test_jvr.drop(columns=['total_production_kwh', 'production_15_min_kwh'], inplace=True)\n",
    "df_test_ddp = pd.merge(df_production_test_ddp, df_weather_test_gullegem, on='datetime')\n",
    "df_test_ddp.drop(columns=['total_production_kwh', 'production_15_min_kwh'], inplace=True)\n",
    "df_jvr.head(10)"
   ]
  },
  {
   "cell_type": "code",
   "execution_count": 59,
   "metadata": {},
   "outputs": [],
   "source": [
    "# De trainingsdata van beide huizen samenvoegen\n",
    "df_all = pd.concat([df_jvr, df_ddp], axis=0)\n",
    "df_jvr_lstm = df_jvr.copy()\n",
    "df_ddp_lstm = df_ddp.copy()"
   ]
  },
  {
   "cell_type": "code",
   "execution_count": 60,
   "metadata": {},
   "outputs": [],
   "source": [
    "# Geef de dag van het jaar weer als een sinus- en cosinusgolf\n",
    "# Dag van het jaar extraheren\n",
    "df_all['day_of_year'] = df_all['datetime'].dt.dayofyear\n",
    "df_jvr_lstm['day_of_year'] = df_jvr_lstm['datetime'].dt.dayofyear\n",
    "df_ddp_lstm['day_of_year'] = df_ddp_lstm['datetime'].dt.dayofyear\n",
    "df_test_jvr['day_of_year'] = df_test_jvr['datetime'].dt.dayofyear\n",
    "df_test_ddp['day_of_year'] = df_test_ddp['datetime'].dt.dayofyear\n",
    "# Bereken sinus- en cosinuswaarden voor day_of_year\n",
    "df_all['day_of_year_sine'] = np.sin(2 * np.pi * df_all['day_of_year'] / 365)\n",
    "df_all['day_of_year_cosine'] = np.cos(2 * np.pi * df_all['day_of_year'] / 365)\n",
    "df_jvr_lstm['day_of_year_sine'] = np.sin(2 * np.pi * df_jvr_lstm['day_of_year'] / 365)\n",
    "df_jvr_lstm['day_of_year_cosine'] = np.cos(2 * np.pi * df_jvr_lstm['day_of_year'] / 365)\n",
    "df_ddp_lstm['day_of_year_sine'] = np.sin(2 * np.pi * df_ddp_lstm['day_of_year'] / 365)\n",
    "df_ddp_lstm['day_of_year_cosine'] = np.cos(2 * np.pi * df_ddp_lstm['day_of_year'] / 365)\n",
    "df_test_jvr['day_of_year_sine'] = np.sin(2 * np.pi * df_test_jvr['day_of_year'] / 365)\n",
    "df_test_jvr['day_of_year_cosine'] = np.cos(2 * np.pi * df_test_jvr['day_of_year'] / 365)\n",
    "df_test_ddp['day_of_year_sine'] = np.sin(2 * np.pi * df_test_ddp['day_of_year'] / 365)\n",
    "df_test_ddp['day_of_year_cosine'] = np.cos(2 * np.pi * df_test_ddp['day_of_year'] / 365)"
   ]
  },
  {
   "cell_type": "code",
   "execution_count": 61,
   "metadata": {},
   "outputs": [
    {
     "data": {
      "application/vnd.microsoft.datawrangler.viewer.v0+json": {
       "columns": [
        {
         "name": "index",
         "rawType": "int64",
         "type": "integer"
        },
        {
         "name": "production_15_min_%",
         "rawType": "float64",
         "type": "float"
        },
        {
         "name": "temp",
         "rawType": "float64",
         "type": "float"
        },
        {
         "name": "cloudcover",
         "rawType": "float64",
         "type": "float"
        },
        {
         "name": "solarenergy",
         "rawType": "float64",
         "type": "float"
        },
        {
         "name": "uvindex",
         "rawType": "float64",
         "type": "float"
        },
        {
         "name": "solar_azimuth",
         "rawType": "float64",
         "type": "float"
        },
        {
         "name": "solar_elevation",
         "rawType": "float64",
         "type": "float"
        },
        {
         "name": "day_of_year_sine",
         "rawType": "float64",
         "type": "float"
        },
        {
         "name": "day_of_year_cosine",
         "rawType": "float64",
         "type": "float"
        }
       ],
       "conversionMethod": "pd.DataFrame",
       "ref": "6a298534-05c9-47c9-9035-a088973d1815",
       "rows": [
        [
         "0",
         "0.092",
         "8.325",
         "54.475",
         "0.325",
         "0.5",
         "-1.0541199706309496",
         "0.33041165068185335",
         "0.9562348265919056",
         "0.29260033563334836"
        ],
        [
         "1",
         "0.387",
         "9.175",
         "46.225",
         "0.575",
         "1.5",
         "-0.9353235697533843",
         "0.39973189090008776",
         "0.9562348265919056",
         "0.29260033563334836"
        ],
        [
         "2",
         "0.231",
         "9.6",
         "42.1",
         "0.7",
         "2.0",
         "-0.8732673452587921",
         "0.43222860723291284",
         "0.9562348265919056",
         "0.29260033563334836"
        ],
        [
         "3",
         "0.203",
         "10.0",
         "48.875",
         "0.8999999999999999",
         "2.5",
         "-0.8092735177845215",
         "0.46305555926301506",
         "0.9562348265919056",
         "0.29260033563334836"
        ],
        [
         "4",
         "0.172",
         "10.399999999999999",
         "55.650000000000006",
         "1.1",
         "3.0",
         "-0.7432465262133454",
         "0.492032215431663",
         "0.9562348265919056",
         "0.29260033563334836"
        ]
       ],
       "shape": {
        "columns": 9,
        "rows": 5
       }
      },
      "text/html": [
       "<div>\n",
       "<style scoped>\n",
       "    .dataframe tbody tr th:only-of-type {\n",
       "        vertical-align: middle;\n",
       "    }\n",
       "\n",
       "    .dataframe tbody tr th {\n",
       "        vertical-align: top;\n",
       "    }\n",
       "\n",
       "    .dataframe thead th {\n",
       "        text-align: right;\n",
       "    }\n",
       "</style>\n",
       "<table border=\"1\" class=\"dataframe\">\n",
       "  <thead>\n",
       "    <tr style=\"text-align: right;\">\n",
       "      <th></th>\n",
       "      <th>production_15_min_%</th>\n",
       "      <th>temp</th>\n",
       "      <th>cloudcover</th>\n",
       "      <th>solarenergy</th>\n",
       "      <th>uvindex</th>\n",
       "      <th>solar_azimuth</th>\n",
       "      <th>solar_elevation</th>\n",
       "      <th>day_of_year_sine</th>\n",
       "      <th>day_of_year_cosine</th>\n",
       "    </tr>\n",
       "  </thead>\n",
       "  <tbody>\n",
       "    <tr>\n",
       "      <th>0</th>\n",
       "      <td>0.092</td>\n",
       "      <td>8.325</td>\n",
       "      <td>54.475</td>\n",
       "      <td>0.325</td>\n",
       "      <td>0.5</td>\n",
       "      <td>-1.054120</td>\n",
       "      <td>0.330412</td>\n",
       "      <td>0.956235</td>\n",
       "      <td>0.2926</td>\n",
       "    </tr>\n",
       "    <tr>\n",
       "      <th>1</th>\n",
       "      <td>0.387</td>\n",
       "      <td>9.175</td>\n",
       "      <td>46.225</td>\n",
       "      <td>0.575</td>\n",
       "      <td>1.5</td>\n",
       "      <td>-0.935324</td>\n",
       "      <td>0.399732</td>\n",
       "      <td>0.956235</td>\n",
       "      <td>0.2926</td>\n",
       "    </tr>\n",
       "    <tr>\n",
       "      <th>2</th>\n",
       "      <td>0.231</td>\n",
       "      <td>9.600</td>\n",
       "      <td>42.100</td>\n",
       "      <td>0.700</td>\n",
       "      <td>2.0</td>\n",
       "      <td>-0.873267</td>\n",
       "      <td>0.432229</td>\n",
       "      <td>0.956235</td>\n",
       "      <td>0.2926</td>\n",
       "    </tr>\n",
       "    <tr>\n",
       "      <th>3</th>\n",
       "      <td>0.203</td>\n",
       "      <td>10.000</td>\n",
       "      <td>48.875</td>\n",
       "      <td>0.900</td>\n",
       "      <td>2.5</td>\n",
       "      <td>-0.809274</td>\n",
       "      <td>0.463056</td>\n",
       "      <td>0.956235</td>\n",
       "      <td>0.2926</td>\n",
       "    </tr>\n",
       "    <tr>\n",
       "      <th>4</th>\n",
       "      <td>0.172</td>\n",
       "      <td>10.400</td>\n",
       "      <td>55.650</td>\n",
       "      <td>1.100</td>\n",
       "      <td>3.0</td>\n",
       "      <td>-0.743247</td>\n",
       "      <td>0.492032</td>\n",
       "      <td>0.956235</td>\n",
       "      <td>0.2926</td>\n",
       "    </tr>\n",
       "  </tbody>\n",
       "</table>\n",
       "</div>"
      ],
      "text/plain": [
       "   production_15_min_%    temp  cloudcover  solarenergy  uvindex  \\\n",
       "0                0.092   8.325      54.475        0.325      0.5   \n",
       "1                0.387   9.175      46.225        0.575      1.5   \n",
       "2                0.231   9.600      42.100        0.700      2.0   \n",
       "3                0.203  10.000      48.875        0.900      2.5   \n",
       "4                0.172  10.400      55.650        1.100      3.0   \n",
       "\n",
       "   solar_azimuth  solar_elevation  day_of_year_sine  day_of_year_cosine  \n",
       "0      -1.054120         0.330412          0.956235              0.2926  \n",
       "1      -0.935324         0.399732          0.956235              0.2926  \n",
       "2      -0.873267         0.432229          0.956235              0.2926  \n",
       "3      -0.809274         0.463056          0.956235              0.2926  \n",
       "4      -0.743247         0.492032          0.956235              0.2926  "
      ]
     },
     "execution_count": 61,
     "metadata": {},
     "output_type": "execute_result"
    }
   ],
   "source": [
    "# Verwijder onnodige kolommen\n",
    "df_all.drop(columns=['datetime', 'day_of_year'], inplace=True)\n",
    "df_jvr_lstm.drop(columns=['datetime', 'day_of_year'], inplace=True)\n",
    "df_ddp_lstm.drop(columns=['datetime', 'day_of_year'], inplace=True)\n",
    "df_test_jvr.drop(columns=['datetime', 'day_of_year'], inplace=True)\n",
    "df_test_ddp.drop(columns=['datetime', 'day_of_year'], inplace=True)\n",
    "df_all.head()"
   ]
  },
  {
   "cell_type": "code",
   "execution_count": 62,
   "metadata": {},
   "outputs": [
    {
     "data": {
      "application/vnd.microsoft.datawrangler.viewer.v0+json": {
       "columns": [
        {
         "name": "index",
         "rawType": "object",
         "type": "string"
        },
        {
         "name": "production_15_min_%",
         "rawType": "float64",
         "type": "float"
        },
        {
         "name": "temp",
         "rawType": "float64",
         "type": "float"
        },
        {
         "name": "cloudcover",
         "rawType": "float64",
         "type": "float"
        },
        {
         "name": "solarenergy",
         "rawType": "float64",
         "type": "float"
        },
        {
         "name": "uvindex",
         "rawType": "float64",
         "type": "float"
        },
        {
         "name": "solar_azimuth",
         "rawType": "float64",
         "type": "float"
        },
        {
         "name": "solar_elevation",
         "rawType": "float64",
         "type": "float"
        },
        {
         "name": "day_of_year_sine",
         "rawType": "float64",
         "type": "float"
        },
        {
         "name": "day_of_year_cosine",
         "rawType": "float64",
         "type": "float"
        }
       ],
       "conversionMethod": "pd.DataFrame",
       "ref": "51aac429-7775-409a-b358-636852272b78",
       "rows": [
        [
         "count",
         "53831.0",
         "53831.0",
         "53831.0",
         "53831.0",
         "53831.0",
         "53831.0",
         "53831.0",
         "53831.0",
         "53831.0"
        ],
        [
         "mean",
         "0.4711397783838496",
         "13.30812635841801",
         "75.56024641934944",
         "0.4317345024242537",
         "1.185334658468169",
         "0.00021632139459386367",
         "0.06531150057686096",
         "-0.13734110382908643",
         "-0.19257426659031981"
        ],
        [
         "std",
         "76.69235393352595",
         "5.660661362826117",
         "26.42921372644572",
         "0.686788142592232",
         "1.9248141302775352",
         "1.8110258966784858",
         "0.5313380148280514",
         "0.697912985799475",
         "0.6760085613103565"
        ],
        [
         "min",
         "0.0",
         "-2.2",
         "0.0",
         "0.0",
         "0.0",
         "-3.141515039622655",
         "-1.0924736729081355",
         "-0.9999907397361901",
         "-0.9999629591162655"
        ],
        [
         "25%",
         "0.0",
         "9.05",
         "61.087500000000006",
         "0.0",
         "0.0",
         "-1.619257978943767",
         "-0.3168407826286633",
         "-0.7856498550787144",
         "-0.8190148866680802"
        ],
        [
         "50%",
         "0.001",
         "13.2",
         "87.35",
         "0.05",
         "0.0",
         "-0.005368483856032256",
         "0.05481431503200657",
         "-0.2967128192734901",
         "-0.3496474552512284"
        ],
        [
         "75%",
         "0.185",
         "17.175",
         "96.4",
         "0.625",
         "1.75",
         "1.6214592277842759",
         "0.47548387402576975",
         "0.545240438540651",
         "0.3737197147904692"
        ],
        [
         "max",
         "17793.07",
         "33.9",
         "100.0",
         "3.9",
         "10.0",
         "3.1415871925380543",
         "1.0922561338803052",
         "0.9999907397361901",
         "1.0"
        ]
       ],
       "shape": {
        "columns": 9,
        "rows": 8
       }
      },
      "text/html": [
       "<div>\n",
       "<style scoped>\n",
       "    .dataframe tbody tr th:only-of-type {\n",
       "        vertical-align: middle;\n",
       "    }\n",
       "\n",
       "    .dataframe tbody tr th {\n",
       "        vertical-align: top;\n",
       "    }\n",
       "\n",
       "    .dataframe thead th {\n",
       "        text-align: right;\n",
       "    }\n",
       "</style>\n",
       "<table border=\"1\" class=\"dataframe\">\n",
       "  <thead>\n",
       "    <tr style=\"text-align: right;\">\n",
       "      <th></th>\n",
       "      <th>production_15_min_%</th>\n",
       "      <th>temp</th>\n",
       "      <th>cloudcover</th>\n",
       "      <th>solarenergy</th>\n",
       "      <th>uvindex</th>\n",
       "      <th>solar_azimuth</th>\n",
       "      <th>solar_elevation</th>\n",
       "      <th>day_of_year_sine</th>\n",
       "      <th>day_of_year_cosine</th>\n",
       "    </tr>\n",
       "  </thead>\n",
       "  <tbody>\n",
       "    <tr>\n",
       "      <th>count</th>\n",
       "      <td>53831.000000</td>\n",
       "      <td>53831.000000</td>\n",
       "      <td>53831.000000</td>\n",
       "      <td>53831.000000</td>\n",
       "      <td>53831.000000</td>\n",
       "      <td>53831.000000</td>\n",
       "      <td>53831.000000</td>\n",
       "      <td>53831.000000</td>\n",
       "      <td>53831.000000</td>\n",
       "    </tr>\n",
       "    <tr>\n",
       "      <th>mean</th>\n",
       "      <td>0.471140</td>\n",
       "      <td>13.308126</td>\n",
       "      <td>75.560246</td>\n",
       "      <td>0.431735</td>\n",
       "      <td>1.185335</td>\n",
       "      <td>0.000216</td>\n",
       "      <td>0.065312</td>\n",
       "      <td>-0.137341</td>\n",
       "      <td>-0.192574</td>\n",
       "    </tr>\n",
       "    <tr>\n",
       "      <th>std</th>\n",
       "      <td>76.692354</td>\n",
       "      <td>5.660661</td>\n",
       "      <td>26.429214</td>\n",
       "      <td>0.686788</td>\n",
       "      <td>1.924814</td>\n",
       "      <td>1.811026</td>\n",
       "      <td>0.531338</td>\n",
       "      <td>0.697913</td>\n",
       "      <td>0.676009</td>\n",
       "    </tr>\n",
       "    <tr>\n",
       "      <th>min</th>\n",
       "      <td>0.000000</td>\n",
       "      <td>-2.200000</td>\n",
       "      <td>0.000000</td>\n",
       "      <td>0.000000</td>\n",
       "      <td>0.000000</td>\n",
       "      <td>-3.141515</td>\n",
       "      <td>-1.092474</td>\n",
       "      <td>-0.999991</td>\n",
       "      <td>-0.999963</td>\n",
       "    </tr>\n",
       "    <tr>\n",
       "      <th>25%</th>\n",
       "      <td>0.000000</td>\n",
       "      <td>9.050000</td>\n",
       "      <td>61.087500</td>\n",
       "      <td>0.000000</td>\n",
       "      <td>0.000000</td>\n",
       "      <td>-1.619258</td>\n",
       "      <td>-0.316841</td>\n",
       "      <td>-0.785650</td>\n",
       "      <td>-0.819015</td>\n",
       "    </tr>\n",
       "    <tr>\n",
       "      <th>50%</th>\n",
       "      <td>0.001000</td>\n",
       "      <td>13.200000</td>\n",
       "      <td>87.350000</td>\n",
       "      <td>0.050000</td>\n",
       "      <td>0.000000</td>\n",
       "      <td>-0.005368</td>\n",
       "      <td>0.054814</td>\n",
       "      <td>-0.296713</td>\n",
       "      <td>-0.349647</td>\n",
       "    </tr>\n",
       "    <tr>\n",
       "      <th>75%</th>\n",
       "      <td>0.185000</td>\n",
       "      <td>17.175000</td>\n",
       "      <td>96.400000</td>\n",
       "      <td>0.625000</td>\n",
       "      <td>1.750000</td>\n",
       "      <td>1.621459</td>\n",
       "      <td>0.475484</td>\n",
       "      <td>0.545240</td>\n",
       "      <td>0.373720</td>\n",
       "    </tr>\n",
       "    <tr>\n",
       "      <th>max</th>\n",
       "      <td>17793.070000</td>\n",
       "      <td>33.900000</td>\n",
       "      <td>100.000000</td>\n",
       "      <td>3.900000</td>\n",
       "      <td>10.000000</td>\n",
       "      <td>3.141587</td>\n",
       "      <td>1.092256</td>\n",
       "      <td>0.999991</td>\n",
       "      <td>1.000000</td>\n",
       "    </tr>\n",
       "  </tbody>\n",
       "</table>\n",
       "</div>"
      ],
      "text/plain": [
       "       production_15_min_%          temp    cloudcover   solarenergy  \\\n",
       "count         53831.000000  53831.000000  53831.000000  53831.000000   \n",
       "mean              0.471140     13.308126     75.560246      0.431735   \n",
       "std              76.692354      5.660661     26.429214      0.686788   \n",
       "min               0.000000     -2.200000      0.000000      0.000000   \n",
       "25%               0.000000      9.050000     61.087500      0.000000   \n",
       "50%               0.001000     13.200000     87.350000      0.050000   \n",
       "75%               0.185000     17.175000     96.400000      0.625000   \n",
       "max           17793.070000     33.900000    100.000000      3.900000   \n",
       "\n",
       "            uvindex  solar_azimuth  solar_elevation  day_of_year_sine  \\\n",
       "count  53831.000000   53831.000000     53831.000000      53831.000000   \n",
       "mean       1.185335       0.000216         0.065312         -0.137341   \n",
       "std        1.924814       1.811026         0.531338          0.697913   \n",
       "min        0.000000      -3.141515        -1.092474         -0.999991   \n",
       "25%        0.000000      -1.619258        -0.316841         -0.785650   \n",
       "50%        0.000000      -0.005368         0.054814         -0.296713   \n",
       "75%        1.750000       1.621459         0.475484          0.545240   \n",
       "max       10.000000       3.141587         1.092256          0.999991   \n",
       "\n",
       "       day_of_year_cosine  \n",
       "count        53831.000000  \n",
       "mean            -0.192574  \n",
       "std              0.676009  \n",
       "min             -0.999963  \n",
       "25%             -0.819015  \n",
       "50%             -0.349647  \n",
       "75%              0.373720  \n",
       "max              1.000000  "
      ]
     },
     "execution_count": 62,
     "metadata": {},
     "output_type": "execute_result"
    }
   ],
   "source": [
    "# Vervang alle negatieve energiewaarden (%) met 0\n",
    "df_all['production_15_min_%'] = df_all['production_15_min_%'].apply(lambda x: x if x >= 0 else 0)\n",
    "df_jvr_lstm['production_15_min_%'] = df_jvr_lstm['production_15_min_%'].apply(lambda x: x if x >= 0 else 0)\n",
    "df_ddp_lstm['production_15_min_%'] = df_ddp_lstm['production_15_min_%'].apply(lambda x: x if x >= 0 else 0)\n",
    "df_test_jvr['production_15_min_%'] = df_test_jvr['production_15_min_%'].apply(lambda x: x if x >= 0 else 0)\n",
    "df_test_ddp['production_15_min_%'] = df_test_ddp['production_15_min_%'].apply(lambda x: x if x >= 0 else 0)\n",
    "df_all.describe()"
   ]
  },
  {
   "cell_type": "code",
   "execution_count": 63,
   "metadata": {},
   "outputs": [],
   "source": [
    "# maak het percentage energie een een waarde tussen 0 en 100%\n",
    "df_all['production_15_min_%'] = df_all['production_15_min_%'] * 100\n",
    "df_jvr_lstm['production_15_min_%'] = df_jvr_lstm['production_15_min_%'] * 100\n",
    "df_ddp_lstm['production_15_min_%'] = df_ddp_lstm['production_15_min_%'] * 100\n",
    "df_test_jvr['production_15_min_%'] = df_test_jvr['production_15_min_%'] * 100\n",
    "df_test_ddp['production_15_min_%'] = df_test_ddp['production_15_min_%'] * 100"
   ]
  },
  {
   "cell_type": "code",
   "execution_count": 64,
   "metadata": {},
   "outputs": [
    {
     "data": {
      "application/vnd.microsoft.datawrangler.viewer.v0+json": {
       "columns": [
        {
         "name": "index",
         "rawType": "int64",
         "type": "integer"
        },
        {
         "name": "temp",
         "rawType": "float64",
         "type": "float"
        },
        {
         "name": "cloudcover",
         "rawType": "float64",
         "type": "float"
        },
        {
         "name": "solarenergy",
         "rawType": "float64",
         "type": "float"
        },
        {
         "name": "uvindex",
         "rawType": "float64",
         "type": "float"
        },
        {
         "name": "solar_azimuth",
         "rawType": "float64",
         "type": "float"
        },
        {
         "name": "solar_elevation",
         "rawType": "float64",
         "type": "float"
        },
        {
         "name": "day_of_year_sine",
         "rawType": "float64",
         "type": "float"
        },
        {
         "name": "day_of_year_cosine",
         "rawType": "float64",
         "type": "float"
        },
        {
         "name": "production_15_min_%",
         "rawType": "float64",
         "type": "float"
        }
       ],
       "conversionMethod": "pd.DataFrame",
       "ref": "a5f0266b-731a-47c0-a752-33c686bac42d",
       "rows": [
        [
         "0",
         "8.325",
         "54.475",
         "0.325",
         "0.5",
         "-1.0541199706309496",
         "0.33041165068185335",
         "0.9562348265919056",
         "0.29260033563334836",
         "9.2"
        ],
        [
         "1",
         "9.175",
         "46.225",
         "0.575",
         "1.5",
         "-0.9353235697533843",
         "0.39973189090008776",
         "0.9562348265919056",
         "0.29260033563334836",
         "38.7"
        ],
        [
         "2",
         "9.6",
         "42.1",
         "0.7",
         "2.0",
         "-0.8732673452587921",
         "0.43222860723291284",
         "0.9562348265919056",
         "0.29260033563334836",
         "23.1"
        ],
        [
         "3",
         "10.0",
         "48.875",
         "0.8999999999999999",
         "2.5",
         "-0.8092735177845215",
         "0.46305555926301506",
         "0.9562348265919056",
         "0.29260033563334836",
         "20.3"
        ],
        [
         "4",
         "10.399999999999999",
         "55.650000000000006",
         "1.1",
         "3.0",
         "-0.7432465262133454",
         "0.492032215431663",
         "0.9562348265919056",
         "0.29260033563334836",
         "17.2"
        ]
       ],
       "shape": {
        "columns": 9,
        "rows": 5
       }
      },
      "text/html": [
       "<div>\n",
       "<style scoped>\n",
       "    .dataframe tbody tr th:only-of-type {\n",
       "        vertical-align: middle;\n",
       "    }\n",
       "\n",
       "    .dataframe tbody tr th {\n",
       "        vertical-align: top;\n",
       "    }\n",
       "\n",
       "    .dataframe thead th {\n",
       "        text-align: right;\n",
       "    }\n",
       "</style>\n",
       "<table border=\"1\" class=\"dataframe\">\n",
       "  <thead>\n",
       "    <tr style=\"text-align: right;\">\n",
       "      <th></th>\n",
       "      <th>temp</th>\n",
       "      <th>cloudcover</th>\n",
       "      <th>solarenergy</th>\n",
       "      <th>uvindex</th>\n",
       "      <th>solar_azimuth</th>\n",
       "      <th>solar_elevation</th>\n",
       "      <th>day_of_year_sine</th>\n",
       "      <th>day_of_year_cosine</th>\n",
       "      <th>production_15_min_%</th>\n",
       "    </tr>\n",
       "  </thead>\n",
       "  <tbody>\n",
       "    <tr>\n",
       "      <th>0</th>\n",
       "      <td>8.325</td>\n",
       "      <td>54.475</td>\n",
       "      <td>0.325</td>\n",
       "      <td>0.5</td>\n",
       "      <td>-1.054120</td>\n",
       "      <td>0.330412</td>\n",
       "      <td>0.956235</td>\n",
       "      <td>0.2926</td>\n",
       "      <td>9.2</td>\n",
       "    </tr>\n",
       "    <tr>\n",
       "      <th>1</th>\n",
       "      <td>9.175</td>\n",
       "      <td>46.225</td>\n",
       "      <td>0.575</td>\n",
       "      <td>1.5</td>\n",
       "      <td>-0.935324</td>\n",
       "      <td>0.399732</td>\n",
       "      <td>0.956235</td>\n",
       "      <td>0.2926</td>\n",
       "      <td>38.7</td>\n",
       "    </tr>\n",
       "    <tr>\n",
       "      <th>2</th>\n",
       "      <td>9.600</td>\n",
       "      <td>42.100</td>\n",
       "      <td>0.700</td>\n",
       "      <td>2.0</td>\n",
       "      <td>-0.873267</td>\n",
       "      <td>0.432229</td>\n",
       "      <td>0.956235</td>\n",
       "      <td>0.2926</td>\n",
       "      <td>23.1</td>\n",
       "    </tr>\n",
       "    <tr>\n",
       "      <th>3</th>\n",
       "      <td>10.000</td>\n",
       "      <td>48.875</td>\n",
       "      <td>0.900</td>\n",
       "      <td>2.5</td>\n",
       "      <td>-0.809274</td>\n",
       "      <td>0.463056</td>\n",
       "      <td>0.956235</td>\n",
       "      <td>0.2926</td>\n",
       "      <td>20.3</td>\n",
       "    </tr>\n",
       "    <tr>\n",
       "      <th>4</th>\n",
       "      <td>10.400</td>\n",
       "      <td>55.650</td>\n",
       "      <td>1.100</td>\n",
       "      <td>3.0</td>\n",
       "      <td>-0.743247</td>\n",
       "      <td>0.492032</td>\n",
       "      <td>0.956235</td>\n",
       "      <td>0.2926</td>\n",
       "      <td>17.2</td>\n",
       "    </tr>\n",
       "  </tbody>\n",
       "</table>\n",
       "</div>"
      ],
      "text/plain": [
       "     temp  cloudcover  solarenergy  uvindex  solar_azimuth  solar_elevation  \\\n",
       "0   8.325      54.475        0.325      0.5      -1.054120         0.330412   \n",
       "1   9.175      46.225        0.575      1.5      -0.935324         0.399732   \n",
       "2   9.600      42.100        0.700      2.0      -0.873267         0.432229   \n",
       "3  10.000      48.875        0.900      2.5      -0.809274         0.463056   \n",
       "4  10.400      55.650        1.100      3.0      -0.743247         0.492032   \n",
       "\n",
       "   day_of_year_sine  day_of_year_cosine  production_15_min_%  \n",
       "0          0.956235              0.2926                  9.2  \n",
       "1          0.956235              0.2926                 38.7  \n",
       "2          0.956235              0.2926                 23.1  \n",
       "3          0.956235              0.2926                 20.3  \n",
       "4          0.956235              0.2926                 17.2  "
      ]
     },
     "execution_count": 64,
     "metadata": {},
     "output_type": "execute_result"
    }
   ],
   "source": [
    "# Estetic action move target column to the end\n",
    "df_all = pd.concat([df_all.drop('production_15_min_%', axis=1), df_all['production_15_min_%']], axis=1)\n",
    "df_jvr_lstm = pd.concat([df_jvr_lstm.drop('production_15_min_%', axis=1), df_jvr_lstm['production_15_min_%']], axis=1)\n",
    "df_ddp_lstm = pd.concat([df_ddp_lstm.drop('production_15_min_%', axis=1), df_ddp_lstm['production_15_min_%']], axis=1)\n",
    "df_all.head()"
   ]
  },
  {
   "cell_type": "code",
   "execution_count": 65,
   "metadata": {},
   "outputs": [
    {
     "data": {
      "application/vnd.microsoft.datawrangler.viewer.v0+json": {
       "columns": [
        {
         "name": "index",
         "rawType": "object",
         "type": "string"
        },
        {
         "name": "temp",
         "rawType": "float64",
         "type": "float"
        },
        {
         "name": "cloudcover",
         "rawType": "float64",
         "type": "float"
        },
        {
         "name": "solarenergy",
         "rawType": "float64",
         "type": "float"
        },
        {
         "name": "uvindex",
         "rawType": "float64",
         "type": "float"
        },
        {
         "name": "solar_azimuth",
         "rawType": "float64",
         "type": "float"
        },
        {
         "name": "solar_elevation",
         "rawType": "float64",
         "type": "float"
        },
        {
         "name": "day_of_year_sine",
         "rawType": "float64",
         "type": "float"
        },
        {
         "name": "day_of_year_cosine",
         "rawType": "float64",
         "type": "float"
        },
        {
         "name": "production_15_min_%",
         "rawType": "float64",
         "type": "float"
        }
       ],
       "conversionMethod": "pd.DataFrame",
       "ref": "931c2ca8-76fc-46e3-ae92-db6ff993afa3",
       "rows": [
        [
         "count",
         "53831.0",
         "53831.0",
         "53831.0",
         "53831.0",
         "53831.0",
         "53831.0",
         "53831.0",
         "53831.0",
         "53831.0"
        ],
        [
         "mean",
         "13.30812635841801",
         "75.56024641934944",
         "0.4317345024242537",
         "1.185334658468169",
         "0.00021632139459386367",
         "0.06531150057686096",
         "-0.13734110382908643",
         "-0.19257426659031981",
         "47.11397783838495"
        ],
        [
         "std",
         "5.660661362826117",
         "26.42921372644572",
         "0.686788142592232",
         "1.9248141302775352",
         "1.8110258966784858",
         "0.5313380148280514",
         "0.697912985799475",
         "0.6760085613103565",
         "7669.235393352595"
        ],
        [
         "min",
         "-2.2",
         "0.0",
         "0.0",
         "0.0",
         "-3.141515039622655",
         "-1.0924736729081355",
         "-0.9999907397361901",
         "-0.9999629591162655",
         "0.0"
        ],
        [
         "25%",
         "9.05",
         "61.087500000000006",
         "0.0",
         "0.0",
         "-1.619257978943767",
         "-0.3168407826286633",
         "-0.7856498550787144",
         "-0.8190148866680802",
         "0.0"
        ],
        [
         "50%",
         "13.2",
         "87.35",
         "0.05",
         "0.0",
         "-0.005368483856032256",
         "0.05481431503200657",
         "-0.2967128192734901",
         "-0.3496474552512284",
         "0.1"
        ],
        [
         "75%",
         "17.175",
         "96.4",
         "0.625",
         "1.75",
         "1.6214592277842759",
         "0.47548387402576975",
         "0.545240438540651",
         "0.3737197147904692",
         "18.5"
        ],
        [
         "max",
         "33.9",
         "100.0",
         "3.9",
         "10.0",
         "3.1415871925380543",
         "1.0922561338803052",
         "0.9999907397361901",
         "1.0",
         "1779307.0"
        ]
       ],
       "shape": {
        "columns": 9,
        "rows": 8
       }
      },
      "text/html": [
       "<div>\n",
       "<style scoped>\n",
       "    .dataframe tbody tr th:only-of-type {\n",
       "        vertical-align: middle;\n",
       "    }\n",
       "\n",
       "    .dataframe tbody tr th {\n",
       "        vertical-align: top;\n",
       "    }\n",
       "\n",
       "    .dataframe thead th {\n",
       "        text-align: right;\n",
       "    }\n",
       "</style>\n",
       "<table border=\"1\" class=\"dataframe\">\n",
       "  <thead>\n",
       "    <tr style=\"text-align: right;\">\n",
       "      <th></th>\n",
       "      <th>temp</th>\n",
       "      <th>cloudcover</th>\n",
       "      <th>solarenergy</th>\n",
       "      <th>uvindex</th>\n",
       "      <th>solar_azimuth</th>\n",
       "      <th>solar_elevation</th>\n",
       "      <th>day_of_year_sine</th>\n",
       "      <th>day_of_year_cosine</th>\n",
       "      <th>production_15_min_%</th>\n",
       "    </tr>\n",
       "  </thead>\n",
       "  <tbody>\n",
       "    <tr>\n",
       "      <th>count</th>\n",
       "      <td>53831.000000</td>\n",
       "      <td>53831.000000</td>\n",
       "      <td>53831.000000</td>\n",
       "      <td>53831.000000</td>\n",
       "      <td>53831.000000</td>\n",
       "      <td>53831.000000</td>\n",
       "      <td>53831.000000</td>\n",
       "      <td>53831.000000</td>\n",
       "      <td>5.383100e+04</td>\n",
       "    </tr>\n",
       "    <tr>\n",
       "      <th>mean</th>\n",
       "      <td>13.308126</td>\n",
       "      <td>75.560246</td>\n",
       "      <td>0.431735</td>\n",
       "      <td>1.185335</td>\n",
       "      <td>0.000216</td>\n",
       "      <td>0.065312</td>\n",
       "      <td>-0.137341</td>\n",
       "      <td>-0.192574</td>\n",
       "      <td>4.711398e+01</td>\n",
       "    </tr>\n",
       "    <tr>\n",
       "      <th>std</th>\n",
       "      <td>5.660661</td>\n",
       "      <td>26.429214</td>\n",
       "      <td>0.686788</td>\n",
       "      <td>1.924814</td>\n",
       "      <td>1.811026</td>\n",
       "      <td>0.531338</td>\n",
       "      <td>0.697913</td>\n",
       "      <td>0.676009</td>\n",
       "      <td>7.669235e+03</td>\n",
       "    </tr>\n",
       "    <tr>\n",
       "      <th>min</th>\n",
       "      <td>-2.200000</td>\n",
       "      <td>0.000000</td>\n",
       "      <td>0.000000</td>\n",
       "      <td>0.000000</td>\n",
       "      <td>-3.141515</td>\n",
       "      <td>-1.092474</td>\n",
       "      <td>-0.999991</td>\n",
       "      <td>-0.999963</td>\n",
       "      <td>0.000000e+00</td>\n",
       "    </tr>\n",
       "    <tr>\n",
       "      <th>25%</th>\n",
       "      <td>9.050000</td>\n",
       "      <td>61.087500</td>\n",
       "      <td>0.000000</td>\n",
       "      <td>0.000000</td>\n",
       "      <td>-1.619258</td>\n",
       "      <td>-0.316841</td>\n",
       "      <td>-0.785650</td>\n",
       "      <td>-0.819015</td>\n",
       "      <td>0.000000e+00</td>\n",
       "    </tr>\n",
       "    <tr>\n",
       "      <th>50%</th>\n",
       "      <td>13.200000</td>\n",
       "      <td>87.350000</td>\n",
       "      <td>0.050000</td>\n",
       "      <td>0.000000</td>\n",
       "      <td>-0.005368</td>\n",
       "      <td>0.054814</td>\n",
       "      <td>-0.296713</td>\n",
       "      <td>-0.349647</td>\n",
       "      <td>1.000000e-01</td>\n",
       "    </tr>\n",
       "    <tr>\n",
       "      <th>75%</th>\n",
       "      <td>17.175000</td>\n",
       "      <td>96.400000</td>\n",
       "      <td>0.625000</td>\n",
       "      <td>1.750000</td>\n",
       "      <td>1.621459</td>\n",
       "      <td>0.475484</td>\n",
       "      <td>0.545240</td>\n",
       "      <td>0.373720</td>\n",
       "      <td>1.850000e+01</td>\n",
       "    </tr>\n",
       "    <tr>\n",
       "      <th>max</th>\n",
       "      <td>33.900000</td>\n",
       "      <td>100.000000</td>\n",
       "      <td>3.900000</td>\n",
       "      <td>10.000000</td>\n",
       "      <td>3.141587</td>\n",
       "      <td>1.092256</td>\n",
       "      <td>0.999991</td>\n",
       "      <td>1.000000</td>\n",
       "      <td>1.779307e+06</td>\n",
       "    </tr>\n",
       "  </tbody>\n",
       "</table>\n",
       "</div>"
      ],
      "text/plain": [
       "               temp    cloudcover   solarenergy       uvindex  solar_azimuth  \\\n",
       "count  53831.000000  53831.000000  53831.000000  53831.000000   53831.000000   \n",
       "mean      13.308126     75.560246      0.431735      1.185335       0.000216   \n",
       "std        5.660661     26.429214      0.686788      1.924814       1.811026   \n",
       "min       -2.200000      0.000000      0.000000      0.000000      -3.141515   \n",
       "25%        9.050000     61.087500      0.000000      0.000000      -1.619258   \n",
       "50%       13.200000     87.350000      0.050000      0.000000      -0.005368   \n",
       "75%       17.175000     96.400000      0.625000      1.750000       1.621459   \n",
       "max       33.900000    100.000000      3.900000     10.000000       3.141587   \n",
       "\n",
       "       solar_elevation  day_of_year_sine  day_of_year_cosine  \\\n",
       "count     53831.000000      53831.000000        53831.000000   \n",
       "mean          0.065312         -0.137341           -0.192574   \n",
       "std           0.531338          0.697913            0.676009   \n",
       "min          -1.092474         -0.999991           -0.999963   \n",
       "25%          -0.316841         -0.785650           -0.819015   \n",
       "50%           0.054814         -0.296713           -0.349647   \n",
       "75%           0.475484          0.545240            0.373720   \n",
       "max           1.092256          0.999991            1.000000   \n",
       "\n",
       "       production_15_min_%  \n",
       "count         5.383100e+04  \n",
       "mean          4.711398e+01  \n",
       "std           7.669235e+03  \n",
       "min           0.000000e+00  \n",
       "25%           0.000000e+00  \n",
       "50%           1.000000e-01  \n",
       "75%           1.850000e+01  \n",
       "max           1.779307e+06  "
      ]
     },
     "execution_count": 65,
     "metadata": {},
     "output_type": "execute_result"
    }
   ],
   "source": [
    "df_all.describe()"
   ]
  },
  {
   "cell_type": "code",
   "execution_count": 66,
   "metadata": {},
   "outputs": [
    {
     "data": {
      "application/vnd.microsoft.datawrangler.viewer.v0+json": {
       "columns": [
        {
         "name": "index",
         "rawType": "object",
         "type": "string"
        },
        {
         "name": "temp",
         "rawType": "float64",
         "type": "float"
        },
        {
         "name": "cloudcover",
         "rawType": "float64",
         "type": "float"
        },
        {
         "name": "solarenergy",
         "rawType": "float64",
         "type": "float"
        },
        {
         "name": "uvindex",
         "rawType": "float64",
         "type": "float"
        },
        {
         "name": "solar_azimuth",
         "rawType": "float64",
         "type": "float"
        },
        {
         "name": "solar_elevation",
         "rawType": "float64",
         "type": "float"
        },
        {
         "name": "day_of_year_sine",
         "rawType": "float64",
         "type": "float"
        },
        {
         "name": "day_of_year_cosine",
         "rawType": "float64",
         "type": "float"
        },
        {
         "name": "production_15_min_%",
         "rawType": "float64",
         "type": "float"
        }
       ],
       "conversionMethod": "pd.DataFrame",
       "ref": "87677097-326b-43de-baf8-56d157a9edd8",
       "rows": [
        [
         "count",
         "53820.0",
         "53820.0",
         "53820.0",
         "53820.0",
         "53820.0",
         "53820.0",
         "53820.0",
         "53820.0",
         "53820.0"
        ],
        [
         "mean",
         "13.308209308807134",
         "75.55944630248977",
         "0.43177164622816805",
         "1.1854282794500186",
         "0.00043809790055689715",
         "0.06533568853068",
         "-0.13748253899215715",
         "-0.1925876545367672",
         "13.354951976534744"
        ],
        [
         "std",
         "5.66111448986109",
         "26.43017227189625",
         "0.6868047820902132",
         "1.9248443626436267",
         "1.8109938331814832",
         "0.5313650734093698",
         "0.6978297695406968",
         "0.676061905425651",
         "22.06508807662836"
        ],
        [
         "min",
         "-2.2",
         "0.0",
         "0.0",
         "0.0",
         "-3.141515039622655",
         "-1.0924736729081355",
         "-0.9999907397361901",
         "-0.9999629591162655",
         "0.0"
        ],
        [
         "25%",
         "9.05",
         "61.09375",
         "0.0",
         "0.0",
         "-1.6183818534008225",
         "-0.3168030446533617",
         "-0.7856498550787144",
         "-0.8190148866680802",
         "0.0"
        ],
        [
         "50%",
         "13.2",
         "87.35",
         "0.05",
         "0.0",
         "-0.005151738793632786",
         "0.054903734881078456",
         "-0.2967128192734901",
         "-0.3496474552512284",
         "0.1"
        ],
        [
         "75%",
         "17.175",
         "96.4",
         "0.625",
         "1.8125",
         "1.6215090214374648",
         "0.4755731461985263",
         "0.545240438540651",
         "0.3737197147904692",
         "18.4615385"
        ],
        [
         "max",
         "33.9",
         "100.0",
         "3.9",
         "10.0",
         "3.1415871925380543",
         "1.0922561338803052",
         "0.9999907397361901",
         "1.0",
         "94.89999999999999"
        ]
       ],
       "shape": {
        "columns": 9,
        "rows": 8
       }
      },
      "text/html": [
       "<div>\n",
       "<style scoped>\n",
       "    .dataframe tbody tr th:only-of-type {\n",
       "        vertical-align: middle;\n",
       "    }\n",
       "\n",
       "    .dataframe tbody tr th {\n",
       "        vertical-align: top;\n",
       "    }\n",
       "\n",
       "    .dataframe thead th {\n",
       "        text-align: right;\n",
       "    }\n",
       "</style>\n",
       "<table border=\"1\" class=\"dataframe\">\n",
       "  <thead>\n",
       "    <tr style=\"text-align: right;\">\n",
       "      <th></th>\n",
       "      <th>temp</th>\n",
       "      <th>cloudcover</th>\n",
       "      <th>solarenergy</th>\n",
       "      <th>uvindex</th>\n",
       "      <th>solar_azimuth</th>\n",
       "      <th>solar_elevation</th>\n",
       "      <th>day_of_year_sine</th>\n",
       "      <th>day_of_year_cosine</th>\n",
       "      <th>production_15_min_%</th>\n",
       "    </tr>\n",
       "  </thead>\n",
       "  <tbody>\n",
       "    <tr>\n",
       "      <th>count</th>\n",
       "      <td>53820.000000</td>\n",
       "      <td>53820.000000</td>\n",
       "      <td>53820.000000</td>\n",
       "      <td>53820.000000</td>\n",
       "      <td>53820.000000</td>\n",
       "      <td>53820.000000</td>\n",
       "      <td>53820.000000</td>\n",
       "      <td>53820.000000</td>\n",
       "      <td>53820.000000</td>\n",
       "    </tr>\n",
       "    <tr>\n",
       "      <th>mean</th>\n",
       "      <td>13.308209</td>\n",
       "      <td>75.559446</td>\n",
       "      <td>0.431772</td>\n",
       "      <td>1.185428</td>\n",
       "      <td>0.000438</td>\n",
       "      <td>0.065336</td>\n",
       "      <td>-0.137483</td>\n",
       "      <td>-0.192588</td>\n",
       "      <td>13.354952</td>\n",
       "    </tr>\n",
       "    <tr>\n",
       "      <th>std</th>\n",
       "      <td>5.661114</td>\n",
       "      <td>26.430172</td>\n",
       "      <td>0.686805</td>\n",
       "      <td>1.924844</td>\n",
       "      <td>1.810994</td>\n",
       "      <td>0.531365</td>\n",
       "      <td>0.697830</td>\n",
       "      <td>0.676062</td>\n",
       "      <td>22.065088</td>\n",
       "    </tr>\n",
       "    <tr>\n",
       "      <th>min</th>\n",
       "      <td>-2.200000</td>\n",
       "      <td>0.000000</td>\n",
       "      <td>0.000000</td>\n",
       "      <td>0.000000</td>\n",
       "      <td>-3.141515</td>\n",
       "      <td>-1.092474</td>\n",
       "      <td>-0.999991</td>\n",
       "      <td>-0.999963</td>\n",
       "      <td>0.000000</td>\n",
       "    </tr>\n",
       "    <tr>\n",
       "      <th>25%</th>\n",
       "      <td>9.050000</td>\n",
       "      <td>61.093750</td>\n",
       "      <td>0.000000</td>\n",
       "      <td>0.000000</td>\n",
       "      <td>-1.618382</td>\n",
       "      <td>-0.316803</td>\n",
       "      <td>-0.785650</td>\n",
       "      <td>-0.819015</td>\n",
       "      <td>0.000000</td>\n",
       "    </tr>\n",
       "    <tr>\n",
       "      <th>50%</th>\n",
       "      <td>13.200000</td>\n",
       "      <td>87.350000</td>\n",
       "      <td>0.050000</td>\n",
       "      <td>0.000000</td>\n",
       "      <td>-0.005152</td>\n",
       "      <td>0.054904</td>\n",
       "      <td>-0.296713</td>\n",
       "      <td>-0.349647</td>\n",
       "      <td>0.100000</td>\n",
       "    </tr>\n",
       "    <tr>\n",
       "      <th>75%</th>\n",
       "      <td>17.175000</td>\n",
       "      <td>96.400000</td>\n",
       "      <td>0.625000</td>\n",
       "      <td>1.812500</td>\n",
       "      <td>1.621509</td>\n",
       "      <td>0.475573</td>\n",
       "      <td>0.545240</td>\n",
       "      <td>0.373720</td>\n",
       "      <td>18.461538</td>\n",
       "    </tr>\n",
       "    <tr>\n",
       "      <th>max</th>\n",
       "      <td>33.900000</td>\n",
       "      <td>100.000000</td>\n",
       "      <td>3.900000</td>\n",
       "      <td>10.000000</td>\n",
       "      <td>3.141587</td>\n",
       "      <td>1.092256</td>\n",
       "      <td>0.999991</td>\n",
       "      <td>1.000000</td>\n",
       "      <td>94.900000</td>\n",
       "    </tr>\n",
       "  </tbody>\n",
       "</table>\n",
       "</div>"
      ],
      "text/plain": [
       "               temp    cloudcover   solarenergy       uvindex  solar_azimuth  \\\n",
       "count  53820.000000  53820.000000  53820.000000  53820.000000   53820.000000   \n",
       "mean      13.308209     75.559446      0.431772      1.185428       0.000438   \n",
       "std        5.661114     26.430172      0.686805      1.924844       1.810994   \n",
       "min       -2.200000      0.000000      0.000000      0.000000      -3.141515   \n",
       "25%        9.050000     61.093750      0.000000      0.000000      -1.618382   \n",
       "50%       13.200000     87.350000      0.050000      0.000000      -0.005152   \n",
       "75%       17.175000     96.400000      0.625000      1.812500       1.621509   \n",
       "max       33.900000    100.000000      3.900000     10.000000       3.141587   \n",
       "\n",
       "       solar_elevation  day_of_year_sine  day_of_year_cosine  \\\n",
       "count     53820.000000      53820.000000        53820.000000   \n",
       "mean          0.065336         -0.137483           -0.192588   \n",
       "std           0.531365          0.697830            0.676062   \n",
       "min          -1.092474         -0.999991           -0.999963   \n",
       "25%          -0.316803         -0.785650           -0.819015   \n",
       "50%           0.054904         -0.296713           -0.349647   \n",
       "75%           0.475573          0.545240            0.373720   \n",
       "max           1.092256          0.999991            1.000000   \n",
       "\n",
       "       production_15_min_%  \n",
       "count         53820.000000  \n",
       "mean             13.354952  \n",
       "std              22.065088  \n",
       "min               0.000000  \n",
       "25%               0.000000  \n",
       "50%               0.100000  \n",
       "75%              18.461538  \n",
       "max              94.900000  "
      ]
     },
     "execution_count": 66,
     "metadata": {},
     "output_type": "execute_result"
    }
   ],
   "source": [
    "# Alle waarden boven de 100(%) zijn uitschieters (dit zijn waarschijnlijk fouten als gevolg van ontbrekende gegevens). Deze worden verwijderd.\n",
    "df_all = df_all[df_all['production_15_min_%'] <= 100]\n",
    "df_jvr_lstm = df_jvr_lstm[df_jvr_lstm['production_15_min_%'] <= 100]\n",
    "df_ddp_lstm = df_ddp_lstm[df_ddp_lstm['production_15_min_%'] <= 100]\n",
    "df_all.describe()"
   ]
  },
  {
   "cell_type": "code",
   "execution_count": 67,
   "metadata": {},
   "outputs": [
    {
     "data": {
      "image/png": "[encoded data removed]",
      "text/plain": [
       "<Figure size 1200x1200 with 2 Axes>"
      ]
     },
     "metadata": {},
     "output_type": "display_data"
    }
   ],
   "source": [
    "# Lineaire correlatie tussen de features - heatmap\n",
    "# Visualiseer de onderlinge correlatiecoëfficiënten\n",
    "f, ax = plt.subplots(figsize=(12, 12))\n",
    "corr = df_all.corr()\n",
    "sns.heatmap(\n",
    "    corr,\n",
    "    cmap=sns.diverging_palette(220, 10, as_cmap=True),\n",
    "    square=True,\n",
    "    ax=ax,\n",
    "    annot=True,\n",
    "    annot_kws={\"size\": 10}\n",
    ")\n",
    "plt.title(\"Correlatiematrix\")\n",
    "plt.show()"
   ]
  },
  {
   "cell_type": "markdown",
   "metadata": {},
   "source": [
    "## Pre-processing van de data"
   ]
  },
  {
   "cell_type": "code",
   "execution_count": 68,
   "metadata": {},
   "outputs": [
    {
     "name": "stdout",
     "output_type": "stream",
     "text": [
      "X_jvr_2_hours shape: (2866, 100, 8)\n",
      "y_jvr_2_hours shape: (2866, 1)\n",
      "[[35.3]\n",
      " [20.4]\n",
      " [23. ]\n",
      " ...\n",
      " [ 0. ]\n",
      " [ 0. ]\n",
      " [ 0. ]]\n"
     ]
    }
   ],
   "source": [
    "datasets = [df_jvr_lstm, df_ddp_lstm, df_test_jvr, df_test_ddp]\n",
    "\n",
    "def create_sequences(data, target, n_steps_in, n_steps_out):\n",
    "    X, y = [], []\n",
    "    for i in range(len(data) - n_steps_in - n_steps_out + 1):\n",
    "        X.append(data[i:i+n_steps_in])\n",
    "        y.append(target[i+n_steps_in+n_steps_out-1 : i+n_steps_in+n_steps_out])\n",
    "    return np.array(X), np.array(y)\n",
    "\n",
    "df_jvr_lstm_target = df_jvr_lstm['production_15_min_%'].values\n",
    "df_ddp_lstm_target = df_ddp_lstm['production_15_min_%'].values\n",
    "df_test_jvr_target = df_test_jvr['production_15_min_%'].values\n",
    "df_test_ddp_target = df_test_ddp['production_15_min_%'].values\n",
    "df_jvr_lstm_values = df_jvr_lstm.copy()\n",
    "df_ddp_lstm_values = df_ddp_lstm.copy()\n",
    "df_test_jvr_lstm_values = df_test_jvr.copy()\n",
    "df_test_ddp_lstm_values = df_test_ddp.copy()\n",
    "df_jvr_lstm_values.drop(columns=['production_15_min_%'], inplace=True)\n",
    "df_ddp_lstm_values.drop(columns=['production_15_min_%'], inplace=True)\n",
    "df_test_jvr_lstm_values.drop(columns=['production_15_min_%'], inplace=True)\n",
    "df_test_ddp_lstm_values.drop(columns=['production_15_min_%'], inplace=True)\n",
    "# Reshape de dataframes naar een 3D-array for a predictie van 2 uur\n",
    "X_jvr_2_hours, y_jvr_2_hours = create_sequences(df_jvr_lstm_values.values, df_jvr_lstm_target, 100, 8)\n",
    "X_ddp_2_hours, y_ddp_2_hours = create_sequences(df_ddp_lstm_values.values, df_ddp_lstm_target, 100, 8)\n",
    "X_test_jvr_2_hours, y_test_jvr_2_hours = create_sequences(df_test_jvr_lstm_values.values, df_test_jvr_target, 100, 8)\n",
    "X_test_ddp_2_hours, y_test_ddp_2_hours = create_sequences(df_test_ddp_lstm_values.values, df_test_ddp_target, 100, 8)\n",
    "print(f\"X_jvr_2_hours shape: {X_test_jvr_2_hours.shape}\"\n",
    "print(f\"y_jvr_2_hours shape: {y_test_jvr_2_hours.shape}\")\n",
    "print(y_jvr_2_hours)"
   ]
  },
  {
   "cell_type": "code",
   "execution_count": 69,
   "metadata": {},
   "outputs": [
    {
     "name": "stdout",
     "output_type": "stream",
     "text": [
      "X_2_hours shape: (53606, 100, 8)\n",
      "y_2_hours shape: (53606, 1)\n"
     ]
    }
   ],
   "source": [
    "# Samenvoegen van de datasets\n",
    "X_2_hours = np.concatenate((X_jvr_2_hours, X_ddp_2_hours), axis=0)\n",
    "y_2_hours = np.concatenate((y_jvr_2_hours, y_ddp_2_hours), axis=0)\n",
    "\n",
    "print(f\"X_2_hours shape: {X_2_hours.shape}\")\n",
    "print(f\"y_2_hours shape: {y_2_hours.shape}\")\n",
    "\n",
    "assert len(X_2_hours) == len(y_2_hours)\n",
    "\n",
    "permutation = np.random.permutation(len(X_2_hours))\n",
    "X_shuffled = X_2_hours[permutation]\n",
    "y_shuffled = y_2_hours[permutation]\n",
    "\n",
    "\n",
    "lstm_2_scaler = MinMaxScaler()\n",
    "X_shuffled = lstm_2_scaler.fit_transform(X_shuffled.reshape(-1, X_shuffled.shape[-1])).reshape(X_shuffled.shape)"
   ]
  },
  {
   "cell_type": "markdown",
   "metadata": {},
   "source": [
    "## Training"
   ]
  },
  {
   "cell_type": "code",
   "execution_count": 70,
   "metadata": {},
   "outputs": [
    {
     "name": "stdout",
     "output_type": "stream",
     "text": [
      "Model: \"sequential_2\"\n",
      "_________________________________________________________________\n",
      " Layer (type)                Output Shape              Param #   \n",
      "=================================================================\n",
      " lstm_4 (LSTM)               (None, 100, 128)          70144     \n",
      "                                                                 \n",
      " dropout_2 (Dropout)         (None, 100, 128)          0         \n",
      "                                                                 \n",
      " lstm_5 (LSTM)               (None, 64)                49408     \n",
      "                                                                 \n",
      " dense_4 (Dense)             (None, 32)                2080      \n",
      "                                                                 \n",
      " dense_5 (Dense)             (None, 1)                 33        \n",
      "                                                                 \n",
      "=================================================================\n",
      "Total params: 121665 (475.25 KB)\n",
      "Trainable params: 121665 (475.25 KB)\n",
      "Non-trainable params: 0 (0.00 Byte)\n",
      "_________________________________________________________________\n"
     ]
    }
   ],
   "source": [
    "LSTM_network_model_2_hour = Sequential()\n",
    "\n",
    "LSTM_network_model_2_hour.add(LSTM(128, return_sequences=True, activation='tanh', input_shape=(100, 8)))\n",
    "LSTM_network_model_2_hour.add(Dropout(0.2))\n",
    "LSTM_network_model_2_hour.add(LSTM(64, activation='tanh'))\n",
    "LSTM_network_model_2_hour.add(Dense(32, activation='relu'))\n",
    "LSTM_network_model_2_hour.add(Dense(1, activation='linear'))\n",
    "\n",
    "LSTM_network_model_2_hour.compile(loss='mean_squared_error', optimizer='adam', metrics=['mean_squared_error'])\n",
    "LSTM_network_model_2_hour.summary()"
   ]
  },
  {
   "cell_type": "code",
   "execution_count": 71,
   "metadata": {},
   "outputs": [],
   "source": [
    "checkpoint_name = 'pv_lstm_2_hours_ahead.keras' \n",
    "checkpoint = ModelCheckpoint(f'models/{checkpoint_name}', monitor='val_loss', verbose = 1, save_best_only = True, mode ='auto')\n",
    "callbacks_list = [checkpoint]"
   ]
  },
  {
   "cell_type": "code",
   "execution_count": 72,
   "metadata": {},
   "outputs": [
    {
     "name": "stdout",
     "output_type": "stream",
     "text": [
      "Epoch 1/20\n",
      "108/108 [==============================] - ETA: 0s - loss: 512.3940 - mean_squared_error: 512.3940\n",
      "Epoch 1: val_loss improved from inf to 478.84134, saving model to models/pv_lstm_2_hours_ahead.keras\n",
      "108/108 [==============================] - 53s 484ms/step - loss: 512.3940 - mean_squared_error: 512.3940 - val_loss: 478.8413 - val_mean_squared_error: 478.8413\n",
      "Epoch 2/20\n",
      "108/108 [==============================] - ETA: 0s - loss: 382.4027 - mean_squared_error: 382.4027\n",
      "Epoch 2: val_loss improved from 478.84134 to 190.03023, saving model to models/pv_lstm_2_hours_ahead.keras\n",
      "108/108 [==============================] - 54s 502ms/step - loss: 382.4027 - mean_squared_error: 382.4027 - val_loss: 190.0302 - val_mean_squared_error: 190.0302\n",
      "Epoch 3/20\n",
      "108/108 [==============================] - ETA: 0s - loss: 156.4585 - mean_squared_error: 156.4585\n",
      "Epoch 3: val_loss improved from 190.03023 to 156.16620, saving model to models/pv_lstm_2_hours_ahead.keras\n",
      "108/108 [==============================] - 54s 502ms/step - loss: 156.4585 - mean_squared_error: 156.4585 - val_loss: 156.1662 - val_mean_squared_error: 156.1662\n",
      "Epoch 4/20\n",
      "108/108 [==============================] - ETA: 0s - loss: 140.0301 - mean_squared_error: 140.0301\n",
      "Epoch 4: val_loss improved from 156.16620 to 122.52546, saving model to models/pv_lstm_2_hours_ahead.keras\n",
      "108/108 [==============================] - 58s 539ms/step - loss: 140.0301 - mean_squared_error: 140.0301 - val_loss: 122.5255 - val_mean_squared_error: 122.5255\n",
      "Epoch 5/20\n",
      "108/108 [==============================] - ETA: 0s - loss: 132.4386 - mean_squared_error: 132.4386\n",
      "Epoch 5: val_loss improved from 122.52546 to 119.34409, saving model to models/pv_lstm_2_hours_ahead.keras\n",
      "108/108 [==============================] - 57s 530ms/step - loss: 132.4386 - mean_squared_error: 132.4386 - val_loss: 119.3441 - val_mean_squared_error: 119.3441\n",
      "Epoch 6/20\n",
      "108/108 [==============================] - ETA: 0s - loss: 129.4147 - mean_squared_error: 129.4147\n",
      "Epoch 6: val_loss improved from 119.34409 to 119.05444, saving model to models/pv_lstm_2_hours_ahead.keras\n",
      "108/108 [==============================] - 54s 499ms/step - loss: 129.4147 - mean_squared_error: 129.4147 - val_loss: 119.0544 - val_mean_squared_error: 119.0544\n",
      "Epoch 7/20\n",
      "108/108 [==============================] - ETA: 0s - loss: 128.2675 - mean_squared_error: 128.2675\n",
      "Epoch 7: val_loss did not improve from 119.05444\n",
      "108/108 [==============================] - 54s 504ms/step - loss: 128.2675 - mean_squared_error: 128.2675 - val_loss: 122.8585 - val_mean_squared_error: 122.8585\n",
      "Epoch 8/20\n",
      "108/108 [==============================] - ETA: 0s - loss: 126.5646 - mean_squared_error: 126.5646\n",
      "Epoch 8: val_loss improved from 119.05444 to 117.32657, saving model to models/pv_lstm_2_hours_ahead.keras\n",
      "108/108 [==============================] - 56s 516ms/step - loss: 126.5646 - mean_squared_error: 126.5646 - val_loss: 117.3266 - val_mean_squared_error: 117.3266\n",
      "Epoch 9/20\n",
      "108/108 [==============================] - ETA: 0s - loss: 124.4417 - mean_squared_error: 124.4417\n",
      "Epoch 9: val_loss improved from 117.32657 to 116.89463, saving model to models/pv_lstm_2_hours_ahead.keras\n",
      "108/108 [==============================] - 56s 523ms/step - loss: 124.4417 - mean_squared_error: 124.4417 - val_loss: 116.8946 - val_mean_squared_error: 116.8946\n",
      "Epoch 10/20\n",
      "108/108 [==============================] - ETA: 0s - loss: 124.0983 - mean_squared_error: 124.0983\n",
      "Epoch 10: val_loss did not improve from 116.89463\n",
      "108/108 [==============================] - 56s 516ms/step - loss: 124.0983 - mean_squared_error: 124.0983 - val_loss: 119.6425 - val_mean_squared_error: 119.6425\n",
      "Epoch 11/20\n",
      "108/108 [==============================] - ETA: 0s - loss: 126.7573 - mean_squared_error: 126.7573\n",
      "Epoch 11: val_loss did not improve from 116.89463\n",
      "108/108 [==============================] - 58s 535ms/step - loss: 126.7573 - mean_squared_error: 126.7573 - val_loss: 122.1633 - val_mean_squared_error: 122.1633\n",
      "Epoch 12/20\n",
      "108/108 [==============================] - ETA: 0s - loss: 125.5871 - mean_squared_error: 125.5871\n",
      "Epoch 12: val_loss improved from 116.89463 to 113.01709, saving model to models/pv_lstm_2_hours_ahead.keras\n",
      "108/108 [==============================] - 63s 582ms/step - loss: 125.5871 - mean_squared_error: 125.5871 - val_loss: 113.0171 - val_mean_squared_error: 113.0171\n",
      "Epoch 13/20\n",
      "108/108 [==============================] - ETA: 0s - loss: 124.1317 - mean_squared_error: 124.1317\n",
      "Epoch 13: val_loss did not improve from 113.01709\n",
      "108/108 [==============================] - 60s 555ms/step - loss: 124.1317 - mean_squared_error: 124.1317 - val_loss: 117.7193 - val_mean_squared_error: 117.7193\n",
      "Epoch 14/20\n",
      "108/108 [==============================] - ETA: 0s - loss: 122.6574 - mean_squared_error: 122.6574\n",
      "Epoch 14: val_loss did not improve from 113.01709\n",
      "108/108 [==============================] - 59s 543ms/step - loss: 122.6574 - mean_squared_error: 122.6574 - val_loss: 117.6160 - val_mean_squared_error: 117.6160\n",
      "Epoch 15/20\n",
      "108/108 [==============================] - ETA: 0s - loss: 122.7156 - mean_squared_error: 122.7156\n",
      "Epoch 15: val_loss improved from 113.01709 to 112.43335, saving model to models/pv_lstm_2_hours_ahead.keras\n",
      "108/108 [==============================] - 60s 552ms/step - loss: 122.7156 - mean_squared_error: 122.7156 - val_loss: 112.4333 - val_mean_squared_error: 112.4333\n",
      "Epoch 16/20\n",
      "108/108 [==============================] - ETA: 0s - loss: 121.8823 - mean_squared_error: 121.8824\n",
      "Epoch 16: val_loss did not improve from 112.43335\n",
      "108/108 [==============================] - 59s 547ms/step - loss: 121.8823 - mean_squared_error: 121.8824 - val_loss: 112.8845 - val_mean_squared_error: 112.8845\n",
      "Epoch 17/20\n",
      "108/108 [==============================] - ETA: 0s - loss: 121.3356 - mean_squared_error: 121.3356\n",
      "Epoch 17: val_loss did not improve from 112.43335\n",
      "108/108 [==============================] - 60s 553ms/step - loss: 121.3356 - mean_squared_error: 121.3356 - val_loss: 116.3034 - val_mean_squared_error: 116.3034\n",
      "Epoch 18/20\n",
      "108/108 [==============================] - ETA: 0s - loss: 120.7969 - mean_squared_error: 120.7969\n",
      "Epoch 18: val_loss improved from 112.43335 to 111.23174, saving model to models/pv_lstm_2_hours_ahead.keras\n",
      "108/108 [==============================] - 61s 563ms/step - loss: 120.7969 - mean_squared_error: 120.7969 - val_loss: 111.2317 - val_mean_squared_error: 111.2317\n",
      "Epoch 19/20\n",
      "108/108 [==============================] - ETA: 0s - loss: 120.2143 - mean_squared_error: 120.2143\n",
      "Epoch 19: val_loss did not improve from 111.23174\n",
      "108/108 [==============================] - 58s 541ms/step - loss: 120.2143 - mean_squared_error: 120.2143 - val_loss: 114.4964 - val_mean_squared_error: 114.4964\n",
      "Epoch 20/20\n",
      "108/108 [==============================] - ETA: 0s - loss: 119.7403 - mean_squared_error: 119.7403\n",
      "Epoch 20: val_loss improved from 111.23174 to 108.73830, saving model to models/pv_lstm_2_hours_ahead.keras\n",
      "108/108 [==============================] - 58s 534ms/step - loss: 119.7403 - mean_squared_error: 119.7403 - val_loss: 108.7383 - val_mean_squared_error: 108.7383\n"
     ]
    }
   ],
   "source": [
    "history_2_hours = LSTM_network_model_2_hour.fit(X_shuffled, y_shuffled, epochs=20, batch_size=400, validation_split = 0.2, callbacks=callbacks_list)"
   ]
  },
  {
   "cell_type": "code",
   "execution_count": 73,
   "metadata": {},
   "outputs": [
    {
     "data": {
      "image/png": "[encoded data removed]",
      "text/plain": [
       "<Figure size 640x480 with 1 Axes>"
      ]
     },
     "metadata": {},
     "output_type": "display_data"
    },
    {
     "data": {
      "image/png": "[encoded data removed]",
      "text/plain": [
       "<Figure size 640x480 with 1 Axes>"
      ]
     },
     "metadata": {},
     "output_type": "display_data"
    }
   ],
   "source": [
    "# Plot training and validation loss\n",
    "plt.plot(history_2_hours.history['loss'], label='Training Loss')\n",
    "plt.plot(history_2_hours.history['val_loss'], label='Validation Loss')\n",
    "plt.title('Model Loss')\n",
    "plt.xlabel('Epoch')\n",
    "plt.ylabel('Loss')\n",
    "plt.legend()\n",
    "plt.show()\n",
    "\n",
    "# Plot training and validation MAE\n",
    "plt.plot(history_2_hours.history['mean_squared_error'], label='Training MSE')\n",
    "plt.plot(history_2_hours.history['val_mean_squared_error'], label='Validation MSE')\n",
    "plt.title('Model MSE')\n",
    "plt.xlabel('Epoch')\n",
    "plt.ylabel('MSE')\n",
    "plt.legend()\n",
    "plt.show()"
   ]
  },
  {
   "cell_type": "markdown",
   "metadata": {},
   "source": [
    "## Testing"
   ]
  },
  {
   "cell_type": "code",
   "execution_count": 74,
   "metadata": {},
   "outputs": [
    {
     "data": {
      "application/vnd.microsoft.datawrangler.viewer.v0+json": {
       "columns": [
        {
         "name": "index",
         "rawType": "int64",
         "type": "integer"
        },
        {
         "name": "production_15_min_%",
         "rawType": "float64",
         "type": "float"
        },
        {
         "name": "temp",
         "rawType": "float64",
         "type": "float"
        },
        {
         "name": "cloudcover",
         "rawType": "float64",
         "type": "float"
        },
        {
         "name": "solarenergy",
         "rawType": "float64",
         "type": "float"
        },
        {
         "name": "uvindex",
         "rawType": "float64",
         "type": "float"
        },
        {
         "name": "solar_azimuth",
         "rawType": "float64",
         "type": "float"
        },
        {
         "name": "solar_elevation",
         "rawType": "float64",
         "type": "float"
        },
        {
         "name": "day_of_year_sine",
         "rawType": "float64",
         "type": "float"
        },
        {
         "name": "day_of_year_cosine",
         "rawType": "float64",
         "type": "float"
        }
       ],
       "conversionMethod": "pd.DataFrame",
       "ref": "15f30ffb-ec8c-4d7d-a017-a33175b2ee83",
       "rows": [
        [
         "0",
         "0.0",
         "8.1",
         "96.3",
         "0.0",
         "0.0",
         "-3.0616245461947535",
         "-1.0830367510530152",
         "0.017213356155834685",
         "0.9998518392091162"
        ],
        [
         "1",
         "0.0",
         "8.1",
         "95.225",
         "0.0",
         "0.0",
         "-2.9344092270082833",
         "-1.077116299267514",
         "0.017213356155834685",
         "0.9998518392091162"
        ],
        [
         "2",
         "0.0",
         "8.1",
         "94.15",
         "0.0",
         "0.0",
         "-2.8106717234939635",
         "-1.0661306554131451",
         "0.017213356155834685",
         "0.9998518392091162"
        ],
        [
         "3",
         "0.0",
         "8.1",
         "93.075",
         "0.0",
         "0.0",
         "-2.6920741607110563",
         "-1.0504179065022725",
         "0.017213356155834685",
         "0.9998518392091162"
        ],
        [
         "4",
         "0.0",
         "8.1",
         "92.0",
         "0.0",
         "0.0",
         "-2.579743219234104",
         "-1.0304150776866048",
         "0.017213356155834685",
         "0.9998518392091162"
        ]
       ],
       "shape": {
        "columns": 9,
        "rows": 5
       }
      },
      "text/html": [
       "<div>\n",
       "<style scoped>\n",
       "    .dataframe tbody tr th:only-of-type {\n",
       "        vertical-align: middle;\n",
       "    }\n",
       "\n",
       "    .dataframe tbody tr th {\n",
       "        vertical-align: top;\n",
       "    }\n",
       "\n",
       "    .dataframe thead th {\n",
       "        text-align: right;\n",
       "    }\n",
       "</style>\n",
       "<table border=\"1\" class=\"dataframe\">\n",
       "  <thead>\n",
       "    <tr style=\"text-align: right;\">\n",
       "      <th></th>\n",
       "      <th>production_15_min_%</th>\n",
       "      <th>temp</th>\n",
       "      <th>cloudcover</th>\n",
       "      <th>solarenergy</th>\n",
       "      <th>uvindex</th>\n",
       "      <th>solar_azimuth</th>\n",
       "      <th>solar_elevation</th>\n",
       "      <th>day_of_year_sine</th>\n",
       "      <th>day_of_year_cosine</th>\n",
       "    </tr>\n",
       "  </thead>\n",
       "  <tbody>\n",
       "    <tr>\n",
       "      <th>0</th>\n",
       "      <td>0.0</td>\n",
       "      <td>8.1</td>\n",
       "      <td>96.300</td>\n",
       "      <td>0.0</td>\n",
       "      <td>0.0</td>\n",
       "      <td>-3.061625</td>\n",
       "      <td>-1.083037</td>\n",
       "      <td>0.017213</td>\n",
       "      <td>0.999852</td>\n",
       "    </tr>\n",
       "    <tr>\n",
       "      <th>1</th>\n",
       "      <td>0.0</td>\n",
       "      <td>8.1</td>\n",
       "      <td>95.225</td>\n",
       "      <td>0.0</td>\n",
       "      <td>0.0</td>\n",
       "      <td>-2.934409</td>\n",
       "      <td>-1.077116</td>\n",
       "      <td>0.017213</td>\n",
       "      <td>0.999852</td>\n",
       "    </tr>\n",
       "    <tr>\n",
       "      <th>2</th>\n",
       "      <td>0.0</td>\n",
       "      <td>8.1</td>\n",
       "      <td>94.150</td>\n",
       "      <td>0.0</td>\n",
       "      <td>0.0</td>\n",
       "      <td>-2.810672</td>\n",
       "      <td>-1.066131</td>\n",
       "      <td>0.017213</td>\n",
       "      <td>0.999852</td>\n",
       "    </tr>\n",
       "    <tr>\n",
       "      <th>3</th>\n",
       "      <td>0.0</td>\n",
       "      <td>8.1</td>\n",
       "      <td>93.075</td>\n",
       "      <td>0.0</td>\n",
       "      <td>0.0</td>\n",
       "      <td>-2.692074</td>\n",
       "      <td>-1.050418</td>\n",
       "      <td>0.017213</td>\n",
       "      <td>0.999852</td>\n",
       "    </tr>\n",
       "    <tr>\n",
       "      <th>4</th>\n",
       "      <td>0.0</td>\n",
       "      <td>8.1</td>\n",
       "      <td>92.000</td>\n",
       "      <td>0.0</td>\n",
       "      <td>0.0</td>\n",
       "      <td>-2.579743</td>\n",
       "      <td>-1.030415</td>\n",
       "      <td>0.017213</td>\n",
       "      <td>0.999852</td>\n",
       "    </tr>\n",
       "  </tbody>\n",
       "</table>\n",
       "</div>"
      ],
      "text/plain": [
       "   production_15_min_%  temp  cloudcover  solarenergy  uvindex  solar_azimuth  \\\n",
       "0                  0.0   8.1      96.300          0.0      0.0      -3.061625   \n",
       "1                  0.0   8.1      95.225          0.0      0.0      -2.934409   \n",
       "2                  0.0   8.1      94.150          0.0      0.0      -2.810672   \n",
       "3                  0.0   8.1      93.075          0.0      0.0      -2.692074   \n",
       "4                  0.0   8.1      92.000          0.0      0.0      -2.579743   \n",
       "\n",
       "   solar_elevation  day_of_year_sine  day_of_year_cosine  \n",
       "0        -1.083037          0.017213            0.999852  \n",
       "1        -1.077116          0.017213            0.999852  \n",
       "2        -1.066131          0.017213            0.999852  \n",
       "3        -1.050418          0.017213            0.999852  \n",
       "4        -1.030415          0.017213            0.999852  "
      ]
     },
     "execution_count": 74,
     "metadata": {},
     "output_type": "execute_result"
    }
   ],
   "source": [
    "df_test_jvr.head()"
   ]
  },
  {
   "cell_type": "code",
   "execution_count": 75,
   "metadata": {},
   "outputs": [],
   "source": [
    "# Splits de dataset in een trainings- en testset\n",
    "actual_lstm_2_hours = y_test_jvr_2_hours\n",
    "input_lstm_2_hours = X_test_jvr_2_hours"
   ]
  },
  {
   "cell_type": "code",
   "execution_count": 76,
   "metadata": {},
   "outputs": [],
   "source": [
    "# Inladen van het beste LSTM model op 2h\n",
    "best_lstm_model_2_hour = load_model('models/pv_lstm_2_hours_ahead.keras')"
   ]
  },
  {
   "cell_type": "code",
   "execution_count": 77,
   "metadata": {},
   "outputs": [],
   "source": [
    "# Maak een voorspelling voor elke regel in de testdataset\n",
    "input_lstm_2_hours = lstm_2_scaler.transform(input_lstm_2_hours.reshape(-1, input_lstm_2_hours.shape[-1])).reshape(input_lstm_2_hours.shape)\n",
    "df_result_lstm_2_hour = pd.DataFrame(actual_lstm_2_hours, columns=['production_15_min_%'])"
   ]
  },
  {
   "cell_type": "code",
   "execution_count": null,
   "metadata": {},
   "outputs": [
    {
     "name": "stdout",
     "output_type": "stream",
     "text": [
      "90/90 [==============================] - 2s 18ms/step\n"
     ]
    },
    {
     "data": {
      "application/vnd.microsoft.datawrangler.viewer.v0+json": {
       "columns": [
        {
         "name": "index",
         "rawType": "int64",
         "type": "integer"
        },
        {
         "name": "production_15_min_%",
         "rawType": "float64",
         "type": "float"
        },
        {
         "name": "predicted_with_LSTM_2_hour(%)",
         "rawType": "float32",
         "type": "float"
        }
       ],
       "conversionMethod": "pd.DataFrame",
       "ref": "e62bbd9d-9c26-4bab-9cf5-b20c4f16b75b",
       "rows": [
        [
         "0",
         "0.0",
         "-0.0048974454"
        ],
        [
         "1",
         "0.0",
         "-0.0047869533"
        ],
        [
         "2",
         "0.0",
         "-0.004542649"
        ],
        [
         "3",
         "0.0",
         "-0.0041911006"
        ],
        [
         "4",
         "0.0",
         "-0.0037455559"
        ]
       ],
       "shape": {
        "columns": 2,
        "rows": 5
       }
      },
      "text/html": [
       "<div>\n",
       "<style scoped>\n",
       "    .dataframe tbody tr th:only-of-type {\n",
       "        vertical-align: middle;\n",
       "    }\n",
       "\n",
       "    .dataframe tbody tr th {\n",
       "        vertical-align: top;\n",
       "    }\n",
       "\n",
       "    .dataframe thead th {\n",
       "        text-align: right;\n",
       "    }\n",
       "</style>\n",
       "<table border=\"1\" class=\"dataframe\">\n",
       "  <thead>\n",
       "    <tr style=\"text-align: right;\">\n",
       "      <th></th>\n",
       "      <th>production_15_min_%</th>\n",
       "      <th>predicted_with_LSTM_2_hour(%)</th>\n",
       "    </tr>\n",
       "  </thead>\n",
       "  <tbody>\n",
       "    <tr>\n",
       "      <th>0</th>\n",
       "      <td>0.0</td>\n",
       "      <td>-0.004897</td>\n",
       "    </tr>\n",
       "    <tr>\n",
       "      <th>1</th>\n",
       "      <td>0.0</td>\n",
       "      <td>-0.004787</td>\n",
       "    </tr>\n",
       "    <tr>\n",
       "      <th>2</th>\n",
       "      <td>0.0</td>\n",
       "      <td>-0.004543</td>\n",
       "    </tr>\n",
       "    <tr>\n",
       "      <th>3</th>\n",
       "      <td>0.0</td>\n",
       "      <td>-0.004191</td>\n",
       "    </tr>\n",
       "    <tr>\n",
       "      <th>4</th>\n",
       "      <td>0.0</td>\n",
       "      <td>-0.003746</td>\n",
       "    </tr>\n",
       "  </tbody>\n",
       "</table>\n",
       "</div>"
      ],
      "text/plain": [
       "   production_15_min_%  predicted_with_LSTM_2_hour(%)\n",
       "0                  0.0                      -0.004897\n",
       "1                  0.0                      -0.004787\n",
       "2                  0.0                      -0.004543\n",
       "3                  0.0                      -0.004191\n",
       "4                  0.0                      -0.003746"
      ]
     },
     "execution_count": 78,
     "metadata": {},
     "output_type": "execute_result"
    }
   ],
   "source": [
    "df_result_lstm_2_hour['predicted_with_LSTM_2_hour(%)'] = best_lstm_model_2_hour.predict(input_lstm_2_hours)\n",
    "df_result_lstm_2_hour['predicted_with_LSTM_2_hour(%)'] = df_result_lstm_2_hour['predicted_with_LSTM_2_hour(%)'].apply(lambda x: x if x >= 0 else 0)\n",
    "df_result_lstm_2_hour.head()"
   ]
  },
  {
   "cell_type": "code",
   "execution_count": 79,
   "metadata": {},
   "outputs": [
    {
     "data": {
      "image/png": "[encoded data removed]",
      "text/plain": [
       "<Figure size 1000x600 with 1 Axes>"
      ]
     },
     "metadata": {},
     "output_type": "display_data"
    }
   ],
   "source": [
    "# Zet de voorspellingen uit in een grafiek LSTM 2h\n",
    "plt.figure(figsize=(10, 6))\n",
    "plt.plot(df_result_lstm_2_hour['production_15_min_%'], label='Actual', color='blue')\n",
    "plt.plot(df_result_lstm_2_hour['predicted_with_LSTM_2_hour(%)'], label='Predicted', color='red')\n",
    "plt.xlabel('Datetime')\n",
    "plt.ylabel('Predictions')\n",
    "plt.title('Predictions Over Time with LSTM 2 hours')\n",
    "plt.grid(True)\n",
    "x_ticks = plt.gca().get_xticks()\n",
    "x_ticks_selected = x_ticks[::24]\n",
    "plt.xticks(x_ticks_selected, rotation=90)\n",
    "plt.legend()\n",
    "plt.show()"
   ]
  },
  {
   "cell_type": "code",
   "execution_count": 80,
   "metadata": {},
   "outputs": [
    {
     "name": "stdout",
     "output_type": "stream",
     "text": [
      "### LSTM-model 2 hours ###\n",
      "mae: 2.5111192362259525\n",
      "mse: 42.78437961826299\n",
      "r2: 0.6365037595387019\n"
     ]
    }
   ],
   "source": [
    "# Calculating the accuracy of each model based on the test data\n",
    "print(\"### LSTM-model 2 hours ###\")\n",
    "print(f\"mae: {mean_absolute_error(df_result_lstm_2_hour['production_15_min_%'], df_result_lstm_2_hour['predicted_with_LSTM_2_hour(%)'])}\")\n",
    "print(f\"mse: {mean_squared_error(df_result_lstm_2_hour['production_15_min_%'], df_result_lstm_2_hour['predicted_with_LSTM_2_hour(%)'])}\")\n",
    "print(f\"r2: {r2_score(df_result_lstm_2_hour['production_15_min_%'], df_result_lstm_2_hour['predicted_with_LSTM_2_hour(%)'])}\")"
   ]
  }
 ],
 "metadata": {
  "kernelspec": {
   "display_name": "gaicia",
   "language": "python",
   "name": "python3"
  },
  "language_info": {
   "codemirror_mode": {
    "name": "ipython",
    "version": 3
   },
   "file_extension": ".py",
   "mimetype": "text/x-python",
   "name": "python",
   "nbconvert_exporter": "python",
   "pygments_lexer": "ipython3",
   "version": "3.9.16"
  }
 },
 "nbformat": 4,
 "nbformat_minor": 2
}
