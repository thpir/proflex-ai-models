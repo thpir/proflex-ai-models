{
 "cells": [
  {
   "cell_type": "markdown",
   "metadata": {},
   "source": [
    "# FASE 2: Voorspellen elektrisch verbruik warmtepomp\n",
    "\n",
    "* kWh per tijdbasis 15m\n",
    "* Household 1 gebruikt voor data (JVR)\n",
    "* datetime features\n",
    "   * stookseizoen\n",
    "   * dag\n",
    "   * uur"
   ]
  },
  {
   "cell_type": "code",
   "execution_count": 41,
   "metadata": {},
   "outputs": [],
   "source": [
    "import pandas as pd\n",
    "import seaborn as sns; sns.set_theme(color_codes=True)\n",
    "\n",
    "from prophet import Prophet"
   ]
  },
  {
   "cell_type": "markdown",
   "metadata": {},
   "source": [
    "## Data-analyse\n",
    "### Inlezen en voorbereiden van data"
   ]
  },
  {
   "cell_type": "code",
   "execution_count": 42,
   "metadata": {},
   "outputs": [
    {
     "data": {
      "application/vnd.microsoft.datawrangler.viewer.v0+json": {
       "columns": [
        {
         "name": "index",
         "rawType": "int64",
         "type": "integer"
        },
        {
         "name": "_time",
         "rawType": "object",
         "type": "string"
        },
        {
         "name": "heat_consumption",
         "rawType": "float64",
         "type": "float"
        }
       ],
       "ref": "3ec33681-ba24-4fd3-9dbd-8d85b025469b",
       "rows": [
        [
         "0",
         "2024-03-14 08:00:00+01:00",
         "8017.324"
        ],
        [
         "1",
         "2024-03-14 08:15:00+01:00",
         "8017.365"
        ],
        [
         "2",
         "2024-03-14 08:45:00+01:00",
         "8017.488"
        ],
        [
         "3",
         "2024-03-14 09:00:00+01:00",
         "8017.525"
        ],
        [
         "4",
         "2024-03-14 09:15:00+01:00",
         "8017.561"
        ]
       ],
       "shape": {
        "columns": 2,
        "rows": 5
       }
      },
      "text/html": [
       "<div>\n",
       "<style scoped>\n",
       "    .dataframe tbody tr th:only-of-type {\n",
       "        vertical-align: middle;\n",
       "    }\n",
       "\n",
       "    .dataframe tbody tr th {\n",
       "        vertical-align: top;\n",
       "    }\n",
       "\n",
       "    .dataframe thead th {\n",
       "        text-align: right;\n",
       "    }\n",
       "</style>\n",
       "<table border=\"1\" class=\"dataframe\">\n",
       "  <thead>\n",
       "    <tr style=\"text-align: right;\">\n",
       "      <th></th>\n",
       "      <th>_time</th>\n",
       "      <th>heat_consumption</th>\n",
       "    </tr>\n",
       "  </thead>\n",
       "  <tbody>\n",
       "    <tr>\n",
       "      <th>0</th>\n",
       "      <td>2024-03-14 08:00:00+01:00</td>\n",
       "      <td>8017.324</td>\n",
       "    </tr>\n",
       "    <tr>\n",
       "      <th>1</th>\n",
       "      <td>2024-03-14 08:15:00+01:00</td>\n",
       "      <td>8017.365</td>\n",
       "    </tr>\n",
       "    <tr>\n",
       "      <th>2</th>\n",
       "      <td>2024-03-14 08:45:00+01:00</td>\n",
       "      <td>8017.488</td>\n",
       "    </tr>\n",
       "    <tr>\n",
       "      <th>3</th>\n",
       "      <td>2024-03-14 09:00:00+01:00</td>\n",
       "      <td>8017.525</td>\n",
       "    </tr>\n",
       "    <tr>\n",
       "      <th>4</th>\n",
       "      <td>2024-03-14 09:15:00+01:00</td>\n",
       "      <td>8017.561</td>\n",
       "    </tr>\n",
       "  </tbody>\n",
       "</table>\n",
       "</div>"
      ],
      "text/plain": [
       "                       _time  heat_consumption\n",
       "0  2024-03-14 08:00:00+01:00          8017.324\n",
       "1  2024-03-14 08:15:00+01:00          8017.365\n",
       "2  2024-03-14 08:45:00+01:00          8017.488\n",
       "3  2024-03-14 09:00:00+01:00          8017.525\n",
       "4  2024-03-14 09:15:00+01:00          8017.561"
      ]
     },
     "execution_count": 42,
     "metadata": {},
     "output_type": "execute_result"
    }
   ],
   "source": [
    "# Open de datasets\n",
    "df = pd.read_csv('data/raw/household_1_heat_pump_consumption_warmtepomp from 2024-03-01.csv')\n",
    "df.head()"
   ]
  },
  {
   "cell_type": "code",
   "execution_count": 43,
   "metadata": {},
   "outputs": [],
   "source": [
    "# Kolommen hernoemen\n",
    "df.rename(columns={'_time': 'ds', 'heat_consumption': 'y'}, inplace=True)"
   ]
  },
  {
   "cell_type": "code",
   "execution_count": 44,
   "metadata": {},
   "outputs": [
    {
     "name": "stdout",
     "output_type": "stream",
     "text": [
      "Errors: 1\n",
      "Dataset size: 57090\n"
     ]
    },
    {
     "data": {
      "application/vnd.microsoft.datawrangler.viewer.v0+json": {
       "columns": [
        {
         "name": "index",
         "rawType": "int64",
         "type": "integer"
        },
        {
         "name": "ds",
         "rawType": "datetime64[ns]",
         "type": "datetime"
        },
        {
         "name": "y",
         "rawType": "float64",
         "type": "float"
        }
       ],
       "ref": "2dd52418-76e1-4f09-9c73-0505364801fb",
       "rows": [
        [
         "28540",
         "2025-01-17 12:45:00",
         "9446.932"
        ],
        [
         "28541",
         "2025-01-17 13:00:00",
         "9447.173"
        ],
        [
         "28542",
         "2025-01-17 13:15:00",
         "9447.402"
        ],
        [
         "28543",
         "2025-01-17 13:30:00",
         "9447.618"
        ],
        [
         "28544",
         "2025-01-17 13:45:00",
         "9447.814"
        ]
       ],
       "shape": {
        "columns": 2,
        "rows": 5
       }
      },
      "text/html": [
       "<div>\n",
       "<style scoped>\n",
       "    .dataframe tbody tr th:only-of-type {\n",
       "        vertical-align: middle;\n",
       "    }\n",
       "\n",
       "    .dataframe tbody tr th {\n",
       "        vertical-align: top;\n",
       "    }\n",
       "\n",
       "    .dataframe thead th {\n",
       "        text-align: right;\n",
       "    }\n",
       "</style>\n",
       "<table border=\"1\" class=\"dataframe\">\n",
       "  <thead>\n",
       "    <tr style=\"text-align: right;\">\n",
       "      <th></th>\n",
       "      <th>ds</th>\n",
       "      <th>y</th>\n",
       "    </tr>\n",
       "  </thead>\n",
       "  <tbody>\n",
       "    <tr>\n",
       "      <th>28540</th>\n",
       "      <td>2025-01-17 12:45:00</td>\n",
       "      <td>9446.932</td>\n",
       "    </tr>\n",
       "    <tr>\n",
       "      <th>28541</th>\n",
       "      <td>2025-01-17 13:00:00</td>\n",
       "      <td>9447.173</td>\n",
       "    </tr>\n",
       "    <tr>\n",
       "      <th>28542</th>\n",
       "      <td>2025-01-17 13:15:00</td>\n",
       "      <td>9447.402</td>\n",
       "    </tr>\n",
       "    <tr>\n",
       "      <th>28543</th>\n",
       "      <td>2025-01-17 13:30:00</td>\n",
       "      <td>9447.618</td>\n",
       "    </tr>\n",
       "    <tr>\n",
       "      <th>28544</th>\n",
       "      <td>2025-01-17 13:45:00</td>\n",
       "      <td>9447.814</td>\n",
       "    </tr>\n",
       "  </tbody>\n",
       "</table>\n",
       "</div>"
      ],
      "text/plain": [
       "                       ds         y\n",
       "28540 2025-01-17 12:45:00  9446.932\n",
       "28541 2025-01-17 13:00:00  9447.173\n",
       "28542 2025-01-17 13:15:00  9447.402\n",
       "28543 2025-01-17 13:30:00  9447.618\n",
       "28544 2025-01-17 13:45:00  9447.814"
      ]
     },
     "execution_count": 44,
     "metadata": {},
     "output_type": "execute_result"
    }
   ],
   "source": [
    "# Tijdskolom aanpassen\n",
    "df['ds'] = (df['ds'].str.replace(' ', 'T'))\n",
    "df['ds'] = (df['ds'].str.replace('+01:00', ''))\n",
    "df['ds'] = (df['ds'].str.replace('+02:00', ''))\n",
    "df['ds'] = pd.to_datetime(df['ds'], errors='coerce')\n",
    "print(f\"Errors: {df['ds'].isnull().sum()}\")\n",
    "df = df.dropna(subset=['ds'])\n",
    "print(f\"Dataset size: {df.size}\")\n",
    "df.tail()"
   ]
  },
  {
   "cell_type": "code",
   "execution_count": 45,
   "metadata": {},
   "outputs": [
    {
     "name": "stdout",
     "output_type": "stream",
     "text": [
      "First date: 2024-03-14 08:00:00, Last date: 2025-01-17 13:45:00\n"
     ]
    }
   ],
   "source": [
    "# Eerste en laatste datetime vinden\n",
    "first_date = df['ds'].min()\n",
    "last_date = df['ds'].max()\n",
    "print(f\"First date: {first_date}, Last date: {last_date}\")"
   ]
  },
  {
   "cell_type": "code",
   "execution_count": null,
   "metadata": {},
   "outputs": [
    {
     "name": "stdout",
     "output_type": "stream",
     "text": [
      "<class 'pandas.core.frame.DataFrame'>\n",
      "RangeIndex: 29688 entries, 0 to 29687\n",
      "Data columns (total 1 columns):\n",
      " #   Column  Non-Null Count  Dtype         \n",
      "---  ------  --------------  -----         \n",
      " 0   ds      29688 non-null  datetime64[ns]\n",
      "dtypes: datetime64[ns](1)\n",
      "memory usage: 232.1 KB\n"
     ]
    },
    {
     "name": "stderr",
     "output_type": "stream",
     "text": [
      "/var/folders/yg/5hgw5_z931sd5sx564slbskh0000gq/T/ipykernel_78395/4002032214.py:2: FutureWarning: 'T' is deprecated and will be removed in a future version, please use 'min' instead.\n",
      "  ds_range = pd.date_range(start=first_date, end=last_date, freq='15T')\n"
     ]
    }
   ],
   "source": [
    "# Een nieuwe df aan maken met alle data tussen de eerste en laatste datum\n",
    "ds_range = pd.date_range(start=first_date, end=last_date, freq='15min')\n",
    "df_full = pd.DataFrame({'ds': ds_range})\n",
    "df_full.info()"
   ]
  },
  {
   "cell_type": "code",
   "execution_count": null,
   "metadata": {},
   "outputs": [
    {
     "name": "stdout",
     "output_type": "stream",
     "text": [
      "<class 'pandas.core.frame.DataFrame'>\n",
      "RangeIndex: 29692 entries, 0 to 29691\n",
      "Data columns (total 2 columns):\n",
      " #   Column  Non-Null Count  Dtype         \n",
      "---  ------  --------------  -----         \n",
      " 0   ds      29692 non-null  datetime64[ns]\n",
      " 1   y       28545 non-null  float64       \n",
      "dtypes: datetime64[ns](1), float64(1)\n",
      "memory usage: 464.1 KB\n"
     ]
    }
   ],
   "source": [
    "# Meterstanden toevoegen aan de nieuwe df\n",
    "df_full = df_full.merge(df, on='ds', how='left')\n",
    "df_full.info()\n"
   ]
  },
  {
   "cell_type": "code",
   "execution_count": 48,
   "metadata": {},
   "outputs": [
    {
     "data": {
      "application/vnd.microsoft.datawrangler.viewer.v0+json": {
       "columns": [
        {
         "name": "index",
         "rawType": "int64",
         "type": "integer"
        },
        {
         "name": "ds",
         "rawType": "datetime64[ns]",
         "type": "datetime"
        },
        {
         "name": "y",
         "rawType": "float64",
         "type": "float"
        }
       ],
       "ref": "663a2eff-0b60-4f87-823c-3c6b73953a3a",
       "rows": [
        [
         "0",
         "2024-03-14 08:00:00",
         "8017.324"
        ],
        [
         "1",
         "2024-03-14 08:15:00",
         "8017.365"
        ],
        [
         "2",
         "2024-03-14 08:30:00",
         null
        ],
        [
         "3",
         "2024-03-14 08:45:00",
         "8017.488"
        ],
        [
         "4",
         "2024-03-14 09:00:00",
         "8017.525"
        ]
       ],
       "shape": {
        "columns": 2,
        "rows": 5
       }
      },
      "text/html": [
       "<div>\n",
       "<style scoped>\n",
       "    .dataframe tbody tr th:only-of-type {\n",
       "        vertical-align: middle;\n",
       "    }\n",
       "\n",
       "    .dataframe tbody tr th {\n",
       "        vertical-align: top;\n",
       "    }\n",
       "\n",
       "    .dataframe thead th {\n",
       "        text-align: right;\n",
       "    }\n",
       "</style>\n",
       "<table border=\"1\" class=\"dataframe\">\n",
       "  <thead>\n",
       "    <tr style=\"text-align: right;\">\n",
       "      <th></th>\n",
       "      <th>ds</th>\n",
       "      <th>y</th>\n",
       "    </tr>\n",
       "  </thead>\n",
       "  <tbody>\n",
       "    <tr>\n",
       "      <th>0</th>\n",
       "      <td>2024-03-14 08:00:00</td>\n",
       "      <td>8017.324</td>\n",
       "    </tr>\n",
       "    <tr>\n",
       "      <th>1</th>\n",
       "      <td>2024-03-14 08:15:00</td>\n",
       "      <td>8017.365</td>\n",
       "    </tr>\n",
       "    <tr>\n",
       "      <th>2</th>\n",
       "      <td>2024-03-14 08:30:00</td>\n",
       "      <td>NaN</td>\n",
       "    </tr>\n",
       "    <tr>\n",
       "      <th>3</th>\n",
       "      <td>2024-03-14 08:45:00</td>\n",
       "      <td>8017.488</td>\n",
       "    </tr>\n",
       "    <tr>\n",
       "      <th>4</th>\n",
       "      <td>2024-03-14 09:00:00</td>\n",
       "      <td>8017.525</td>\n",
       "    </tr>\n",
       "  </tbody>\n",
       "</table>\n",
       "</div>"
      ],
      "text/plain": [
       "                   ds         y\n",
       "0 2024-03-14 08:00:00  8017.324\n",
       "1 2024-03-14 08:15:00  8017.365\n",
       "2 2024-03-14 08:30:00       NaN\n",
       "3 2024-03-14 08:45:00  8017.488\n",
       "4 2024-03-14 09:00:00  8017.525"
      ]
     },
     "execution_count": 48,
     "metadata": {},
     "output_type": "execute_result"
    }
   ],
   "source": [
    "df_full.head()\n"
   ]
  },
  {
   "cell_type": "code",
   "execution_count": 49,
   "metadata": {},
   "outputs": [
    {
     "data": {
      "application/vnd.microsoft.datawrangler.viewer.v0+json": {
       "columns": [
        {
         "name": "index",
         "rawType": "int64",
         "type": "integer"
        },
        {
         "name": "ds",
         "rawType": "datetime64[ns]",
         "type": "datetime"
        },
        {
         "name": "y",
         "rawType": "float64",
         "type": "float"
        }
       ],
       "ref": "9d7337b6-03f4-49bf-898b-17b13c61ad51",
       "rows": [
        [
         "29687",
         "2025-01-17 12:45:00",
         "9446.932"
        ],
        [
         "29688",
         "2025-01-17 13:00:00",
         "9447.173"
        ],
        [
         "29689",
         "2025-01-17 13:15:00",
         "9447.402"
        ],
        [
         "29690",
         "2025-01-17 13:30:00",
         "9447.618"
        ],
        [
         "29691",
         "2025-01-17 13:45:00",
         "9447.814"
        ]
       ],
       "shape": {
        "columns": 2,
        "rows": 5
       }
      },
      "text/html": [
       "<div>\n",
       "<style scoped>\n",
       "    .dataframe tbody tr th:only-of-type {\n",
       "        vertical-align: middle;\n",
       "    }\n",
       "\n",
       "    .dataframe tbody tr th {\n",
       "        vertical-align: top;\n",
       "    }\n",
       "\n",
       "    .dataframe thead th {\n",
       "        text-align: right;\n",
       "    }\n",
       "</style>\n",
       "<table border=\"1\" class=\"dataframe\">\n",
       "  <thead>\n",
       "    <tr style=\"text-align: right;\">\n",
       "      <th></th>\n",
       "      <th>ds</th>\n",
       "      <th>y</th>\n",
       "    </tr>\n",
       "  </thead>\n",
       "  <tbody>\n",
       "    <tr>\n",
       "      <th>29687</th>\n",
       "      <td>2025-01-17 12:45:00</td>\n",
       "      <td>9446.932</td>\n",
       "    </tr>\n",
       "    <tr>\n",
       "      <th>29688</th>\n",
       "      <td>2025-01-17 13:00:00</td>\n",
       "      <td>9447.173</td>\n",
       "    </tr>\n",
       "    <tr>\n",
       "      <th>29689</th>\n",
       "      <td>2025-01-17 13:15:00</td>\n",
       "      <td>9447.402</td>\n",
       "    </tr>\n",
       "    <tr>\n",
       "      <th>29690</th>\n",
       "      <td>2025-01-17 13:30:00</td>\n",
       "      <td>9447.618</td>\n",
       "    </tr>\n",
       "    <tr>\n",
       "      <th>29691</th>\n",
       "      <td>2025-01-17 13:45:00</td>\n",
       "      <td>9447.814</td>\n",
       "    </tr>\n",
       "  </tbody>\n",
       "</table>\n",
       "</div>"
      ],
      "text/plain": [
       "                       ds         y\n",
       "29687 2025-01-17 12:45:00  9446.932\n",
       "29688 2025-01-17 13:00:00  9447.173\n",
       "29689 2025-01-17 13:15:00  9447.402\n",
       "29690 2025-01-17 13:30:00  9447.618\n",
       "29691 2025-01-17 13:45:00  9447.814"
      ]
     },
     "execution_count": 49,
     "metadata": {},
     "output_type": "execute_result"
    }
   ],
   "source": [
    "df_full.tail()"
   ]
  },
  {
   "cell_type": "code",
   "execution_count": 50,
   "metadata": {},
   "outputs": [
    {
     "data": {
      "application/vnd.microsoft.datawrangler.viewer.v0+json": {
       "columns": [
        {
         "name": "index",
         "rawType": "int64",
         "type": "integer"
        },
        {
         "name": "ds",
         "rawType": "datetime64[ns]",
         "type": "datetime"
        },
        {
         "name": "y",
         "rawType": "float64",
         "type": "float"
        }
       ],
       "ref": "a9ff945a-5d77-4a96-9c7b-ec63bb14221b",
       "rows": [
        [
         "0",
         "2024-03-14 08:00:00",
         "8017.324"
        ],
        [
         "1",
         "2024-03-14 08:15:00",
         "8017.365"
        ],
        [
         "2",
         "2024-03-14 08:30:00",
         "8017.4265"
        ],
        [
         "3",
         "2024-03-14 08:45:00",
         "8017.488"
        ],
        [
         "4",
         "2024-03-14 09:00:00",
         "8017.525"
        ]
       ],
       "shape": {
        "columns": 2,
        "rows": 5
       }
      },
      "text/html": [
       "<div>\n",
       "<style scoped>\n",
       "    .dataframe tbody tr th:only-of-type {\n",
       "        vertical-align: middle;\n",
       "    }\n",
       "\n",
       "    .dataframe tbody tr th {\n",
       "        vertical-align: top;\n",
       "    }\n",
       "\n",
       "    .dataframe thead th {\n",
       "        text-align: right;\n",
       "    }\n",
       "</style>\n",
       "<table border=\"1\" class=\"dataframe\">\n",
       "  <thead>\n",
       "    <tr style=\"text-align: right;\">\n",
       "      <th></th>\n",
       "      <th>ds</th>\n",
       "      <th>y</th>\n",
       "    </tr>\n",
       "  </thead>\n",
       "  <tbody>\n",
       "    <tr>\n",
       "      <th>0</th>\n",
       "      <td>2024-03-14 08:00:00</td>\n",
       "      <td>8017.3240</td>\n",
       "    </tr>\n",
       "    <tr>\n",
       "      <th>1</th>\n",
       "      <td>2024-03-14 08:15:00</td>\n",
       "      <td>8017.3650</td>\n",
       "    </tr>\n",
       "    <tr>\n",
       "      <th>2</th>\n",
       "      <td>2024-03-14 08:30:00</td>\n",
       "      <td>8017.4265</td>\n",
       "    </tr>\n",
       "    <tr>\n",
       "      <th>3</th>\n",
       "      <td>2024-03-14 08:45:00</td>\n",
       "      <td>8017.4880</td>\n",
       "    </tr>\n",
       "    <tr>\n",
       "      <th>4</th>\n",
       "      <td>2024-03-14 09:00:00</td>\n",
       "      <td>8017.5250</td>\n",
       "    </tr>\n",
       "  </tbody>\n",
       "</table>\n",
       "</div>"
      ],
      "text/plain": [
       "                   ds          y\n",
       "0 2024-03-14 08:00:00  8017.3240\n",
       "1 2024-03-14 08:15:00  8017.3650\n",
       "2 2024-03-14 08:30:00  8017.4265\n",
       "3 2024-03-14 08:45:00  8017.4880\n",
       "4 2024-03-14 09:00:00  8017.5250"
      ]
     },
     "execution_count": 50,
     "metadata": {},
     "output_type": "execute_result"
    }
   ],
   "source": [
    "# Opvullen van missende waarden\n",
    "df_full = df_full.sort_values(by='ds')\n",
    "df_full['y'] = df_full['y'].interpolate(method='linear')\n",
    "df_full = df_full.reset_index(drop=True)\n",
    "df_full.head()"
   ]
  },
  {
   "cell_type": "code",
   "execution_count": 51,
   "metadata": {},
   "outputs": [
    {
     "data": {
      "application/vnd.microsoft.datawrangler.viewer.v0+json": {
       "columns": [
        {
         "name": "index",
         "rawType": "int64",
         "type": "integer"
        },
        {
         "name": "ds",
         "rawType": "datetime64[ns]",
         "type": "datetime"
        },
        {
         "name": "y",
         "rawType": "float64",
         "type": "float"
        }
       ],
       "ref": "15e2e6c1-9419-4973-9738-e16315ed74ba",
       "rows": [
        [
         "1",
         "2024-03-14 08:15:00",
         "0.04100000000016735"
        ],
        [
         "2",
         "2024-03-14 08:30:00",
         "0.06149999999979627"
        ],
        [
         "3",
         "2024-03-14 08:45:00",
         "0.06150000000070577"
        ],
        [
         "4",
         "2024-03-14 09:00:00",
         "0.03699999999935244"
        ],
        [
         "5",
         "2024-03-14 09:15:00",
         "0.03600000000005821"
        ]
       ],
       "shape": {
        "columns": 2,
        "rows": 5
       }
      },
      "text/html": [
       "<div>\n",
       "<style scoped>\n",
       "    .dataframe tbody tr th:only-of-type {\n",
       "        vertical-align: middle;\n",
       "    }\n",
       "\n",
       "    .dataframe tbody tr th {\n",
       "        vertical-align: top;\n",
       "    }\n",
       "\n",
       "    .dataframe thead th {\n",
       "        text-align: right;\n",
       "    }\n",
       "</style>\n",
       "<table border=\"1\" class=\"dataframe\">\n",
       "  <thead>\n",
       "    <tr style=\"text-align: right;\">\n",
       "      <th></th>\n",
       "      <th>ds</th>\n",
       "      <th>y</th>\n",
       "    </tr>\n",
       "  </thead>\n",
       "  <tbody>\n",
       "    <tr>\n",
       "      <th>1</th>\n",
       "      <td>2024-03-14 08:15:00</td>\n",
       "      <td>0.0410</td>\n",
       "    </tr>\n",
       "    <tr>\n",
       "      <th>2</th>\n",
       "      <td>2024-03-14 08:30:00</td>\n",
       "      <td>0.0615</td>\n",
       "    </tr>\n",
       "    <tr>\n",
       "      <th>3</th>\n",
       "      <td>2024-03-14 08:45:00</td>\n",
       "      <td>0.0615</td>\n",
       "    </tr>\n",
       "    <tr>\n",
       "      <th>4</th>\n",
       "      <td>2024-03-14 09:00:00</td>\n",
       "      <td>0.0370</td>\n",
       "    </tr>\n",
       "    <tr>\n",
       "      <th>5</th>\n",
       "      <td>2024-03-14 09:15:00</td>\n",
       "      <td>0.0360</td>\n",
       "    </tr>\n",
       "  </tbody>\n",
       "</table>\n",
       "</div>"
      ],
      "text/plain": [
       "                   ds       y\n",
       "1 2024-03-14 08:15:00  0.0410\n",
       "2 2024-03-14 08:30:00  0.0615\n",
       "3 2024-03-14 08:45:00  0.0615\n",
       "4 2024-03-14 09:00:00  0.0370\n",
       "5 2024-03-14 09:15:00  0.0360"
      ]
     },
     "execution_count": 51,
     "metadata": {},
     "output_type": "execute_result"
    }
   ],
   "source": [
    "# Berekenen van de kWh verbruik per 15 minuten\n",
    "df_full['y'] = (df_full['y'] - df_full['y'].shift(1))\n",
    "df_full.dropna(subset=['y'], inplace=True)\n",
    "df_full.head()"
   ]
  },
  {
   "cell_type": "markdown",
   "metadata": {},
   "source": [
    "## Pre-processing van de data"
   ]
  },
  {
   "cell_type": "code",
   "execution_count": 58,
   "metadata": {},
   "outputs": [],
   "source": [
    "# Opsplitsen van de dataset in train en test\n",
    "train = df_full[df_full['ds'].dt.year == 2024]\n",
    "test = df_full[df_full['ds'].dt.year == 2025]"
   ]
  },
  {
   "cell_type": "markdown",
   "metadata": {},
   "source": [
    "## Training"
   ]
  },
  {
   "cell_type": "code",
   "execution_count": 59,
   "metadata": {},
   "outputs": [],
   "source": [
    "# Een prophet model maken\n",
    "model = Prophet()"
   ]
  },
  {
   "cell_type": "code",
   "execution_count": 60,
   "metadata": {},
   "outputs": [
    {
     "name": "stderr",
     "output_type": "stream",
     "text": [
      "11:31:00 - cmdstanpy - INFO - Chain [1] start processing\n",
      "11:31:02 - cmdstanpy - INFO - Chain [1] done processing\n"
     ]
    },
    {
     "data": {
      "text/plain": [
       "<prophet.forecaster.Prophet at 0x3199d5990>"
      ]
     },
     "execution_count": 60,
     "metadata": {},
     "output_type": "execute_result"
    }
   ],
   "source": [
    "# Het model trainen\n",
    "model.fit(train)"
   ]
  },
  {
   "cell_type": "markdown",
   "metadata": {},
   "source": [
    "## Testen"
   ]
  },
  {
   "cell_type": "code",
   "execution_count": 61,
   "metadata": {},
   "outputs": [
    {
     "data": {
      "application/vnd.microsoft.datawrangler.viewer.v0+json": {
       "columns": [
        {
         "name": "index",
         "rawType": "int64",
         "type": "integer"
        },
        {
         "name": "ds",
         "rawType": "datetime64[ns]",
         "type": "datetime"
        }
       ],
       "ref": "7a532add-19ba-4a92-a5b8-ae00ff08205c",
       "rows": [
        [
         "29687",
         "2025-01-17 12:45:00"
        ],
        [
         "29688",
         "2025-01-17 13:00:00"
        ],
        [
         "29689",
         "2025-01-17 13:15:00"
        ],
        [
         "29690",
         "2025-01-17 13:30:00"
        ],
        [
         "29691",
         "2025-01-17 13:45:00"
        ]
       ],
       "shape": {
        "columns": 1,
        "rows": 5
       }
      },
      "text/html": [
       "<div>\n",
       "<style scoped>\n",
       "    .dataframe tbody tr th:only-of-type {\n",
       "        vertical-align: middle;\n",
       "    }\n",
       "\n",
       "    .dataframe tbody tr th {\n",
       "        vertical-align: top;\n",
       "    }\n",
       "\n",
       "    .dataframe thead th {\n",
       "        text-align: right;\n",
       "    }\n",
       "</style>\n",
       "<table border=\"1\" class=\"dataframe\">\n",
       "  <thead>\n",
       "    <tr style=\"text-align: right;\">\n",
       "      <th></th>\n",
       "      <th>ds</th>\n",
       "    </tr>\n",
       "  </thead>\n",
       "  <tbody>\n",
       "    <tr>\n",
       "      <th>29687</th>\n",
       "      <td>2025-01-17 12:45:00</td>\n",
       "    </tr>\n",
       "    <tr>\n",
       "      <th>29688</th>\n",
       "      <td>2025-01-17 13:00:00</td>\n",
       "    </tr>\n",
       "    <tr>\n",
       "      <th>29689</th>\n",
       "      <td>2025-01-17 13:15:00</td>\n",
       "    </tr>\n",
       "    <tr>\n",
       "      <th>29690</th>\n",
       "      <td>2025-01-17 13:30:00</td>\n",
       "    </tr>\n",
       "    <tr>\n",
       "      <th>29691</th>\n",
       "      <td>2025-01-17 13:45:00</td>\n",
       "    </tr>\n",
       "  </tbody>\n",
       "</table>\n",
       "</div>"
      ],
      "text/plain": [
       "                       ds\n",
       "29687 2025-01-17 12:45:00\n",
       "29688 2025-01-17 13:00:00\n",
       "29689 2025-01-17 13:15:00\n",
       "29690 2025-01-17 13:30:00\n",
       "29691 2025-01-17 13:45:00"
      ]
     },
     "execution_count": 61,
     "metadata": {},
     "output_type": "execute_result"
    }
   ],
   "source": [
    "# Aanmaken van een dataframe met toekomstige datums overeenkomend met de testset\n",
    "future = test[['ds']].copy()\n",
    "future.tail()"
   ]
  },
  {
   "cell_type": "code",
   "execution_count": 62,
   "metadata": {},
   "outputs": [
    {
     "data": {
      "application/vnd.microsoft.datawrangler.viewer.v0+json": {
       "columns": [
        {
         "name": "index",
         "rawType": "int64",
         "type": "integer"
        },
        {
         "name": "ds",
         "rawType": "datetime64[ns]",
         "type": "datetime"
        },
        {
         "name": "trend",
         "rawType": "float64",
         "type": "float"
        },
        {
         "name": "yhat_lower",
         "rawType": "float64",
         "type": "float"
        },
        {
         "name": "yhat_upper",
         "rawType": "float64",
         "type": "float"
        },
        {
         "name": "trend_lower",
         "rawType": "float64",
         "type": "float"
        },
        {
         "name": "trend_upper",
         "rawType": "float64",
         "type": "float"
        },
        {
         "name": "additive_terms",
         "rawType": "float64",
         "type": "float"
        },
        {
         "name": "additive_terms_lower",
         "rawType": "float64",
         "type": "float"
        },
        {
         "name": "additive_terms_upper",
         "rawType": "float64",
         "type": "float"
        },
        {
         "name": "daily",
         "rawType": "float64",
         "type": "float"
        },
        {
         "name": "daily_lower",
         "rawType": "float64",
         "type": "float"
        },
        {
         "name": "daily_upper",
         "rawType": "float64",
         "type": "float"
        },
        {
         "name": "weekly",
         "rawType": "float64",
         "type": "float"
        },
        {
         "name": "weekly_lower",
         "rawType": "float64",
         "type": "float"
        },
        {
         "name": "weekly_upper",
         "rawType": "float64",
         "type": "float"
        },
        {
         "name": "multiplicative_terms",
         "rawType": "float64",
         "type": "float"
        },
        {
         "name": "multiplicative_terms_lower",
         "rawType": "float64",
         "type": "float"
        },
        {
         "name": "multiplicative_terms_upper",
         "rawType": "float64",
         "type": "float"
        },
        {
         "name": "yhat",
         "rawType": "float64",
         "type": "float"
        }
       ],
       "ref": "a5ba20f2-230f-4639-ace4-7a6c92b2794b",
       "rows": [
        [
         "1587",
         "2025-01-17 12:45:00",
         "0.15703192263082769",
         "0.12219491028102394",
         "0.2843916701818752",
         "0.15429855673224524",
         "0.16007185520682155",
         "0.043817343515794416",
         "0.043817343515794416",
         "0.043817343515794416",
         "0.04457596012638836",
         "0.04457596012638836",
         "0.04457596012638836",
         "-0.0007586166105939468",
         "-0.0007586166105939468",
         "-0.0007586166105939468",
         "0.0",
         "0.0",
         "0.0",
         "0.2008492661466221"
        ],
        [
         "1588",
         "2025-01-17 13:00:00",
         "0.15704564777910246",
         "0.13440323194084572",
         "0.2936999845334564",
         "0.15430968775335271",
         "0.16008862256280887",
         "0.05657307066544837",
         "0.05657307066544837",
         "0.05657307066544837",
         "0.05730819251554127",
         "0.05730819251554127",
         "0.05730819251554127",
         "-0.0007351218500928983",
         "-0.0007351218500928983",
         "-0.0007351218500928983",
         "0.0",
         "0.0",
         "0.0",
         "0.21361871844455083"
        ],
        [
         "1589",
         "2025-01-17 13:15:00",
         "0.15705937292737715",
         "0.13979484878997378",
         "0.2998403915444517",
         "0.15431936224351217",
         "0.16010538991879608",
         "0.06881182226763169",
         "0.06881182226763169",
         "0.06881182226763169",
         "0.0695248377563849",
         "0.0695248377563849",
         "0.0695248377563849",
         "-0.000713015488753219",
         "-0.000713015488753219",
         "-0.000713015488753219",
         "0.0",
         "0.0",
         "0.0",
         "0.22587119519500884"
        ],
        [
         "1590",
         "2025-01-17 13:30:00",
         "0.15707309807565192",
         "0.15367432535441283",
         "0.3215466086371827",
         "0.1543290472842032",
         "0.1601221572747834",
         "0.07986879821773976",
         "0.07986879821773976",
         "0.07986879821773976",
         "0.0805610892626797",
         "0.0805610892626797",
         "0.0805610892626797",
         "-0.0006922910449399483",
         "-0.0006922910449399483",
         "-0.0006922910449399483",
         "0.0",
         "0.0",
         "0.0",
         "0.23694189629339169"
        ],
        [
         "1591",
         "2025-01-17 13:45:00",
         "0.1570868232239266",
         "0.16360265782567554",
         "0.3270261052672092",
         "0.15433873232489417",
         "0.16013892463077062",
         "0.08912016010270765",
         "0.08912016010270765",
         "0.08912016010270765",
         "0.08979310091817903",
         "0.08979310091817903",
         "0.08979310091817903",
         "-0.0006729408154713809",
         "-0.0006729408154713809",
         "-0.0006729408154713809",
         "0.0",
         "0.0",
         "0.0",
         "0.24620698332663427"
        ]
       ],
       "shape": {
        "columns": 19,
        "rows": 5
       }
      },
      "text/html": [
       "<div>\n",
       "<style scoped>\n",
       "    .dataframe tbody tr th:only-of-type {\n",
       "        vertical-align: middle;\n",
       "    }\n",
       "\n",
       "    .dataframe tbody tr th {\n",
       "        vertical-align: top;\n",
       "    }\n",
       "\n",
       "    .dataframe thead th {\n",
       "        text-align: right;\n",
       "    }\n",
       "</style>\n",
       "<table border=\"1\" class=\"dataframe\">\n",
       "  <thead>\n",
       "    <tr style=\"text-align: right;\">\n",
       "      <th></th>\n",
       "      <th>ds</th>\n",
       "      <th>trend</th>\n",
       "      <th>yhat_lower</th>\n",
       "      <th>yhat_upper</th>\n",
       "      <th>trend_lower</th>\n",
       "      <th>trend_upper</th>\n",
       "      <th>additive_terms</th>\n",
       "      <th>additive_terms_lower</th>\n",
       "      <th>additive_terms_upper</th>\n",
       "      <th>daily</th>\n",
       "      <th>daily_lower</th>\n",
       "      <th>daily_upper</th>\n",
       "      <th>weekly</th>\n",
       "      <th>weekly_lower</th>\n",
       "      <th>weekly_upper</th>\n",
       "      <th>multiplicative_terms</th>\n",
       "      <th>multiplicative_terms_lower</th>\n",
       "      <th>multiplicative_terms_upper</th>\n",
       "      <th>yhat</th>\n",
       "    </tr>\n",
       "  </thead>\n",
       "  <tbody>\n",
       "    <tr>\n",
       "      <th>1587</th>\n",
       "      <td>2025-01-17 12:45:00</td>\n",
       "      <td>0.157032</td>\n",
       "      <td>0.122195</td>\n",
       "      <td>0.284392</td>\n",
       "      <td>0.154299</td>\n",
       "      <td>0.160072</td>\n",
       "      <td>0.043817</td>\n",
       "      <td>0.043817</td>\n",
       "      <td>0.043817</td>\n",
       "      <td>0.044576</td>\n",
       "      <td>0.044576</td>\n",
       "      <td>0.044576</td>\n",
       "      <td>-0.000759</td>\n",
       "      <td>-0.000759</td>\n",
       "      <td>-0.000759</td>\n",
       "      <td>0.0</td>\n",
       "      <td>0.0</td>\n",
       "      <td>0.0</td>\n",
       "      <td>0.200849</td>\n",
       "    </tr>\n",
       "    <tr>\n",
       "      <th>1588</th>\n",
       "      <td>2025-01-17 13:00:00</td>\n",
       "      <td>0.157046</td>\n",
       "      <td>0.134403</td>\n",
       "      <td>0.293700</td>\n",
       "      <td>0.154310</td>\n",
       "      <td>0.160089</td>\n",
       "      <td>0.056573</td>\n",
       "      <td>0.056573</td>\n",
       "      <td>0.056573</td>\n",
       "      <td>0.057308</td>\n",
       "      <td>0.057308</td>\n",
       "      <td>0.057308</td>\n",
       "      <td>-0.000735</td>\n",
       "      <td>-0.000735</td>\n",
       "      <td>-0.000735</td>\n",
       "      <td>0.0</td>\n",
       "      <td>0.0</td>\n",
       "      <td>0.0</td>\n",
       "      <td>0.213619</td>\n",
       "    </tr>\n",
       "    <tr>\n",
       "      <th>1589</th>\n",
       "      <td>2025-01-17 13:15:00</td>\n",
       "      <td>0.157059</td>\n",
       "      <td>0.139795</td>\n",
       "      <td>0.299840</td>\n",
       "      <td>0.154319</td>\n",
       "      <td>0.160105</td>\n",
       "      <td>0.068812</td>\n",
       "      <td>0.068812</td>\n",
       "      <td>0.068812</td>\n",
       "      <td>0.069525</td>\n",
       "      <td>0.069525</td>\n",
       "      <td>0.069525</td>\n",
       "      <td>-0.000713</td>\n",
       "      <td>-0.000713</td>\n",
       "      <td>-0.000713</td>\n",
       "      <td>0.0</td>\n",
       "      <td>0.0</td>\n",
       "      <td>0.0</td>\n",
       "      <td>0.225871</td>\n",
       "    </tr>\n",
       "    <tr>\n",
       "      <th>1590</th>\n",
       "      <td>2025-01-17 13:30:00</td>\n",
       "      <td>0.157073</td>\n",
       "      <td>0.153674</td>\n",
       "      <td>0.321547</td>\n",
       "      <td>0.154329</td>\n",
       "      <td>0.160122</td>\n",
       "      <td>0.079869</td>\n",
       "      <td>0.079869</td>\n",
       "      <td>0.079869</td>\n",
       "      <td>0.080561</td>\n",
       "      <td>0.080561</td>\n",
       "      <td>0.080561</td>\n",
       "      <td>-0.000692</td>\n",
       "      <td>-0.000692</td>\n",
       "      <td>-0.000692</td>\n",
       "      <td>0.0</td>\n",
       "      <td>0.0</td>\n",
       "      <td>0.0</td>\n",
       "      <td>0.236942</td>\n",
       "    </tr>\n",
       "    <tr>\n",
       "      <th>1591</th>\n",
       "      <td>2025-01-17 13:45:00</td>\n",
       "      <td>0.157087</td>\n",
       "      <td>0.163603</td>\n",
       "      <td>0.327026</td>\n",
       "      <td>0.154339</td>\n",
       "      <td>0.160139</td>\n",
       "      <td>0.089120</td>\n",
       "      <td>0.089120</td>\n",
       "      <td>0.089120</td>\n",
       "      <td>0.089793</td>\n",
       "      <td>0.089793</td>\n",
       "      <td>0.089793</td>\n",
       "      <td>-0.000673</td>\n",
       "      <td>-0.000673</td>\n",
       "      <td>-0.000673</td>\n",
       "      <td>0.0</td>\n",
       "      <td>0.0</td>\n",
       "      <td>0.0</td>\n",
       "      <td>0.246207</td>\n",
       "    </tr>\n",
       "  </tbody>\n",
       "</table>\n",
       "</div>"
      ],
      "text/plain": [
       "                      ds     trend  yhat_lower  yhat_upper  trend_lower  \\\n",
       "1587 2025-01-17 12:45:00  0.157032    0.122195    0.284392     0.154299   \n",
       "1588 2025-01-17 13:00:00  0.157046    0.134403    0.293700     0.154310   \n",
       "1589 2025-01-17 13:15:00  0.157059    0.139795    0.299840     0.154319   \n",
       "1590 2025-01-17 13:30:00  0.157073    0.153674    0.321547     0.154329   \n",
       "1591 2025-01-17 13:45:00  0.157087    0.163603    0.327026     0.154339   \n",
       "\n",
       "      trend_upper  additive_terms  additive_terms_lower  additive_terms_upper  \\\n",
       "1587     0.160072        0.043817              0.043817              0.043817   \n",
       "1588     0.160089        0.056573              0.056573              0.056573   \n",
       "1589     0.160105        0.068812              0.068812              0.068812   \n",
       "1590     0.160122        0.079869              0.079869              0.079869   \n",
       "1591     0.160139        0.089120              0.089120              0.089120   \n",
       "\n",
       "         daily  daily_lower  daily_upper    weekly  weekly_lower  \\\n",
       "1587  0.044576     0.044576     0.044576 -0.000759     -0.000759   \n",
       "1588  0.057308     0.057308     0.057308 -0.000735     -0.000735   \n",
       "1589  0.069525     0.069525     0.069525 -0.000713     -0.000713   \n",
       "1590  0.080561     0.080561     0.080561 -0.000692     -0.000692   \n",
       "1591  0.089793     0.089793     0.089793 -0.000673     -0.000673   \n",
       "\n",
       "      weekly_upper  multiplicative_terms  multiplicative_terms_lower  \\\n",
       "1587     -0.000759                   0.0                         0.0   \n",
       "1588     -0.000735                   0.0                         0.0   \n",
       "1589     -0.000713                   0.0                         0.0   \n",
       "1590     -0.000692                   0.0                         0.0   \n",
       "1591     -0.000673                   0.0                         0.0   \n",
       "\n",
       "      multiplicative_terms_upper      yhat  \n",
       "1587                         0.0  0.200849  \n",
       "1588                         0.0  0.213619  \n",
       "1589                         0.0  0.225871  \n",
       "1590                         0.0  0.236942  \n",
       "1591                         0.0  0.246207  "
      ]
     },
     "execution_count": 62,
     "metadata": {},
     "output_type": "execute_result"
    }
   ],
   "source": [
    "forecast = model.predict(future)\n",
    "forecast.tail()"
   ]
  },
  {
   "cell_type": "code",
   "execution_count": 63,
   "metadata": {},
   "outputs": [
    {
     "data": {
      "image/png": "[encoded data removed]",
      "text/plain": [
       "<Figure size 1000x600 with 1 Axes>"
      ]
     },
     "metadata": {},
     "output_type": "display_data"
    }
   ],
   "source": [
    "# Visaliseren van de voorspelling ten opzichte van de testset\n",
    "import matplotlib.pyplot as plt\n",
    "plt.figure(figsize=(10, 6))\n",
    "plt.plot(test['ds'], test['y'], label='Test Data', color='orange')\n",
    "plt.plot(forecast['ds'], forecast['yhat'], label='Forecast', color='green')\n",
    "plt.show()"
   ]
  },
  {
   "cell_type": "code",
   "execution_count": 64,
   "metadata": {},
   "outputs": [
    {
     "name": "stdout",
     "output_type": "stream",
     "text": [
      "R²-score: 0.0631\n"
     ]
    }
   ],
   "source": [
    "from sklearn.metrics import r2_score\n",
    "\n",
    "r2 = r2_score(test['y'], forecast['yhat'])\n",
    "print(f\"R²-score: {r2:.4f}\")"
   ]
  }
 ],
 "metadata": {
  "kernelspec": {
   "display_name": "base",
   "language": "python",
   "name": "python3"
  },
  "language_info": {
   "codemirror_mode": {
    "name": "ipython",
    "version": 3
   },
   "file_extension": ".py",
   "mimetype": "text/x-python",
   "name": "python",
   "nbconvert_exporter": "python",
   "pygments_lexer": "ipython3",
   "version": "3.11.5"
  }
 },
 "nbformat": 4,
 "nbformat_minor": 2
}
