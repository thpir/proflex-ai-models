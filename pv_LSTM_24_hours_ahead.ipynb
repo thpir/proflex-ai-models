{
 "cells": [
  {
   "cell_type": "markdown",
   "metadata": {},
   "source": [
    "# FASE 1.2: Voorspellen van de PV productie - vervolg\n",
    "\n",
    "* Zonnestand in rekening brengen. "
   ]
  },
  {
   "cell_type": "code",
   "execution_count": 1,
   "metadata": {},
   "outputs": [],
   "source": [
    "import pickle\n",
    "import math\n",
    "import pandas as pd\n",
    "import numpy as np\n",
    "import matplotlib.pyplot as plt\n",
    "import seaborn as sns; sns.set_theme(color_codes=True)\n",
    "import tensorflow as tf\n",
    "\n",
    "from sklearn.model_selection import train_test_split\n",
    "from sklearn.preprocessing import MinMaxScaler, PolynomialFeatures\n",
    "from sklearn.ensemble import RandomForestRegressor\n",
    "from sklearn.metrics import mean_absolute_error, mean_squared_error, r2_score\n",
    "from scripts import weather_data_preprocess as wdp\n",
    "from tensorflow.keras.models import Sequential, load_model\n",
    "from keras.callbacks import ModelCheckpoint\n",
    "from keras.layers import Dense, LSTM, Dropout"
   ]
  },
  {
   "cell_type": "markdown",
   "metadata": {},
   "source": [
    "## Data-analyse"
   ]
  },
  {
   "cell_type": "code",
   "execution_count": 2,
   "metadata": {},
   "outputs": [],
   "source": [
    "# Ruwe weersdata info\n",
    "weather_train_data_ingelmunster = [\n",
    "    'Ingelmunster 2024-01-01 to 2024-01-31.csv',\n",
    "    'Ingelmunster 2024-02-01 to 2024-02-29.csv',\n",
    "    'Ingelmunster 2024-03-01 to 2024-03-31.csv',\n",
    "    'Ingelmunster 2024-04-01 to 2024-04-30.csv',\n",
    "    'Ingelmunster 2024-05-01 to 2024-05-31.csv',\n",
    "    'Ingelmunster 2024-06-01 to 2024-06-30.csv',\n",
    "    'Ingelmunster 2024-07-01 to 2024-07-31.csv',\n",
    "    'Ingelmunster 2024-08-01 to 2024-08-31.csv',\n",
    "    'Ingelmunster 2024-09-01 to 2024-09-30.csv',\n",
    "    'Ingelmunster 2024-10-01 to 2024-10-31.csv',\n",
    "    'Ingelmunster 2024-11-01 to 2024-11-30.csv',\n",
    "    'Ingelmunster 2024-12-01 to 2024-12-31.csv'\n",
    "]\n",
    "weather_train_data_gullegem = [\n",
    "    'Gullegem 2024-01-01 to 2024-01-31.csv',\n",
    "    'Gullegem 2024-02-01 to 2024-02-29.csv',\n",
    "    'Gullegem 2024-03-01 to 2024-03-31.csv',\n",
    "    'Gullegem 2024-04-01 to 2024-04-30.csv',\n",
    "    'Gullegem 2024-05-01 to 2024-05-31.csv',\n",
    "    'Gullegem 2024-06-01 to 2024-06-30.csv',\n",
    "    'Gullegem 2024-07-01 to 2024-07-31.csv',\n",
    "    'Gullegem 2024-08-01 to 2024-08-31.csv',\n",
    "    'Gullegem 2024-09-01 to 2024-09-30.csv',\n",
    "    'Gullegem 2024-10-01 to 2024-10-31.csv',\n",
    "    'Gullegem 2024-11-01 to 2024-11-30.csv',\n",
    "    'Gullegem 2024-12-01 to 2024-12-31.csv'\n",
    "]\n",
    "weather_test_data_ingelmunster = [\n",
    "    'Ingelmunster 2025-01-01 to 2025-01-31.csv',\n",
    "]\n",
    "weather_test_data_gullegem = [\n",
    "    'Ingelmunster 2025-01-01 to 2025-01-31.csv',\n",
    "]\n",
    "ingelmunster_location = [50.920699369528734, 3.2532075343447575]\n",
    "gullegem_location = [50.8447689, 3.1989718]"
   ]
  },
  {
   "cell_type": "code",
   "execution_count": 3,
   "metadata": {},
   "outputs": [
    {
     "name": "stdout",
     "output_type": "stream",
     "text": [
      "Processing Ingelmunster 2024-01-01 to 2024-01-31.csv\n",
      "Processing Ingelmunster 2024-02-01 to 2024-02-29.csv\n",
      "Processing Ingelmunster 2024-03-01 to 2024-03-31.csv\n",
      "Processing Ingelmunster 2024-04-01 to 2024-04-30.csv\n",
      "Processing Ingelmunster 2024-05-01 to 2024-05-31.csv\n",
      "Processing Ingelmunster 2024-06-01 to 2024-06-30.csv\n",
      "Processing Ingelmunster 2024-07-01 to 2024-07-31.csv\n",
      "Processing Ingelmunster 2024-08-01 to 2024-08-31.csv\n",
      "Processing Ingelmunster 2024-09-01 to 2024-09-30.csv\n",
      "Processing Ingelmunster 2024-10-01 to 2024-10-31.csv\n",
      "Processing Ingelmunster 2024-11-01 to 2024-11-30.csv\n",
      "Processing Ingelmunster 2024-12-01 to 2024-12-31.csv\n",
      "Processing Ingelmunster 2025-01-01 to 2025-01-31.csv\n",
      "Processing Gullegem 2024-01-01 to 2024-01-31.csv\n",
      "Processing Gullegem 2024-02-01 to 2024-02-29.csv\n",
      "Processing Gullegem 2024-03-01 to 2024-03-31.csv\n",
      "Processing Gullegem 2024-04-01 to 2024-04-30.csv\n",
      "Processing Gullegem 2024-05-01 to 2024-05-31.csv\n",
      "Processing Gullegem 2024-06-01 to 2024-06-30.csv\n",
      "Processing Gullegem 2024-07-01 to 2024-07-31.csv\n",
      "Processing Gullegem 2024-08-01 to 2024-08-31.csv\n",
      "Processing Gullegem 2024-09-01 to 2024-09-30.csv\n",
      "Processing Gullegem 2024-10-01 to 2024-10-31.csv\n",
      "Processing Gullegem 2024-11-01 to 2024-11-30.csv\n",
      "Processing Gullegem 2024-12-01 to 2024-12-31.csv\n",
      "Processing Ingelmunster 2025-01-01 to 2025-01-31.csv\n"
     ]
    },
    {
     "data": {
      "application/vnd.microsoft.datawrangler.viewer.v0+json": {
       "columns": [
        {
         "name": "index",
         "rawType": "int64",
         "type": "integer"
        },
        {
         "name": "datetime",
         "rawType": "datetime64[ns]",
         "type": "datetime"
        },
        {
         "name": "temp",
         "rawType": "float64",
         "type": "float"
        },
        {
         "name": "humidity",
         "rawType": "float64",
         "type": "float"
        },
        {
         "name": "cloudcover",
         "rawType": "float64",
         "type": "float"
        },
        {
         "name": "solarenergy",
         "rawType": "float64",
         "type": "float"
        },
        {
         "name": "uvindex",
         "rawType": "float64",
         "type": "float"
        },
        {
         "name": "latitude",
         "rawType": "float64",
         "type": "float"
        },
        {
         "name": "longitude",
         "rawType": "float64",
         "type": "float"
        },
        {
         "name": "solar_azimuth",
         "rawType": "float64",
         "type": "float"
        },
        {
         "name": "solar_elevation",
         "rawType": "float64",
         "type": "float"
        }
       ],
       "conversionMethod": "pd.DataFrame",
       "ref": "562d414d-2bd7-4716-8b3a-8c888c1d64c0",
       "rows": [
        [
         "0",
         "2024-01-01 00:00:00",
         "7.2",
         "89.08",
         "96.3",
         "0.0",
         "0.0",
         "50.920699369528734",
         "3.2532075343447575",
         "-3.058781270308056",
         "-1.0839540874244509"
        ],
        [
         "1",
         "2024-01-01 00:15:00",
         "7.125",
         "89.6",
         "96.6",
         "0.0",
         "0.0",
         "50.920699369528734",
         "3.2532075343447575",
         "-2.931440455864378",
         "-1.0779159761218964"
        ],
        [
         "2",
         "2024-01-01 00:30:00",
         "7.050000000000001",
         "90.12",
         "96.9",
         "0.0",
         "0.0",
         "50.920699369528734",
         "3.2532075343447575",
         "-2.8076350453115952",
         "-1.0668119445115487"
        ],
        [
         "3",
         "2024-01-01 00:45:00",
         "6.9750000000000005",
         "90.64",
         "97.2",
         "0.0",
         "0.0",
         "50.920699369528734",
         "3.2532075343447575",
         "-2.6890235397785753",
         "-1.0509841467225889"
        ],
        [
         "4",
         "2024-01-01 01:00:00",
         "6.9",
         "91.16",
         "97.5",
         "0.0",
         "0.0",
         "50.920699369528734",
         "3.2532075343447575",
         "-2.576723825102668",
         "-1.0308728968980991"
        ],
        [
         "5",
         "2024-01-01 01:15:00",
         "7.0",
         "91.195",
         "95.725",
         "0.0",
         "0.0",
         "50.920699369528734",
         "3.2532075343447575",
         "-2.471311244679454",
         "-1.0069682516944656"
        ],
        [
         "6",
         "2024-01-01 01:30:00",
         "7.1",
         "91.22999999999999",
         "93.95",
         "0.0",
         "0.0",
         "50.920699369528734",
         "3.2532075343447575",
         "-2.3729015168275964",
         "-0.9797684597337202"
        ],
        [
         "7",
         "2024-01-01 01:45:00",
         "7.2",
         "91.265",
         "92.17500000000001",
         "0.0",
         "0.0",
         "50.920699369528734",
         "3.2532075343447575",
         "-2.281271313594809",
         "-0.949750202193873"
        ],
        [
         "8",
         "2024-01-01 02:00:00",
         "7.3",
         "91.3",
         "90.4",
         "0.0",
         "0.0",
         "50.920699369528734",
         "3.2532075343447575",
         "-2.195978766477057",
         "-0.9173509645281679"
        ],
        [
         "9",
         "2024-01-01 02:15:00",
         "7.325",
         "90.53999999999999",
         "90.80000000000001",
         "0.0",
         "0.0",
         "50.920699369528734",
         "3.2532075343447575",
         "-2.116463124335507",
         "-0.8829612242990981"
        ]
       ],
       "shape": {
        "columns": 10,
        "rows": 10
       }
      },
      "text/html": [
       "<div>\n",
       "<style scoped>\n",
       "    .dataframe tbody tr th:only-of-type {\n",
       "        vertical-align: middle;\n",
       "    }\n",
       "\n",
       "    .dataframe tbody tr th {\n",
       "        vertical-align: top;\n",
       "    }\n",
       "\n",
       "    .dataframe thead th {\n",
       "        text-align: right;\n",
       "    }\n",
       "</style>\n",
       "<table border=\"1\" class=\"dataframe\">\n",
       "  <thead>\n",
       "    <tr style=\"text-align: right;\">\n",
       "      <th></th>\n",
       "      <th>datetime</th>\n",
       "      <th>temp</th>\n",
       "      <th>humidity</th>\n",
       "      <th>cloudcover</th>\n",
       "      <th>solarenergy</th>\n",
       "      <th>uvindex</th>\n",
       "      <th>latitude</th>\n",
       "      <th>longitude</th>\n",
       "      <th>solar_azimuth</th>\n",
       "      <th>solar_elevation</th>\n",
       "    </tr>\n",
       "  </thead>\n",
       "  <tbody>\n",
       "    <tr>\n",
       "      <th>0</th>\n",
       "      <td>2024-01-01 00:00:00</td>\n",
       "      <td>7.200</td>\n",
       "      <td>89.080</td>\n",
       "      <td>96.300</td>\n",
       "      <td>0.0</td>\n",
       "      <td>0.0</td>\n",
       "      <td>50.920699</td>\n",
       "      <td>3.253208</td>\n",
       "      <td>-3.058781</td>\n",
       "      <td>-1.083954</td>\n",
       "    </tr>\n",
       "    <tr>\n",
       "      <th>1</th>\n",
       "      <td>2024-01-01 00:15:00</td>\n",
       "      <td>7.125</td>\n",
       "      <td>89.600</td>\n",
       "      <td>96.600</td>\n",
       "      <td>0.0</td>\n",
       "      <td>0.0</td>\n",
       "      <td>50.920699</td>\n",
       "      <td>3.253208</td>\n",
       "      <td>-2.931440</td>\n",
       "      <td>-1.077916</td>\n",
       "    </tr>\n",
       "    <tr>\n",
       "      <th>2</th>\n",
       "      <td>2024-01-01 00:30:00</td>\n",
       "      <td>7.050</td>\n",
       "      <td>90.120</td>\n",
       "      <td>96.900</td>\n",
       "      <td>0.0</td>\n",
       "      <td>0.0</td>\n",
       "      <td>50.920699</td>\n",
       "      <td>3.253208</td>\n",
       "      <td>-2.807635</td>\n",
       "      <td>-1.066812</td>\n",
       "    </tr>\n",
       "    <tr>\n",
       "      <th>3</th>\n",
       "      <td>2024-01-01 00:45:00</td>\n",
       "      <td>6.975</td>\n",
       "      <td>90.640</td>\n",
       "      <td>97.200</td>\n",
       "      <td>0.0</td>\n",
       "      <td>0.0</td>\n",
       "      <td>50.920699</td>\n",
       "      <td>3.253208</td>\n",
       "      <td>-2.689024</td>\n",
       "      <td>-1.050984</td>\n",
       "    </tr>\n",
       "    <tr>\n",
       "      <th>4</th>\n",
       "      <td>2024-01-01 01:00:00</td>\n",
       "      <td>6.900</td>\n",
       "      <td>91.160</td>\n",
       "      <td>97.500</td>\n",
       "      <td>0.0</td>\n",
       "      <td>0.0</td>\n",
       "      <td>50.920699</td>\n",
       "      <td>3.253208</td>\n",
       "      <td>-2.576724</td>\n",
       "      <td>-1.030873</td>\n",
       "    </tr>\n",
       "    <tr>\n",
       "      <th>5</th>\n",
       "      <td>2024-01-01 01:15:00</td>\n",
       "      <td>7.000</td>\n",
       "      <td>91.195</td>\n",
       "      <td>95.725</td>\n",
       "      <td>0.0</td>\n",
       "      <td>0.0</td>\n",
       "      <td>50.920699</td>\n",
       "      <td>3.253208</td>\n",
       "      <td>-2.471311</td>\n",
       "      <td>-1.006968</td>\n",
       "    </tr>\n",
       "    <tr>\n",
       "      <th>6</th>\n",
       "      <td>2024-01-01 01:30:00</td>\n",
       "      <td>7.100</td>\n",
       "      <td>91.230</td>\n",
       "      <td>93.950</td>\n",
       "      <td>0.0</td>\n",
       "      <td>0.0</td>\n",
       "      <td>50.920699</td>\n",
       "      <td>3.253208</td>\n",
       "      <td>-2.372902</td>\n",
       "      <td>-0.979768</td>\n",
       "    </tr>\n",
       "    <tr>\n",
       "      <th>7</th>\n",
       "      <td>2024-01-01 01:45:00</td>\n",
       "      <td>7.200</td>\n",
       "      <td>91.265</td>\n",
       "      <td>92.175</td>\n",
       "      <td>0.0</td>\n",
       "      <td>0.0</td>\n",
       "      <td>50.920699</td>\n",
       "      <td>3.253208</td>\n",
       "      <td>-2.281271</td>\n",
       "      <td>-0.949750</td>\n",
       "    </tr>\n",
       "    <tr>\n",
       "      <th>8</th>\n",
       "      <td>2024-01-01 02:00:00</td>\n",
       "      <td>7.300</td>\n",
       "      <td>91.300</td>\n",
       "      <td>90.400</td>\n",
       "      <td>0.0</td>\n",
       "      <td>0.0</td>\n",
       "      <td>50.920699</td>\n",
       "      <td>3.253208</td>\n",
       "      <td>-2.195979</td>\n",
       "      <td>-0.917351</td>\n",
       "    </tr>\n",
       "    <tr>\n",
       "      <th>9</th>\n",
       "      <td>2024-01-01 02:15:00</td>\n",
       "      <td>7.325</td>\n",
       "      <td>90.540</td>\n",
       "      <td>90.800</td>\n",
       "      <td>0.0</td>\n",
       "      <td>0.0</td>\n",
       "      <td>50.920699</td>\n",
       "      <td>3.253208</td>\n",
       "      <td>-2.116463</td>\n",
       "      <td>-0.882961</td>\n",
       "    </tr>\n",
       "  </tbody>\n",
       "</table>\n",
       "</div>"
      ],
      "text/plain": [
       "             datetime   temp  humidity  cloudcover  solarenergy  uvindex  \\\n",
       "0 2024-01-01 00:00:00  7.200    89.080      96.300          0.0      0.0   \n",
       "1 2024-01-01 00:15:00  7.125    89.600      96.600          0.0      0.0   \n",
       "2 2024-01-01 00:30:00  7.050    90.120      96.900          0.0      0.0   \n",
       "3 2024-01-01 00:45:00  6.975    90.640      97.200          0.0      0.0   \n",
       "4 2024-01-01 01:00:00  6.900    91.160      97.500          0.0      0.0   \n",
       "5 2024-01-01 01:15:00  7.000    91.195      95.725          0.0      0.0   \n",
       "6 2024-01-01 01:30:00  7.100    91.230      93.950          0.0      0.0   \n",
       "7 2024-01-01 01:45:00  7.200    91.265      92.175          0.0      0.0   \n",
       "8 2024-01-01 02:00:00  7.300    91.300      90.400          0.0      0.0   \n",
       "9 2024-01-01 02:15:00  7.325    90.540      90.800          0.0      0.0   \n",
       "\n",
       "    latitude  longitude  solar_azimuth  solar_elevation  \n",
       "0  50.920699   3.253208      -3.058781        -1.083954  \n",
       "1  50.920699   3.253208      -2.931440        -1.077916  \n",
       "2  50.920699   3.253208      -2.807635        -1.066812  \n",
       "3  50.920699   3.253208      -2.689024        -1.050984  \n",
       "4  50.920699   3.253208      -2.576724        -1.030873  \n",
       "5  50.920699   3.253208      -2.471311        -1.006968  \n",
       "6  50.920699   3.253208      -2.372902        -0.979768  \n",
       "7  50.920699   3.253208      -2.281271        -0.949750  \n",
       "8  50.920699   3.253208      -2.195979        -0.917351  \n",
       "9  50.920699   3.253208      -2.116463        -0.882961  "
      ]
     },
     "execution_count": 3,
     "metadata": {},
     "output_type": "execute_result"
    }
   ],
   "source": [
    "# importeren van de ruwe weersdata en deze preprocessen\n",
    "processor = wdp.WeatherDataPreprocess()\n",
    "df_weather_ingelmunster = pd.DataFrame(columns=['datetime', 'temp', 'humidity', 'cloudcover', 'solarenergy', 'uvindex', 'latitude', 'longitude', 'solar_azimuth', 'solar_elevation'])\n",
    "df_weather_gullegem = pd.DataFrame(columns=['datetime', 'temp', 'humidity', 'cloudcover', 'solarenergy', 'uvindex', 'latitude', 'longitude', 'solar_azimuth', 'solar_elevation'])\n",
    "df_weather_test_ingelmunster = pd.DataFrame(columns=['datetime', 'temp', 'humidity', 'cloudcover', 'solarenergy', 'uvindex', 'latitude', 'longitude', 'solar_azimuth', 'solar_elevation'])\n",
    "df_weather_test_gullegem = pd.DataFrame(columns=['datetime', 'temp', 'humidity', 'cloudcover', 'solarenergy', 'uvindex', 'latitude', 'longitude', 'solar_azimuth', 'solar_elevation'])\n",
    "for file in range(len(weather_train_data_ingelmunster)):\n",
    "    print(f'Processing {weather_train_data_ingelmunster[file]}')\n",
    "    df_weather_ingelmunster = pd.concat([df_weather_ingelmunster, processor.preprocessWeatherData(lat=ingelmunster_location[0], lng=ingelmunster_location[1], file_name=weather_train_data_ingelmunster[file])])\n",
    "for file in range(len(weather_test_data_ingelmunster)):\n",
    "    print(f'Processing {weather_test_data_ingelmunster[file]}')\n",
    "    df_weather_test_ingelmunster = pd.concat([df_weather_test_ingelmunster, processor.preprocessWeatherData(lat=ingelmunster_location[0], lng=ingelmunster_location[1], file_name=weather_test_data_ingelmunster[file])])\n",
    "for file in range(len(weather_train_data_gullegem)):\n",
    "    print(f'Processing {weather_train_data_gullegem[file]}')\n",
    "    df_weather_gullegem = pd.concat([df_weather_gullegem, processor.preprocessWeatherData(lat=gullegem_location[0], lng=gullegem_location[1], file_name=weather_train_data_gullegem[file])])\n",
    "for file in range(len(weather_test_data_gullegem)):\n",
    "    print(f'Processing {weather_test_data_gullegem[file]}')\n",
    "    df_weather_test_gullegem = pd.concat([df_weather_test_gullegem, processor.preprocessWeatherData(lat=gullegem_location[0], lng=gullegem_location[1], file_name=weather_test_data_gullegem[file])])\n",
    "df_weather_ingelmunster.head(10)"
   ]
  },
  {
   "cell_type": "code",
   "execution_count": 4,
   "metadata": {},
   "outputs": [],
   "source": [
    "# Een checkpoint toevoegen voor de ruwe weersdata\n",
    "df_weather_ingelmunster.to_csv('data/processed/ingelmunster_weather_data.csv', index=False)\n",
    "df_weather_gullegem.to_csv('data/processed/gullegem_weather_data.csv', index=False)"
   ]
  },
  {
   "cell_type": "code",
   "execution_count": 5,
   "metadata": {},
   "outputs": [],
   "source": [
    "# Verwijderen van de kolommen die niet nodig zijn\n",
    "df_weather_ingelmunster.drop(columns=['humidity', 'latitude', 'longitude'], inplace=True)\n",
    "df_weather_test_ingelmunster.drop(columns=['humidity', 'latitude', 'longitude'], inplace=True)\n",
    "df_weather_gullegem.drop(columns=['humidity', 'latitude', 'longitude'], inplace=True)\n",
    "df_weather_test_gullegem.drop(columns=['humidity', 'latitude', 'longitude'], inplace=True)"
   ]
  },
  {
   "cell_type": "code",
   "execution_count": 6,
   "metadata": {},
   "outputs": [
    {
     "data": {
      "application/vnd.microsoft.datawrangler.viewer.v0+json": {
       "columns": [
        {
         "name": "index",
         "rawType": "int64",
         "type": "integer"
        },
        {
         "name": "datetime",
         "rawType": "datetime64[ns]",
         "type": "datetime"
        },
        {
         "name": "total_production_kwh",
         "rawType": "float64",
         "type": "float"
        },
        {
         "name": "production_15_min_kwh",
         "rawType": "float64",
         "type": "float"
        },
        {
         "name": "production_15_min_%",
         "rawType": "float64",
         "type": "float"
        }
       ],
       "conversionMethod": "pd.DataFrame",
       "ref": "cbc31417-25e0-4d73-bba7-a3edaf233a8e",
       "rows": [
        [
         "26943",
         "2024-12-31 21:30:00",
         "20591.94",
         "0.0",
         "0.0"
        ],
        [
         "26944",
         "2024-12-31 21:45:00",
         "20591.94",
         "0.0",
         "0.0"
        ],
        [
         "26945",
         "2024-12-31 22:00:00",
         "20591.94",
         "0.0",
         "0.0"
        ],
        [
         "26946",
         "2024-12-31 22:15:00",
         "20591.94",
         "0.0",
         "0.0"
        ],
        [
         "26947",
         "2024-12-31 22:30:00",
         "20591.94",
         "0.0",
         "0.0"
        ],
        [
         "26948",
         "2024-12-31 22:45:00",
         "20591.94",
         "0.0",
         "0.0"
        ],
        [
         "26949",
         "2024-12-31 23:00:00",
         "20591.94",
         "0.0",
         "0.0"
        ],
        [
         "26950",
         "2024-12-31 23:15:00",
         "20591.94",
         "0.0",
         "0.0"
        ],
        [
         "26951",
         "2024-12-31 23:30:00",
         "20591.94",
         "0.0",
         "0.0"
        ],
        [
         "26952",
         "2024-12-31 23:45:00",
         "20591.94",
         "0.0",
         "0.0"
        ]
       ],
       "shape": {
        "columns": 4,
        "rows": 10
       }
      },
      "text/html": [
       "<div>\n",
       "<style scoped>\n",
       "    .dataframe tbody tr th:only-of-type {\n",
       "        vertical-align: middle;\n",
       "    }\n",
       "\n",
       "    .dataframe tbody tr th {\n",
       "        vertical-align: top;\n",
       "    }\n",
       "\n",
       "    .dataframe thead th {\n",
       "        text-align: right;\n",
       "    }\n",
       "</style>\n",
       "<table border=\"1\" class=\"dataframe\">\n",
       "  <thead>\n",
       "    <tr style=\"text-align: right;\">\n",
       "      <th></th>\n",
       "      <th>datetime</th>\n",
       "      <th>total_production_kwh</th>\n",
       "      <th>production_15_min_kwh</th>\n",
       "      <th>production_15_min_%</th>\n",
       "    </tr>\n",
       "  </thead>\n",
       "  <tbody>\n",
       "    <tr>\n",
       "      <th>26943</th>\n",
       "      <td>2024-12-31 21:30:00</td>\n",
       "      <td>20591.94</td>\n",
       "      <td>0.0</td>\n",
       "      <td>0.0</td>\n",
       "    </tr>\n",
       "    <tr>\n",
       "      <th>26944</th>\n",
       "      <td>2024-12-31 21:45:00</td>\n",
       "      <td>20591.94</td>\n",
       "      <td>0.0</td>\n",
       "      <td>0.0</td>\n",
       "    </tr>\n",
       "    <tr>\n",
       "      <th>26945</th>\n",
       "      <td>2024-12-31 22:00:00</td>\n",
       "      <td>20591.94</td>\n",
       "      <td>0.0</td>\n",
       "      <td>0.0</td>\n",
       "    </tr>\n",
       "    <tr>\n",
       "      <th>26946</th>\n",
       "      <td>2024-12-31 22:15:00</td>\n",
       "      <td>20591.94</td>\n",
       "      <td>0.0</td>\n",
       "      <td>0.0</td>\n",
       "    </tr>\n",
       "    <tr>\n",
       "      <th>26947</th>\n",
       "      <td>2024-12-31 22:30:00</td>\n",
       "      <td>20591.94</td>\n",
       "      <td>0.0</td>\n",
       "      <td>0.0</td>\n",
       "    </tr>\n",
       "    <tr>\n",
       "      <th>26948</th>\n",
       "      <td>2024-12-31 22:45:00</td>\n",
       "      <td>20591.94</td>\n",
       "      <td>0.0</td>\n",
       "      <td>0.0</td>\n",
       "    </tr>\n",
       "    <tr>\n",
       "      <th>26949</th>\n",
       "      <td>2024-12-31 23:00:00</td>\n",
       "      <td>20591.94</td>\n",
       "      <td>0.0</td>\n",
       "      <td>0.0</td>\n",
       "    </tr>\n",
       "    <tr>\n",
       "      <th>26950</th>\n",
       "      <td>2024-12-31 23:15:00</td>\n",
       "      <td>20591.94</td>\n",
       "      <td>0.0</td>\n",
       "      <td>0.0</td>\n",
       "    </tr>\n",
       "    <tr>\n",
       "      <th>26951</th>\n",
       "      <td>2024-12-31 23:30:00</td>\n",
       "      <td>20591.94</td>\n",
       "      <td>0.0</td>\n",
       "      <td>0.0</td>\n",
       "    </tr>\n",
       "    <tr>\n",
       "      <th>26952</th>\n",
       "      <td>2024-12-31 23:45:00</td>\n",
       "      <td>20591.94</td>\n",
       "      <td>0.0</td>\n",
       "      <td>0.0</td>\n",
       "    </tr>\n",
       "  </tbody>\n",
       "</table>\n",
       "</div>"
      ],
      "text/plain": [
       "                 datetime  total_production_kwh  production_15_min_kwh  \\\n",
       "26943 2024-12-31 21:30:00              20591.94                    0.0   \n",
       "26944 2024-12-31 21:45:00              20591.94                    0.0   \n",
       "26945 2024-12-31 22:00:00              20591.94                    0.0   \n",
       "26946 2024-12-31 22:15:00              20591.94                    0.0   \n",
       "26947 2024-12-31 22:30:00              20591.94                    0.0   \n",
       "26948 2024-12-31 22:45:00              20591.94                    0.0   \n",
       "26949 2024-12-31 23:00:00              20591.94                    0.0   \n",
       "26950 2024-12-31 23:15:00              20591.94                    0.0   \n",
       "26951 2024-12-31 23:30:00              20591.94                    0.0   \n",
       "26952 2024-12-31 23:45:00              20591.94                    0.0   \n",
       "\n",
       "       production_15_min_%  \n",
       "26943                  0.0  \n",
       "26944                  0.0  \n",
       "26945                  0.0  \n",
       "26946                  0.0  \n",
       "26947                  0.0  \n",
       "26948                  0.0  \n",
       "26949                  0.0  \n",
       "26950                  0.0  \n",
       "26951                  0.0  \n",
       "26952                  0.0  "
      ]
     },
     "execution_count": 6,
     "metadata": {},
     "output_type": "execute_result"
    }
   ],
   "source": [
    "# Importeren van de ruwe productiedata en deze preprocessen\n",
    "df_all_jvr = pd.read_csv('data/processed/pv_jvr_total.csv')\n",
    "df_all_jvr['datetime'] = pd.to_datetime(df_all_jvr['datetime'])\n",
    "df_all_ddp = pd.read_csv('data/processed/pv_ddp_total.csv')\n",
    "df_all_ddp['datetime'] = pd.to_datetime(df_all_ddp['datetime'])\n",
    "# Filter data voor een train en test set\n",
    "df_production_jvr = df_all_jvr[df_all_jvr['datetime'].dt.year == 2024]\n",
    "df_production_test_jvr = df_all_jvr[df_all_jvr['datetime'].dt.year == 2025]\n",
    "df_production_ddp = df_all_ddp[df_all_ddp['datetime'].dt.year == 2024]\n",
    "df_production_test_ddp = df_all_ddp[df_all_ddp['datetime'].dt.year == 2025]\n",
    "df_production_jvr.tail(10)"
   ]
  },
  {
   "cell_type": "code",
   "execution_count": 7,
   "metadata": {},
   "outputs": [
    {
     "data": {
      "application/vnd.microsoft.datawrangler.viewer.v0+json": {
       "columns": [
        {
         "name": "index",
         "rawType": "int64",
         "type": "integer"
        },
        {
         "name": "datetime",
         "rawType": "datetime64[ns]",
         "type": "datetime"
        },
        {
         "name": "production_15_min_%",
         "rawType": "float64",
         "type": "float"
        },
        {
         "name": "temp",
         "rawType": "float64",
         "type": "float"
        },
        {
         "name": "cloudcover",
         "rawType": "float64",
         "type": "float"
        },
        {
         "name": "solarenergy",
         "rawType": "float64",
         "type": "float"
        },
        {
         "name": "uvindex",
         "rawType": "float64",
         "type": "float"
        },
        {
         "name": "solar_azimuth",
         "rawType": "float64",
         "type": "float"
        },
        {
         "name": "solar_elevation",
         "rawType": "float64",
         "type": "float"
        }
       ],
       "conversionMethod": "pd.DataFrame",
       "ref": "f9f28167-2ec7-4387-807e-3d95433bba43",
       "rows": [
        [
         "0",
         "2024-03-14 08:15:00",
         "0.092",
         "8.325",
         "54.475",
         "0.325",
         "0.5",
         "-1.0541199706309496",
         "0.33041165068185335"
        ],
        [
         "1",
         "2024-03-14 08:45:00",
         "0.387",
         "9.175",
         "46.225",
         "0.575",
         "1.5",
         "-0.9353235697533843",
         "0.39973189090008776"
        ],
        [
         "2",
         "2024-03-14 09:00:00",
         "0.231",
         "9.6",
         "42.1",
         "0.7",
         "2.0",
         "-0.8732673452587921",
         "0.43222860723291284"
        ],
        [
         "3",
         "2024-03-14 09:15:00",
         "0.203",
         "10.0",
         "48.875",
         "0.8999999999999999",
         "2.5",
         "-0.8092735177845215",
         "0.46305555926301506"
        ],
        [
         "4",
         "2024-03-14 09:30:00",
         "0.172",
         "10.399999999999999",
         "55.650000000000006",
         "1.1",
         "3.0",
         "-0.7432465262133454",
         "0.492032215431663"
        ],
        [
         "5",
         "2024-03-14 09:45:00",
         "0.085",
         "10.799999999999999",
         "62.425000000000004",
         "1.3",
         "3.5",
         "-0.675122160192194",
         "0.5189717930311978"
        ],
        [
         "6",
         "2024-03-14 12:00:00",
         "4.431",
         "14.8",
         "52.4",
         "2.0",
         "6.0",
         "0.018609623224236024",
         "0.6403201526968968"
        ],
        [
         "7",
         "2024-03-14 12:15:00",
         "0.826",
         "14.925",
         "50.3",
         "1.85",
         "5.5",
         "0.10005495721122823",
         "0.6379444622498894"
        ],
        [
         "8",
         "2024-03-14 12:30:00",
         "0.747",
         "15.05",
         "48.2",
         "1.7",
         "5.0",
         "0.18100073390448942",
         "0.6322349875630373"
        ],
        [
         "9",
         "2024-03-14 12:45:00",
         "0.404",
         "15.175",
         "46.1",
         "1.5499999999999998",
         "4.5",
         "0.2610569248796823",
         "0.6232576905375985"
        ]
       ],
       "shape": {
        "columns": 8,
        "rows": 10
       }
      },
      "text/html": [
       "<div>\n",
       "<style scoped>\n",
       "    .dataframe tbody tr th:only-of-type {\n",
       "        vertical-align: middle;\n",
       "    }\n",
       "\n",
       "    .dataframe tbody tr th {\n",
       "        vertical-align: top;\n",
       "    }\n",
       "\n",
       "    .dataframe thead th {\n",
       "        text-align: right;\n",
       "    }\n",
       "</style>\n",
       "<table border=\"1\" class=\"dataframe\">\n",
       "  <thead>\n",
       "    <tr style=\"text-align: right;\">\n",
       "      <th></th>\n",
       "      <th>datetime</th>\n",
       "      <th>production_15_min_%</th>\n",
       "      <th>temp</th>\n",
       "      <th>cloudcover</th>\n",
       "      <th>solarenergy</th>\n",
       "      <th>uvindex</th>\n",
       "      <th>solar_azimuth</th>\n",
       "      <th>solar_elevation</th>\n",
       "    </tr>\n",
       "  </thead>\n",
       "  <tbody>\n",
       "    <tr>\n",
       "      <th>0</th>\n",
       "      <td>2024-03-14 08:15:00</td>\n",
       "      <td>0.092</td>\n",
       "      <td>8.325</td>\n",
       "      <td>54.475</td>\n",
       "      <td>0.325</td>\n",
       "      <td>0.5</td>\n",
       "      <td>-1.054120</td>\n",
       "      <td>0.330412</td>\n",
       "    </tr>\n",
       "    <tr>\n",
       "      <th>1</th>\n",
       "      <td>2024-03-14 08:45:00</td>\n",
       "      <td>0.387</td>\n",
       "      <td>9.175</td>\n",
       "      <td>46.225</td>\n",
       "      <td>0.575</td>\n",
       "      <td>1.5</td>\n",
       "      <td>-0.935324</td>\n",
       "      <td>0.399732</td>\n",
       "    </tr>\n",
       "    <tr>\n",
       "      <th>2</th>\n",
       "      <td>2024-03-14 09:00:00</td>\n",
       "      <td>0.231</td>\n",
       "      <td>9.600</td>\n",
       "      <td>42.100</td>\n",
       "      <td>0.700</td>\n",
       "      <td>2.0</td>\n",
       "      <td>-0.873267</td>\n",
       "      <td>0.432229</td>\n",
       "    </tr>\n",
       "    <tr>\n",
       "      <th>3</th>\n",
       "      <td>2024-03-14 09:15:00</td>\n",
       "      <td>0.203</td>\n",
       "      <td>10.000</td>\n",
       "      <td>48.875</td>\n",
       "      <td>0.900</td>\n",
       "      <td>2.5</td>\n",
       "      <td>-0.809274</td>\n",
       "      <td>0.463056</td>\n",
       "    </tr>\n",
       "    <tr>\n",
       "      <th>4</th>\n",
       "      <td>2024-03-14 09:30:00</td>\n",
       "      <td>0.172</td>\n",
       "      <td>10.400</td>\n",
       "      <td>55.650</td>\n",
       "      <td>1.100</td>\n",
       "      <td>3.0</td>\n",
       "      <td>-0.743247</td>\n",
       "      <td>0.492032</td>\n",
       "    </tr>\n",
       "    <tr>\n",
       "      <th>5</th>\n",
       "      <td>2024-03-14 09:45:00</td>\n",
       "      <td>0.085</td>\n",
       "      <td>10.800</td>\n",
       "      <td>62.425</td>\n",
       "      <td>1.300</td>\n",
       "      <td>3.5</td>\n",
       "      <td>-0.675122</td>\n",
       "      <td>0.518972</td>\n",
       "    </tr>\n",
       "    <tr>\n",
       "      <th>6</th>\n",
       "      <td>2024-03-14 12:00:00</td>\n",
       "      <td>4.431</td>\n",
       "      <td>14.800</td>\n",
       "      <td>52.400</td>\n",
       "      <td>2.000</td>\n",
       "      <td>6.0</td>\n",
       "      <td>0.018610</td>\n",
       "      <td>0.640320</td>\n",
       "    </tr>\n",
       "    <tr>\n",
       "      <th>7</th>\n",
       "      <td>2024-03-14 12:15:00</td>\n",
       "      <td>0.826</td>\n",
       "      <td>14.925</td>\n",
       "      <td>50.300</td>\n",
       "      <td>1.850</td>\n",
       "      <td>5.5</td>\n",
       "      <td>0.100055</td>\n",
       "      <td>0.637944</td>\n",
       "    </tr>\n",
       "    <tr>\n",
       "      <th>8</th>\n",
       "      <td>2024-03-14 12:30:00</td>\n",
       "      <td>0.747</td>\n",
       "      <td>15.050</td>\n",
       "      <td>48.200</td>\n",
       "      <td>1.700</td>\n",
       "      <td>5.0</td>\n",
       "      <td>0.181001</td>\n",
       "      <td>0.632235</td>\n",
       "    </tr>\n",
       "    <tr>\n",
       "      <th>9</th>\n",
       "      <td>2024-03-14 12:45:00</td>\n",
       "      <td>0.404</td>\n",
       "      <td>15.175</td>\n",
       "      <td>46.100</td>\n",
       "      <td>1.550</td>\n",
       "      <td>4.5</td>\n",
       "      <td>0.261057</td>\n",
       "      <td>0.623258</td>\n",
       "    </tr>\n",
       "  </tbody>\n",
       "</table>\n",
       "</div>"
      ],
      "text/plain": [
       "             datetime  production_15_min_%    temp  cloudcover  solarenergy  \\\n",
       "0 2024-03-14 08:15:00                0.092   8.325      54.475        0.325   \n",
       "1 2024-03-14 08:45:00                0.387   9.175      46.225        0.575   \n",
       "2 2024-03-14 09:00:00                0.231   9.600      42.100        0.700   \n",
       "3 2024-03-14 09:15:00                0.203  10.000      48.875        0.900   \n",
       "4 2024-03-14 09:30:00                0.172  10.400      55.650        1.100   \n",
       "5 2024-03-14 09:45:00                0.085  10.800      62.425        1.300   \n",
       "6 2024-03-14 12:00:00                4.431  14.800      52.400        2.000   \n",
       "7 2024-03-14 12:15:00                0.826  14.925      50.300        1.850   \n",
       "8 2024-03-14 12:30:00                0.747  15.050      48.200        1.700   \n",
       "9 2024-03-14 12:45:00                0.404  15.175      46.100        1.550   \n",
       "\n",
       "   uvindex  solar_azimuth  solar_elevation  \n",
       "0      0.5      -1.054120         0.330412  \n",
       "1      1.5      -0.935324         0.399732  \n",
       "2      2.0      -0.873267         0.432229  \n",
       "3      2.5      -0.809274         0.463056  \n",
       "4      3.0      -0.743247         0.492032  \n",
       "5      3.5      -0.675122         0.518972  \n",
       "6      6.0       0.018610         0.640320  \n",
       "7      5.5       0.100055         0.637944  \n",
       "8      5.0       0.181001         0.632235  \n",
       "9      4.5       0.261057         0.623258  "
      ]
     },
     "execution_count": 7,
     "metadata": {},
     "output_type": "execute_result"
    }
   ],
   "source": [
    "# Voeg de twee dataframes samen\n",
    "df_jvr = pd.merge(df_production_jvr, df_weather_ingelmunster, on='datetime')\n",
    "df_jvr.drop(columns=['total_production_kwh', 'production_15_min_kwh'], inplace=True)\n",
    "df_ddp = pd.merge(df_production_ddp, df_weather_gullegem, on='datetime')\n",
    "df_ddp.drop(columns=['total_production_kwh', 'production_15_min_kwh'], inplace=True)\n",
    "df_test_jvr = pd.merge(df_production_test_jvr, df_weather_test_ingelmunster, on='datetime')\n",
    "df_test_jvr.drop(columns=['total_production_kwh', 'production_15_min_kwh'], inplace=True)\n",
    "df_test_ddp = pd.merge(df_production_test_ddp, df_weather_test_gullegem, on='datetime')\n",
    "df_test_ddp.drop(columns=['total_production_kwh', 'production_15_min_kwh'], inplace=True)\n",
    "df_jvr.head(10)"
   ]
  },
  {
   "cell_type": "code",
   "execution_count": 8,
   "metadata": {},
   "outputs": [],
   "source": [
    "# De trainingsdata van beide huizen samenvoegen\n",
    "df_jvr_lstm = df_jvr.copy()\n",
    "df_ddp_lstm = df_ddp.copy()"
   ]
  },
  {
   "cell_type": "code",
   "execution_count": 9,
   "metadata": {},
   "outputs": [],
   "source": [
    "# Geef de dag van het jaar weer als een sinus- en cosinusgolf\n",
    "# Dag van het jaar extraheren\n",
    "df_jvr_lstm['day_of_year'] = df_jvr_lstm['datetime'].dt.dayofyear\n",
    "df_ddp_lstm['day_of_year'] = df_ddp_lstm['datetime'].dt.dayofyear\n",
    "df_test_jvr['day_of_year'] = df_test_jvr['datetime'].dt.dayofyear\n",
    "df_test_ddp['day_of_year'] = df_test_ddp['datetime'].dt.dayofyear\n",
    "# Bereken sinus- en cosinuswaarden voor day_of_year\n",
    "df_jvr_lstm['day_of_year_sine'] = np.sin(2 * np.pi * df_jvr_lstm['day_of_year'] / 365)\n",
    "df_jvr_lstm['day_of_year_cosine'] = np.cos(2 * np.pi * df_jvr_lstm['day_of_year'] / 365)\n",
    "df_ddp_lstm['day_of_year_sine'] = np.sin(2 * np.pi * df_ddp_lstm['day_of_year'] / 365)\n",
    "df_ddp_lstm['day_of_year_cosine'] = np.cos(2 * np.pi * df_ddp_lstm['day_of_year'] / 365)\n",
    "df_test_jvr['day_of_year_sine'] = np.sin(2 * np.pi * df_test_jvr['day_of_year'] / 365)\n",
    "df_test_jvr['day_of_year_cosine'] = np.cos(2 * np.pi * df_test_jvr['day_of_year'] / 365)\n",
    "df_test_ddp['day_of_year_sine'] = np.sin(2 * np.pi * df_test_ddp['day_of_year'] / 365)\n",
    "df_test_ddp['day_of_year_cosine'] = np.cos(2 * np.pi * df_test_ddp['day_of_year'] / 365)"
   ]
  },
  {
   "cell_type": "code",
   "execution_count": 10,
   "metadata": {},
   "outputs": [],
   "source": [
    "# Verwijder onnodige kolommen\n",
    "df_jvr_lstm.drop(columns=['datetime', 'day_of_year'], inplace=True)\n",
    "df_ddp_lstm.drop(columns=['datetime', 'day_of_year'], inplace=True)\n",
    "df_test_jvr.drop(columns=['datetime', 'day_of_year'], inplace=True)\n",
    "df_test_ddp.drop(columns=['datetime', 'day_of_year'], inplace=True)"
   ]
  },
  {
   "cell_type": "code",
   "execution_count": 11,
   "metadata": {},
   "outputs": [],
   "source": [
    "# Vervang alle negatieve energiewaarden (%) met 0\n",
    "df_jvr_lstm['production_15_min_%'] = df_jvr_lstm['production_15_min_%'].apply(lambda x: x if x >= 0 else 0)\n",
    "df_ddp_lstm['production_15_min_%'] = df_ddp_lstm['production_15_min_%'].apply(lambda x: x if x >= 0 else 0)\n",
    "df_test_jvr['production_15_min_%'] = df_test_jvr['production_15_min_%'].apply(lambda x: x if x >= 0 else 0)\n",
    "df_test_ddp['production_15_min_%'] = df_test_ddp['production_15_min_%'].apply(lambda x: x if x >= 0 else 0)"
   ]
  },
  {
   "cell_type": "code",
   "execution_count": 12,
   "metadata": {},
   "outputs": [],
   "source": [
    "# maak het percentage energie een een waarde tussen 0 en 100%\n",
    "df_jvr_lstm['production_15_min_%'] = df_jvr_lstm['production_15_min_%'] * 100\n",
    "df_ddp_lstm['production_15_min_%'] = df_ddp_lstm['production_15_min_%'] * 100\n",
    "df_test_jvr['production_15_min_%'] = df_test_jvr['production_15_min_%'] * 100\n",
    "df_test_ddp['production_15_min_%'] = df_test_ddp['production_15_min_%'] * 100"
   ]
  },
  {
   "cell_type": "code",
   "execution_count": 13,
   "metadata": {},
   "outputs": [],
   "source": [
    "# Estetic action move target column to the end\n",
    "df_jvr_lstm = pd.concat([df_jvr_lstm.drop('production_15_min_%', axis=1), df_jvr_lstm['production_15_min_%']], axis=1)\n",
    "df_ddp_lstm = pd.concat([df_ddp_lstm.drop('production_15_min_%', axis=1), df_ddp_lstm['production_15_min_%']], axis=1)"
   ]
  },
  {
   "cell_type": "code",
   "execution_count": 14,
   "metadata": {},
   "outputs": [],
   "source": [
    "# Alle waarden boven de 100(%) zijn uitschieters (dit zijn waarschijnlijk fouten als gevolg van ontbrekende gegevens). Deze worden verwijderd.\n",
    "df_jvr_lstm = df_jvr_lstm[df_jvr_lstm['production_15_min_%'] <= 100]\n",
    "df_ddp_lstm = df_ddp_lstm[df_ddp_lstm['production_15_min_%'] <= 100]"
   ]
  },
  {
   "cell_type": "code",
   "execution_count": 15,
   "metadata": {},
   "outputs": [
    {
     "data": {
      "image/png": "[encoded data removed]",
      "text/plain": [
       "<Figure size 1200x1200 with 2 Axes>"
      ]
     },
     "metadata": {},
     "output_type": "display_data"
    }
   ],
   "source": [
    "# Lineaire correlatie tussen de features - heatmap\n",
    "# Visualiseer de onderlinge correlatiecoëfficiënten\n",
    "f, ax = plt.subplots(figsize=(12, 12))\n",
    "corr = df_jvr_lstm.corr()\n",
    "sns.heatmap(\n",
    "    corr,\n",
    "    cmap=sns.diverging_palette(220, 10, as_cmap=True),\n",
    "    square=True,\n",
    "    ax=ax,\n",
    "    annot=True,\n",
    "    annot_kws={\"size\": 10}\n",
    ")\n",
    "plt.title(\"Correlatiematrix\")\n",
    "plt.show()"
   ]
  },
  {
   "cell_type": "markdown",
   "metadata": {},
   "source": [
    "## Pre-processing van de data"
   ]
  },
  {
   "cell_type": "code",
   "execution_count": 16,
   "metadata": {},
   "outputs": [],
   "source": [
    "datasets = [df_jvr_lstm, df_ddp_lstm, df_test_jvr, df_test_ddp]\n",
    "\n",
    "def create_sequences(data, target, n_steps_in, n_steps_out):\n",
    "    X, y = [], []\n",
    "    for i in range(len(data) - n_steps_in - n_steps_out + 1):\n",
    "        X.append(data[i:i+n_steps_in])\n",
    "        y.append(target[i+n_steps_in+n_steps_out-1 : i+n_steps_in+n_steps_out])\n",
    "    return np.array(X), np.array(y)\n",
    "\n",
    "df_jvr_lstm_target = df_jvr_lstm['production_15_min_%'].values\n",
    "df_ddp_lstm_target = df_ddp_lstm['production_15_min_%'].values\n",
    "df_test_jvr_target = df_test_jvr['production_15_min_%'].values\n",
    "df_test_ddp_target = df_test_ddp['production_15_min_%'].values\n",
    "df_jvr_lstm_values = df_jvr_lstm.copy()\n",
    "df_ddp_lstm_values = df_ddp_lstm.copy()\n",
    "df_test_jvr_lstm_values = df_test_jvr.copy()\n",
    "df_test_ddp_lstm_values = df_test_ddp.copy()\n",
    "# df_jvr_lstm_values.drop(columns=['production_15_min_%'], inplace=True)\n",
    "# df_ddp_lstm_values.drop(columns=['production_15_min_%'], inplace=True)\n",
    "# df_test_jvr_lstm_values.drop(columns=['production_15_min_%'], inplace=True)\n",
    "# df_test_ddp_lstm_values.drop(columns=['production_15_min_%'], inplace=True)\n",
    "# Reshape de dataframes naar een 3D-array for a predictie van 24 uur\n",
    "X_jvr_24_hours, y_jvr_24_hours = create_sequences(df_jvr_lstm_values.values, df_jvr_lstm_target, 96, 96)\n",
    "X_ddp_24_hours, y_ddp_24_hours = create_sequences(df_ddp_lstm_values.values, df_ddp_lstm_target, 96, 96)\n",
    "X_test_jvr_24_hours, y_test_jvr_24_hours = create_sequences(df_test_jvr_lstm_values.values, df_test_jvr_target, 96, 96)\n",
    "X_test_ddp_24_hours, y_test_ddp_24_hours = create_sequences(df_test_ddp_lstm_values.values, df_test_ddp_target, 96, 96)"
   ]
  },
  {
   "cell_type": "code",
   "execution_count": 17,
   "metadata": {},
   "outputs": [],
   "source": [
    "# Samenvoegen van de datasets\n",
    "X_24_hours = np.concatenate((X_jvr_24_hours, X_ddp_24_hours), axis=0)\n",
    "y_24_hours = np.concatenate((y_jvr_24_hours, y_ddp_24_hours), axis=0)\n",
    "\n",
    "lstm_24_Scaler = MinMaxScaler()\n",
    "X_24_hours = lstm_24_Scaler.fit_transform(X_24_hours.reshape(-1, X_24_hours.shape[-1])).reshape(X_24_hours.shape)"
   ]
  },
  {
   "cell_type": "markdown",
   "metadata": {},
   "source": [
    "## Training"
   ]
  },
  {
   "cell_type": "code",
   "execution_count": 18,
   "metadata": {},
   "outputs": [
    {
     "name": "stdout",
     "output_type": "stream",
     "text": [
      "Model: \"sequential\"\n",
      "_________________________________________________________________\n",
      " Layer (type)                Output Shape              Param #   \n",
      "=================================================================\n",
      " lstm (LSTM)                 (None, 96, 128)           70656     \n",
      "                                                                 \n",
      " dropout (Dropout)           (None, 96, 128)           0         \n",
      "                                                                 \n",
      " lstm_1 (LSTM)               (None, 64)                49408     \n",
      "                                                                 \n",
      " dense (Dense)               (None, 32)                2080      \n",
      "                                                                 \n",
      " dense_1 (Dense)             (None, 1)                 33        \n",
      "                                                                 \n",
      "=================================================================\n",
      "Total params: 122177 (477.25 KB)\n",
      "Trainable params: 122177 (477.25 KB)\n",
      "Non-trainable params: 0 (0.00 Byte)\n",
      "_________________________________________________________________\n"
     ]
    }
   ],
   "source": [
    "LSTM_network_model_24_hour = Sequential()\n",
    "\n",
    "LSTM_network_model_24_hour.add(LSTM(128, return_sequences=True, activation='tanh', input_shape=(96, 9)))\n",
    "LSTM_network_model_24_hour.add(Dropout(0.2))\n",
    "LSTM_network_model_24_hour.add(LSTM(64, activation='tanh'))\n",
    "LSTM_network_model_24_hour.add(Dense(32, activation='relu'))\n",
    "LSTM_network_model_24_hour.add(Dense(1, activation='linear'))\n",
    "LSTM_network_model_24_hour.compile(loss='mean_squared_error', optimizer='adam', metrics=['mean_squared_error'])\n",
    "LSTM_network_model_24_hour.summary()"
   ]
  },
  {
   "cell_type": "code",
   "execution_count": 19,
   "metadata": {},
   "outputs": [],
   "source": [
    "checkpoint_name_24_hour = 'pv_lstm_24_hours.keras' \n",
    "checkpoint_24_hour = ModelCheckpoint(f'models/{checkpoint_name_24_hour}', monitor='val_loss', verbose = 1, save_best_only = True, mode ='auto')\n",
    "callbacks_list_24_hour = [checkpoint_24_hour]"
   ]
  },
  {
   "cell_type": "code",
   "execution_count": 20,
   "metadata": {},
   "outputs": [
    {
     "name": "stdout",
     "output_type": "stream",
     "text": [
      "Epoch 1/20\n",
      "107/107 [==============================] - ETA: 0s - loss: 595.5859 - mean_squared_error: 595.5859\n",
      "Epoch 1: val_loss improved from inf to 235.18523, saving model to models/pv_lstm_24_hours.keras\n",
      "107/107 [==============================] - 47s 434ms/step - loss: 595.5859 - mean_squared_error: 595.5859 - val_loss: 235.1852 - val_mean_squared_error: 235.1852\n",
      "Epoch 2/20\n",
      "107/107 [==============================] - ETA: 0s - loss: 556.6068 - mean_squared_error: 556.6068\n",
      "Epoch 2: val_loss improved from 235.18523 to 233.27467, saving model to models/pv_lstm_24_hours.keras\n",
      "107/107 [==============================] - 48s 452ms/step - loss: 556.6068 - mean_squared_error: 556.6068 - val_loss: 233.2747 - val_mean_squared_error: 233.2747\n",
      "Epoch 3/20\n",
      "107/107 [==============================] - ETA: 0s - loss: 437.7852 - mean_squared_error: 437.7852\n",
      "Epoch 3: val_loss improved from 233.27467 to 68.95415, saving model to models/pv_lstm_24_hours.keras\n",
      "107/107 [==============================] - 52s 487ms/step - loss: 437.7852 - mean_squared_error: 437.7852 - val_loss: 68.9542 - val_mean_squared_error: 68.9542\n",
      "Epoch 4/20\n",
      "107/107 [==============================] - ETA: 0s - loss: 215.2867 - mean_squared_error: 215.2867\n",
      "Epoch 4: val_loss improved from 68.95415 to 57.13460, saving model to models/pv_lstm_24_hours.keras\n",
      "107/107 [==============================] - 54s 504ms/step - loss: 215.2867 - mean_squared_error: 215.2867 - val_loss: 57.1346 - val_mean_squared_error: 57.1346\n",
      "Epoch 5/20\n",
      "107/107 [==============================] - ETA: 0s - loss: 198.5831 - mean_squared_error: 198.5831\n",
      "Epoch 5: val_loss improved from 57.13460 to 56.99619, saving model to models/pv_lstm_24_hours.keras\n",
      "107/107 [==============================] - 53s 496ms/step - loss: 198.5831 - mean_squared_error: 198.5831 - val_loss: 56.9962 - val_mean_squared_error: 56.9962\n",
      "Epoch 6/20\n",
      "107/107 [==============================] - ETA: 0s - loss: 188.0801 - mean_squared_error: 188.0801\n",
      "Epoch 6: val_loss improved from 56.99619 to 52.86034, saving model to models/pv_lstm_24_hours.keras\n",
      "107/107 [==============================] - 54s 504ms/step - loss: 188.0801 - mean_squared_error: 188.0801 - val_loss: 52.8603 - val_mean_squared_error: 52.8603\n",
      "Epoch 7/20\n",
      "107/107 [==============================] - ETA: 0s - loss: 182.5635 - mean_squared_error: 182.5635\n",
      "Epoch 7: val_loss did not improve from 52.86034\n",
      "107/107 [==============================] - 54s 507ms/step - loss: 182.5635 - mean_squared_error: 182.5635 - val_loss: 54.4798 - val_mean_squared_error: 54.4798\n",
      "Epoch 8/20\n",
      "107/107 [==============================] - ETA: 0s - loss: 178.6359 - mean_squared_error: 178.6359\n",
      "Epoch 8: val_loss improved from 52.86034 to 51.37582, saving model to models/pv_lstm_24_hours.keras\n",
      "107/107 [==============================] - 54s 509ms/step - loss: 178.6359 - mean_squared_error: 178.6359 - val_loss: 51.3758 - val_mean_squared_error: 51.3758\n",
      "Epoch 9/20\n",
      "107/107 [==============================] - ETA: 0s - loss: 175.9546 - mean_squared_error: 175.9546\n",
      "Epoch 9: val_loss did not improve from 51.37582\n",
      "107/107 [==============================] - 54s 506ms/step - loss: 175.9546 - mean_squared_error: 175.9546 - val_loss: 53.7624 - val_mean_squared_error: 53.7624\n",
      "Epoch 10/20\n",
      "107/107 [==============================] - ETA: 0s - loss: 171.7247 - mean_squared_error: 171.7247\n",
      "Epoch 10: val_loss did not improve from 51.37582\n",
      "107/107 [==============================] - 52s 485ms/step - loss: 171.7247 - mean_squared_error: 171.7247 - val_loss: 54.1561 - val_mean_squared_error: 54.1561\n",
      "Epoch 11/20\n",
      "107/107 [==============================] - ETA: 0s - loss: 171.7768 - mean_squared_error: 171.7768\n",
      "Epoch 11: val_loss did not improve from 51.37582\n",
      "107/107 [==============================] - 51s 479ms/step - loss: 171.7768 - mean_squared_error: 171.7768 - val_loss: 57.0197 - val_mean_squared_error: 57.0197\n",
      "Epoch 12/20\n",
      "107/107 [==============================] - ETA: 0s - loss: 168.9424 - mean_squared_error: 168.9424\n",
      "Epoch 12: val_loss did not improve from 51.37582\n",
      "107/107 [==============================] - 53s 492ms/step - loss: 168.9424 - mean_squared_error: 168.9424 - val_loss: 52.8573 - val_mean_squared_error: 52.8573\n",
      "Epoch 13/20\n",
      "107/107 [==============================] - ETA: 0s - loss: 168.0771 - mean_squared_error: 168.0771\n",
      "Epoch 13: val_loss improved from 51.37582 to 49.90032, saving model to models/pv_lstm_24_hours.keras\n",
      "107/107 [==============================] - 54s 503ms/step - loss: 168.0771 - mean_squared_error: 168.0771 - val_loss: 49.9003 - val_mean_squared_error: 49.9003\n",
      "Epoch 14/20\n",
      "107/107 [==============================] - ETA: 0s - loss: 165.8885 - mean_squared_error: 165.8885\n",
      "Epoch 14: val_loss did not improve from 49.90032\n",
      "107/107 [==============================] - 55s 510ms/step - loss: 165.8885 - mean_squared_error: 165.8885 - val_loss: 60.5236 - val_mean_squared_error: 60.5236\n",
      "Epoch 15/20\n",
      "107/107 [==============================] - ETA: 0s - loss: 166.0911 - mean_squared_error: 166.0911\n",
      "Epoch 15: val_loss did not improve from 49.90032\n",
      "107/107 [==============================] - 54s 505ms/step - loss: 166.0911 - mean_squared_error: 166.0911 - val_loss: 51.6256 - val_mean_squared_error: 51.6256\n",
      "Epoch 16/20\n",
      "107/107 [==============================] - ETA: 0s - loss: 163.7436 - mean_squared_error: 163.7436\n",
      "Epoch 16: val_loss did not improve from 49.90032\n",
      "107/107 [==============================] - 55s 514ms/step - loss: 163.7436 - mean_squared_error: 163.7436 - val_loss: 61.8169 - val_mean_squared_error: 61.8169\n",
      "Epoch 17/20\n",
      "107/107 [==============================] - ETA: 0s - loss: 163.1796 - mean_squared_error: 163.1796\n",
      "Epoch 17: val_loss did not improve from 49.90032\n",
      "107/107 [==============================] - 55s 510ms/step - loss: 163.1796 - mean_squared_error: 163.1796 - val_loss: 51.3987 - val_mean_squared_error: 51.3987\n",
      "Epoch 18/20\n",
      "107/107 [==============================] - ETA: 0s - loss: 159.2222 - mean_squared_error: 159.2222\n",
      "Epoch 18: val_loss did not improve from 49.90032\n",
      "107/107 [==============================] - 53s 497ms/step - loss: 159.2222 - mean_squared_error: 159.2222 - val_loss: 51.9559 - val_mean_squared_error: 51.9559\n",
      "Epoch 19/20\n",
      "107/107 [==============================] - ETA: 0s - loss: 162.7214 - mean_squared_error: 162.7214\n",
      "Epoch 19: val_loss improved from 49.90032 to 49.55864, saving model to models/pv_lstm_24_hours.keras\n",
      "107/107 [==============================] - 53s 492ms/step - loss: 162.7214 - mean_squared_error: 162.7214 - val_loss: 49.5586 - val_mean_squared_error: 49.5586\n",
      "Epoch 20/20\n",
      "107/107 [==============================] - ETA: 0s - loss: 159.1641 - mean_squared_error: 159.1641\n",
      "Epoch 20: val_loss did not improve from 49.55864\n",
      "107/107 [==============================] - 53s 496ms/step - loss: 159.1641 - mean_squared_error: 159.1641 - val_loss: 56.8238 - val_mean_squared_error: 56.8238\n"
     ]
    }
   ],
   "source": [
    "history_24_hours = LSTM_network_model_24_hour.fit(X_24_hours, y_24_hours, epochs=20, batch_size=400, validation_split = 0.2, callbacks=callbacks_list_24_hour)"
   ]
  },
  {
   "cell_type": "code",
   "execution_count": 21,
   "metadata": {},
   "outputs": [
    {
     "data": {
      "image/png": "[encoded data removed]",
      "text/plain": [
       "<Figure size 640x480 with 1 Axes>"
      ]
     },
     "metadata": {},
     "output_type": "display_data"
    },
    {
     "data": {
      "image/png": "[encoded data removed]",
      "text/plain": [
       "<Figure size 640x480 with 1 Axes>"
      ]
     },
     "metadata": {},
     "output_type": "display_data"
    }
   ],
   "source": [
    "# Plot training and validation loss\n",
    "plt.plot(history_24_hours.history['loss'], label='Training Loss')\n",
    "plt.plot(history_24_hours.history['val_loss'], label='Validation Loss')\n",
    "plt.title('Model Loss')\n",
    "plt.xlabel('Epoch')\n",
    "plt.ylabel('Loss')\n",
    "plt.legend()\n",
    "plt.show()\n",
    "\n",
    "# Plot training and validation MAE\n",
    "plt.plot(history_24_hours.history['mean_squared_error'], label='Training MSE')\n",
    "plt.plot(history_24_hours.history['val_mean_squared_error'], label='Validation MSE')\n",
    "plt.title('Model MSE')\n",
    "plt.xlabel('Epoch')\n",
    "plt.ylabel('MSE')\n",
    "plt.legend()\n",
    "plt.show()"
   ]
  },
  {
   "cell_type": "markdown",
   "metadata": {},
   "source": [
    "## Testing"
   ]
  },
  {
   "cell_type": "code",
   "execution_count": 22,
   "metadata": {},
   "outputs": [
    {
     "data": {
      "application/vnd.microsoft.datawrangler.viewer.v0+json": {
       "columns": [
        {
         "name": "index",
         "rawType": "int64",
         "type": "integer"
        },
        {
         "name": "production_15_min_%",
         "rawType": "float64",
         "type": "float"
        },
        {
         "name": "temp",
         "rawType": "float64",
         "type": "float"
        },
        {
         "name": "cloudcover",
         "rawType": "float64",
         "type": "float"
        },
        {
         "name": "solarenergy",
         "rawType": "float64",
         "type": "float"
        },
        {
         "name": "uvindex",
         "rawType": "float64",
         "type": "float"
        },
        {
         "name": "solar_azimuth",
         "rawType": "float64",
         "type": "float"
        },
        {
         "name": "solar_elevation",
         "rawType": "float64",
         "type": "float"
        },
        {
         "name": "day_of_year_sine",
         "rawType": "float64",
         "type": "float"
        },
        {
         "name": "day_of_year_cosine",
         "rawType": "float64",
         "type": "float"
        }
       ],
       "conversionMethod": "pd.DataFrame",
       "ref": "46c70f18-5966-4323-86eb-3a1c51bb6616",
       "rows": [
        [
         "0",
         "0.0",
         "8.1",
         "96.3",
         "0.0",
         "0.0",
         "-3.0616245461947535",
         "-1.0830367510530152",
         "0.017213356155834685",
         "0.9998518392091162"
        ],
        [
         "1",
         "0.0",
         "8.1",
         "95.225",
         "0.0",
         "0.0",
         "-2.9344092270082833",
         "-1.077116299267514",
         "0.017213356155834685",
         "0.9998518392091162"
        ],
        [
         "2",
         "0.0",
         "8.1",
         "94.15",
         "0.0",
         "0.0",
         "-2.8106717234939635",
         "-1.0661306554131451",
         "0.017213356155834685",
         "0.9998518392091162"
        ],
        [
         "3",
         "0.0",
         "8.1",
         "93.075",
         "0.0",
         "0.0",
         "-2.6920741607110563",
         "-1.0504179065022725",
         "0.017213356155834685",
         "0.9998518392091162"
        ],
        [
         "4",
         "0.0",
         "8.1",
         "92.0",
         "0.0",
         "0.0",
         "-2.579743219234104",
         "-1.0304150776866048",
         "0.017213356155834685",
         "0.9998518392091162"
        ]
       ],
       "shape": {
        "columns": 9,
        "rows": 5
       }
      },
      "text/html": [
       "<div>\n",
       "<style scoped>\n",
       "    .dataframe tbody tr th:only-of-type {\n",
       "        vertical-align: middle;\n",
       "    }\n",
       "\n",
       "    .dataframe tbody tr th {\n",
       "        vertical-align: top;\n",
       "    }\n",
       "\n",
       "    .dataframe thead th {\n",
       "        text-align: right;\n",
       "    }\n",
       "</style>\n",
       "<table border=\"1\" class=\"dataframe\">\n",
       "  <thead>\n",
       "    <tr style=\"text-align: right;\">\n",
       "      <th></th>\n",
       "      <th>production_15_min_%</th>\n",
       "      <th>temp</th>\n",
       "      <th>cloudcover</th>\n",
       "      <th>solarenergy</th>\n",
       "      <th>uvindex</th>\n",
       "      <th>solar_azimuth</th>\n",
       "      <th>solar_elevation</th>\n",
       "      <th>day_of_year_sine</th>\n",
       "      <th>day_of_year_cosine</th>\n",
       "    </tr>\n",
       "  </thead>\n",
       "  <tbody>\n",
       "    <tr>\n",
       "      <th>0</th>\n",
       "      <td>0.0</td>\n",
       "      <td>8.1</td>\n",
       "      <td>96.300</td>\n",
       "      <td>0.0</td>\n",
       "      <td>0.0</td>\n",
       "      <td>-3.061625</td>\n",
       "      <td>-1.083037</td>\n",
       "      <td>0.017213</td>\n",
       "      <td>0.999852</td>\n",
       "    </tr>\n",
       "    <tr>\n",
       "      <th>1</th>\n",
       "      <td>0.0</td>\n",
       "      <td>8.1</td>\n",
       "      <td>95.225</td>\n",
       "      <td>0.0</td>\n",
       "      <td>0.0</td>\n",
       "      <td>-2.934409</td>\n",
       "      <td>-1.077116</td>\n",
       "      <td>0.017213</td>\n",
       "      <td>0.999852</td>\n",
       "    </tr>\n",
       "    <tr>\n",
       "      <th>2</th>\n",
       "      <td>0.0</td>\n",
       "      <td>8.1</td>\n",
       "      <td>94.150</td>\n",
       "      <td>0.0</td>\n",
       "      <td>0.0</td>\n",
       "      <td>-2.810672</td>\n",
       "      <td>-1.066131</td>\n",
       "      <td>0.017213</td>\n",
       "      <td>0.999852</td>\n",
       "    </tr>\n",
       "    <tr>\n",
       "      <th>3</th>\n",
       "      <td>0.0</td>\n",
       "      <td>8.1</td>\n",
       "      <td>93.075</td>\n",
       "      <td>0.0</td>\n",
       "      <td>0.0</td>\n",
       "      <td>-2.692074</td>\n",
       "      <td>-1.050418</td>\n",
       "      <td>0.017213</td>\n",
       "      <td>0.999852</td>\n",
       "    </tr>\n",
       "    <tr>\n",
       "      <th>4</th>\n",
       "      <td>0.0</td>\n",
       "      <td>8.1</td>\n",
       "      <td>92.000</td>\n",
       "      <td>0.0</td>\n",
       "      <td>0.0</td>\n",
       "      <td>-2.579743</td>\n",
       "      <td>-1.030415</td>\n",
       "      <td>0.017213</td>\n",
       "      <td>0.999852</td>\n",
       "    </tr>\n",
       "  </tbody>\n",
       "</table>\n",
       "</div>"
      ],
      "text/plain": [
       "   production_15_min_%  temp  cloudcover  solarenergy  uvindex  solar_azimuth  \\\n",
       "0                  0.0   8.1      96.300          0.0      0.0      -3.061625   \n",
       "1                  0.0   8.1      95.225          0.0      0.0      -2.934409   \n",
       "2                  0.0   8.1      94.150          0.0      0.0      -2.810672   \n",
       "3                  0.0   8.1      93.075          0.0      0.0      -2.692074   \n",
       "4                  0.0   8.1      92.000          0.0      0.0      -2.579743   \n",
       "\n",
       "   solar_elevation  day_of_year_sine  day_of_year_cosine  \n",
       "0        -1.083037          0.017213            0.999852  \n",
       "1        -1.077116          0.017213            0.999852  \n",
       "2        -1.066131          0.017213            0.999852  \n",
       "3        -1.050418          0.017213            0.999852  \n",
       "4        -1.030415          0.017213            0.999852  "
      ]
     },
     "execution_count": 22,
     "metadata": {},
     "output_type": "execute_result"
    }
   ],
   "source": [
    "df_test_jvr.head()"
   ]
  },
  {
   "cell_type": "code",
   "execution_count": 23,
   "metadata": {},
   "outputs": [],
   "source": [
    "# Splits de dataset in een trainings- en testset\n",
    "actual_lstm_24_hours = y_test_jvr_24_hours\n",
    "input_lstm_24_hours = X_test_jvr_24_hours"
   ]
  },
  {
   "cell_type": "code",
   "execution_count": 24,
   "metadata": {},
   "outputs": [],
   "source": [
    "# Inladen van het beste LSTM model op 24h\n",
    "best_lstm_model_24_hour = load_model('models/pv_lstm_24_hours.keras')"
   ]
  },
  {
   "cell_type": "code",
   "execution_count": 25,
   "metadata": {},
   "outputs": [],
   "source": [
    "# Maak een voorspelling voor elke regel in de testdataset\n",
    "input_lstm_24_hours = lstm_24_Scaler.transform(input_lstm_24_hours.reshape(-1, input_lstm_24_hours.shape[-1])).reshape(input_lstm_24_hours.shape)\n",
    "df_result_lstm_24_hour = pd.DataFrame(actual_lstm_24_hours, columns=['production_15_min_%'])"
   ]
  },
  {
   "cell_type": "code",
   "execution_count": 26,
   "metadata": {},
   "outputs": [
    {
     "name": "stdout",
     "output_type": "stream",
     "text": [
      "87/87 [==============================] - 3s 28ms/step\n"
     ]
    },
    {
     "data": {
      "application/vnd.microsoft.datawrangler.viewer.v0+json": {
       "columns": [
        {
         "name": "index",
         "rawType": "int64",
         "type": "integer"
        },
        {
         "name": "production_15_min_%",
         "rawType": "float64",
         "type": "float"
        },
        {
         "name": "predicted_with_LSTM_24_hour(%)",
         "rawType": "float64",
         "type": "float"
        }
       ],
       "conversionMethod": "pd.DataFrame",
       "ref": "6407d136-6ba0-4c18-9af0-5a3320dd5949",
       "rows": [
        [
         "0",
         "0.0",
         "6.22843074798584"
        ],
        [
         "1",
         "0.0",
         "6.128117561340332"
        ],
        [
         "2",
         "0.0",
         "6.073024749755859"
        ],
        [
         "3",
         "0.0",
         "6.04289436340332"
        ],
        [
         "4",
         "0.0",
         "6.03177547454834"
        ]
       ],
       "shape": {
        "columns": 2,
        "rows": 5
       }
      },
      "text/html": [
       "<div>\n",
       "<style scoped>\n",
       "    .dataframe tbody tr th:only-of-type {\n",
       "        vertical-align: middle;\n",
       "    }\n",
       "\n",
       "    .dataframe tbody tr th {\n",
       "        vertical-align: top;\n",
       "    }\n",
       "\n",
       "    .dataframe thead th {\n",
       "        text-align: right;\n",
       "    }\n",
       "</style>\n",
       "<table border=\"1\" class=\"dataframe\">\n",
       "  <thead>\n",
       "    <tr style=\"text-align: right;\">\n",
       "      <th></th>\n",
       "      <th>production_15_min_%</th>\n",
       "      <th>predicted_with_LSTM_24_hour(%)</th>\n",
       "    </tr>\n",
       "  </thead>\n",
       "  <tbody>\n",
       "    <tr>\n",
       "      <th>0</th>\n",
       "      <td>0.0</td>\n",
       "      <td>6.228431</td>\n",
       "    </tr>\n",
       "    <tr>\n",
       "      <th>1</th>\n",
       "      <td>0.0</td>\n",
       "      <td>6.128118</td>\n",
       "    </tr>\n",
       "    <tr>\n",
       "      <th>2</th>\n",
       "      <td>0.0</td>\n",
       "      <td>6.073025</td>\n",
       "    </tr>\n",
       "    <tr>\n",
       "      <th>3</th>\n",
       "      <td>0.0</td>\n",
       "      <td>6.042894</td>\n",
       "    </tr>\n",
       "    <tr>\n",
       "      <th>4</th>\n",
       "      <td>0.0</td>\n",
       "      <td>6.031775</td>\n",
       "    </tr>\n",
       "  </tbody>\n",
       "</table>\n",
       "</div>"
      ],
      "text/plain": [
       "   production_15_min_%  predicted_with_LSTM_24_hour(%)\n",
       "0                  0.0                        6.228431\n",
       "1                  0.0                        6.128118\n",
       "2                  0.0                        6.073025\n",
       "3                  0.0                        6.042894\n",
       "4                  0.0                        6.031775"
      ]
     },
     "execution_count": 26,
     "metadata": {},
     "output_type": "execute_result"
    }
   ],
   "source": [
    "df_result_lstm_24_hour['predicted_with_LSTM_24_hour(%)'] = best_lstm_model_24_hour.predict(input_lstm_24_hours)\n",
    "df_result_lstm_24_hour['predicted_with_LSTM_24_hour(%)'] = df_result_lstm_24_hour['predicted_with_LSTM_24_hour(%)'].apply(lambda x: x if x >= 0 else 0)\n",
    "df_result_lstm_24_hour.head()"
   ]
  },
  {
   "cell_type": "code",
   "execution_count": 27,
   "metadata": {},
   "outputs": [
    {
     "data": {
      "image/png": "[encoded data removed]",
      "text/plain": [
       "<Figure size 1000x600 with 1 Axes>"
      ]
     },
     "metadata": {},
     "output_type": "display_data"
    }
   ],
   "source": [
    "# Zet de voorspellingen uit in een grafiek LSTM 24h\n",
    "plt.figure(figsize=(10, 6))\n",
    "plt.plot(df_result_lstm_24_hour['production_15_min_%'], label='Actual', color='blue')\n",
    "plt.plot(df_result_lstm_24_hour['predicted_with_LSTM_24_hour(%)'], label='Predicted', color='red')\n",
    "plt.xlabel('Datetime')\n",
    "plt.ylabel('Predictions')\n",
    "plt.title('Predictions Over Time with LSTM 24 hours')\n",
    "plt.grid(True)\n",
    "x_ticks = plt.gca().get_xticks()\n",
    "x_ticks_selected = x_ticks[::24]\n",
    "plt.xticks(x_ticks_selected, rotation=90)\n",
    "plt.legend()\n",
    "plt.show()"
   ]
  },
  {
   "cell_type": "code",
   "execution_count": 28,
   "metadata": {},
   "outputs": [
    {
     "name": "stdout",
     "output_type": "stream",
     "text": [
      "### LSTM-model 24 hours ###\n",
      "mae: 8.622905898008476\n",
      "mse: 125.38233379325433\n",
      "r2: -0.1203029082932825\n"
     ]
    }
   ],
   "source": [
    "# Calculating the accuracy of each model based on the test data\n",
    "print(\"### LSTM-model 24 hours ###\")\n",
    "print(f\"mae: {mean_absolute_error(df_result_lstm_24_hour['production_15_min_%'], df_result_lstm_24_hour['predicted_with_LSTM_24_hour(%)'])}\")\n",
    "print(f\"mse: {mean_squared_error(df_result_lstm_24_hour['production_15_min_%'], df_result_lstm_24_hour['predicted_with_LSTM_24_hour(%)'])}\")\n",
    "print(f\"r2: {r2_score(df_result_lstm_24_hour['production_15_min_%'], df_result_lstm_24_hour['predicted_with_LSTM_24_hour(%)'])}\")"
   ]
  }
 ],
 "metadata": {
  "kernelspec": {
   "display_name": "gaicia",
   "language": "python",
   "name": "python3"
  },
  "language_info": {
   "codemirror_mode": {
    "name": "ipython",
    "version": 3
   },
   "file_extension": ".py",
   "mimetype": "text/x-python",
   "name": "python",
   "nbconvert_exporter": "python",
   "pygments_lexer": "ipython3",
   "version": "3.9.16"
  }
 },
 "nbformat": 4,
 "nbformat_minor": 2
}
